{
 "cells": [
  {
   "cell_type": "markdown",
   "id": "9a8a4de7",
   "metadata": {},
   "source": [
    "# UNet Polyp Segmentation\n",
    "\n",
    "Team 13: James Medel, Shreya Hunur, Sparsha Ramakrishna, Jay Bharadva, Priyank Jagad\n",
    "\n",
    "May 12, 2022"
   ]
  },
  {
   "cell_type": "code",
   "execution_count": 1,
   "id": "a63e4f5d",
   "metadata": {},
   "outputs": [
    {
     "name": "stdout",
     "output_type": "stream",
     "text": [
      "Segmentation Models: using `keras` framework.\n"
     ]
    }
   ],
   "source": [
    "import segmentation_models as sm\n",
    "from segmentation_models import Unet\n",
    "from segmentation_models import get_preprocessing\n",
    "from segmentation_models.losses import bce_jaccard_loss\n",
    "from segmentation_models.metrics import iou_score, FScore"
   ]
  },
  {
   "cell_type": "code",
   "execution_count": 2,
   "id": "61bdc968",
   "metadata": {},
   "outputs": [],
   "source": [
    "import tensorflow as tf\n",
    "from tensorflow import keras \n",
    "from tensorflow.keras.models import load_model\n",
    "import h5py\n",
    "from tensorflow.keras import __version__ as keras_version\n",
    "from tensorflow.keras import datasets, layers, models\n",
    "from tensorflow.keras.models import Sequential, Model\n",
    "from tensorflow.keras.layers import Input, Flatten, Dense, Activation, Lambda, Cropping2D, Dropout, BatchNormalization\n",
    "from tensorflow.keras.layers import Conv2D\n",
    "from tensorflow.keras.layers import GlobalMaxPooling2D"
   ]
  },
  {
   "cell_type": "code",
   "execution_count": 3,
   "id": "81aa935d",
   "metadata": {
    "scrolled": true
   },
   "outputs": [],
   "source": [
    "import os\n",
    "import csv\n",
    "import cv2\n",
    "import sys\n",
    "import glob\n",
    "import random\n",
    "import collections\n",
    "import pandas as pd\n",
    "import itertools\n",
    "import numpy as np\n",
    "import seaborn as sns\n",
    "from tqdm import tqdm\n",
    "\n",
    "from pathlib import Path\n",
    "import matplotlib.pyplot as plt\n",
    "import matplotlib.image as mpimg\n",
    "\n",
    "from sklearn.preprocessing import LabelEncoder, LabelBinarizer\n",
    "from sklearn import model_selection\n",
    "\n",
    "import xml.etree.ElementTree as ET"
   ]
  },
  {
   "cell_type": "code",
   "execution_count": 4,
   "id": "b1311558",
   "metadata": {},
   "outputs": [],
   "source": [
    "def get_filepaths(basepath, remove_ext=False):\n",
    "    files = []\n",
    "    filenames = []\n",
    "    for filename in os.listdir(basepath):\n",
    "#         print(\"filename =\", filename)\n",
    "        if remove_ext is True:\n",
    "            file_name, file_ext = filename.split(\".\")\n",
    "#             print(\"file_name =\", file_name)\n",
    "#             print(\"file_ext =\", file_ext)\n",
    "            filepath = os.path.join(basepath, file_name)\n",
    "            files.append(filepath)\n",
    "            filenames.append(file_name)\n",
    "        else:\n",
    "            filepath = os.path.join(basepath, filename)\n",
    "            files.append(filepath)\n",
    "            filenames.append(filename)\n",
    "    return files, filenames\n",
    "    \n",
    "def get_filepaths_videonum_dirs_xy(X_basepath, y_basepath):\n",
    "    videonum_X_filepaths = []\n",
    "    videonum_X_filenames = []\n",
    "    videonum_y_filepaths = []\n",
    "    videonum_y_filenames = []\n",
    "    for videonum_X_dir, videonum_y_dir in zip(os.listdir(X_basepath), os.listdir(y_basepath)):\n",
    "        videonum_X_dirpath = os.path.join(X_basepath, videonum_X_dir)\n",
    "        videonum_y_dirpath = os.path.join(y_basepath, videonum_y_dir)\n",
    "        videonum_y_dirfilepaths_tmp = []\n",
    "        videonum_y_dirfilenames_tmp = []\n",
    "        videonum_X_dirfilepaths, videonum_X_dirfilenames = get_filepaths(videonum_X_dirpath, remove_ext=True)\n",
    "        videonum_y_dirfilepaths, videonum_y_dirfilenames = get_filepaths(videonum_y_dirpath, remove_ext=True)\n",
    "#         print(\"len(videonum_X_dirfilenames) =\", len(videonum_X_dirfilenames))\n",
    "#         print(\"len(videonum_y_dirfilenames) =\", len(videonum_y_dirfilenames))\n",
    "        if len(videonum_X_dirfilenames) != len(videonum_y_dirfilenames):\n",
    "            for y_i in range(len(videonum_y_dirfilenames)):\n",
    "                if videonum_y_dirfilenames[y_i] in videonum_X_dirfilenames:\n",
    "#                     print(\"videonum_y_dirfilenames[y_i] =\", videonum_y_dirfilenames[y_i])\n",
    "#                     print(\"is in videonum_X_dirfilenames = \", videonum_X_dirfilenames)\n",
    "                    videonum_y_dirfilenames_tmp.append(videonum_y_dirfilenames[y_i] + \".xml\")\n",
    "                    videonum_y_dirfilepaths_tmp.append(videonum_y_dirfilepaths[y_i] + \".xml\")\n",
    "            videonum_y_filepaths.extend(videonum_y_dirfilepaths_tmp)\n",
    "            videonum_y_filenames.extend(videonum_y_dirfilenames_tmp)\n",
    "#             print(\"len(videonum_X_dirfilenames) =\", len(videonum_X_dirfilenames))\n",
    "#             print(\"len(videonum_y_dirfilenames_tmp) =\", len(videonum_y_dirfilenames_tmp))\n",
    "        else:\n",
    "            videonum_y_dirfilepaths = [filepath + \".xml\" for filepath in videonum_y_dirfilepaths]\n",
    "            videonum_y_dirfilenames = [filename + \".xml\" for filename in videonum_y_dirfilenames]\n",
    "            videonum_y_filepaths.extend(videonum_y_dirfilepaths)\n",
    "            videonum_y_filenames.extend(videonum_y_dirfilenames)\n",
    "#             print(\"len(videonum_X_dirfilenames) =\", len(videonum_X_dirfilenames))\n",
    "#             print(\"len(videonum_y_dirfilenames) =\", len(videonum_y_dirfilenames))\n",
    "        videonum_X_dirfilepaths = [filepath + \".jpg\" for filepath in videonum_X_dirfilepaths]\n",
    "        videonum_X_dirfilenames = [filename + \".jpg\" for filename in videonum_X_dirfilenames]\n",
    "        videonum_X_filepaths.extend(videonum_X_dirfilepaths)\n",
    "        videonum_X_filenames.extend(videonum_X_dirfilenames)\n",
    "    return videonum_X_filepaths, videonum_X_filenames, videonum_y_filepaths, videonum_y_filenames\n",
    "    \n",
    "def read_img(img_path, flag = cv2.IMREAD_COLOR):\n",
    "    # (height, width, 3)\n",
    "    image = cv2.imread(img_path, flag)\n",
    "    return image\n",
    "\n",
    "def get_xml_label_names(xml_files):\n",
    "    label_names = []\n",
    "    for xml_file in tqdm(xml_files):\n",
    "        train_y_tree = ET.parse(xml_file)\n",
    "        train_y_root = train_y_tree.getroot()\n",
    "        if train_y_root.find(\"object\") != None:\n",
    "            train_y_object = train_y_root.find(\"object\")\n",
    "            train_y_polyp_name = train_y_object.find(\"name\").text\n",
    "        else:\n",
    "            train_y_polyp_name = \"Not Specified\"\n",
    "        label_names.append(train_y_polyp_name)\n",
    "    return label_names\n",
    "\n",
    "def get_xml_boundboxes(xml_files):\n",
    "    bound_boxes = []\n",
    "    for xml_file in tqdm(xml_files):\n",
    "        train_y_tree = ET.parse(xml_file)\n",
    "        train_y_root = train_y_tree.getroot()\n",
    "        if train_y_root.find(\"object\") != None:\n",
    "            train_y_object = train_y_root.find(\"object\")\n",
    "            train_y_bndbox = train_y_object.find(\"bndbox\")\n",
    "            train_y_bndbox_xmin = train_y_bndbox.find(\"xmin\").text\n",
    "            train_y_bndbox_ymin = train_y_bndbox.find(\"ymin\").text\n",
    "            train_y_bndbox_xmax = train_y_bndbox.find(\"xmax\").text\n",
    "            train_y_bndbox_ymax = train_y_bndbox.find(\"ymax\").text\n",
    "            bound_box_tuple = (train_y_bndbox_xmin, train_y_bndbox_ymin, train_y_bndbox_xmax, train_y_bndbox_ymax)\n",
    "        else:\n",
    "            bound_box_tuple = False\n",
    "        bound_boxes.append(\n",
    "            bound_box_tuple\n",
    "        )\n",
    "    return bound_boxes\n",
    "\n",
    "# normalizes image pixel values betwen -0.5 and 0.5\n",
    "def normalize_images(images):\n",
    "    norm_images = []\n",
    "    for image in tqdm(images):\n",
    "        norm_img = (image/255.0) - 0.5\n",
    "        norm_images.append(norm_img)\n",
    "    return norm_images\n",
    "\n",
    "def normalize_image(image):\n",
    "    norm_img = (image/255.0) - 0.5\n",
    "    return norm_img\n",
    "\n",
    "def resize_image(image, size):\n",
    "    resized_image = cv2.resize(image, (size, size))\n",
    "    return resize_image\n",
    "    \n",
    "def grayscale(img):\n",
    "    return cv2.cvtColor(img, cv2.COLOR_RGB2GRAY)\n",
    "\n",
    "def gaussian_blur(img, kernel_size):\n",
    "    return cv2.GaussianBlur(img, (kernel_size, kernel_size), 0)\n",
    "\n",
    "def get_images(image_group, size, flag = cv2.IMREAD_COLOR):\n",
    "    images = []\n",
    "    for image_path in tqdm(image_group):\n",
    "        image = read_img(image_path, flag)\n",
    "        resized_img = cv2.resize(image, (size, size))\n",
    "        images.append(resized_img)\n",
    "    return images\n",
    "\n",
    "def remove_non_labeled_polyps(img_filepaths, img_filenames, polyp_names):\n",
    "    cln_X_img_filepaths = []\n",
    "    cln_X_img_filenames = []\n",
    "    cln_y_polyp_names = []\n",
    "    for img_filepath, img_filename, label in zip(img_filepaths, img_filenames, polyp_names):\n",
    "        if label != \"Not Specified\":\n",
    "            cln_X_img_filepaths.append(img_filepath)\n",
    "            cln_X_img_filenames.append(img_filename)\n",
    "            cln_y_polyp_names.append(label)\n",
    "            \n",
    "    return cln_X_img_filepaths, cln_X_img_filenames, cln_y_polyp_names\n",
    "\n",
    "def create_image_label_groups(image_paths, image_labels, batch_size=32):\n",
    "    # Divide image paths and image labels into groups of BATCH_SIZE\n",
    "    image_groups = list()\n",
    "    label_groups = list()\n",
    "    \n",
    "    for idx in range(0, len(image_paths), batch_size):\n",
    "        image_batch = list()\n",
    "        for index in range(idx, idx + batch_size):\n",
    "            image_batch.append(image_paths[index % len(image_paths)])\n",
    "        image_groups.append(image_batch)\n",
    "            \n",
    "    for idx in range(0, len(image_labels), batch_size):\n",
    "        for index in range(idx, idx + batch_size):\n",
    "            label_groups.append(image_labels[index % len(image_labels)])\n",
    "    \n",
    "    return image_groups, label_groups\n",
    "    \n",
    "def plot_sample(X, y, index):\n",
    "    plt.figure(figsize = (30,4))\n",
    "    plt.imshow(X[index])\n",
    "    plt.xlabel(classes[y[index]])\n",
    "    \n",
    "def save_img(self, dst_path, filename, dst_img):\n",
    "    \"\"\"\n",
    "        Save gradient thresholded image using OpenCV\n",
    "    \"\"\"\n",
    "    if not os.path.exists(dst_path):\n",
    "        os.makedirs(dst_path)\n",
    "\n",
    "    plt.imsave(dst_path + filename, dst_img, cmap=\"gray\")\n",
    "\n",
    "def visualize(self, src_title, orig_img, dst_title, binary_img):\n",
    "    \"\"\"\n",
    "        Visualize gradient thresholded image\n",
    "    \"\"\"\n",
    "    img = cv2.cvtColor(orig_img, cv2.COLOR_BGR2RGB)\n",
    "    f, (ax1, ax2) = plt.subplots(1, 2, figsize=(24,9))\n",
    "    f.tight_layout()\n",
    "    ax1.imshow(img)\n",
    "    ax1.set_title(src_title, fontsize=50)\n",
    "    ax2.imshow(binary_img, cmap=\"gray\")\n",
    "    ax2.set_title(dst_title, fontsize=50)\n",
    "    plt.subplots_adjust(left=0, right=1, top=0.9, bottom=0.)"
   ]
  },
  {
   "cell_type": "code",
   "execution_count": 5,
   "id": "bb64b13d",
   "metadata": {},
   "outputs": [],
   "source": [
    "sm.set_framework('tf.keras')"
   ]
  },
  {
   "cell_type": "markdown",
   "id": "94c84806",
   "metadata": {},
   "source": [
    "## Load Training Set Images & Masked Labels"
   ]
  },
  {
   "cell_type": "code",
   "execution_count": 6,
   "id": "4230f027",
   "metadata": {},
   "outputs": [],
   "source": [
    "train_y_basepath = \"PolypsSet/train2019/Annotation\"\n",
    "file_type = \".xml\"\n",
    "train_y_filepaths, train_y_filenames = get_filepaths(train_y_basepath, file_type)"
   ]
  },
  {
   "cell_type": "code",
   "execution_count": 7,
   "id": "70c5455e",
   "metadata": {},
   "outputs": [],
   "source": [
    "train_X_basepath = \"PolypsSet/train2019/Image\"\n",
    "file_type = \".jpg\"\n",
    "train_X_filepaths, train_X_filenames = get_filepaths(train_X_basepath, file_type)"
   ]
  },
  {
   "cell_type": "code",
   "execution_count": 8,
   "id": "4236a617",
   "metadata": {},
   "outputs": [
    {
     "name": "stderr",
     "output_type": "stream",
     "text": [
      "100%|████████████████████████████████████████████████████████████████| 1000/1000 [00:04<00:00, 207.70it/s]\n"
     ]
    }
   ],
   "source": [
    "train_y_polyp_names = get_xml_label_names(train_y_filepaths[:1000])"
   ]
  },
  {
   "cell_type": "code",
   "execution_count": 9,
   "id": "967212a2",
   "metadata": {},
   "outputs": [
    {
     "name": "stderr",
     "output_type": "stream",
     "text": [
      "C:\\Users\\james\\miniconda3\\envs\\yolov4-gpu\\lib\\site-packages\\seaborn\\_decorators.py:43: FutureWarning: Pass the following variable as a keyword arg: x. From version 0.12, the only valid positional argument will be `data`, and passing other arguments without an explicit keyword will result in an error or misinterpretation.\n",
      "  FutureWarning\n"
     ]
    },
    {
     "data": {
      "text/plain": [
       "Text(0.5, 1.0, 'Extracted Polyp Name Labels')"
      ]
     },
     "execution_count": 9,
     "metadata": {},
     "output_type": "execute_result"
    },
    {
     "data": {
      "image/png": "[encoded data removed]",
      "text/plain": [
       "<Figure size 432x288 with 1 Axes>"
      ]
     },
     "metadata": {
      "needs_background": "light"
     },
     "output_type": "display_data"
    }
   ],
   "source": [
    "plt.figure()\n",
    "sns.countplot(train_y_polyp_names)\n",
    "plt.title(\"Extracted Polyp Name Labels\")"
   ]
  },
  {
   "cell_type": "code",
   "execution_count": 10,
   "id": "fa3ac072",
   "metadata": {},
   "outputs": [],
   "source": [
    "cln_train_X_filepaths, cln_train_X_filenames, cln_train_y_polyp_names = remove_non_labeled_polyps(\n",
    "    train_X_filepaths[:1000], train_X_filenames[:1000], train_y_polyp_names)"
   ]
  },
  {
   "cell_type": "code",
   "execution_count": 11,
   "id": "78faff4b",
   "metadata": {},
   "outputs": [
    {
     "data": {
      "text/plain": [
       "937"
      ]
     },
     "execution_count": 11,
     "metadata": {},
     "output_type": "execute_result"
    }
   ],
   "source": [
    "len(cln_train_X_filenames)"
   ]
  },
  {
   "cell_type": "code",
   "execution_count": 12,
   "id": "01377055",
   "metadata": {},
   "outputs": [
    {
     "name": "stderr",
     "output_type": "stream",
     "text": [
      "C:\\Users\\james\\miniconda3\\envs\\yolov4-gpu\\lib\\site-packages\\seaborn\\_decorators.py:43: FutureWarning: Pass the following variable as a keyword arg: x. From version 0.12, the only valid positional argument will be `data`, and passing other arguments without an explicit keyword will result in an error or misinterpretation.\n",
      "  FutureWarning\n"
     ]
    },
    {
     "data": {
      "text/plain": [
       "Text(0.5, 1.0, 'Extracted Polyp Name Labels')"
      ]
     },
     "execution_count": 12,
     "metadata": {},
     "output_type": "execute_result"
    },
    {
     "data": {
      "image/png": "[encoded data removed]",
      "text/plain": [
       "<Figure size 432x288 with 1 Axes>"
      ]
     },
     "metadata": {
      "needs_background": "light"
     },
     "output_type": "display_data"
    }
   ],
   "source": [
    "plt.figure()\n",
    "sns.countplot(cln_train_y_polyp_names)\n",
    "plt.title(\"Extracted Polyp Name Labels\")"
   ]
  },
  {
   "cell_type": "code",
   "execution_count": 13,
   "id": "f83f7f24",
   "metadata": {},
   "outputs": [
    {
     "data": {
      "text/plain": [
       "937"
      ]
     },
     "execution_count": 13,
     "metadata": {},
     "output_type": "execute_result"
    }
   ],
   "source": [
    "len(cln_train_X_filepaths)"
   ]
  },
  {
   "cell_type": "code",
   "execution_count": 14,
   "id": "98e38b54",
   "metadata": {},
   "outputs": [
    {
     "data": {
      "text/plain": [
       "937"
      ]
     },
     "execution_count": 14,
     "metadata": {},
     "output_type": "execute_result"
    }
   ],
   "source": [
    "len(cln_train_y_polyp_names)"
   ]
  },
  {
   "cell_type": "code",
   "execution_count": 15,
   "id": "2c82798f",
   "metadata": {},
   "outputs": [
    {
     "name": "stderr",
     "output_type": "stream",
     "text": [
      "100%|███████████████████████████████████████████████████████████████████| 937/937 [00:09<00:00, 97.33it/s]\n"
     ]
    }
   ],
   "source": [
    "# read BGR cause of OpenCV: load 100 images\n",
    "train_X_images = get_images(cln_train_X_filepaths, 192)"
   ]
  },
  {
   "cell_type": "code",
   "execution_count": 16,
   "id": "15bd918d",
   "metadata": {},
   "outputs": [],
   "source": [
    "X_train = np.array(train_X_images)"
   ]
  },
  {
   "cell_type": "code",
   "execution_count": 17,
   "id": "f6d22cc6",
   "metadata": {},
   "outputs": [
    {
     "data": {
      "text/plain": [
       "(937, 192, 192, 3)"
      ]
     },
     "execution_count": 17,
     "metadata": {},
     "output_type": "execute_result"
    }
   ],
   "source": [
    "X_train.shape"
   ]
  },
  {
   "cell_type": "code",
   "execution_count": 18,
   "id": "75ce9e9b",
   "metadata": {},
   "outputs": [],
   "source": [
    "X_train = X_train / 255"
   ]
  },
  {
   "cell_type": "code",
   "execution_count": 19,
   "id": "8cccb23b",
   "metadata": {},
   "outputs": [],
   "source": [
    "label_enc = LabelEncoder()\n",
    "train_y = label_enc.fit_transform(cln_train_y_polyp_names)\n",
    "classes = ['adenomatous', 'hyperplastic']"
   ]
  },
  {
   "cell_type": "code",
   "execution_count": 20,
   "id": "f326a978",
   "metadata": {},
   "outputs": [
    {
     "name": "stderr",
     "output_type": "stream",
     "text": [
      "C:\\Users\\james\\miniconda3\\envs\\yolov4-gpu\\lib\\site-packages\\seaborn\\_decorators.py:43: FutureWarning: Pass the following variable as a keyword arg: x. From version 0.12, the only valid positional argument will be `data`, and passing other arguments without an explicit keyword will result in an error or misinterpretation.\n",
      "  FutureWarning\n"
     ]
    },
    {
     "data": {
      "text/plain": [
       "Text(0.5, 1.0, 'Label Encoded Polyps (0=Adenomatous; 1=Hyperplastic)')"
      ]
     },
     "execution_count": 20,
     "metadata": {},
     "output_type": "execute_result"
    },
    {
     "data": {
      "image/png": "[encoded data removed]",
      "text/plain": [
       "<Figure size 432x288 with 1 Axes>"
      ]
     },
     "metadata": {
      "needs_background": "light"
     },
     "output_type": "display_data"
    }
   ],
   "source": [
    "plt.figure()\n",
    "sns.countplot(train_y)\n",
    "plt.title(\"Label Encoded Polyps (0=Adenomatous; 1=Hyperplastic)\")"
   ]
  },
  {
   "cell_type": "code",
   "execution_count": null,
   "id": "8f60a48d",
   "metadata": {},
   "outputs": [],
   "source": [
    "# np.save(\"polyp_y_train_27048.npy\", train_y)"
   ]
  },
  {
   "cell_type": "code",
   "execution_count": null,
   "id": "5f501cce",
   "metadata": {},
   "outputs": [],
   "source": [
    "# np.save(\"polyp_x_train_27048.npy\", X_train)"
   ]
  },
  {
   "cell_type": "markdown",
   "id": "fcbbeaeb",
   "metadata": {},
   "source": [
    "## Feature Engineer Polyp Masked Labels For Training\n",
    "\n",
    "Use color transforms, gradients, etc. to create a polyp masked threshold binary image per polyp image. After comparing masking for 2 images. I am going to try a labeling tool instead and label 100 to 1000 images.\n",
    "\n",
    "Here is the link I am going to try, they have built a labeling tool using matplotlib for masking images as labels that will be used for training UNet:\n",
    "\n",
    "- [How we built an easy-to-use image segmentation tool with transfer learning](https://towardsdatascience.com/how-we-built-an-easy-to-use-image-segmentation-tool-with-transfer-learning-546efb6ae98)\n",
    "\n",
    "Check out **GitHub Repo: [mpl-interations](https://github.com/ianhi/mpl-interactions)**\n",
    "\n",
    "Check out **GitHub Repo: [matplotlib/ipympl](https://github.com/matplotlib/ipympl#install-the-jupyterlab-extension)**\n",
    "\n",
    "Check out **[mpl-interactions Tutorial: Image Segmentation Label Tool](https://mpl-interactions.readthedocs.io/en/latest/examples/image-segmentation.html)**\n",
    "\n",
    "For using custom Matplotlib Image Segmenter tool in Jupyter Notebook, you can install it with pip:\n",
    "\n",
    "~~~bash\n",
    "pip install mpl_interactions[\"jupyter\"] # will install necessary deps for using in jupyter\n",
    "\n",
    "# for use outside jupyter\n",
    "pip install mpl_interactions\n",
    "\n",
    "# install ipympl; they recommend installing jupyterlab >= 3\n",
    "pip install ipympl\n",
    "\n",
    "# recommended\n",
    "conda install -c conda-forge jupyterlab\n",
    "\n",
    "# need to install jupyter labextension\n",
    "conda install -c conda-forge nodejs\n",
    "jupyter labextension install @jupyter-widgets/jupyterlab-manager jupyter-matplotlib\n",
    "~~~"
   ]
  },
  {
   "cell_type": "markdown",
   "id": "92a2b096",
   "metadata": {},
   "source": [
    "## Draw Masked Polyp Labels with Matplotlib's Image Segmenter\n",
    "\n",
    "Naming convention will be polyp type followed by the original image file number."
   ]
  },
  {
   "cell_type": "code",
   "execution_count": null,
   "id": "e24b79e0",
   "metadata": {},
   "outputs": [],
   "source": [
    "%matplotlib ipympl\n",
    "import matplotlib.cbook as cbook\n",
    "\n",
    "from mpl_interactions import image_segmenter"
   ]
  },
  {
   "cell_type": "code",
   "execution_count": 44,
   "id": "0092cddd",
   "metadata": {},
   "outputs": [],
   "source": [
    "# need to aim for 200 manually masked labels\n",
    "# last one: 99\n",
    "polyp_img_num = 99"
   ]
  },
  {
   "cell_type": "code",
   "execution_count": null,
   "id": "29c00494",
   "metadata": {},
   "outputs": [],
   "source": [
    "train_X_img_filename = cln_train_X_filenames[polyp_img_num]\n",
    "print(train_X_img_filename)"
   ]
  },
  {
   "cell_type": "code",
   "execution_count": null,
   "id": "e133f457",
   "metadata": {},
   "outputs": [],
   "source": [
    "train_y_polyp_name = cln_train_y_polyp_names[polyp_img_num]\n",
    "print(train_y_polyp_name)"
   ]
  },
  {
   "cell_type": "code",
   "execution_count": null,
   "id": "7c6868ab",
   "metadata": {},
   "outputs": [],
   "source": [
    "# yellow for polyp\n",
    "train_X_img_bgr = train_X_images[polyp_img_num]\n",
    "train_X_img_rgb = cv2.cvtColor(train_X_img_bgr, cv2.COLOR_BGR2RGB)\n",
    "segmenter = image_segmenter(train_X_img_rgb, \n",
    "                            mask_colors=\"yellow\", \n",
    "                            mask_alpha=0.75,\n",
    "                            figsize=(4, 4))\n",
    "plt.axis(\"off\")\n",
    "display(segmenter)"
   ]
  },
  {
   "cell_type": "code",
   "execution_count": null,
   "id": "da3d9e3e",
   "metadata": {},
   "outputs": [],
   "source": [
    "plt.figure()\n",
    "plt.imshow(segmenter.mask)"
   ]
  },
  {
   "cell_type": "code",
   "execution_count": null,
   "id": "a570d62b",
   "metadata": {},
   "outputs": [],
   "source": [
    "# I will get a saved img 192x192 since earlier I resized img to 192x192. Factor of 32 for obj detect\n",
    "plt.imsave(\"PolypsSet/train2019/RGBSegLabel/\" + train_X_img_filename, \n",
    "           segmenter.mask)"
   ]
  },
  {
   "cell_type": "code",
   "execution_count": null,
   "id": "e0ae3b95",
   "metadata": {},
   "outputs": [],
   "source": [
    "plt.figure()\n",
    "plt.imshow(segmenter.mask, cmap = \"gray\")"
   ]
  },
  {
   "cell_type": "code",
   "execution_count": null,
   "id": "c0c0890d",
   "metadata": {},
   "outputs": [],
   "source": [
    "plt.imsave(\"PolypsSet/train2019/GraySegLabel/\" + train_X_img_filename, \n",
    "           segmenter.mask, cmap = \"gray\")"
   ]
  },
  {
   "cell_type": "markdown",
   "id": "01710e2a",
   "metadata": {},
   "source": [
    "## Loading Masked Labels from Feature Engineering"
   ]
  },
  {
   "cell_type": "code",
   "execution_count": 21,
   "id": "d8fdb837",
   "metadata": {},
   "outputs": [],
   "source": [
    "train_masks_basepath = \"PolypsSet/train2019/GraySegLabel\"\n",
    "file_type = \".jpg\"\n",
    "train_masks_filepaths, train_masks_filenames = get_filepaths(train_masks_basepath, file_type)"
   ]
  },
  {
   "cell_type": "code",
   "execution_count": 22,
   "id": "5a4f9014",
   "metadata": {},
   "outputs": [
    {
     "name": "stderr",
     "output_type": "stream",
     "text": [
      "100%|██████████████████████████████████████████████████████████████████| 100/100 [00:00<00:00, 625.39it/s]\n"
     ]
    }
   ],
   "source": [
    "train_mask_images = get_images(train_masks_filepaths, 192, flag = cv2.IMREAD_GRAYSCALE)\n",
    "y_train_masks = np.array(train_mask_images)\n",
    "y_train_masks = y_train_masks/255"
   ]
  },
  {
   "cell_type": "markdown",
   "id": "573c4fb5",
   "metadata": {},
   "source": [
    "## Data Augment Images"
   ]
  },
  {
   "cell_type": "code",
   "execution_count": 23,
   "id": "d6abbd34",
   "metadata": {},
   "outputs": [],
   "source": [
    "import albumentations as A"
   ]
  },
  {
   "cell_type": "code",
   "execution_count": 24,
   "id": "f9724876",
   "metadata": {},
   "outputs": [],
   "source": [
    "images_to_generate = 2000"
   ]
  },
  {
   "cell_type": "code",
   "execution_count": 25,
   "id": "d43b3f2c",
   "metadata": {},
   "outputs": [],
   "source": [
    "img_augmented_path=\"PolypsSet/train2019/aug_seg_img_192/\"\n",
    "msk_augmented_path=\"PolypsSet/train2019/aug_seg_gray_mask_192/\" # path to gray seg masks"
   ]
  },
  {
   "cell_type": "code",
   "execution_count": 26,
   "id": "98524c8f",
   "metadata": {},
   "outputs": [],
   "source": [
    "aug = A.Compose([\n",
    "    A.VerticalFlip(p=0.5),\n",
    "    A.RandomRotate90(p=0.5),\n",
    "    A.HorizontalFlip(p=1),\n",
    "    A.Transpose(p=1),\n",
    "    A.GridDistortion(p=1)\n",
    "])"
   ]
  },
  {
   "cell_type": "code",
   "execution_count": 27,
   "id": "2e59e0d7",
   "metadata": {},
   "outputs": [],
   "source": [
    "i=1"
   ]
  },
  {
   "cell_type": "code",
   "execution_count": 28,
   "id": "e1660d86",
   "metadata": {},
   "outputs": [],
   "source": [
    "# augmenting on top of 100 images and 100 masked images gen 2000\n",
    "# then save them in a folder\n",
    "while i <= images_to_generate:\n",
    "    number = random.randint(0, len(train_X_images[:100])-1)\n",
    "    orig_image = train_X_images[number]\n",
    "    orig_mask = train_mask_images[number]\n",
    "    \n",
    "    augmented = aug(image = orig_image, mask = orig_mask)\n",
    "    transformed_image = augmented[\"image\"]\n",
    "    transformed_mask = augmented[\"mask\"]\n",
    "    \n",
    "    # due to opencv being bgr, so go rgb\n",
    "    transformed_image = cv2.cvtColor(transformed_image, cv2.COLOR_BGR2RGB)\n",
    "    \n",
    "    new_image_path = \"%s/aug_image_%s.jpg\" %(img_augmented_path, i)\n",
    "    new_mask_path = \"%s/aug_mask_%s.jpg\" %(msk_augmented_path, i)\n",
    "    \n",
    "    plt.imsave(new_image_path, transformed_image)\n",
    "    plt.imsave(new_mask_path, transformed_mask, cmap=\"gray\")\n",
    "    i = i+1"
   ]
  },
  {
   "cell_type": "markdown",
   "id": "624fea33",
   "metadata": {},
   "source": [
    "## Loading Validation Set"
   ]
  },
  {
   "cell_type": "code",
   "execution_count": null,
   "id": "9a54bd7c",
   "metadata": {},
   "outputs": [],
   "source": [
    "valid_X_basepath = \"PolypsSet/val2019/Image\"\n",
    "valid_y_basepath = \"PolypsSet/val2019/Annotation\"\n",
    "\n",
    "# Problem is that the valid set has more labels than there are images, so need to make them equal\n",
    "valid_X_filepaths, valid_X_filenames, valid_y_filepaths, valid_y_filenames= get_filepaths_videonum_dirs_xy(valid_X_basepath, valid_y_basepath)"
   ]
  },
  {
   "cell_type": "code",
   "execution_count": null,
   "id": "d3dbd23d",
   "metadata": {},
   "outputs": [],
   "source": [
    "valid_y_polyp_names = get_xml_label_names(valid_y_filepaths)"
   ]
  },
  {
   "cell_type": "code",
   "execution_count": null,
   "id": "4651f5a5",
   "metadata": {},
   "outputs": [],
   "source": [
    "sns.countplot(valid_y_polyp_names)"
   ]
  },
  {
   "cell_type": "code",
   "execution_count": null,
   "id": "8c6c8431",
   "metadata": {},
   "outputs": [],
   "source": [
    "cln_valid_X_filepaths, cln_valid_y_polyp_names = remove_non_labeled_polyps(\n",
    "    valid_X_filepaths, valid_y_polyp_names)"
   ]
  },
  {
   "cell_type": "code",
   "execution_count": null,
   "id": "3226dab0",
   "metadata": {},
   "outputs": [],
   "source": [
    "sns.countplot(cln_valid_y_polyp_names)"
   ]
  },
  {
   "cell_type": "code",
   "execution_count": null,
   "id": "a9fcd75e",
   "metadata": {},
   "outputs": [],
   "source": [
    "valid_X_images = get_images(cln_valid_X_filepaths, 192)"
   ]
  },
  {
   "cell_type": "code",
   "execution_count": null,
   "id": "c0b26e9f",
   "metadata": {},
   "outputs": [],
   "source": [
    "X_valid = np.array(valid_X_images)"
   ]
  },
  {
   "cell_type": "code",
   "execution_count": null,
   "id": "7671795a",
   "metadata": {},
   "outputs": [],
   "source": [
    "X_valid = X_valid / 255"
   ]
  },
  {
   "cell_type": "code",
   "execution_count": null,
   "id": "fda646a0",
   "metadata": {},
   "outputs": [],
   "source": [
    "valid_y = label_enc.fit_transform(cln_valid_y_polyp_names)"
   ]
  },
  {
   "cell_type": "code",
   "execution_count": null,
   "id": "44d09752",
   "metadata": {},
   "outputs": [],
   "source": [
    "# np.save(\"polyp_x_valid_4214.npy\", X_valid)"
   ]
  },
  {
   "cell_type": "code",
   "execution_count": null,
   "id": "765202b8",
   "metadata": {},
   "outputs": [],
   "source": [
    "# np.save(\"polyp_y_valid_4214.npy\", valid_y)"
   ]
  },
  {
   "cell_type": "markdown",
   "id": "3eae421c",
   "metadata": {},
   "source": [
    "## Loading Testing Set"
   ]
  },
  {
   "cell_type": "code",
   "execution_count": 53,
   "id": "7029fdc9",
   "metadata": {},
   "outputs": [],
   "source": [
    "test_X_basepath = \"PolypsSet/test2019/Image\"\n",
    "test_y_basepath = \"PolypsSet/test2019/Annotation\"\n",
    "\n",
    "# Potential Problem is that the test set has more labels than there are images, so need to make them equal\n",
    "test_X_filepaths, test_X_filenames, test_y_filepaths, test_y_filenames= get_filepaths_videonum_dirs_xy(test_X_basepath, test_y_basepath)"
   ]
  },
  {
   "cell_type": "code",
   "execution_count": 54,
   "id": "915192a2",
   "metadata": {},
   "outputs": [
    {
     "name": "stderr",
     "output_type": "stream",
     "text": [
      "100%|████████████████████████████████████████████████████████████████| 4872/4872 [00:26<00:00, 187.05it/s]\n"
     ]
    }
   ],
   "source": [
    "test_y_polyp_names = get_xml_label_names(test_y_filepaths)"
   ]
  },
  {
   "cell_type": "code",
   "execution_count": 55,
   "id": "b71b9249",
   "metadata": {},
   "outputs": [
    {
     "name": "stderr",
     "output_type": "stream",
     "text": [
      "C:\\Users\\james\\miniconda3\\envs\\yolov4-gpu\\lib\\site-packages\\seaborn\\_decorators.py:43: FutureWarning: Pass the following variable as a keyword arg: x. From version 0.12, the only valid positional argument will be `data`, and passing other arguments without an explicit keyword will result in an error or misinterpretation.\n",
      "  FutureWarning\n"
     ]
    },
    {
     "data": {
      "text/plain": [
       "<AxesSubplot:ylabel='count'>"
      ]
     },
     "execution_count": 55,
     "metadata": {},
     "output_type": "execute_result"
    },
    {
     "data": {
      "image/png": "[encoded data removed]",
      "text/plain": [
       "<Figure size 432x288 with 1 Axes>"
      ]
     },
     "metadata": {
      "needs_background": "light"
     },
     "output_type": "display_data"
    }
   ],
   "source": [
    "sns.countplot(test_y_polyp_names)"
   ]
  },
  {
   "cell_type": "code",
   "execution_count": 56,
   "id": "44c43b89",
   "metadata": {},
   "outputs": [],
   "source": [
    "cln_test_X_filepaths, cln_test_X_filenames, cln_test_y_polyp_names = remove_non_labeled_polyps(\n",
    "    test_X_filepaths, test_X_filenames, test_y_polyp_names)"
   ]
  },
  {
   "cell_type": "code",
   "execution_count": 57,
   "id": "694e0d93",
   "metadata": {},
   "outputs": [
    {
     "name": "stderr",
     "output_type": "stream",
     "text": [
      "100%|█████████████████████████████████████████████████████████████████| 4719/4719 [00:48<00:00, 97.56it/s]\n"
     ]
    }
   ],
   "source": [
    "test_X_images = get_images(cln_test_X_filepaths, 192)"
   ]
  },
  {
   "cell_type": "code",
   "execution_count": null,
   "id": "fbfa04e1",
   "metadata": {},
   "outputs": [],
   "source": [
    "X_test = np.array(test_X_images)"
   ]
  },
  {
   "cell_type": "code",
   "execution_count": null,
   "id": "e8152e8d",
   "metadata": {},
   "outputs": [],
   "source": [
    "X_test = X_test / 255"
   ]
  },
  {
   "cell_type": "code",
   "execution_count": null,
   "id": "01aa62a9",
   "metadata": {},
   "outputs": [],
   "source": [
    "sns.countplot(cln_test_y_polyp_names)"
   ]
  },
  {
   "cell_type": "code",
   "execution_count": null,
   "id": "e249a051",
   "metadata": {},
   "outputs": [],
   "source": [
    "test_y = label_enc.fit_transform(cln_test_y_polyp_names)"
   ]
  },
  {
   "cell_type": "code",
   "execution_count": null,
   "id": "d08dd7dd",
   "metadata": {},
   "outputs": [],
   "source": [
    "len(test_y[:100])"
   ]
  },
  {
   "cell_type": "code",
   "execution_count": null,
   "id": "a861f566",
   "metadata": {},
   "outputs": [],
   "source": [
    "# np.save(\"polyp_y_test_4719.npy\", test_y)"
   ]
  },
  {
   "cell_type": "code",
   "execution_count": null,
   "id": "731573e6",
   "metadata": {},
   "outputs": [],
   "source": [
    "# np.save(\"polyp_x_test_4719.npy\", X_test)"
   ]
  },
  {
   "cell_type": "markdown",
   "id": "015c5422",
   "metadata": {},
   "source": [
    "## Build UNet"
   ]
  },
  {
   "cell_type": "code",
   "execution_count": 29,
   "id": "ee83c077",
   "metadata": {},
   "outputs": [],
   "source": [
    "aug_train_X_basepath = \"PolypsSet/train2019/aug_seg_img_192\"\n",
    "file_type = \".jpg\"\n",
    "aug_train_X_filepaths, aug_train_X_filenames = get_filepaths(aug_train_X_basepath, file_type)"
   ]
  },
  {
   "cell_type": "code",
   "execution_count": 30,
   "id": "6ea6dfed",
   "metadata": {},
   "outputs": [
    {
     "name": "stderr",
     "output_type": "stream",
     "text": [
      "100%|████████████████████████████████████████████████████████████████| 2000/2000 [00:08<00:00, 224.48it/s]\n"
     ]
    }
   ],
   "source": [
    "aug_train_X_images = get_images(aug_train_X_filepaths, 192)"
   ]
  },
  {
   "cell_type": "code",
   "execution_count": 31,
   "id": "41a7b008",
   "metadata": {},
   "outputs": [],
   "source": [
    "aug_X_train = np.array(aug_train_X_images)"
   ]
  },
  {
   "cell_type": "code",
   "execution_count": 32,
   "id": "295e4867",
   "metadata": {},
   "outputs": [],
   "source": [
    "aug_X_train = aug_X_train / 255"
   ]
  },
  {
   "cell_type": "code",
   "execution_count": 33,
   "id": "cd1beb87",
   "metadata": {},
   "outputs": [],
   "source": [
    "aug_train_masks_basepath = \"PolypsSet/train2019/aug_seg_gray_mask_192\"\n",
    "file_type = \".jpg\"\n",
    "aug_train_masks_filepaths, aug_train_masks_filenames = get_filepaths(aug_train_masks_basepath, file_type)"
   ]
  },
  {
   "cell_type": "code",
   "execution_count": 34,
   "id": "83e43f20",
   "metadata": {},
   "outputs": [
    {
     "name": "stderr",
     "output_type": "stream",
     "text": [
      "100%|████████████████████████████████████████████████████████████████| 2000/2000 [00:07<00:00, 264.29it/s]\n"
     ]
    }
   ],
   "source": [
    "aug_train_mask_images = get_images(aug_train_masks_filepaths, 192, flag = cv2.IMREAD_GRAYSCALE)\n",
    "aug_y_train_masks = np.array(aug_train_mask_images)\n",
    "aug_y_train_masks = aug_y_train_masks/255"
   ]
  },
  {
   "cell_type": "code",
   "execution_count": 35,
   "id": "152d45a1",
   "metadata": {},
   "outputs": [],
   "source": [
    "#expand y by 1 dimension adding a 1 to the last position\n",
    "aug_y_train_masks = np.expand_dims(aug_y_train_masks, axis=3)"
   ]
  },
  {
   "cell_type": "code",
   "execution_count": 36,
   "id": "43e91241",
   "metadata": {},
   "outputs": [
    {
     "data": {
      "text/plain": [
       "(2000, 192, 192, 1)"
      ]
     },
     "execution_count": 36,
     "metadata": {},
     "output_type": "execute_result"
    }
   ],
   "source": [
    "aug_y_train_masks.shape"
   ]
  },
  {
   "cell_type": "code",
   "execution_count": 37,
   "id": "06023ede",
   "metadata": {},
   "outputs": [
    {
     "data": {
      "text/plain": [
       "(2000, 192, 192, 3)"
      ]
     },
     "execution_count": 37,
     "metadata": {},
     "output_type": "execute_result"
    }
   ],
   "source": [
    "aug_X_train.shape"
   ]
  },
  {
   "cell_type": "code",
   "execution_count": 38,
   "id": "30f4a76c",
   "metadata": {},
   "outputs": [],
   "source": [
    "X_train_polyp, X_test_polyp, y_train_polyp, y_test_polyp = model_selection.train_test_split(\n",
    "    aug_X_train, aug_y_train_masks, test_size=0.2, random_state=42\n",
    ")"
   ]
  },
  {
   "cell_type": "code",
   "execution_count": 39,
   "id": "eb3c37e1",
   "metadata": {},
   "outputs": [
    {
     "data": {
      "text/plain": [
       "1600"
      ]
     },
     "execution_count": 39,
     "metadata": {},
     "output_type": "execute_result"
    }
   ],
   "source": [
    "len(y_train_polyp)"
   ]
  },
  {
   "cell_type": "code",
   "execution_count": 40,
   "id": "69c58bd3",
   "metadata": {},
   "outputs": [
    {
     "data": {
      "text/plain": [
       "400"
      ]
     },
     "execution_count": 40,
     "metadata": {},
     "output_type": "execute_result"
    }
   ],
   "source": [
    "len(y_test_polyp)"
   ]
  },
  {
   "cell_type": "code",
   "execution_count": 41,
   "id": "d7c536c9",
   "metadata": {},
   "outputs": [],
   "source": [
    "# https://segmentation-models.readthedocs.io/en/latest/api.html\n",
    "# Can take any img size, but must be divisible by factor of 32\n",
    "model = Unet(backbone_name='resnet34', input_shape=(None,None,3), \n",
    "             classes=1, activation=\"sigmoid\", encoder_weights='imagenet')"
   ]
  },
  {
   "cell_type": "code",
   "execution_count": 42,
   "id": "2f54fd3b",
   "metadata": {},
   "outputs": [],
   "source": [
    "# mean squared error since this is a pixel classification\n",
    "# most common metrics for semantic segmentation: pixel accuracy, intersection over union (IOU),\n",
    "# dice coefficient (f1 sccore)\n",
    "# 1. High pixel accuracy doesnt always imply superior segmentation ability. This issue is class imbalance\n",
    "# 2. IoU Score one of most commonly used metrics and its extremely effective: 0 means no overlap  & 1 means perfect\n",
    "# overlapping segmentation\n",
    "# 3. Dice Coefficient f1-score range 0 to 1, 1 signifies greatest similarity between predicted and truth; weighted average\n",
    "# of precision and recall where f-score reaches best value at 1 and worst at 0.\n",
    "model.compile('Adam', loss=bce_jaccard_loss, metrics=[\"accuracy\", FScore(), iou_score])"
   ]
  },
  {
   "cell_type": "code",
   "execution_count": 43,
   "id": "3fa7abcf",
   "metadata": {},
   "outputs": [
    {
     "name": "stdout",
     "output_type": "stream",
     "text": [
      "Model: \"model_1\"\n",
      "__________________________________________________________________________________________________\n",
      " Layer (type)                   Output Shape         Param #     Connected to                     \n",
      "==================================================================================================\n",
      " data (InputLayer)              [(None, None, None,  0           []                               \n",
      "                                 3)]                                                              \n",
      "                                                                                                  \n",
      " bn_data (BatchNormalization)   (None, None, None,   9           ['data[0][0]']                   \n",
      "                                3)                                                                \n",
      "                                                                                                  \n",
      " zero_padding2d (ZeroPadding2D)  (None, None, None,   0          ['bn_data[0][0]']                \n",
      "                                3)                                                                \n",
      "                                                                                                  \n",
      " conv0 (Conv2D)                 (None, None, None,   9408        ['zero_padding2d[0][0]']         \n",
      "                                64)                                                               \n",
      "                                                                                                  \n",
      " bn0 (BatchNormalization)       (None, None, None,   256         ['conv0[0][0]']                  \n",
      "                                64)                                                               \n",
      "                                                                                                  \n",
      " relu0 (Activation)             (None, None, None,   0           ['bn0[0][0]']                    \n",
      "                                64)                                                               \n",
      "                                                                                                  \n",
      " zero_padding2d_1 (ZeroPadding2  (None, None, None,   0          ['relu0[0][0]']                  \n",
      " D)                             64)                                                               \n",
      "                                                                                                  \n",
      " pooling0 (MaxPooling2D)        (None, None, None,   0           ['zero_padding2d_1[0][0]']       \n",
      "                                64)                                                               \n",
      "                                                                                                  \n",
      " stage1_unit1_bn1 (BatchNormali  (None, None, None,   256        ['pooling0[0][0]']               \n",
      " zation)                        64)                                                               \n",
      "                                                                                                  \n",
      " stage1_unit1_relu1 (Activation  (None, None, None,   0          ['stage1_unit1_bn1[0][0]']       \n",
      " )                              64)                                                               \n",
      "                                                                                                  \n",
      " zero_padding2d_2 (ZeroPadding2  (None, None, None,   0          ['stage1_unit1_relu1[0][0]']     \n",
      " D)                             64)                                                               \n",
      "                                                                                                  \n",
      " stage1_unit1_conv1 (Conv2D)    (None, None, None,   36864       ['zero_padding2d_2[0][0]']       \n",
      "                                64)                                                               \n",
      "                                                                                                  \n",
      " stage1_unit1_bn2 (BatchNormali  (None, None, None,   256        ['stage1_unit1_conv1[0][0]']     \n",
      " zation)                        64)                                                               \n",
      "                                                                                                  \n",
      " stage1_unit1_relu2 (Activation  (None, None, None,   0          ['stage1_unit1_bn2[0][0]']       \n",
      " )                              64)                                                               \n",
      "                                                                                                  \n",
      " zero_padding2d_3 (ZeroPadding2  (None, None, None,   0          ['stage1_unit1_relu2[0][0]']     \n",
      " D)                             64)                                                               \n",
      "                                                                                                  \n",
      " stage1_unit1_conv2 (Conv2D)    (None, None, None,   36864       ['zero_padding2d_3[0][0]']       \n",
      "                                64)                                                               \n",
      "                                                                                                  \n",
      " stage1_unit1_sc (Conv2D)       (None, None, None,   4096        ['stage1_unit1_relu1[0][0]']     \n",
      "                                64)                                                               \n",
      "                                                                                                  \n",
      " add (Add)                      (None, None, None,   0           ['stage1_unit1_conv2[0][0]',     \n",
      "                                64)                               'stage1_unit1_sc[0][0]']        \n",
      "                                                                                                  \n",
      " stage1_unit2_bn1 (BatchNormali  (None, None, None,   256        ['add[0][0]']                    \n",
      " zation)                        64)                                                               \n",
      "                                                                                                  \n",
      " stage1_unit2_relu1 (Activation  (None, None, None,   0          ['stage1_unit2_bn1[0][0]']       \n",
      " )                              64)                                                               \n",
      "                                                                                                  \n",
      " zero_padding2d_4 (ZeroPadding2  (None, None, None,   0          ['stage1_unit2_relu1[0][0]']     \n",
      " D)                             64)                                                               \n",
      "                                                                                                  \n",
      " stage1_unit2_conv1 (Conv2D)    (None, None, None,   36864       ['zero_padding2d_4[0][0]']       \n",
      "                                64)                                                               \n",
      "                                                                                                  \n",
      " stage1_unit2_bn2 (BatchNormali  (None, None, None,   256        ['stage1_unit2_conv1[0][0]']     \n",
      " zation)                        64)                                                               \n",
      "                                                                                                  \n",
      " stage1_unit2_relu2 (Activation  (None, None, None,   0          ['stage1_unit2_bn2[0][0]']       \n",
      " )                              64)                                                               \n",
      "                                                                                                  \n",
      " zero_padding2d_5 (ZeroPadding2  (None, None, None,   0          ['stage1_unit2_relu2[0][0]']     \n",
      " D)                             64)                                                               \n",
      "                                                                                                  \n",
      " stage1_unit2_conv2 (Conv2D)    (None, None, None,   36864       ['zero_padding2d_5[0][0]']       \n",
      "                                64)                                                               \n",
      "                                                                                                  \n",
      " add_1 (Add)                    (None, None, None,   0           ['stage1_unit2_conv2[0][0]',     \n",
      "                                64)                               'add[0][0]']                    \n",
      "                                                                                                  \n",
      " stage1_unit3_bn1 (BatchNormali  (None, None, None,   256        ['add_1[0][0]']                  \n",
      " zation)                        64)                                                               \n",
      "                                                                                                  \n",
      " stage1_unit3_relu1 (Activation  (None, None, None,   0          ['stage1_unit3_bn1[0][0]']       \n",
      " )                              64)                                                               \n",
      "                                                                                                  \n",
      " zero_padding2d_6 (ZeroPadding2  (None, None, None,   0          ['stage1_unit3_relu1[0][0]']     \n",
      " D)                             64)                                                               \n",
      "                                                                                                  \n",
      " stage1_unit3_conv1 (Conv2D)    (None, None, None,   36864       ['zero_padding2d_6[0][0]']       \n",
      "                                64)                                                               \n",
      "                                                                                                  \n",
      " stage1_unit3_bn2 (BatchNormali  (None, None, None,   256        ['stage1_unit3_conv1[0][0]']     \n",
      " zation)                        64)                                                               \n",
      "                                                                                                  \n",
      " stage1_unit3_relu2 (Activation  (None, None, None,   0          ['stage1_unit3_bn2[0][0]']       \n",
      " )                              64)                                                               \n",
      "                                                                                                  \n",
      " zero_padding2d_7 (ZeroPadding2  (None, None, None,   0          ['stage1_unit3_relu2[0][0]']     \n",
      " D)                             64)                                                               \n",
      "                                                                                                  \n",
      " stage1_unit3_conv2 (Conv2D)    (None, None, None,   36864       ['zero_padding2d_7[0][0]']       \n",
      "                                64)                                                               \n",
      "                                                                                                  \n",
      " add_2 (Add)                    (None, None, None,   0           ['stage1_unit3_conv2[0][0]',     \n",
      "                                64)                               'add_1[0][0]']                  \n",
      "                                                                                                  \n",
      " stage2_unit1_bn1 (BatchNormali  (None, None, None,   256        ['add_2[0][0]']                  \n",
      " zation)                        64)                                                               \n",
      "                                                                                                  \n",
      " stage2_unit1_relu1 (Activation  (None, None, None,   0          ['stage2_unit1_bn1[0][0]']       \n",
      " )                              64)                                                               \n",
      "                                                                                                  \n",
      " zero_padding2d_8 (ZeroPadding2  (None, None, None,   0          ['stage2_unit1_relu1[0][0]']     \n",
      " D)                             64)                                                               \n",
      "                                                                                                  \n",
      " stage2_unit1_conv1 (Conv2D)    (None, None, None,   73728       ['zero_padding2d_8[0][0]']       \n",
      "                                128)                                                              \n",
      "                                                                                                  \n",
      " stage2_unit1_bn2 (BatchNormali  (None, None, None,   512        ['stage2_unit1_conv1[0][0]']     \n",
      " zation)                        128)                                                              \n",
      "                                                                                                  \n",
      " stage2_unit1_relu2 (Activation  (None, None, None,   0          ['stage2_unit1_bn2[0][0]']       \n",
      " )                              128)                                                              \n",
      "                                                                                                  \n",
      " zero_padding2d_9 (ZeroPadding2  (None, None, None,   0          ['stage2_unit1_relu2[0][0]']     \n",
      " D)                             128)                                                              \n",
      "                                                                                                  \n",
      " stage2_unit1_conv2 (Conv2D)    (None, None, None,   147456      ['zero_padding2d_9[0][0]']       \n",
      "                                128)                                                              \n",
      "                                                                                                  \n",
      " stage2_unit1_sc (Conv2D)       (None, None, None,   8192        ['stage2_unit1_relu1[0][0]']     \n",
      "                                128)                                                              \n",
      "                                                                                                  \n",
      " add_3 (Add)                    (None, None, None,   0           ['stage2_unit1_conv2[0][0]',     \n",
      "                                128)                              'stage2_unit1_sc[0][0]']        \n",
      "                                                                                                  \n",
      " stage2_unit2_bn1 (BatchNormali  (None, None, None,   512        ['add_3[0][0]']                  \n",
      " zation)                        128)                                                              \n",
      "                                                                                                  \n",
      " stage2_unit2_relu1 (Activation  (None, None, None,   0          ['stage2_unit2_bn1[0][0]']       \n",
      " )                              128)                                                              \n",
      "                                                                                                  \n",
      " zero_padding2d_10 (ZeroPadding  (None, None, None,   0          ['stage2_unit2_relu1[0][0]']     \n",
      " 2D)                            128)                                                              \n",
      "                                                                                                  \n",
      " stage2_unit2_conv1 (Conv2D)    (None, None, None,   147456      ['zero_padding2d_10[0][0]']      \n",
      "                                128)                                                              \n",
      "                                                                                                  \n",
      " stage2_unit2_bn2 (BatchNormali  (None, None, None,   512        ['stage2_unit2_conv1[0][0]']     \n",
      " zation)                        128)                                                              \n",
      "                                                                                                  \n",
      " stage2_unit2_relu2 (Activation  (None, None, None,   0          ['stage2_unit2_bn2[0][0]']       \n",
      " )                              128)                                                              \n",
      "                                                                                                  \n",
      " zero_padding2d_11 (ZeroPadding  (None, None, None,   0          ['stage2_unit2_relu2[0][0]']     \n",
      " 2D)                            128)                                                              \n",
      "                                                                                                  \n",
      " stage2_unit2_conv2 (Conv2D)    (None, None, None,   147456      ['zero_padding2d_11[0][0]']      \n",
      "                                128)                                                              \n",
      "                                                                                                  \n",
      " add_4 (Add)                    (None, None, None,   0           ['stage2_unit2_conv2[0][0]',     \n",
      "                                128)                              'add_3[0][0]']                  \n",
      "                                                                                                  \n",
      " stage2_unit3_bn1 (BatchNormali  (None, None, None,   512        ['add_4[0][0]']                  \n",
      " zation)                        128)                                                              \n",
      "                                                                                                  \n",
      " stage2_unit3_relu1 (Activation  (None, None, None,   0          ['stage2_unit3_bn1[0][0]']       \n",
      " )                              128)                                                              \n",
      "                                                                                                  \n",
      " zero_padding2d_12 (ZeroPadding  (None, None, None,   0          ['stage2_unit3_relu1[0][0]']     \n",
      " 2D)                            128)                                                              \n",
      "                                                                                                  \n",
      " stage2_unit3_conv1 (Conv2D)    (None, None, None,   147456      ['zero_padding2d_12[0][0]']      \n",
      "                                128)                                                              \n",
      "                                                                                                  \n",
      " stage2_unit3_bn2 (BatchNormali  (None, None, None,   512        ['stage2_unit3_conv1[0][0]']     \n",
      " zation)                        128)                                                              \n",
      "                                                                                                  \n",
      " stage2_unit3_relu2 (Activation  (None, None, None,   0          ['stage2_unit3_bn2[0][0]']       \n",
      " )                              128)                                                              \n",
      "                                                                                                  \n",
      " zero_padding2d_13 (ZeroPadding  (None, None, None,   0          ['stage2_unit3_relu2[0][0]']     \n",
      " 2D)                            128)                                                              \n",
      "                                                                                                  \n",
      " stage2_unit3_conv2 (Conv2D)    (None, None, None,   147456      ['zero_padding2d_13[0][0]']      \n",
      "                                128)                                                              \n",
      "                                                                                                  \n",
      " add_5 (Add)                    (None, None, None,   0           ['stage2_unit3_conv2[0][0]',     \n",
      "                                128)                              'add_4[0][0]']                  \n",
      "                                                                                                  \n",
      " stage2_unit4_bn1 (BatchNormali  (None, None, None,   512        ['add_5[0][0]']                  \n",
      " zation)                        128)                                                              \n",
      "                                                                                                  \n",
      " stage2_unit4_relu1 (Activation  (None, None, None,   0          ['stage2_unit4_bn1[0][0]']       \n",
      " )                              128)                                                              \n",
      "                                                                                                  \n",
      " zero_padding2d_14 (ZeroPadding  (None, None, None,   0          ['stage2_unit4_relu1[0][0]']     \n",
      " 2D)                            128)                                                              \n",
      "                                                                                                  \n",
      " stage2_unit4_conv1 (Conv2D)    (None, None, None,   147456      ['zero_padding2d_14[0][0]']      \n",
      "                                128)                                                              \n",
      "                                                                                                  \n",
      " stage2_unit4_bn2 (BatchNormali  (None, None, None,   512        ['stage2_unit4_conv1[0][0]']     \n",
      " zation)                        128)                                                              \n",
      "                                                                                                  \n",
      " stage2_unit4_relu2 (Activation  (None, None, None,   0          ['stage2_unit4_bn2[0][0]']       \n",
      " )                              128)                                                              \n",
      "                                                                                                  \n",
      " zero_padding2d_15 (ZeroPadding  (None, None, None,   0          ['stage2_unit4_relu2[0][0]']     \n",
      " 2D)                            128)                                                              \n",
      "                                                                                                  \n",
      " stage2_unit4_conv2 (Conv2D)    (None, None, None,   147456      ['zero_padding2d_15[0][0]']      \n",
      "                                128)                                                              \n",
      "                                                                                                  \n",
      " add_6 (Add)                    (None, None, None,   0           ['stage2_unit4_conv2[0][0]',     \n",
      "                                128)                              'add_5[0][0]']                  \n",
      "                                                                                                  \n",
      " stage3_unit1_bn1 (BatchNormali  (None, None, None,   512        ['add_6[0][0]']                  \n",
      " zation)                        128)                                                              \n",
      "                                                                                                  \n",
      " stage3_unit1_relu1 (Activation  (None, None, None,   0          ['stage3_unit1_bn1[0][0]']       \n",
      " )                              128)                                                              \n",
      "                                                                                                  \n",
      " zero_padding2d_16 (ZeroPadding  (None, None, None,   0          ['stage3_unit1_relu1[0][0]']     \n",
      " 2D)                            128)                                                              \n",
      "                                                                                                  \n",
      " stage3_unit1_conv1 (Conv2D)    (None, None, None,   294912      ['zero_padding2d_16[0][0]']      \n",
      "                                256)                                                              \n",
      "                                                                                                  \n",
      " stage3_unit1_bn2 (BatchNormali  (None, None, None,   1024       ['stage3_unit1_conv1[0][0]']     \n",
      " zation)                        256)                                                              \n",
      "                                                                                                  \n",
      " stage3_unit1_relu2 (Activation  (None, None, None,   0          ['stage3_unit1_bn2[0][0]']       \n",
      " )                              256)                                                              \n",
      "                                                                                                  \n",
      " zero_padding2d_17 (ZeroPadding  (None, None, None,   0          ['stage3_unit1_relu2[0][0]']     \n",
      " 2D)                            256)                                                              \n",
      "                                                                                                  \n",
      " stage3_unit1_conv2 (Conv2D)    (None, None, None,   589824      ['zero_padding2d_17[0][0]']      \n",
      "                                256)                                                              \n",
      "                                                                                                  \n",
      " stage3_unit1_sc (Conv2D)       (None, None, None,   32768       ['stage3_unit1_relu1[0][0]']     \n",
      "                                256)                                                              \n",
      "                                                                                                  \n",
      " add_7 (Add)                    (None, None, None,   0           ['stage3_unit1_conv2[0][0]',     \n",
      "                                256)                              'stage3_unit1_sc[0][0]']        \n",
      "                                                                                                  \n",
      " stage3_unit2_bn1 (BatchNormali  (None, None, None,   1024       ['add_7[0][0]']                  \n",
      " zation)                        256)                                                              \n",
      "                                                                                                  \n",
      " stage3_unit2_relu1 (Activation  (None, None, None,   0          ['stage3_unit2_bn1[0][0]']       \n",
      " )                              256)                                                              \n",
      "                                                                                                  \n",
      " zero_padding2d_18 (ZeroPadding  (None, None, None,   0          ['stage3_unit2_relu1[0][0]']     \n",
      " 2D)                            256)                                                              \n",
      "                                                                                                  \n",
      " stage3_unit2_conv1 (Conv2D)    (None, None, None,   589824      ['zero_padding2d_18[0][0]']      \n",
      "                                256)                                                              \n",
      "                                                                                                  \n",
      " stage3_unit2_bn2 (BatchNormali  (None, None, None,   1024       ['stage3_unit2_conv1[0][0]']     \n",
      " zation)                        256)                                                              \n",
      "                                                                                                  \n",
      " stage3_unit2_relu2 (Activation  (None, None, None,   0          ['stage3_unit2_bn2[0][0]']       \n",
      " )                              256)                                                              \n",
      "                                                                                                  \n",
      " zero_padding2d_19 (ZeroPadding  (None, None, None,   0          ['stage3_unit2_relu2[0][0]']     \n",
      " 2D)                            256)                                                              \n",
      "                                                                                                  \n",
      " stage3_unit2_conv2 (Conv2D)    (None, None, None,   589824      ['zero_padding2d_19[0][0]']      \n",
      "                                256)                                                              \n",
      "                                                                                                  \n",
      " add_8 (Add)                    (None, None, None,   0           ['stage3_unit2_conv2[0][0]',     \n",
      "                                256)                              'add_7[0][0]']                  \n",
      "                                                                                                  \n",
      " stage3_unit3_bn1 (BatchNormali  (None, None, None,   1024       ['add_8[0][0]']                  \n",
      " zation)                        256)                                                              \n",
      "                                                                                                  \n",
      " stage3_unit3_relu1 (Activation  (None, None, None,   0          ['stage3_unit3_bn1[0][0]']       \n",
      " )                              256)                                                              \n",
      "                                                                                                  \n",
      " zero_padding2d_20 (ZeroPadding  (None, None, None,   0          ['stage3_unit3_relu1[0][0]']     \n",
      " 2D)                            256)                                                              \n",
      "                                                                                                  \n",
      " stage3_unit3_conv1 (Conv2D)    (None, None, None,   589824      ['zero_padding2d_20[0][0]']      \n",
      "                                256)                                                              \n",
      "                                                                                                  \n",
      " stage3_unit3_bn2 (BatchNormali  (None, None, None,   1024       ['stage3_unit3_conv1[0][0]']     \n",
      " zation)                        256)                                                              \n",
      "                                                                                                  \n",
      " stage3_unit3_relu2 (Activation  (None, None, None,   0          ['stage3_unit3_bn2[0][0]']       \n",
      " )                              256)                                                              \n",
      "                                                                                                  \n",
      " zero_padding2d_21 (ZeroPadding  (None, None, None,   0          ['stage3_unit3_relu2[0][0]']     \n",
      " 2D)                            256)                                                              \n",
      "                                                                                                  \n",
      " stage3_unit3_conv2 (Conv2D)    (None, None, None,   589824      ['zero_padding2d_21[0][0]']      \n",
      "                                256)                                                              \n",
      "                                                                                                  \n",
      " add_9 (Add)                    (None, None, None,   0           ['stage3_unit3_conv2[0][0]',     \n",
      "                                256)                              'add_8[0][0]']                  \n",
      "                                                                                                  \n",
      " stage3_unit4_bn1 (BatchNormali  (None, None, None,   1024       ['add_9[0][0]']                  \n",
      " zation)                        256)                                                              \n",
      "                                                                                                  \n",
      " stage3_unit4_relu1 (Activation  (None, None, None,   0          ['stage3_unit4_bn1[0][0]']       \n",
      " )                              256)                                                              \n",
      "                                                                                                  \n",
      " zero_padding2d_22 (ZeroPadding  (None, None, None,   0          ['stage3_unit4_relu1[0][0]']     \n",
      " 2D)                            256)                                                              \n",
      "                                                                                                  \n",
      " stage3_unit4_conv1 (Conv2D)    (None, None, None,   589824      ['zero_padding2d_22[0][0]']      \n",
      "                                256)                                                              \n",
      "                                                                                                  \n",
      " stage3_unit4_bn2 (BatchNormali  (None, None, None,   1024       ['stage3_unit4_conv1[0][0]']     \n",
      " zation)                        256)                                                              \n",
      "                                                                                                  \n",
      " stage3_unit4_relu2 (Activation  (None, None, None,   0          ['stage3_unit4_bn2[0][0]']       \n",
      " )                              256)                                                              \n",
      "                                                                                                  \n",
      " zero_padding2d_23 (ZeroPadding  (None, None, None,   0          ['stage3_unit4_relu2[0][0]']     \n",
      " 2D)                            256)                                                              \n",
      "                                                                                                  \n",
      " stage3_unit4_conv2 (Conv2D)    (None, None, None,   589824      ['zero_padding2d_23[0][0]']      \n",
      "                                256)                                                              \n",
      "                                                                                                  \n",
      " add_10 (Add)                   (None, None, None,   0           ['stage3_unit4_conv2[0][0]',     \n",
      "                                256)                              'add_9[0][0]']                  \n",
      "                                                                                                  \n",
      " stage3_unit5_bn1 (BatchNormali  (None, None, None,   1024       ['add_10[0][0]']                 \n",
      " zation)                        256)                                                              \n",
      "                                                                                                  \n",
      " stage3_unit5_relu1 (Activation  (None, None, None,   0          ['stage3_unit5_bn1[0][0]']       \n",
      " )                              256)                                                              \n",
      "                                                                                                  \n",
      " zero_padding2d_24 (ZeroPadding  (None, None, None,   0          ['stage3_unit5_relu1[0][0]']     \n",
      " 2D)                            256)                                                              \n",
      "                                                                                                  \n",
      " stage3_unit5_conv1 (Conv2D)    (None, None, None,   589824      ['zero_padding2d_24[0][0]']      \n",
      "                                256)                                                              \n",
      "                                                                                                  \n",
      " stage3_unit5_bn2 (BatchNormali  (None, None, None,   1024       ['stage3_unit5_conv1[0][0]']     \n",
      " zation)                        256)                                                              \n",
      "                                                                                                  \n",
      " stage3_unit5_relu2 (Activation  (None, None, None,   0          ['stage3_unit5_bn2[0][0]']       \n",
      " )                              256)                                                              \n",
      "                                                                                                  \n",
      " zero_padding2d_25 (ZeroPadding  (None, None, None,   0          ['stage3_unit5_relu2[0][0]']     \n",
      " 2D)                            256)                                                              \n",
      "                                                                                                  \n",
      " stage3_unit5_conv2 (Conv2D)    (None, None, None,   589824      ['zero_padding2d_25[0][0]']      \n",
      "                                256)                                                              \n",
      "                                                                                                  \n",
      " add_11 (Add)                   (None, None, None,   0           ['stage3_unit5_conv2[0][0]',     \n",
      "                                256)                              'add_10[0][0]']                 \n",
      "                                                                                                  \n",
      " stage3_unit6_bn1 (BatchNormali  (None, None, None,   1024       ['add_11[0][0]']                 \n",
      " zation)                        256)                                                              \n",
      "                                                                                                  \n",
      " stage3_unit6_relu1 (Activation  (None, None, None,   0          ['stage3_unit6_bn1[0][0]']       \n",
      " )                              256)                                                              \n",
      "                                                                                                  \n",
      " zero_padding2d_26 (ZeroPadding  (None, None, None,   0          ['stage3_unit6_relu1[0][0]']     \n",
      " 2D)                            256)                                                              \n",
      "                                                                                                  \n",
      " stage3_unit6_conv1 (Conv2D)    (None, None, None,   589824      ['zero_padding2d_26[0][0]']      \n",
      "                                256)                                                              \n",
      "                                                                                                  \n",
      " stage3_unit6_bn2 (BatchNormali  (None, None, None,   1024       ['stage3_unit6_conv1[0][0]']     \n",
      " zation)                        256)                                                              \n",
      "                                                                                                  \n",
      " stage3_unit6_relu2 (Activation  (None, None, None,   0          ['stage3_unit6_bn2[0][0]']       \n",
      " )                              256)                                                              \n",
      "                                                                                                  \n",
      " zero_padding2d_27 (ZeroPadding  (None, None, None,   0          ['stage3_unit6_relu2[0][0]']     \n",
      " 2D)                            256)                                                              \n",
      "                                                                                                  \n",
      " stage3_unit6_conv2 (Conv2D)    (None, None, None,   589824      ['zero_padding2d_27[0][0]']      \n",
      "                                256)                                                              \n",
      "                                                                                                  \n",
      " add_12 (Add)                   (None, None, None,   0           ['stage3_unit6_conv2[0][0]',     \n",
      "                                256)                              'add_11[0][0]']                 \n",
      "                                                                                                  \n",
      " stage4_unit1_bn1 (BatchNormali  (None, None, None,   1024       ['add_12[0][0]']                 \n",
      " zation)                        256)                                                              \n",
      "                                                                                                  \n",
      " stage4_unit1_relu1 (Activation  (None, None, None,   0          ['stage4_unit1_bn1[0][0]']       \n",
      " )                              256)                                                              \n",
      "                                                                                                  \n",
      " zero_padding2d_28 (ZeroPadding  (None, None, None,   0          ['stage4_unit1_relu1[0][0]']     \n",
      " 2D)                            256)                                                              \n",
      "                                                                                                  \n",
      " stage4_unit1_conv1 (Conv2D)    (None, None, None,   1179648     ['zero_padding2d_28[0][0]']      \n",
      "                                512)                                                              \n",
      "                                                                                                  \n",
      " stage4_unit1_bn2 (BatchNormali  (None, None, None,   2048       ['stage4_unit1_conv1[0][0]']     \n",
      " zation)                        512)                                                              \n",
      "                                                                                                  \n",
      " stage4_unit1_relu2 (Activation  (None, None, None,   0          ['stage4_unit1_bn2[0][0]']       \n",
      " )                              512)                                                              \n",
      "                                                                                                  \n",
      " zero_padding2d_29 (ZeroPadding  (None, None, None,   0          ['stage4_unit1_relu2[0][0]']     \n",
      " 2D)                            512)                                                              \n",
      "                                                                                                  \n",
      " stage4_unit1_conv2 (Conv2D)    (None, None, None,   2359296     ['zero_padding2d_29[0][0]']      \n",
      "                                512)                                                              \n",
      "                                                                                                  \n",
      " stage4_unit1_sc (Conv2D)       (None, None, None,   131072      ['stage4_unit1_relu1[0][0]']     \n",
      "                                512)                                                              \n",
      "                                                                                                  \n",
      " add_13 (Add)                   (None, None, None,   0           ['stage4_unit1_conv2[0][0]',     \n",
      "                                512)                              'stage4_unit1_sc[0][0]']        \n",
      "                                                                                                  \n",
      " stage4_unit2_bn1 (BatchNormali  (None, None, None,   2048       ['add_13[0][0]']                 \n",
      " zation)                        512)                                                              \n",
      "                                                                                                  \n",
      " stage4_unit2_relu1 (Activation  (None, None, None,   0          ['stage4_unit2_bn1[0][0]']       \n",
      " )                              512)                                                              \n",
      "                                                                                                  \n",
      " zero_padding2d_30 (ZeroPadding  (None, None, None,   0          ['stage4_unit2_relu1[0][0]']     \n",
      " 2D)                            512)                                                              \n",
      "                                                                                                  \n",
      " stage4_unit2_conv1 (Conv2D)    (None, None, None,   2359296     ['zero_padding2d_30[0][0]']      \n",
      "                                512)                                                              \n",
      "                                                                                                  \n",
      " stage4_unit2_bn2 (BatchNormali  (None, None, None,   2048       ['stage4_unit2_conv1[0][0]']     \n",
      " zation)                        512)                                                              \n",
      "                                                                                                  \n",
      " stage4_unit2_relu2 (Activation  (None, None, None,   0          ['stage4_unit2_bn2[0][0]']       \n",
      " )                              512)                                                              \n",
      "                                                                                                  \n",
      " zero_padding2d_31 (ZeroPadding  (None, None, None,   0          ['stage4_unit2_relu2[0][0]']     \n",
      " 2D)                            512)                                                              \n",
      "                                                                                                  \n",
      " stage4_unit2_conv2 (Conv2D)    (None, None, None,   2359296     ['zero_padding2d_31[0][0]']      \n",
      "                                512)                                                              \n",
      "                                                                                                  \n",
      " add_14 (Add)                   (None, None, None,   0           ['stage4_unit2_conv2[0][0]',     \n",
      "                                512)                              'add_13[0][0]']                 \n",
      "                                                                                                  \n",
      " stage4_unit3_bn1 (BatchNormali  (None, None, None,   2048       ['add_14[0][0]']                 \n",
      " zation)                        512)                                                              \n",
      "                                                                                                  \n",
      " stage4_unit3_relu1 (Activation  (None, None, None,   0          ['stage4_unit3_bn1[0][0]']       \n",
      " )                              512)                                                              \n",
      "                                                                                                  \n",
      " zero_padding2d_32 (ZeroPadding  (None, None, None,   0          ['stage4_unit3_relu1[0][0]']     \n",
      " 2D)                            512)                                                              \n",
      "                                                                                                  \n",
      " stage4_unit3_conv1 (Conv2D)    (None, None, None,   2359296     ['zero_padding2d_32[0][0]']      \n",
      "                                512)                                                              \n",
      "                                                                                                  \n",
      " stage4_unit3_bn2 (BatchNormali  (None, None, None,   2048       ['stage4_unit3_conv1[0][0]']     \n",
      " zation)                        512)                                                              \n",
      "                                                                                                  \n",
      " stage4_unit3_relu2 (Activation  (None, None, None,   0          ['stage4_unit3_bn2[0][0]']       \n",
      " )                              512)                                                              \n",
      "                                                                                                  \n",
      " zero_padding2d_33 (ZeroPadding  (None, None, None,   0          ['stage4_unit3_relu2[0][0]']     \n",
      " 2D)                            512)                                                              \n",
      "                                                                                                  \n",
      " stage4_unit3_conv2 (Conv2D)    (None, None, None,   2359296     ['zero_padding2d_33[0][0]']      \n",
      "                                512)                                                              \n",
      "                                                                                                  \n",
      " add_15 (Add)                   (None, None, None,   0           ['stage4_unit3_conv2[0][0]',     \n",
      "                                512)                              'add_14[0][0]']                 \n",
      "                                                                                                  \n",
      " bn1 (BatchNormalization)       (None, None, None,   2048        ['add_15[0][0]']                 \n",
      "                                512)                                                              \n",
      "                                                                                                  \n",
      " relu1 (Activation)             (None, None, None,   0           ['bn1[0][0]']                    \n",
      "                                512)                                                              \n",
      "                                                                                                  \n",
      " decoder_stage0_upsampling (UpS  (None, None, None,   0          ['relu1[0][0]']                  \n",
      " ampling2D)                     512)                                                              \n",
      "                                                                                                  \n",
      " decoder_stage0_concat (Concate  (None, None, None,   0          ['decoder_stage0_upsampling[0][0]\n",
      " nate)                          768)                             ',                               \n",
      "                                                                  'stage4_unit1_relu1[0][0]']     \n",
      "                                                                                                  \n",
      " decoder_stage0a_conv (Conv2D)  (None, None, None,   1769472     ['decoder_stage0_concat[0][0]']  \n",
      "                                256)                                                              \n",
      "                                                                                                  \n",
      " decoder_stage0a_bn (BatchNorma  (None, None, None,   1024       ['decoder_stage0a_conv[0][0]']   \n",
      " lization)                      256)                                                              \n",
      "                                                                                                  \n",
      " decoder_stage0a_relu (Activati  (None, None, None,   0          ['decoder_stage0a_bn[0][0]']     \n",
      " on)                            256)                                                              \n",
      "                                                                                                  \n",
      " decoder_stage0b_conv (Conv2D)  (None, None, None,   589824      ['decoder_stage0a_relu[0][0]']   \n",
      "                                256)                                                              \n",
      "                                                                                                  \n",
      " decoder_stage0b_bn (BatchNorma  (None, None, None,   1024       ['decoder_stage0b_conv[0][0]']   \n",
      " lization)                      256)                                                              \n",
      "                                                                                                  \n",
      " decoder_stage0b_relu (Activati  (None, None, None,   0          ['decoder_stage0b_bn[0][0]']     \n",
      " on)                            256)                                                              \n",
      "                                                                                                  \n",
      " decoder_stage1_upsampling (UpS  (None, None, None,   0          ['decoder_stage0b_relu[0][0]']   \n",
      " ampling2D)                     256)                                                              \n",
      "                                                                                                  \n",
      " decoder_stage1_concat (Concate  (None, None, None,   0          ['decoder_stage1_upsampling[0][0]\n",
      " nate)                          384)                             ',                               \n",
      "                                                                  'stage3_unit1_relu1[0][0]']     \n",
      "                                                                                                  \n",
      " decoder_stage1a_conv (Conv2D)  (None, None, None,   442368      ['decoder_stage1_concat[0][0]']  \n",
      "                                128)                                                              \n",
      "                                                                                                  \n",
      " decoder_stage1a_bn (BatchNorma  (None, None, None,   512        ['decoder_stage1a_conv[0][0]']   \n",
      " lization)                      128)                                                              \n",
      "                                                                                                  \n",
      " decoder_stage1a_relu (Activati  (None, None, None,   0          ['decoder_stage1a_bn[0][0]']     \n",
      " on)                            128)                                                              \n",
      "                                                                                                  \n",
      " decoder_stage1b_conv (Conv2D)  (None, None, None,   147456      ['decoder_stage1a_relu[0][0]']   \n",
      "                                128)                                                              \n",
      "                                                                                                  \n",
      " decoder_stage1b_bn (BatchNorma  (None, None, None,   512        ['decoder_stage1b_conv[0][0]']   \n",
      " lization)                      128)                                                              \n",
      "                                                                                                  \n",
      " decoder_stage1b_relu (Activati  (None, None, None,   0          ['decoder_stage1b_bn[0][0]']     \n",
      " on)                            128)                                                              \n",
      "                                                                                                  \n",
      " decoder_stage2_upsampling (UpS  (None, None, None,   0          ['decoder_stage1b_relu[0][0]']   \n",
      " ampling2D)                     128)                                                              \n",
      "                                                                                                  \n",
      " decoder_stage2_concat (Concate  (None, None, None,   0          ['decoder_stage2_upsampling[0][0]\n",
      " nate)                          192)                             ',                               \n",
      "                                                                  'stage2_unit1_relu1[0][0]']     \n",
      "                                                                                                  \n",
      " decoder_stage2a_conv (Conv2D)  (None, None, None,   110592      ['decoder_stage2_concat[0][0]']  \n",
      "                                64)                                                               \n",
      "                                                                                                  \n",
      " decoder_stage2a_bn (BatchNorma  (None, None, None,   256        ['decoder_stage2a_conv[0][0]']   \n",
      " lization)                      64)                                                               \n",
      "                                                                                                  \n",
      " decoder_stage2a_relu (Activati  (None, None, None,   0          ['decoder_stage2a_bn[0][0]']     \n",
      " on)                            64)                                                               \n",
      "                                                                                                  \n",
      " decoder_stage2b_conv (Conv2D)  (None, None, None,   36864       ['decoder_stage2a_relu[0][0]']   \n",
      "                                64)                                                               \n",
      "                                                                                                  \n",
      " decoder_stage2b_bn (BatchNorma  (None, None, None,   256        ['decoder_stage2b_conv[0][0]']   \n",
      " lization)                      64)                                                               \n",
      "                                                                                                  \n",
      " decoder_stage2b_relu (Activati  (None, None, None,   0          ['decoder_stage2b_bn[0][0]']     \n",
      " on)                            64)                                                               \n",
      "                                                                                                  \n",
      " decoder_stage3_upsampling (UpS  (None, None, None,   0          ['decoder_stage2b_relu[0][0]']   \n",
      " ampling2D)                     64)                                                               \n",
      "                                                                                                  \n",
      " decoder_stage3_concat (Concate  (None, None, None,   0          ['decoder_stage3_upsampling[0][0]\n",
      " nate)                          128)                             ',                               \n",
      "                                                                  'relu0[0][0]']                  \n",
      "                                                                                                  \n",
      " decoder_stage3a_conv (Conv2D)  (None, None, None,   36864       ['decoder_stage3_concat[0][0]']  \n",
      "                                32)                                                               \n",
      "                                                                                                  \n",
      " decoder_stage3a_bn (BatchNorma  (None, None, None,   128        ['decoder_stage3a_conv[0][0]']   \n",
      " lization)                      32)                                                               \n",
      "                                                                                                  \n",
      " decoder_stage3a_relu (Activati  (None, None, None,   0          ['decoder_stage3a_bn[0][0]']     \n",
      " on)                            32)                                                               \n",
      "                                                                                                  \n",
      " decoder_stage3b_conv (Conv2D)  (None, None, None,   9216        ['decoder_stage3a_relu[0][0]']   \n",
      "                                32)                                                               \n",
      "                                                                                                  \n",
      " decoder_stage3b_bn (BatchNorma  (None, None, None,   128        ['decoder_stage3b_conv[0][0]']   \n",
      " lization)                      32)                                                               \n",
      "                                                                                                  \n",
      " decoder_stage3b_relu (Activati  (None, None, None,   0          ['decoder_stage3b_bn[0][0]']     \n",
      " on)                            32)                                                               \n",
      "                                                                                                  \n",
      " decoder_stage4_upsampling (UpS  (None, None, None,   0          ['decoder_stage3b_relu[0][0]']   \n",
      " ampling2D)                     32)                                                               \n",
      "                                                                                                  \n",
      " decoder_stage4a_conv (Conv2D)  (None, None, None,   4608        ['decoder_stage4_upsampling[0][0]\n",
      "                                16)                              ']                               \n",
      "                                                                                                  \n",
      " decoder_stage4a_bn (BatchNorma  (None, None, None,   64         ['decoder_stage4a_conv[0][0]']   \n",
      " lization)                      16)                                                               \n",
      "                                                                                                  \n",
      " decoder_stage4a_relu (Activati  (None, None, None,   0          ['decoder_stage4a_bn[0][0]']     \n",
      " on)                            16)                                                               \n",
      "                                                                                                  \n",
      " decoder_stage4b_conv (Conv2D)  (None, None, None,   2304        ['decoder_stage4a_relu[0][0]']   \n",
      "                                16)                                                               \n",
      "                                                                                                  \n",
      " decoder_stage4b_bn (BatchNorma  (None, None, None,   64         ['decoder_stage4b_conv[0][0]']   \n",
      " lization)                      16)                                                               \n",
      "                                                                                                  \n",
      " decoder_stage4b_relu (Activati  (None, None, None,   0          ['decoder_stage4b_bn[0][0]']     \n",
      " on)                            16)                                                               \n",
      "                                                                                                  \n",
      " final_conv (Conv2D)            (None, None, None,   145         ['decoder_stage4b_relu[0][0]']   \n",
      "                                1)                                                                \n",
      "                                                                                                  \n",
      " sigmoid (Activation)           (None, None, None,   0           ['final_conv[0][0]']             \n",
      "                                1)                                                                \n",
      "                                                                                                  \n",
      "==================================================================================================\n",
      "Total params: 24,456,154\n",
      "Trainable params: 24,438,804\n",
      "Non-trainable params: 17,350\n",
      "__________________________________________________________________________________________________\n",
      "None\n"
     ]
    }
   ],
   "source": [
    "print(model.summary())"
   ]
  },
  {
   "cell_type": "code",
   "execution_count": 44,
   "id": "ec3cdbaa",
   "metadata": {},
   "outputs": [
    {
     "name": "stdout",
     "output_type": "stream",
     "text": [
      "Epoch 1/6\n",
      "160/160 [==============================] - 32s 99ms/step - loss: 1.1208 - accuracy: 0.8676 - f1-score: 0.2518 - iou_score: 0.1469 - val_loss: 1.3416 - val_accuracy: 0.6943 - val_f1-score: 0.2252 - val_iou_score: 0.1284\n",
      "Epoch 2/6\n",
      "160/160 [==============================] - 15s 92ms/step - loss: 0.9521 - accuracy: 0.9001 - f1-score: 0.3825 - iou_score: 0.2393 - val_loss: 1.3115 - val_accuracy: 0.9053 - val_f1-score: 0.0220 - val_iou_score: 0.0111\n",
      "Epoch 3/6\n",
      "160/160 [==============================] - 15s 92ms/step - loss: 0.8077 - accuracy: 0.9188 - f1-score: 0.5159 - iou_score: 0.3532 - val_loss: 1.4980 - val_accuracy: 0.9053 - val_f1-score: 0.0019 - val_iou_score: 9.4525e-04\n",
      "Epoch 4/6\n",
      "160/160 [==============================] - 15s 94ms/step - loss: 0.6799 - accuracy: 0.9298 - f1-score: 0.6246 - iou_score: 0.4596 - val_loss: 1.6252 - val_accuracy: 0.9053 - val_f1-score: 3.2194e-04 - val_iou_score: 1.6099e-04\n",
      "Epoch 5/6\n",
      "160/160 [==============================] - 15s 95ms/step - loss: 0.6017 - accuracy: 0.9348 - f1-score: 0.6800 - iou_score: 0.5224 - val_loss: 1.5937 - val_accuracy: 0.9051 - val_f1-score: 0.0116 - val_iou_score: 0.0059\n",
      "Epoch 6/6\n",
      "160/160 [==============================] - 15s 94ms/step - loss: 0.5403 - accuracy: 0.9385 - f1-score: 0.7217 - iou_score: 0.5716 - val_loss: 0.9342 - val_accuracy: 0.9171 - val_f1-score: 0.5064 - val_iou_score: 0.3483\n"
     ]
    }
   ],
   "source": [
    "history = model.fit(\n",
    "    x=X_train_polyp,\n",
    "    y=y_train_polyp,\n",
    "    batch_size=8,\n",
    "    epochs=6,\n",
    "    validation_split=0.2,\n",
    "    verbose=1\n",
    ")"
   ]
  },
  {
   "cell_type": "code",
   "execution_count": 45,
   "id": "96ec275d",
   "metadata": {},
   "outputs": [
    {
     "data": {
      "text/plain": [
       "(400, 192, 192, 3)"
      ]
     },
     "execution_count": 45,
     "metadata": {},
     "output_type": "execute_result"
    }
   ],
   "source": [
    "# len(X_test[:100])\n",
    "X_test_polyp.shape"
   ]
  },
  {
   "cell_type": "code",
   "execution_count": 46,
   "id": "8279d521",
   "metadata": {},
   "outputs": [
    {
     "data": {
      "text/plain": [
       "(400, 192, 192, 1)"
      ]
     },
     "execution_count": 46,
     "metadata": {},
     "output_type": "execute_result"
    }
   ],
   "source": [
    "# len(test_y[:100])\n",
    "y_test_polyp.shape"
   ]
  },
  {
   "cell_type": "code",
   "execution_count": 47,
   "id": "468bcca7",
   "metadata": {},
   "outputs": [
    {
     "name": "stdout",
     "output_type": "stream",
     "text": [
      "13/13 [==============================] - 4s 126ms/step - loss: 0.8615 - accuracy: 0.9231 - f1-score: 0.5433 - iou_score: 0.3751\n"
     ]
    }
   ],
   "source": [
    "accuracy = model.evaluate(X_test_polyp, y_test_polyp)"
   ]
  },
  {
   "cell_type": "code",
   "execution_count": 48,
   "id": "dcf08052",
   "metadata": {},
   "outputs": [
    {
     "name": "stderr",
     "output_type": "stream",
     "text": [
      "C:\\Users\\james\\miniconda3\\envs\\yolov4-gpu\\lib\\site-packages\\keras\\engine\\functional.py:1410: CustomMaskWarning: Custom mask layers require a config and must override get_config. When loading, the custom mask layer must be passed to the custom_objects argument.\n",
      "  layer_config = serialize_layer_fn(layer)\n"
     ]
    }
   ],
   "source": [
    "# only trained on 20 polyp masked images so far\n",
    "model.save(\"polyp_unet_bin_seg.h5\")"
   ]
  },
  {
   "cell_type": "markdown",
   "id": "890cf749",
   "metadata": {},
   "source": [
    "## Plot Train vs Valid Loss Curves After Training UNet"
   ]
  },
  {
   "cell_type": "code",
   "execution_count": 49,
   "id": "7a74b6f1",
   "metadata": {},
   "outputs": [
    {
     "data": {
      "image/png": "[encoded data removed]",
      "text/plain": [
       "<Figure size 432x288 with 1 Axes>"
      ]
     },
     "metadata": {
      "needs_background": "light"
     },
     "output_type": "display_data"
    }
   ],
   "source": [
    "plt.figure()\n",
    "plt.plot(history.history[\"loss\"])\n",
    "plt.plot(history.history[\"val_loss\"])\n",
    "plt.title(\"UNet CNN Train and Valid Loss\")\n",
    "plt.xlabel(\"Epochs\")\n",
    "plt.ylabel(\"Loss\")\n",
    "plt.legend([\"Train\", \"Valid\"], loc=\"upper right\")\n",
    "plt.show()"
   ]
  },
  {
   "cell_type": "markdown",
   "id": "f70d115d",
   "metadata": {},
   "source": [
    "## Plot Train vs Valid IOU Score Curves After Training UNet"
   ]
  },
  {
   "cell_type": "code",
   "execution_count": 50,
   "id": "0cd88d9d",
   "metadata": {},
   "outputs": [
    {
     "data": {
      "image/png": "[encoded data removed]",
      "text/plain": [
       "<Figure size 432x288 with 1 Axes>"
      ]
     },
     "metadata": {
      "needs_background": "light"
     },
     "output_type": "display_data"
    }
   ],
   "source": [
    "plt.figure()\n",
    "plt.plot(history.history[\"iou_score\"])\n",
    "plt.plot(history.history[\"val_iou_score\"])\n",
    "plt.title(\"UNet CNN Train and Valid IOU Score\")\n",
    "plt.xlabel(\"Epochs\")\n",
    "plt.ylabel(\"IOU Score\")\n",
    "plt.legend([\"Train\", \"Valid\"], loc=\"upper right\")\n",
    "plt.show()"
   ]
  },
  {
   "cell_type": "markdown",
   "id": "c5110b5b",
   "metadata": {},
   "source": [
    "## Plot Train vs Valid F1 Score Curves After Training UNet"
   ]
  },
  {
   "cell_type": "code",
   "execution_count": 51,
   "id": "cbaa5ee2",
   "metadata": {},
   "outputs": [
    {
     "data": {
      "image/png": "[encoded data removed]",
      "text/plain": [
       "<Figure size 432x288 with 1 Axes>"
      ]
     },
     "metadata": {
      "needs_background": "light"
     },
     "output_type": "display_data"
    }
   ],
   "source": [
    "plt.figure()\n",
    "plt.plot(history.history[\"f1-score\"])\n",
    "plt.plot(history.history[\"val_f1-score\"])\n",
    "plt.title(\"UNet CNN Train and Valid F1 Score\")\n",
    "plt.xlabel(\"Epochs\")\n",
    "plt.ylabel(\"F1 Score\")\n",
    "plt.legend([\"Train\", \"Valid\"], loc=\"upper right\")\n",
    "plt.show()"
   ]
  },
  {
   "cell_type": "markdown",
   "id": "450441f3",
   "metadata": {},
   "source": [
    "## UNet Predict Polyp Segmentation on Test Image"
   ]
  },
  {
   "cell_type": "code",
   "execution_count": null,
   "id": "87671251",
   "metadata": {},
   "outputs": [],
   "source": [
    "# load model if already have unet trained model saved\n",
    "# model = load_model(\"polyp_unet_bin_seg.h5\")"
   ]
  },
  {
   "cell_type": "code",
   "execution_count": 103,
   "id": "05b8b7e7",
   "metadata": {},
   "outputs": [
    {
     "name": "stdout",
     "output_type": "stream",
     "text": [
      "PolypsSet/test2019/Image\\1\\10.jpg\n"
     ]
    },
    {
     "data": {
      "text/plain": [
       "Text(0.5, 1.0, 'Test Polyp Img Before UNet Segmentation')"
      ]
     },
     "execution_count": 103,
     "metadata": {},
     "output_type": "execute_result"
    },
    {
     "data": {
      "image/png": "[encoded data removed]",
      "text/plain": [
       "<Figure size 432x288 with 1 Axes>"
      ]
     },
     "metadata": {
      "needs_background": "light"
     },
     "output_type": "display_data"
    }
   ],
   "source": [
    "# use one of the test images\n",
    "print(cln_test_X_filepaths[1])\n",
    "test_img_1_rgb = cv2.cvtColor(test_X_images[1], cv2.COLOR_BGR2RGB)\n",
    "plt.figure()\n",
    "plt.imshow(test_img_1_rgb)\n",
    "plt.xlabel(classes[0])\n",
    "plt.title(\"Test Polyp Img Before UNet Segmentation\")\n",
    "# plt.show()"
   ]
  },
  {
   "cell_type": "code",
   "execution_count": 131,
   "id": "1648fd26",
   "metadata": {},
   "outputs": [
    {
     "data": {
      "text/plain": [
       "Text(0.5, 1.0, 'Test Polyp Img Before UNet Segmentation')"
      ]
     },
     "execution_count": 131,
     "metadata": {},
     "output_type": "execute_result"
    },
    {
     "data": {
      "image/png": "[encoded data removed]",
      "text/plain": [
       "<Figure size 432x288 with 1 Axes>"
      ]
     },
     "metadata": {
      "needs_background": "light"
     },
     "output_type": "display_data"
    }
   ],
   "source": [
    "test_img_1_rgb = cv2.cvtColor(aug_train_X_images[1], cv2.COLOR_BGR2RGB)\n",
    "plt.figure()\n",
    "plt.imshow(test_img_1_rgb)\n",
    "plt.xlabel(classes[0])\n",
    "plt.title(\"Test Polyp Img Before UNet Segmentation\")\n",
    "# plt.show()"
   ]
  },
  {
   "cell_type": "code",
   "execution_count": 132,
   "id": "356c1f4f",
   "metadata": {},
   "outputs": [
    {
     "data": {
      "text/plain": [
       "(192, 192, 3)"
      ]
     },
     "execution_count": 132,
     "metadata": {},
     "output_type": "execute_result"
    }
   ],
   "source": [
    "test_img_1_rgb.shape"
   ]
  },
  {
   "cell_type": "code",
   "execution_count": 133,
   "id": "bb35ff59",
   "metadata": {},
   "outputs": [],
   "source": [
    "# expand test img1 dimension adding 1 at front\n",
    "test_img_1_rgb = np.expand_dims(test_img_1_rgb, axis=0)"
   ]
  },
  {
   "cell_type": "code",
   "execution_count": 134,
   "id": "43d86966",
   "metadata": {},
   "outputs": [
    {
     "data": {
      "text/plain": [
       "(1, 192, 192, 3)"
      ]
     },
     "execution_count": 134,
     "metadata": {},
     "output_type": "execute_result"
    }
   ],
   "source": [
    "test_img_1_rgb.shape"
   ]
  },
  {
   "cell_type": "code",
   "execution_count": 135,
   "id": "5b28b28c",
   "metadata": {},
   "outputs": [],
   "source": [
    "polyp_seg_pred = model.predict(test_img_1_rgb)"
   ]
  },
  {
   "cell_type": "code",
   "execution_count": 136,
   "id": "269bf185",
   "metadata": {
    "scrolled": true
   },
   "outputs": [
    {
     "data": {
      "text/plain": [
       "(1, 192, 192, 1)"
      ]
     },
     "execution_count": 136,
     "metadata": {},
     "output_type": "execute_result"
    }
   ],
   "source": [
    "polyp_seg_pred.shape"
   ]
  },
  {
   "cell_type": "code",
   "execution_count": 137,
   "id": "97f2d652",
   "metadata": {},
   "outputs": [],
   "source": [
    "polyp_seg_pred_img = polyp_seg_pred.reshape(y_train_masks[0].shape)"
   ]
  },
  {
   "cell_type": "code",
   "execution_count": 138,
   "id": "321facd4",
   "metadata": {},
   "outputs": [
    {
     "data": {
      "text/plain": [
       "(192, 192)"
      ]
     },
     "execution_count": 138,
     "metadata": {},
     "output_type": "execute_result"
    }
   ],
   "source": [
    "polyp_seg_pred_img.shape"
   ]
  },
  {
   "cell_type": "code",
   "execution_count": 139,
   "id": "7306df77",
   "metadata": {
    "scrolled": false
   },
   "outputs": [
    {
     "data": {
      "image/png": "[encoded data removed]",
      "text/plain": [
       "<Figure size 432x288 with 1 Axes>"
      ]
     },
     "metadata": {
      "needs_background": "light"
     },
     "output_type": "display_data"
    }
   ],
   "source": [
    "# we can see unet segmentation doesnt capture the polyp. We need more training masked labels\n",
    "plt.figure()\n",
    "plt.imshow(polyp_seg_pred_img, cmap=\"gray\")\n",
    "plt.xlabel(classes[0])\n",
    "plt.title(\"Test Polyp Img After UNet Segmentation\")\n",
    "# plt.imsave(\"unet/seg_pred_images/test0_segmented_v3.jpg\", polyp_seg_pred_img, cmap = \"gray\")\n",
    "plt.savefig(\"unet/trained_100/seg_pred_images/test0_segmented.jpg\")"
   ]
  },
  {
   "cell_type": "markdown",
   "id": "8e6c31b9",
   "metadata": {},
   "source": [
    "## References\n",
    "\n",
    "- [Image Segmentation: Kumaravel Subramaniam Tamilselvan and Govindasamy Murugesan](https://cdn.intechopen.com/pdfs/60741.pdf)\n",
    "- [Metrics to Evaluate your Semantic Segmentation Model](https://towardsdatascience.com/metrics-to-evaluate-your-semantic-segmentation-model-6bcb99639aa2)"
   ]
  },
  {
   "cell_type": "code",
   "execution_count": null,
   "id": "66d4fbcf",
   "metadata": {},
   "outputs": [],
   "source": []
  }
 ],
 "metadata": {
  "kernelspec": {
   "display_name": "Python 3 (ipykernel)",
   "language": "python",
   "name": "python3"
  },
  "language_info": {
   "codemirror_mode": {
    "name": "ipython",
    "version": 3
   },
   "file_extension": ".py",
   "mimetype": "text/x-python",
   "name": "python",
   "nbconvert_exporter": "python",
   "pygments_lexer": "ipython3",
   "version": "3.7.0"
  }
 },
 "nbformat": 4,
 "nbformat_minor": 5
}
