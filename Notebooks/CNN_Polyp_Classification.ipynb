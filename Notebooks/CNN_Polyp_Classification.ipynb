{
 "cells": [
  {
   "cell_type": "markdown",
   "metadata": {},
   "source": [
    "# CNN Polyp Classification\n",
    "\n",
    "Team 13: James Medel, Sparsha Ramakrishna, Shreya Hunur, Jay Bharadva, Priyank Jagad\n",
    "\n",
    "May 12, 2022"
   ]
  },
  {
   "cell_type": "code",
   "execution_count": 1,
   "metadata": {
    "id": "OCrLcY3AfZej"
   },
   "outputs": [],
   "source": [
    "import tensorflow_addons as tfa\n",
    "import tensorflow as tf\n",
    "from tensorflow import keras \n",
    "from tensorflow.keras.models import load_model\n",
    "from keras.metrics import Precision, Recall\n",
    "from tensorflow_addons.metrics import F1Score\n",
    "from keras import datasets, layers, models, metrics, backend as K\n",
    "import h5py\n",
    "from tensorflow.keras import __version__ as keras_version\n",
    "from tensorflow.keras import datasets, layers, models\n",
    "from tensorflow.keras.models import Sequential, Model\n",
    "from tensorflow.keras.layers import Input, Flatten, Dense, Activation, Lambda, Cropping2D, Dropout, BatchNormalization\n",
    "from tensorflow.keras.layers import Conv2D\n",
    "from tensorflow.keras.layers import GlobalMaxPooling2D"
   ]
  },
  {
   "cell_type": "code",
   "execution_count": 2,
   "metadata": {
    "id": "aNPSBVWufl5t"
   },
   "outputs": [],
   "source": [
    "import os\n",
    "import csv\n",
    "import cv2\n",
    "import sys\n",
    "import glob\n",
    "import random\n",
    "import collections\n",
    "import pandas as pd\n",
    "import itertools\n",
    "import numpy as np\n",
    "import seaborn as sns\n",
    "from tqdm import tqdm\n",
    "\n",
    "from pathlib import Path\n",
    "import matplotlib.pyplot as plt\n",
    "import matplotlib.image as mpimg\n",
    "\n",
    "from sklearn.metrics import confusion_matrix, classification_report\n",
    "from sklearn.preprocessing import LabelEncoder, LabelBinarizer\n",
    "from sklearn import model_selection\n",
    "\n",
    "import xml.etree.ElementTree as ET"
   ]
  },
  {
   "cell_type": "code",
   "execution_count": 3,
   "metadata": {
    "id": "Te6sdETsimOD"
   },
   "outputs": [],
   "source": [
    "def get_filepaths(basepath, remove_ext=False):\n",
    "    files = []\n",
    "    filenames = []\n",
    "    for filename in os.listdir(basepath):\n",
    "#         print(\"filename =\", filename)\n",
    "        if remove_ext is True:\n",
    "            file_name, file_ext = filename.split(\".\")\n",
    "#             print(\"file_name =\", file_name)\n",
    "#             print(\"file_ext =\", file_ext)\n",
    "            filepath = os.path.join(basepath, file_name)\n",
    "            files.append(filepath)\n",
    "            filenames.append(file_name)\n",
    "        else:\n",
    "            filepath = os.path.join(basepath, filename)\n",
    "            files.append(filepath)\n",
    "            filenames.append(filename)\n",
    "    return files, filenames"
   ]
  },
  {
   "cell_type": "code",
   "execution_count": 4,
   "metadata": {
    "id": "b7v34jOIio58"
   },
   "outputs": [],
   "source": [
    "def get_filepaths_videonum_dirs_xy(X_basepath, y_basepath):\n",
    "    videonum_X_filepaths = []\n",
    "    videonum_X_filenames = []\n",
    "    videonum_y_filepaths = []\n",
    "    videonum_y_filenames = []\n",
    "    for videonum_X_dir, videonum_y_dir in zip(os.listdir(X_basepath), os.listdir(y_basepath)):\n",
    "        videonum_X_dirpath = os.path.join(X_basepath, videonum_X_dir)\n",
    "        videonum_y_dirpath = os.path.join(y_basepath, videonum_y_dir)\n",
    "        videonum_y_dirfilepaths_tmp = []\n",
    "        videonum_y_dirfilenames_tmp = []\n",
    "        videonum_X_dirfilepaths, videonum_X_dirfilenames = get_filepaths(videonum_X_dirpath, remove_ext=True)\n",
    "        videonum_y_dirfilepaths, videonum_y_dirfilenames = get_filepaths(videonum_y_dirpath, remove_ext=True)\n",
    "#         print(\"len(videonum_X_dirfilenames) =\", len(videonum_X_dirfilenames))\n",
    "#         print(\"len(videonum_y_dirfilenames) =\", len(videonum_y_dirfilenames))\n",
    "        if len(videonum_X_dirfilenames) != len(videonum_y_dirfilenames):\n",
    "            for y_i in range(len(videonum_y_dirfilenames)):\n",
    "                if videonum_y_dirfilenames[y_i] in videonum_X_dirfilenames:\n",
    "#                     print(\"videonum_y_dirfilenames[y_i] =\", videonum_y_dirfilenames[y_i])\n",
    "#                     print(\"is in videonum_X_dirfilenames = \", videonum_X_dirfilenames)\n",
    "                    videonum_y_dirfilenames_tmp.append(videonum_y_dirfilenames[y_i] + \".xml\")\n",
    "                    videonum_y_dirfilepaths_tmp.append(videonum_y_dirfilepaths[y_i] + \".xml\")\n",
    "            videonum_y_filepaths.extend(videonum_y_dirfilepaths_tmp)\n",
    "            videonum_y_filenames.extend(videonum_y_dirfilenames_tmp)\n",
    "#             print(\"len(videonum_X_dirfilenames) =\", len(videonum_X_dirfilenames))\n",
    "#             print(\"len(videonum_y_dirfilenames_tmp) =\", len(videonum_y_dirfilenames_tmp))\n",
    "        else:\n",
    "            videonum_y_dirfilepaths = [filepath + \".xml\" for filepath in videonum_y_dirfilepaths]\n",
    "            videonum_y_dirfilenames = [filename + \".xml\" for filename in videonum_y_dirfilenames]\n",
    "            videonum_y_filepaths.extend(videonum_y_dirfilepaths)\n",
    "            videonum_y_filenames.extend(videonum_y_dirfilenames)\n",
    "#             print(\"len(videonum_X_dirfilenames) =\", len(videonum_X_dirfilenames))\n",
    "#             print(\"len(videonum_y_dirfilenames) =\", len(videonum_y_dirfilenames))\n",
    "        videonum_X_dirfilepaths = [filepath + \".jpg\" for filepath in videonum_X_dirfilepaths]\n",
    "        videonum_X_dirfilenames = [filename + \".jpg\" for filename in videonum_X_dirfilenames]\n",
    "        videonum_X_filepaths.extend(videonum_X_dirfilepaths)\n",
    "        videonum_X_filenames.extend(videonum_X_dirfilenames)\n",
    "    return videonum_X_filepaths, videonum_X_filenames, videonum_y_filepaths, videonum_y_filenames"
   ]
  },
  {
   "cell_type": "code",
   "execution_count": 5,
   "metadata": {
    "id": "HXZWtwz7isbd"
   },
   "outputs": [],
   "source": [
    "def read_img(img_path, flag = cv2.IMREAD_COLOR):\n",
    "    # (height, width, 3)\n",
    "    image = cv2.imread(img_path, flag)\n",
    "    return image\n"
   ]
  },
  {
   "cell_type": "code",
   "execution_count": 6,
   "metadata": {
    "id": "S6FwsY-_iuoL"
   },
   "outputs": [],
   "source": [
    "def get_xml_label_names(xml_files):\n",
    "    label_names = []\n",
    "    for xml_file in tqdm(xml_files):\n",
    "        train_y_tree = ET.parse(xml_file)\n",
    "        train_y_root = train_y_tree.getroot()\n",
    "        if train_y_root.find(\"object\") != None:\n",
    "            train_y_object = train_y_root.find(\"object\")\n",
    "            train_y_polyp_name = train_y_object.find(\"name\").text\n",
    "        else:\n",
    "            train_y_polyp_name = \"Not Specified\"\n",
    "        label_names.append(train_y_polyp_name)\n",
    "    return label_names\n",
    "\n",
    "def get_xml_boundboxes(xml_files):\n",
    "    bound_boxes = []\n",
    "    for xml_file in tqdm(xml_files):\n",
    "        train_y_tree = ET.parse(xml_file)\n",
    "        train_y_root = train_y_tree.getroot()\n",
    "        if train_y_root.find(\"object\") != None:\n",
    "            train_y_object = train_y_root.find(\"object\")\n",
    "            train_y_bndbox = train_y_object.find(\"bndbox\")\n",
    "            train_y_bndbox_xmin = train_y_bndbox.find(\"xmin\").text\n",
    "            train_y_bndbox_ymin = train_y_bndbox.find(\"ymin\").text\n",
    "            train_y_bndbox_xmax = train_y_bndbox.find(\"xmax\").text\n",
    "            train_y_bndbox_ymax = train_y_bndbox.find(\"ymax\").text\n",
    "            bound_box_tuple = (train_y_bndbox_xmin, train_y_bndbox_ymin, train_y_bndbox_xmax, train_y_bndbox_ymax)\n",
    "        else:\n",
    "            bound_box_tuple = False\n",
    "        bound_boxes.append(\n",
    "            bound_box_tuple\n",
    "        )\n",
    "    return bound_boxes"
   ]
  },
  {
   "cell_type": "code",
   "execution_count": 7,
   "metadata": {
    "id": "1-0h5lntizn7"
   },
   "outputs": [],
   "source": [
    "def resize_image(image, size):\n",
    "    resized_image = cv2.resize(image, (size, size))\n",
    "    return resize_image\n",
    "\n",
    "def get_images(image_group, size, flag = cv2.IMREAD_COLOR):\n",
    "    images = []\n",
    "    for image_path in tqdm(image_group):\n",
    "        image = read_img(image_path, flag)\n",
    "        resized_img = cv2.resize(image, (size, size))\n",
    "        images.append(resized_img)\n",
    "    return images\n",
    "\n",
    "def remove_non_labeled_polyps(img_filepaths, img_filenames, polyp_names):\n",
    "    cln_X_img_filepaths = []\n",
    "    cln_X_img_filenames = []\n",
    "    cln_y_polyp_names = []\n",
    "    for img_filepath, img_filename, label in zip(img_filepaths, img_filenames, polyp_names):\n",
    "        if label != \"Not Specified\":\n",
    "            cln_X_img_filepaths.append(img_filepath)\n",
    "            cln_X_img_filenames.append(img_filename)\n",
    "            cln_y_polyp_names.append(label)\n",
    "            \n",
    "    return cln_X_img_filepaths, cln_X_img_filenames, cln_y_polyp_names"
   ]
  },
  {
   "cell_type": "code",
   "execution_count": 8,
   "metadata": {},
   "outputs": [],
   "source": [
    "def get_txt_label_names(txt_files):\n",
    "    label_names = []\n",
    "    for txt_file in tqdm(txt_files):\n",
    "        file = open(txt_file, 'r+')\n",
    "        polyp_name = file.readline()\n",
    "        label_names.append(polyp_name)\n",
    "        file.close()\n",
    "\n",
    "    return label_names"
   ]
  },
  {
   "cell_type": "code",
   "execution_count": 9,
   "metadata": {},
   "outputs": [],
   "source": [
    "# The following functions, I referenced from this stackoverflow:\n",
    "# https://datascience.stackexchange.com/questions/45165/how-to-get-accuracy-f1-precision-and-recall-for-a-keras-model\n",
    "def recall(y_true, y_pred):\n",
    "    print(\"recall: calculating true_positives\")\n",
    "    true_positives = K.sum(K.round(K.clip(y_true * y_pred, 0, 1)))\n",
    "    print(\"calculating possible_positives\")\n",
    "    possible_positives = K.sum(K.round(K.clip(y_true, 0, 1)))\n",
    "    recall = true_positives / (possible_positives + K.epsilon())\n",
    "    return recall\n",
    "\n",
    "def precision(y_true, y_pred):\n",
    "    print(\"precision: calculating true_positives\")\n",
    "    true_positives = K.sum(K.round(K.clip(y_true * y_pred, 0, 1)))\n",
    "    print(\"calculating predicted_positives\")\n",
    "    predicted_positives = K.sum(K.round(K.clip(y_pred, 0, 1)))\n",
    "    precision = true_positives / (predicted_positives + K.epsilon())\n",
    "    return precision\n",
    "\n",
    "def f1_score(y_true, y_pred):\n",
    "    print(\"f1_score: calculating recall\")\n",
    "    recall_m = recall(y_true, y_pred)\n",
    "    precision_m = precision(y_true, y_pred)\n",
    "    f1_score_m = 2*((recall_m*precision_m)/(recall_m+precision_m+K.epsilon()))\n",
    "    return f1_score_m"
   ]
  },
  {
   "cell_type": "code",
   "execution_count": null,
   "metadata": {
    "colab": {
     "base_uri": "https://localhost:8080/"
    },
    "id": "4UEyLeM7iKXj",
    "outputId": "985b35d9-40a1-4b5d-fef5-a2a9de9d2420"
   },
   "outputs": [],
   "source": [
    "# google colab specific\n",
    "# %cd .."
   ]
  },
  {
   "cell_type": "code",
   "execution_count": null,
   "metadata": {
    "colab": {
     "base_uri": "https://localhost:8080/"
    },
    "id": "YIEVP7B7iMWS",
    "outputId": "3abf465a-70e9-471d-8959-1b868436239b"
   },
   "outputs": [],
   "source": [
    "# !ls"
   ]
  },
  {
   "cell_type": "code",
   "execution_count": null,
   "metadata": {
    "colab": {
     "base_uri": "https://localhost:8080/"
    },
    "id": "24lZWn-BiSVs",
    "outputId": "fec0b3f8-33d3-4593-c4f8-b0b4ef4ab7ed"
   },
   "outputs": [],
   "source": [
    "# drive.mount('content/gdrive')"
   ]
  },
  {
   "cell_type": "code",
   "execution_count": null,
   "metadata": {
    "id": "Ba-6Ht9cia_c"
   },
   "outputs": [],
   "source": [
    "# !ln -s /content/gdrive/My\\ Drive/ /mydrive"
   ]
  },
  {
   "cell_type": "code",
   "execution_count": null,
   "metadata": {
    "colab": {
     "base_uri": "https://localhost:8080/"
    },
    "id": "CveUptTLiekK",
    "outputId": "4dbb52a7-09e0-4942-a7f5-43b1e9e64bba"
   },
   "outputs": [],
   "source": [
    "# !ls /mydrive"
   ]
  },
  {
   "cell_type": "code",
   "execution_count": null,
   "metadata": {
    "colab": {
     "base_uri": "https://localhost:8080/"
    },
    "id": "A8nYDv3fihKs",
    "outputId": "19531208-4581-4f41-f6b6-8820b57deaba"
   },
   "outputs": [],
   "source": [
    "# !ls /mydrive/PolypsSet/"
   ]
  },
  {
   "cell_type": "code",
   "execution_count": null,
   "metadata": {
    "id": "kiZ405RIi5Uj"
   },
   "outputs": [],
   "source": [
    "train_y_basepath = \"PolypsSet/train2019/Annotation\"\n",
    "file_type = \".xml\"\n",
    "train_y_filepaths, train_y_filenames = get_filepaths(train_y_basepath, file_type)"
   ]
  },
  {
   "cell_type": "code",
   "execution_count": null,
   "metadata": {
    "id": "wW3KwFOCjCJd"
   },
   "outputs": [],
   "source": [
    "train_X_basepath = \"PolypsSet/train2019/Image\"\n",
    "file_type = \".jpg\"\n",
    "train_X_filepaths, train_X_filenames = get_filepaths(train_X_basepath, file_type)"
   ]
  },
  {
   "cell_type": "code",
   "execution_count": null,
   "metadata": {
    "colab": {
     "base_uri": "https://localhost:8080/"
    },
    "id": "hE7KLYFvjGRj",
    "outputId": "c865617d-0457-4bdf-fa86-ac4d14e3ba8f"
   },
   "outputs": [],
   "source": [
    "train_y_polyp_names = get_xml_label_names(train_y_filepaths[:7000])"
   ]
  },
  {
   "cell_type": "code",
   "execution_count": null,
   "metadata": {
    "id": "eJnLhTY6jLUq"
   },
   "outputs": [],
   "source": [
    "\n",
    "cln_train_X_filepaths, cln_train_X_filenames, cln_train_y_polyp_names = remove_non_labeled_polyps(\n",
    "    train_X_filepaths[:7000], train_X_filenames[:7000], train_y_polyp_names)"
   ]
  },
  {
   "cell_type": "code",
   "execution_count": null,
   "metadata": {
    "colab": {
     "base_uri": "https://localhost:8080/"
    },
    "id": "fNA7XFXvjPcb",
    "outputId": "3ba43c06-d757-44f9-be06-f22d59b24111"
   },
   "outputs": [],
   "source": [
    "train_X_images = get_images(cln_train_X_filepaths, 192)"
   ]
  },
  {
   "cell_type": "code",
   "execution_count": null,
   "metadata": {
    "id": "mnaQVq1BjhUq"
   },
   "outputs": [],
   "source": [
    "# ignore for now since we'll do this on augmented data\n",
    "# X_train = np.array(train_X_images)\n",
    "# X_train = X_train / 255\n",
    "# label_enc = LabelEncoder()\n",
    "# train_y = label_enc.fit_transform(cln_train_y_polyp_names)\n",
    "# classes = ['adenomatous', 'hyperplastic']"
   ]
  },
  {
   "cell_type": "code",
   "execution_count": null,
   "metadata": {
    "id": "RkDUH0g6j-df"
   },
   "outputs": [],
   "source": [
    "import albumentations as A"
   ]
  },
  {
   "cell_type": "code",
   "execution_count": null,
   "metadata": {
    "id": "2ltkrHaij_Df"
   },
   "outputs": [],
   "source": [
    "# augment 14,000 images out of the sample of 6586 images\n",
    "images_to_generate = 14000"
   ]
  },
  {
   "cell_type": "code",
   "execution_count": null,
   "metadata": {
    "id": "OuFHl7OsjrMb"
   },
   "outputs": [],
   "source": [
    "img_augmented_path=\"PolypsSet/train2019/aug_img_192/\"\n",
    "label_augmented_path=\"PolypsSet/train2019/aug_label_192/\" # path to gray seg masks"
   ]
  },
  {
   "cell_type": "code",
   "execution_count": null,
   "metadata": {
    "id": "v5wImCHZkG_O"
   },
   "outputs": [],
   "source": [
    "aug = A.Compose([\n",
    "    A.VerticalFlip(p=0.5),\n",
    "    A.RandomRotate90(p=0.5),\n",
    "    A.HorizontalFlip(p=1),\n",
    "    A.Transpose(p=1),\n",
    "    A.GridDistortion(p=1)\n",
    "])"
   ]
  },
  {
   "cell_type": "code",
   "execution_count": null,
   "metadata": {
    "id": "gIHmEL1kkQhS"
   },
   "outputs": [],
   "source": [
    "i=1\n",
    "# augmenting on top of 100 images and 100 masked images gen 2000\n",
    "# then save them in a folder\n",
    "while i <= images_to_generate:\n",
    "    number = random.randint(0, len(train_X_images[:100])-1)\n",
    "    orig_image = train_X_images[number]\n",
    "    orig_label = cln_train_y_polyp_names[number]\n",
    "    \n",
    "    augmented = aug(image = orig_image)\n",
    "    transformed_image = augmented[\"image\"]\n",
    "    transformed_label = orig_label\n",
    "    \n",
    "    # due to opencv being bgr, so go rgb\n",
    "    transformed_image = cv2.cvtColor(transformed_image, cv2.COLOR_BGR2RGB)\n",
    "    \n",
    "    new_image_path = \"%s/aug_image_%s.jpg\" %(img_augmented_path, i)\n",
    "    new_label_path = \"%s/aug_label_%s.txt\" %(label_augmented_path, i)\n",
    "    \n",
    "    plt.imsave(new_image_path, transformed_image)\n",
    "    file = open(new_label_path, \"w\")\n",
    "    file.write(transformed_label)\n",
    "    file.close()\n",
    "    i = i+1\n"
   ]
  },
  {
   "cell_type": "markdown",
   "metadata": {},
   "source": [
    "## Load Augmented Polyp Training Set"
   ]
  },
  {
   "cell_type": "code",
   "execution_count": 10,
   "metadata": {
    "id": "OM4X9Q8jnlxt"
   },
   "outputs": [],
   "source": [
    "aug_train_X_basepath = \"PolypsSet/train2019/aug_img_192\"\n",
    "file_type = \".jpg\"\n",
    "aug_train_X_filepaths, aug_train_X_filenames = get_filepaths(aug_train_X_basepath, file_type)"
   ]
  },
  {
   "cell_type": "code",
   "execution_count": 11,
   "metadata": {
    "colab": {
     "base_uri": "https://localhost:8080/"
    },
    "id": "YZS57R8pns7M",
    "outputId": "4a42759e-cae0-4d3f-8256-cfb84b0d8849"
   },
   "outputs": [
    {
     "name": "stderr",
     "output_type": "stream",
     "text": [
      "100%|███████████████████████████████████████████████████████████████████████████| 14000/14000 [00:22<00:00, 612.64it/s]\n"
     ]
    }
   ],
   "source": [
    "aug_train_X_images = get_images(aug_train_X_filepaths, 192)"
   ]
  },
  {
   "cell_type": "code",
   "execution_count": 12,
   "metadata": {
    "id": "goI2i8PWnvnG"
   },
   "outputs": [],
   "source": [
    "aug_X_train = np.array(aug_train_X_images)"
   ]
  },
  {
   "cell_type": "code",
   "execution_count": 13,
   "metadata": {
    "id": "-puhghGIn0Yz"
   },
   "outputs": [],
   "source": [
    "aug_X_train = aug_X_train / 255"
   ]
  },
  {
   "cell_type": "code",
   "execution_count": 14,
   "metadata": {
    "id": "CvBGjlCkn2GL"
   },
   "outputs": [],
   "source": [
    "aug_train_label_basepath = \"PolypsSet/train2019/aug_label_192\"\n",
    "file_type = \".txt\"\n",
    "aug_train_label_filepaths, aug_train_label_filenames = get_filepaths(aug_train_label_basepath)"
   ]
  },
  {
   "cell_type": "code",
   "execution_count": 15,
   "metadata": {
    "colab": {
     "base_uri": "https://localhost:8080/"
    },
    "id": "VH8ST0tPpkUo",
    "outputId": "c495d114-0fb8-402c-8464-e7d64aa805fb"
   },
   "outputs": [
    {
     "name": "stderr",
     "output_type": "stream",
     "text": [
      "100%|██████████████████████████████████████████████████████████████████████████| 14000/14000 [00:12<00:00, 1117.05it/s]\n"
     ]
    }
   ],
   "source": [
    "aug_y_train = get_txt_label_names(aug_train_label_filepaths)"
   ]
  },
  {
   "cell_type": "code",
   "execution_count": 16,
   "metadata": {
    "id": "L97pT0LFqIaE"
   },
   "outputs": [],
   "source": [
    "label_enc = LabelEncoder()\n",
    "train_y = label_enc.fit_transform(aug_y_train)\n",
    "classes = ['adenomatous', 'hyperplastic']"
   ]
  },
  {
   "cell_type": "code",
   "execution_count": 17,
   "metadata": {},
   "outputs": [],
   "source": [
    "# Not able to allocate storage\n",
    "X_train_polyp, X_test_polyp, y_train_polyp, y_test_polyp = model_selection.train_test_split(\n",
    "    aug_X_train, train_y, test_size=0.2, random_state=42\n",
    ")"
   ]
  },
  {
   "cell_type": "code",
   "execution_count": 18,
   "metadata": {
    "id": "AD3IYQKOqRge"
   },
   "outputs": [],
   "source": [
    "cnn = models.Sequential([\n",
    "    # 2 Convolution layers: first with 32 filters, second with 64 filters\n",
    "    layers.Conv2D(filters=32, kernel_size=(3,3), activation=\"relu\", input_shape=(192,192,3)),\n",
    "    layers.MaxPooling2D((2,2)),\n",
    "    \n",
    "    layers.Conv2D(filters=64, kernel_size=(3,3), activation=\"relu\"),\n",
    "    layers.MaxPooling2D((2,2)),\n",
    "    \n",
    "    # 2 Dense layers\n",
    "    layers.Flatten(),\n",
    "    layers.Dense(64, activation=\"relu\"),\n",
    "    layers.Dense(1, activation=\"sigmoid\")\n",
    "])"
   ]
  },
  {
   "cell_type": "code",
   "execution_count": 19,
   "metadata": {
    "id": "g-dWxnUwrgD-"
   },
   "outputs": [],
   "source": [
    "# F1Score num_classes based on binary classification, so 1\n",
    "cnn.compile(optimizer=\"adam\",\n",
    "            loss=\"binary_crossentropy\",\n",
    "            metrics=[\"accuracy\", Precision(), Recall(), F1Score(num_classes=1)])"
   ]
  },
  {
   "cell_type": "code",
   "execution_count": 20,
   "metadata": {
    "colab": {
     "base_uri": "https://localhost:8080/"
    },
    "id": "iKQThQkUrlG8",
    "outputId": "f9ce8486-3bd3-4338-e432-265f58a9c145"
   },
   "outputs": [
    {
     "name": "stdout",
     "output_type": "stream",
     "text": [
      "Epoch 1/5\n",
      "280/280 [==============================] - 73s 133ms/step - loss: 0.6216 - accuracy: 0.6715 - precision: 0.6306 - recall: 0.4612 - f1_score: 0.5774 - val_loss: 0.5001 - val_accuracy: 0.7558 - val_precision: 0.7522 - val_recall: 0.6271 - val_f1_score: 0.5930\n",
      "Epoch 2/5\n",
      "280/280 [==============================] - 9s 33ms/step - loss: 0.4484 - accuracy: 0.7767 - precision: 0.7249 - recall: 0.7251 - f1_score: 0.5776 - val_loss: 0.4692 - val_accuracy: 0.7621 - val_precision: 0.6521 - val_recall: 0.9333 - val_f1_score: 0.5930\n",
      "Epoch 3/5\n",
      "280/280 [==============================] - 9s 33ms/step - loss: 0.3057 - accuracy: 0.8673 - precision: 0.8337 - recall: 0.8408 - f1_score: 0.5776 - val_loss: 0.3566 - val_accuracy: 0.8446 - val_precision: 0.8625 - val_recall: 0.7511 - val_f1_score: 0.5930\n",
      "Epoch 4/5\n",
      "280/280 [==============================] - 9s 33ms/step - loss: 0.1783 - accuracy: 0.9316 - precision: 0.9131 - recall: 0.9189 - f1_score: 0.5776 - val_loss: 0.2591 - val_accuracy: 0.8960 - val_precision: 0.8738 - val_recall: 0.8803 - val_f1_score: 0.5930\n",
      "Epoch 5/5\n",
      "280/280 [==============================] - 9s 33ms/step - loss: 0.0973 - accuracy: 0.9638 - precision: 0.9552 - recall: 0.9557 - f1_score: 0.5832 - val_loss: 0.2869 - val_accuracy: 0.9121 - val_precision: 0.9410 - val_recall: 0.8443 - val_f1_score: 0.6100\n"
     ]
    }
   ],
   "source": [
    "history = cnn.fit(X_train_polyp, y_train_polyp, validation_split=0.2, epochs=5)"
   ]
  },
  {
   "cell_type": "markdown",
   "metadata": {},
   "source": [
    "## Plot Train vs Valid Loss Curves After Training CNN Classifier"
   ]
  },
  {
   "cell_type": "code",
   "execution_count": 21,
   "metadata": {},
   "outputs": [
    {
     "data": {
      "image/png": "[encoded data removed]",
      "text/plain": [
       "<Figure size 432x288 with 1 Axes>"
      ]
     },
     "metadata": {
      "needs_background": "light"
     },
     "output_type": "display_data"
    }
   ],
   "source": [
    "plt.figure()\n",
    "plt.plot(history.history[\"loss\"])\n",
    "plt.plot(history.history[\"val_loss\"])\n",
    "plt.title(\"CNN Polyp Classifier Train and Valid Loss\")\n",
    "plt.xlabel(\"Epochs\")\n",
    "plt.ylabel(\"Loss\")\n",
    "plt.legend([\"Train\", \"Valid\"], loc=\"upper right\")\n",
    "plt.show()"
   ]
  },
  {
   "cell_type": "markdown",
   "metadata": {},
   "source": [
    "## Plot Train vs Valid Accuracy Curves After Training CNN Classifier"
   ]
  },
  {
   "cell_type": "code",
   "execution_count": 22,
   "metadata": {},
   "outputs": [
    {
     "data": {
      "image/png": "[encoded data removed]",
      "text/plain": [
       "<Figure size 432x288 with 1 Axes>"
      ]
     },
     "metadata": {
      "needs_background": "light"
     },
     "output_type": "display_data"
    }
   ],
   "source": [
    "plt.figure()\n",
    "plt.plot(history.history[\"accuracy\"])\n",
    "plt.plot(history.history[\"val_accuracy\"])\n",
    "plt.title(\"CNN Polyp Classifier Train and Valid Accuracy\")\n",
    "plt.xlabel(\"Epochs\")\n",
    "plt.ylabel(\"Accuracy\")\n",
    "plt.legend([\"Train\", \"Valid\"], loc=\"upper right\")\n",
    "plt.show()"
   ]
  },
  {
   "cell_type": "markdown",
   "metadata": {},
   "source": [
    "## Plot Train vs Valid Precision Curves After Training CNN Classifier"
   ]
  },
  {
   "cell_type": "code",
   "execution_count": 24,
   "metadata": {},
   "outputs": [
    {
     "data": {
      "image/png": "[encoded data removed]",
      "text/plain": [
       "<Figure size 432x288 with 1 Axes>"
      ]
     },
     "metadata": {
      "needs_background": "light"
     },
     "output_type": "display_data"
    }
   ],
   "source": [
    "plt.figure()\n",
    "plt.plot(history.history[\"precision\"])\n",
    "plt.plot(history.history[\"val_precision\"])\n",
    "plt.title(\"CNN Polyp Classifier Train and Valid Precision\")\n",
    "plt.xlabel(\"Epochs\")\n",
    "plt.ylabel(\"Precision\")\n",
    "plt.legend([\"Train\", \"Valid\"], loc=\"upper right\")\n",
    "plt.show()"
   ]
  },
  {
   "cell_type": "markdown",
   "metadata": {},
   "source": [
    "## Plot Train vs Valid Recall Curves After Training CNN Classifier"
   ]
  },
  {
   "cell_type": "code",
   "execution_count": 25,
   "metadata": {},
   "outputs": [
    {
     "data": {
      "image/png": "[encoded data removed]",
      "text/plain": [
       "<Figure size 432x288 with 1 Axes>"
      ]
     },
     "metadata": {
      "needs_background": "light"
     },
     "output_type": "display_data"
    }
   ],
   "source": [
    "plt.figure()\n",
    "plt.plot(history.history[\"recall\"])\n",
    "plt.plot(history.history[\"val_recall\"])\n",
    "plt.title(\"CNN Polyp Classifier Train and Valid Recall\")\n",
    "plt.xlabel(\"Epochs\")\n",
    "plt.ylabel(\"Recall\")\n",
    "plt.legend([\"Train\", \"Valid\"], loc=\"upper right\")\n",
    "plt.show()"
   ]
  },
  {
   "cell_type": "markdown",
   "metadata": {},
   "source": [
    "## Plot Train vs Valid F1 Score Curves After Training CNN Classifier"
   ]
  },
  {
   "cell_type": "code",
   "execution_count": 26,
   "metadata": {},
   "outputs": [
    {
     "data": {
      "image/png": "[encoded data removed]",
      "text/plain": [
       "<Figure size 432x288 with 1 Axes>"
      ]
     },
     "metadata": {
      "needs_background": "light"
     },
     "output_type": "display_data"
    }
   ],
   "source": [
    "plt.figure()\n",
    "plt.plot(history.history[\"f1_score\"])\n",
    "plt.plot(history.history[\"val_f1_score\"])\n",
    "plt.title(\"CNN Polyp Classifier Train and Valid F1 Score\")\n",
    "plt.xlabel(\"Epochs\")\n",
    "plt.ylabel(\"F1 Score\")\n",
    "plt.legend([\"Train\", \"Valid\"], loc=\"upper right\")\n",
    "plt.show()"
   ]
  },
  {
   "cell_type": "markdown",
   "metadata": {},
   "source": [
    "## Evaluate CNN on Testing Set"
   ]
  },
  {
   "cell_type": "code",
   "execution_count": 27,
   "metadata": {},
   "outputs": [
    {
     "name": "stdout",
     "output_type": "stream",
     "text": [
      "63/63 [==============================] - 1s 15ms/step - loss: 0.2941 - accuracy: 0.9005 - precision: 0.9356 - recall: 0.8136 - f1_score: 0.5973\n"
     ]
    }
   ],
   "source": [
    "# took 2000 and tested model on that\n",
    "cnn_eval = cnn.evaluate(X_test_polyp[:2000], y_test_polyp[:2000])"
   ]
  },
  {
   "cell_type": "code",
   "execution_count": 28,
   "metadata": {},
   "outputs": [],
   "source": [
    "cnn.save('polyp_cnn_clf_14000.h5')"
   ]
  },
  {
   "cell_type": "code",
   "execution_count": null,
   "metadata": {},
   "outputs": [],
   "source": []
  }
 ],
 "metadata": {
  "colab": {
   "name": "CNN_Polyp_Classification",
   "provenance": []
  },
  "kernelspec": {
   "display_name": "Python 3 (ipykernel)",
   "language": "python",
   "name": "python3"
  },
  "language_info": {
   "codemirror_mode": {
    "name": "ipython",
    "version": 3
   },
   "file_extension": ".py",
   "mimetype": "text/x-python",
   "name": "python",
   "nbconvert_exporter": "python",
   "pygments_lexer": "ipython3",
   "version": "3.7.0"
  }
 },
 "nbformat": 4,
 "nbformat_minor": 1
}
