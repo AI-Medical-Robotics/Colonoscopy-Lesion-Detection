{
 "cells": [
  {
   "cell_type": "code",
   "execution_count": null,
   "id": "a63e4f5d",
   "metadata": {},
   "outputs": [],
   "source": [
    "import segmentation_models as sm\n",
    "from segmentation_models import Unet\n",
    "from segmentation_models import get_preprocessing\n",
    "from segmentation_models.losses import bce_jaccard_loss\n",
    "from segmentation_models.metrics import iou_score"
   ]
  },
  {
   "cell_type": "code",
   "execution_count": null,
   "id": "61bdc968",
   "metadata": {},
   "outputs": [],
   "source": [
    "import tensorflow as tf\n",
    "from tensorflow import keras \n",
    "from tensorflow.keras.models import load_model\n",
    "import h5py\n",
    "from tensorflow.keras import __version__ as keras_version\n",
    "from tensorflow.keras import datasets, layers, models\n",
    "from tensorflow.keras.models import Sequential, Model\n",
    "from tensorflow.keras.layers import Input, Flatten, Dense, Activation, Lambda, Cropping2D, Dropout, BatchNormalization\n",
    "from tensorflow.keras.layers import Conv2D\n",
    "from tensorflow.keras.layers import GlobalMaxPooling2D"
   ]
  },
  {
   "cell_type": "code",
   "execution_count": 1243,
   "id": "81aa935d",
   "metadata": {},
   "outputs": [],
   "source": [
    "import os\n",
    "import csv\n",
    "import cv2\n",
    "import sys\n",
    "import glob\n",
    "import random\n",
    "import collections\n",
    "import pandas as pd\n",
    "import itertools\n",
    "import numpy as np\n",
    "import seaborn as sns\n",
    "from tqdm import tqdm\n",
    "\n",
    "from pathlib import Path\n",
    "import matplotlib.pyplot as plt\n",
    "import matplotlib.image as mpimg\n",
    "\n",
    "from sklearn.preprocessing import LabelEncoder, LabelBinarizer\n",
    "from sklearn import model_selection\n",
    "\n",
    "import xml.etree.ElementTree as ET"
   ]
  },
  {
   "cell_type": "code",
   "execution_count": null,
   "id": "0821b2ef",
   "metadata": {},
   "outputs": [],
   "source": [
    "# sys.path.append(\"../lib/cv\")\n",
    "# import GradientThresholds as GradThresh\n",
    "# from GradientThresholds import GradientThresholds\n",
    "\n",
    "# import importlib\n",
    "# importlib.reload(GradThresh)"
   ]
  },
  {
   "cell_type": "code",
   "execution_count": null,
   "id": "3b9f0902",
   "metadata": {},
   "outputs": [],
   "source": [
    "class GradientThresholds:\n",
    "    def __init__(self):\n",
    "        self.img_m = None\n",
    "\n",
    "    def apply_sobel_thresh(self, img, orient=\"x\", ksize=(3,3), thresh=(0,255)):\n",
    "        \"\"\"\n",
    "            Calculate directional gradient and identify pixels where the gradient\n",
    "            falls within a particular threshold range for an image. Pass in image,\n",
    "            choose orient to be x or y gradient, pick threshold min and max range\n",
    "            to select for binary_output. The binary_output array is 1 where gradients\n",
    "            are in threshold range, 0 everywhere else.\n",
    "        \"\"\"\n",
    "        gray = cv2.cvtColor(img, cv2.COLOR_BGR2GRAY)\n",
    "\n",
    "        gray = cv2.GaussianBlur(gray, ksize, 0)\n",
    "\n",
    "        if orient == \"x\":\n",
    "            # apply sobel in \"x\" direction\n",
    "            sobel = cv2.Sobel(gray, cv2.CV_64F, 1, 0)\n",
    "        elif orient == \"y\":\n",
    "            sobel = cv2.Sobel(gray, cv2.CV_64F, 0, 1)\n",
    "        # Take abs value of derivative aka gradient\n",
    "        abs_sobel = np.absolute(sobel)\n",
    "\n",
    "        # scale result to 8-bit range (0-255)\n",
    "        scaled_sobel = np.uint8(255*abs_sobel/np.max(abs_sobel))\n",
    "\n",
    "        # apply lower and upper thresholds to mask scaled gradient\n",
    "        binary_image = np.zeros_like(scaled_sobel)\n",
    "\n",
    "        # apply 1's when scaled gradient is within threshold\n",
    "        binary_image[(scaled_sobel >= thresh[0]) &\n",
    "                     (scaled_sobel <= thresh[1])] = 1\n",
    "\n",
    "        return binary_image\n",
    "\n",
    "    # TODO: Create Gradient Magnitude Thresholding method\n",
    "    def apply_grad_mag_thresh(self, img, sobel_kernel=3, mag_thresh=(0, 255)):\n",
    "        \"\"\"\n",
    "            Calculate gradient magnitude\n",
    "        \"\"\"\n",
    "        gray = cv2.cvtColor(img, cv2.COLOR_BGR2GRAY)\n",
    "        # take gradient in x and y separately\n",
    "        sobelx  = cv2.Sobel(gray, cv2.CV_64F, 1, 0, ksize = sobel_kernel)\n",
    "        sobely  = cv2.Sobel(gray, cv2.CV_64F, 0, 1, ksize = sobel_kernel)\n",
    "        # calculate gradient magnitude in x and y direction\n",
    "        grad_mag = np.sqrt( (sobelx**2) + (sobely**2) )\n",
    "        # scale to 8-bit and convert to type=np.uint8\n",
    "        scale_factor = np.max(grad_mag)/255\n",
    "        scaled_grad_mag = (grad_mag/scale_factor).astype(np.uint8)\n",
    "        # create a binary mask where mag thresholds are met\n",
    "        binary_image = np.zeros_like(scaled_grad_mag)\n",
    "        binary_image[(scaled_grad_mag >= mag_thresh[0]) &\n",
    "                     (scaled_grad_mag <= mag_thresh[1])] = 1\n",
    "        return binary_image\n",
    "    \n",
    "    # TODO: Create Gradient Direction Thresholding method\n",
    "    def apply_grad_dir_thresh(self, img, sobel_kernel=3, dir_thresh=(0, np.pi/2)):\n",
    "        gray = cv2.cvtColor(img, cv2.COLOR_BGR2GRAY)\n",
    "        # take gradient in x and y separately\n",
    "        sobelx  = cv2.Sobel(gray, cv2.CV_64F, 1, 0, ksize = sobel_kernel)\n",
    "        sobely  = cv2.Sobel(gray, cv2.CV_64F, 0, 1, ksize = sobel_kernel)\n",
    "        # abs value of x and y gradients\n",
    "        abs_sobelx = np.absolute(sobelx)\n",
    "        abs_sobely = np.absolute(sobely)\n",
    "        # calculate the gradient direction\n",
    "        dir_grad = np.arctan2(abs_sobely, abs_sobelx)\n",
    "        \n",
    "        # create binary image where direction thresholds are met\n",
    "        binary_image = np.zeros_like(dir_grad)\n",
    "        binary_image[(dir_grad >= dir_thresh[0]) & (dir_grad <= dir_thresh[1])] = 1\n",
    "        return binary_image\n",
    "    \n",
    "    # TODO: Create Combined Thresholding method\n",
    "    def apply_combined_thresh(self, combination_code, grad_x = None, grad_y = None, grad_mag = None, grad_dir = None):\n",
    "        combined = np.zeros_like(grad_x)\n",
    "        if combination_code == 0:\n",
    "            combined[ (grad_x == 1) & (grad_mag == 1) ] = 1\n",
    "        elif combination_code == 1:\n",
    "            combined[ (grad_x == 1) & (grad_dir == 1) ] = 1\n",
    "        elif combination_code == 2: \n",
    "            combined[ (grad_x == 1) & (grad_mag == 1) & (grad_dir == 1) ] = 1  \n",
    "        elif combination_code == 3:\n",
    "            combined[ (grad_x == 1) & (grad_y == 1) & \n",
    "                      (grad_mag == 1) & (grad_dir == 1) ] = 1             \n",
    "        else:\n",
    "            print(\"Error: Choose a supported code for combined gradient\")\n",
    "\n",
    "        # Return binary result from multiple thresholds\n",
    "        return combined\n",
    "    \n",
    "    def save_img(self, dst_path, filename, dst_img):\n",
    "        \"\"\"\n",
    "            Save gradient thresholded image using OpenCV\n",
    "        \"\"\"\n",
    "        if not os.path.exists(dst_path):\n",
    "            os.makedirs(dst_path)\n",
    "\n",
    "        plt.imsave(dst_path + filename, dst_img, cmap=\"gray\")\n",
    "\n",
    "    def visualize(self, src_title, orig_img, dst_title, binary_img):\n",
    "        \"\"\"\n",
    "            Visualize gradient thresholded image\n",
    "        \"\"\"\n",
    "        img = cv2.cvtColor(orig_img, cv2.COLOR_BGR2RGB)\n",
    "        f, (ax1, ax2) = plt.subplots(1, 2, figsize=(24,9))\n",
    "        f.tight_layout()\n",
    "        ax1.imshow(img)\n",
    "        ax1.set_title(src_title, fontsize=50)\n",
    "        ax2.imshow(binary_img, cmap=\"gray\")\n",
    "        ax2.set_title(dst_title, fontsize=50)\n",
    "        plt.subplots_adjust(left=0, right=1, top=0.9, bottom=0.)\n"
   ]
  },
  {
   "cell_type": "code",
   "execution_count": null,
   "id": "78266442",
   "metadata": {},
   "outputs": [],
   "source": [
    "class ColorThresholds:\n",
    "    # Apply Grayscale Thresholding\n",
    "    def apply_gray_thresh(self, img, thresh = (0, 255)):\n",
    "        gray = cv2.cvtColor(img, cv2.COLOR_BGR2GRAY)\n",
    "        binary_img = np.zeros_like(gray)\n",
    "        binary_img[ (gray > thresh[0]) & (gray <= thresh[1]) ] = 1\n",
    "        return binary_img\n",
    "    \n",
    "    # Thresholding individual RGB Color Channels\n",
    "    def apply_r_thresh(self, img, thresh = (0, 255)):\n",
    "        img = cv2.cvtColor(img, cv2.COLOR_BGR2RGB)\n",
    "        r_img = img[:,:,0]\n",
    "        binary_img = np.zeros_like(r_img)\n",
    "        binary_img[ (r_img >= thresh[0]) & (r_img <= thresh[1]) ] = 1\n",
    "        return binary_img\n",
    "    \n",
    "    def apply_g_thresh(self, img, thresh = (0, 255)):\n",
    "        img = cv2.cvtColor(img, cv2.COLOR_BGR2RGB)\n",
    "        g_img = img[:,:,1]\n",
    "        binary_img = np.zeros_like(g_img)\n",
    "        binary_img[ (g_img >= thresh[0]) & (g_img <= thresh[1]) ] = 1\n",
    "        return binary_img        \n",
    "\n",
    "    def apply_b_thresh(self, img, thresh = (0, 255)):\n",
    "        img = cv2.cvtColor(img, cv2.COLOR_BGR2RGB)\n",
    "        b_img = img[:,:,2]\n",
    "        binary_img = np.zeros_like(b_img)\n",
    "        binary_img[ (b_img >= thresh[0]) & (b_img <= thresh[1]) ] = 1\n",
    "        return binary_img  \n",
    "    \n",
    "    def apply_rgb_thresh(self, num_code, rgb_r = None, rgb_g = None, rgb_b = None):\n",
    "        \"\"\"\n",
    "            Combine RGB Thresholding binary images based on the red, green and/or\n",
    "            blue thresholds already applied, they set private variables that can be\n",
    "            used in this method. Choose based on number code, which thresholds you'd\n",
    "            combine:\n",
    "            0: R Binary, G Binary\n",
    "            1: R Binary, B binary\n",
    "            2: G Binary, B Binary\n",
    "            3: R Binary, G Binary, B Binary\n",
    "        \"\"\"\n",
    "        combined = np.zeros_like(rgb_r)\n",
    "        if num_code == 0:\n",
    "            combined[ (rgb_r == 1) | (rgb_g == 1) ] = 1\n",
    "        elif num_code == 1:\n",
    "            combined[ (rgb_r == 1) & (rgb_b == 1) ] = 1\n",
    "        elif num_code == 2: \n",
    "            combined[ (rgb_g == 1) & (rgb_b == 1) ] = 1  \n",
    "        elif num_code == 3:\n",
    "            combined[ ((rgb_r == 1) | (rgb_g == 1)) & (rgb_b == 1) ] = 1             \n",
    "        else:\n",
    "            print(\"Error: Choose a supported code for combined rgb\")\n",
    "\n",
    "        # Return binary result from multiple thresholds\n",
    "        return combined\n",
    "    \n",
    "    # Thresholding individual HSL Color Channels\n",
    "    def apply_h_thresh(self, img, thresh = (0, 255)):\n",
    "        hls = cv2.cvtColor(img, cv2.COLOR_BGR2HLS)\n",
    "        h_img = hls[:,:,0]\n",
    "        binary_img = np.zeros_like(h_img)\n",
    "        binary_img[ (h_img >= thresh[0]) & (h_img <= thresh[1]) ] = 1\n",
    "        return binary_img\n",
    "    \n",
    "    def apply_l_thresh(self, img, thresh = (0, 255)):\n",
    "        hls = cv2.cvtColor(img, cv2.COLOR_BGR2HLS)\n",
    "        l_img = hls[:,:,1]\n",
    "        binary_img = np.zeros_like(l_img)\n",
    "        binary_img[ (l_img >= thresh[0]) & (l_img <= thresh[1]) ] = 1\n",
    "        return binary_img\n",
    "    \n",
    "    def apply_s_thresh(self, img, thresh = (0, 255)):\n",
    "        hls = cv2.cvtColor(img, cv2.COLOR_BGR2HLS)\n",
    "        s_img = hls[:,:,2]\n",
    "        binary_img = np.zeros_like(s_img)\n",
    "        binary_img[ (s_img >= thresh[0]) & (s_img <= thresh[1]) ] = 1\n",
    "        return binary_img\n",
    "    \n",
    "    # Apply Combined HLS Thresholding\n",
    "    def apply_hls_thresh(self, num_code, hls_h = None, hls_l = None, hls_s = None):\n",
    "        \"\"\"\n",
    "            Combine HLS Thresholding binary images based on the hue, lightness\n",
    "            and/or saturation thresholds already applied, they set private \n",
    "            variables that can be used in this method. Choose based on number \n",
    "            code, which thresholds you'd combine:\n",
    "            # 0: H Binary, L Binary\n",
    "            # 1: H Binary, S binary\n",
    "            # 2: L Binary, S Binary\n",
    "            # 3: H Binary, L Binary, S Binary  \n",
    "        \"\"\"\n",
    "        combined = np.zeros_like(hls_h)\n",
    "        if num_code == 0:\n",
    "            combined[ (hls_h == 1) & (hls_l == 1) ] = 1\n",
    "        elif num_code == 1:\n",
    "            combined[ (hls_h == 1) | (hls_s == 1) ] = 1\n",
    "        elif num_code == 2: \n",
    "            combined[ (hls_l == 1) & (hls_s == 1) ] = 1  \n",
    "        elif num_code == 3:\n",
    "            combined[ (hls_h == 1) | ((hls_s == 1) & (hls_l == 1)) ] = 1             \n",
    "        else:\n",
    "            print(\"Error: Choose a supported code for combined hls\")\n",
    "\n",
    "        # Return binary result from multiple thresholds\n",
    "        return combined        \n",
    "        \n",
    "        \n",
    "        h_binary = self.apply_h_thresh(img, thresh[0])\n",
    "        l_binary = self.apply_l_thresh(img, thresh[1])\n",
    "        s_binary = self.apply_s_thresh(img, thresh[2])\n",
    "        combined = np.zeros_like(s_binary)\n",
    "        combined[ (h_binary == 1) & (l_binary == 1) & (s_binary == 1) ] = 1\n",
    "        return combined\n",
    "    \n",
    "    def save_img(self, dst_path, filename, dst_img):\n",
    "        \"\"\"\n",
    "        Save gradient thresholded image using OpenCV\n",
    "        \"\"\"\n",
    "        # If filepath doesn't exist, create it\n",
    "        if not os.path.exists(dst_path):\n",
    "            os.makedirs(dst_path)\n",
    "        \n",
    "        # Save binary image resulting from gradient thresholding\n",
    "        plt.imsave(dst_path + filename, dst_img, cmap = \"gray\")\n",
    "        \n",
    "    def visualize(self, src_title, orig_img, dst_title, binary_img):\n",
    "        \"\"\"\n",
    "        Visualize color thresholded image\n",
    "        \"\"\"\n",
    "        img = cv2.cvtColor(orig_img, cv2.COLOR_BGR2RGB)\n",
    "        f, (ax1, ax2) = plt.subplots(1, 2, figsize=(24,9))\n",
    "        f.tight_layout()\n",
    "        ax1.imshow(img)\n",
    "        ax1.set_title(src_title, fontsize=50)\n",
    "        ax2.imshow(binary_img, cmap = 'gray')\n",
    "        ax2.set_title(dst_title, fontsize=50)\n",
    "        plt.subplots_adjust(left=0, right=1, top=0.9, bottom=0.)"
   ]
  },
  {
   "cell_type": "code",
   "execution_count": null,
   "id": "b1311558",
   "metadata": {},
   "outputs": [],
   "source": [
    "def get_filepaths(basepath, remove_ext=False):\n",
    "    files = []\n",
    "    filenames = []\n",
    "    for filename in os.listdir(basepath):\n",
    "#         print(\"filename =\", filename)\n",
    "        if remove_ext is True:\n",
    "            file_name, file_ext = filename.split(\".\")\n",
    "#             print(\"file_name =\", file_name)\n",
    "#             print(\"file_ext =\", file_ext)\n",
    "            filepath = os.path.join(basepath, file_name)\n",
    "            files.append(filepath)\n",
    "            filenames.append(file_name)\n",
    "        else:\n",
    "            filepath = os.path.join(basepath, filename)\n",
    "            files.append(filepath)\n",
    "            filenames.append(filename)\n",
    "    return files, filenames\n",
    "    \n",
    "# TODO: Move above code into this function\n",
    "def get_filepaths_videonum_dirs(basepath):\n",
    "    videonum_frame_filepaths = []\n",
    "    videonum_frame_filenames = []\n",
    "    # loop each video number dir getting each frame filepath per video\n",
    "    for videonum_dir in os.listdir(basepath):\n",
    "        videonum_dirpath = os.path.join(basepath, videonum_dir)\n",
    "        videonum_dirfilepaths, videonum_dirfilenames = get_filepaths(videonum_dirpath, remove_ext=True)\n",
    "        videonum_frame_filepaths.extend(videonum_dirfilepaths)\n",
    "        videonum_frame_filenames.extend(videonum_dirfilenames)\n",
    "    return videonum_frame_filepaths, videonum_frame_filenames\n",
    "    \n",
    "def get_filepaths_videonum_dirs_xy(X_basepath, y_basepath):\n",
    "    videonum_X_filepaths = []\n",
    "    videonum_X_filenames = []\n",
    "    videonum_y_filepaths = []\n",
    "    videonum_y_filenames = []\n",
    "    for videonum_X_dir, videonum_y_dir in zip(os.listdir(X_basepath), os.listdir(y_basepath)):\n",
    "        videonum_X_dirpath = os.path.join(X_basepath, videonum_X_dir)\n",
    "        videonum_y_dirpath = os.path.join(y_basepath, videonum_y_dir)\n",
    "        videonum_y_dirfilepaths_tmp = []\n",
    "        videonum_y_dirfilenames_tmp = []\n",
    "        videonum_X_dirfilepaths, videonum_X_dirfilenames = get_filepaths(videonum_X_dirpath, remove_ext=True)\n",
    "        videonum_y_dirfilepaths, videonum_y_dirfilenames = get_filepaths(videonum_y_dirpath, remove_ext=True)\n",
    "#         print(\"len(videonum_X_dirfilenames) =\", len(videonum_X_dirfilenames))\n",
    "#         print(\"len(videonum_y_dirfilenames) =\", len(videonum_y_dirfilenames))\n",
    "        if len(videonum_X_dirfilenames) != len(videonum_y_dirfilenames):\n",
    "            for y_i in range(len(videonum_y_dirfilenames)):\n",
    "                if videonum_y_dirfilenames[y_i] in videonum_X_dirfilenames:\n",
    "#                     print(\"videonum_y_dirfilenames[y_i] =\", videonum_y_dirfilenames[y_i])\n",
    "#                     print(\"is in videonum_X_dirfilenames = \", videonum_X_dirfilenames)\n",
    "                    videonum_y_dirfilenames_tmp.append(videonum_y_dirfilenames[y_i] + \".xml\")\n",
    "                    videonum_y_dirfilepaths_tmp.append(videonum_y_dirfilepaths[y_i] + \".xml\")\n",
    "            videonum_y_filepaths.extend(videonum_y_dirfilepaths_tmp)\n",
    "            videonum_y_filenames.extend(videonum_y_dirfilenames_tmp)\n",
    "#             print(\"len(videonum_X_dirfilenames) =\", len(videonum_X_dirfilenames))\n",
    "#             print(\"len(videonum_y_dirfilenames_tmp) =\", len(videonum_y_dirfilenames_tmp))\n",
    "        else:\n",
    "            videonum_y_dirfilepaths = [filepath + \".xml\" for filepath in videonum_y_dirfilepaths]\n",
    "            videonum_y_dirfilenames = [filename + \".xml\" for filename in videonum_y_dirfilenames]\n",
    "            videonum_y_filepaths.extend(videonum_y_dirfilepaths)\n",
    "            videonum_y_filenames.extend(videonum_y_dirfilenames)\n",
    "#             print(\"len(videonum_X_dirfilenames) =\", len(videonum_X_dirfilenames))\n",
    "#             print(\"len(videonum_y_dirfilenames) =\", len(videonum_y_dirfilenames))\n",
    "        videonum_X_dirfilepaths = [filepath + \".jpg\" for filepath in videonum_X_dirfilepaths]\n",
    "        videonum_X_dirfilenames = [filename + \".jpg\" for filename in videonum_X_dirfilenames]\n",
    "        videonum_X_filepaths.extend(videonum_X_dirfilepaths)\n",
    "        videonum_X_filenames.extend(videonum_X_dirfilenames)\n",
    "    return videonum_X_filepaths, videonum_X_filenames, videonum_y_filepaths, videonum_y_filenames\n",
    "    \n",
    "def read_img(img_path, flag = cv2.IMREAD_COLOR):\n",
    "    # (height, width, 3)\n",
    "    image = cv2.imread(img_path, flag)\n",
    "    return image\n",
    "\n",
    "def get_xml_label_names(xml_files):\n",
    "    label_names = []\n",
    "    for xml_file in tqdm(xml_files):\n",
    "        train_y_tree = ET.parse(xml_file)\n",
    "        train_y_root = train_y_tree.getroot()\n",
    "        if train_y_root.find(\"object\") != None:\n",
    "            train_y_object = train_y_root.find(\"object\")\n",
    "            train_y_polyp_name = train_y_object.find(\"name\").text\n",
    "        else:\n",
    "            train_y_polyp_name = \"Not Specified\"\n",
    "        label_names.append(train_y_polyp_name)\n",
    "    return label_names\n",
    "\n",
    "def get_xml_boundboxes(xml_files):\n",
    "    bound_boxes = []\n",
    "    for xml_file in tqdm(xml_files):\n",
    "        train_y_tree = ET.parse(xml_file)\n",
    "        train_y_root = train_y_tree.getroot()\n",
    "        if train_y_root.find(\"object\") != None:\n",
    "            train_y_object = train_y_root.find(\"object\")\n",
    "            train_y_bndbox = train_y_object.find(\"bndbox\")\n",
    "            train_y_bndbox_xmin = train_y_bndbox.find(\"xmin\").text\n",
    "            train_y_bndbox_ymin = train_y_bndbox.find(\"ymin\").text\n",
    "            train_y_bndbox_xmax = train_y_bndbox.find(\"xmax\").text\n",
    "            train_y_bndbox_ymax = train_y_bndbox.find(\"ymax\").text\n",
    "            bound_box_tuple = (train_y_bndbox_xmin, train_y_bndbox_ymin, train_y_bndbox_xmax, train_y_bndbox_ymax)\n",
    "        else:\n",
    "            bound_box_tuple = False\n",
    "        bound_boxes.append(\n",
    "            bound_box_tuple\n",
    "        )\n",
    "    return bound_boxes\n",
    "\n",
    "# normalizes image pixel values betwen -0.5 and 0.5\n",
    "def normalize_images(images):\n",
    "    norm_images = []\n",
    "    for image in tqdm(images):\n",
    "        norm_img = (image/255.0) - 0.5\n",
    "        norm_images.append(norm_img)\n",
    "    return norm_images\n",
    "\n",
    "def normalize_image(image):\n",
    "    norm_img = (image/255.0) - 0.5\n",
    "    return norm_img\n",
    "\n",
    "def resize_image(image, size):\n",
    "    resized_image = cv2.resize(image, (size, size))\n",
    "    return resize_image\n",
    "    \n",
    "def grayscale(img):\n",
    "    return cv2.cvtColor(img, cv2.COLOR_RGB2GRAY)\n",
    "\n",
    "def gaussian_blur(img, kernel_size):\n",
    "    return cv2.GaussianBlur(img, (kernel_size, kernel_size), 0)\n",
    "\n",
    "def get_images(image_group, size, flag = cv2.IMREAD_COLOR):\n",
    "    images = []\n",
    "    for image_path in tqdm(image_group):\n",
    "        image = read_img(image_path, flag)\n",
    "        resized_img = cv2.resize(image, (size, size))\n",
    "        images.append(resized_img)\n",
    "    return images\n",
    "\n",
    "def remove_non_labeled_polyps(img_filepaths, img_filenames, polyp_names):\n",
    "    cln_X_img_filepaths = []\n",
    "    cln_X_img_filenames = []\n",
    "    cln_y_polyp_names = []\n",
    "    for img_filepath, img_filename, label in zip(img_filepaths, img_filenames, polyp_names):\n",
    "        if label != \"Not Specified\":\n",
    "            cln_X_img_filepaths.append(img_filepath)\n",
    "            cln_X_img_filenames.append(img_filename)\n",
    "            cln_y_polyp_names.append(label)\n",
    "            \n",
    "    return cln_X_img_filepaths, cln_X_img_filenames, cln_y_polyp_names\n",
    "\n",
    "def create_image_label_groups(image_paths, image_labels, batch_size=32):\n",
    "    # Divide image paths and image labels into groups of BATCH_SIZE\n",
    "    image_groups = list()\n",
    "    label_groups = list()\n",
    "    \n",
    "    for idx in range(0, len(image_paths), batch_size):\n",
    "        image_batch = list()\n",
    "        for index in range(idx, idx + batch_size):\n",
    "            image_batch.append(image_paths[index % len(image_paths)])\n",
    "        image_groups.append(image_batch)\n",
    "            \n",
    "    for idx in range(0, len(image_labels), batch_size):\n",
    "        for index in range(idx, idx + batch_size):\n",
    "            label_groups.append(image_labels[index % len(image_labels)])\n",
    "    \n",
    "    return image_groups, label_groups\n",
    "    \n",
    "def create_image_batch(image_group):\n",
    "    # get the max image shape from the batch of images\n",
    "    max_shape = tuple()\n",
    "    image_shapes = list()\n",
    "    \n",
    "    for channel in range(3):\n",
    "        for image in image_group:\n",
    "            image_shapes.append(image.shape[channel])\n",
    "        \n",
    "def change_extension(img_file, file_type):\n",
    "    p = Path(img_file)\n",
    "    return p.rename(p.with_suffix(file_type))\n",
    "    \n",
    "# loads image from filepath using opencv\n",
    "def get_image(basepath, filepath):\n",
    "    # read images\n",
    "    source_path = filepath\n",
    "    # extract filename from filepath using split and check platform\n",
    "    if sys.platform == 'win32':\n",
    "        filename = source_path.split(\"\\\\\")[-1]\n",
    "    elif sys.platform == 'linux' or sys.platform == 'darwin':\n",
    "        filename = source_path.split(\"/\")[-1]\n",
    "    # add filename to end of path to PolypSet dir, so platform isn't an issue\n",
    "    img_path_on_fs = basepath + filename\n",
    "    # load image using opencv\n",
    "    image = cv2.imread(img_path_on_fs)\n",
    "    return image\n",
    "\n",
    "\n",
    "def plot_sample(X, y, index):\n",
    "    plt.figure(figsize = (30,4))\n",
    "    plt.imshow(X[index])\n",
    "    plt.xlabel(classes[y[index]])"
   ]
  },
  {
   "cell_type": "code",
   "execution_count": null,
   "id": "bb64b13d",
   "metadata": {},
   "outputs": [],
   "source": [
    "sm.set_framework('tf.keras')"
   ]
  },
  {
   "cell_type": "code",
   "execution_count": null,
   "id": "16c2afc7",
   "metadata": {},
   "outputs": [],
   "source": []
  },
  {
   "cell_type": "markdown",
   "id": "94c84806",
   "metadata": {},
   "source": [
    "## Load Training Set Images & Masked Labels"
   ]
  },
  {
   "cell_type": "code",
   "execution_count": null,
   "id": "4230f027",
   "metadata": {},
   "outputs": [],
   "source": [
    "train_y_basepath = \"PolypsSet/train2019/Annotation\"\n",
    "file_type = \".xml\"\n",
    "train_y_filepaths, train_y_filenames = get_filepaths(train_y_basepath, file_type)"
   ]
  },
  {
   "cell_type": "code",
   "execution_count": null,
   "id": "70c5455e",
   "metadata": {},
   "outputs": [],
   "source": [
    "train_X_basepath = \"PolypsSet/train2019/Image\"\n",
    "file_type = \".jpg\"\n",
    "train_X_filepaths, train_X_filenames = get_filepaths(train_X_basepath, file_type)"
   ]
  },
  {
   "cell_type": "code",
   "execution_count": null,
   "id": "4236a617",
   "metadata": {},
   "outputs": [],
   "source": [
    "train_y_polyp_names = get_xml_label_names(train_y_filepaths)"
   ]
  },
  {
   "cell_type": "code",
   "execution_count": null,
   "id": "967212a2",
   "metadata": {},
   "outputs": [],
   "source": [
    "plt.figure()\n",
    "sns.countplot(train_y_polyp_names)\n",
    "plt.title(\"Extracted Polyp Name Labels\")"
   ]
  },
  {
   "cell_type": "code",
   "execution_count": null,
   "id": "fa3ac072",
   "metadata": {},
   "outputs": [],
   "source": [
    "cln_train_X_filepaths, cln_train_X_filenames, cln_train_y_polyp_names = remove_non_labeled_polyps(\n",
    "    train_X_filepaths, train_X_filenames, train_y_polyp_names)"
   ]
  },
  {
   "cell_type": "code",
   "execution_count": null,
   "id": "58041288",
   "metadata": {},
   "outputs": [],
   "source": [
    "len(cln_train_X_filenames)"
   ]
  },
  {
   "cell_type": "code",
   "execution_count": null,
   "id": "01377055",
   "metadata": {},
   "outputs": [],
   "source": [
    "plt.figure()\n",
    "sns.countplot(cln_train_y_polyp_names)\n",
    "plt.title(\"Extracted Polyp Name Labels\")"
   ]
  },
  {
   "cell_type": "code",
   "execution_count": null,
   "id": "f83f7f24",
   "metadata": {},
   "outputs": [],
   "source": [
    "len(cln_train_X_filepaths)"
   ]
  },
  {
   "cell_type": "code",
   "execution_count": null,
   "id": "98e38b54",
   "metadata": {},
   "outputs": [],
   "source": [
    "len(cln_train_y_polyp_names)"
   ]
  },
  {
   "cell_type": "code",
   "execution_count": null,
   "id": "2c82798f",
   "metadata": {},
   "outputs": [],
   "source": [
    "# read BGR cause of OpenCV: load 100 images\n",
    "train_X_images = get_images(cln_train_X_filepaths[:100], 192)"
   ]
  },
  {
   "cell_type": "code",
   "execution_count": null,
   "id": "15bd918d",
   "metadata": {},
   "outputs": [],
   "source": [
    "X_train = np.array(train_X_images)"
   ]
  },
  {
   "cell_type": "code",
   "execution_count": null,
   "id": "d1935a07",
   "metadata": {},
   "outputs": [],
   "source": [
    "X_train.shape"
   ]
  },
  {
   "cell_type": "code",
   "execution_count": null,
   "id": "75ce9e9b",
   "metadata": {},
   "outputs": [],
   "source": [
    "X_train = X_train / 255"
   ]
  },
  {
   "cell_type": "code",
   "execution_count": null,
   "id": "8cccb23b",
   "metadata": {},
   "outputs": [],
   "source": [
    "label_enc = LabelEncoder()\n",
    "train_y = label_enc.fit_transform(cln_train_y_polyp_names)\n",
    "classes = ['adenomatous', 'hyperplastic']"
   ]
  },
  {
   "cell_type": "code",
   "execution_count": null,
   "id": "b14162f1",
   "metadata": {},
   "outputs": [],
   "source": [
    "plt.figure()\n",
    "sns.countplot(train_y)\n",
    "plt.title(\"Label Encoded Polyps (0=Adenomatous; 1=Hyperplastic)\")"
   ]
  },
  {
   "cell_type": "code",
   "execution_count": null,
   "id": "8f60a48d",
   "metadata": {},
   "outputs": [],
   "source": [
    "# np.save(\"polyp_y_train_27048.npy\", train_y)"
   ]
  },
  {
   "cell_type": "code",
   "execution_count": null,
   "id": "5f501cce",
   "metadata": {},
   "outputs": [],
   "source": [
    "# np.save(\"polyp_x_train_27048.npy\", X_train)"
   ]
  },
  {
   "cell_type": "code",
   "execution_count": null,
   "id": "6ecbcb7b",
   "metadata": {},
   "outputs": [],
   "source": []
  },
  {
   "cell_type": "markdown",
   "id": "fcbbeaeb",
   "metadata": {},
   "source": [
    "## Feature Engineer Polyp Masked Labels For Training\n",
    "\n",
    "Use color transforms, gradients, etc. to create a polyp masked threshold binary image per polyp image. After comparing masking for 2 images. I am going to try a labeling tool instead and label 100 to 1000 images.\n",
    "\n",
    "Here is the link I am going to try, they have built a labeling tool using matplotlib for masking images as labels that will be used for training UNet:\n",
    "\n",
    "- [How we built an easy-to-use image segmentation tool with transfer learning](https://towardsdatascience.com/how-we-built-an-easy-to-use-image-segmentation-tool-with-transfer-learning-546efb6ae98)\n",
    "\n",
    "Check out **GitHub Repo: [mpl-interations](https://github.com/ianhi/mpl-interactions)**\n",
    "\n",
    "Check out **GitHub Repo: [matplotlib/ipympl](https://github.com/matplotlib/ipympl#install-the-jupyterlab-extension)**\n",
    "\n",
    "Check out **[mpl-interactions Tutorial: Image Segmentation Label Tool](https://mpl-interactions.readthedocs.io/en/latest/examples/image-segmentation.html)**\n",
    "\n",
    "For using custom Matplotlib Image Segmenter tool in Jupyter Notebook, you can install it with pip:\n",
    "\n",
    "~~~bash\n",
    "pip install mpl_interactions[\"jupyter\"] # will install necessary deps for using in jupyter\n",
    "\n",
    "# for use outside jupyter\n",
    "pip install mpl_interactions\n",
    "\n",
    "# install ipympl; they recommend installing jupyterlab >= 3\n",
    "pip install ipympl\n",
    "\n",
    "# recommended\n",
    "conda install -c conda-forge jupyterlab\n",
    "\n",
    "# need to install jupyter labextension\n",
    "conda install -c conda-forge nodejs\n",
    "jupyter labextension install @jupyter-widgets/jupyterlab-manager jupyter-matplotlib\n",
    "~~~"
   ]
  },
  {
   "cell_type": "markdown",
   "id": "92a2b096",
   "metadata": {},
   "source": [
    "## Draw Masked Polyp Labels with Matplotlib's Image Segmenter\n",
    "\n",
    "Naming convention will be polyp type followed by the original image file number."
   ]
  },
  {
   "cell_type": "code",
   "execution_count": null,
   "id": "e24b79e0",
   "metadata": {},
   "outputs": [],
   "source": [
    "%matplotlib ipympl\n",
    "import matplotlib.cbook as cbook\n",
    "\n",
    "from mpl_interactions import image_segmenter"
   ]
  },
  {
   "cell_type": "code",
   "execution_count": null,
   "id": "9860716e",
   "metadata": {},
   "outputs": [],
   "source": [
    "# last one: 99\n",
    "polyp_img_num = 99"
   ]
  },
  {
   "cell_type": "code",
   "execution_count": null,
   "id": "99d5570c",
   "metadata": {},
   "outputs": [],
   "source": [
    "train_X_img_filename = cln_train_X_filenames[polyp_img_num]\n",
    "print(train_X_img_filename)"
   ]
  },
  {
   "cell_type": "code",
   "execution_count": null,
   "id": "5f2acc76",
   "metadata": {},
   "outputs": [],
   "source": [
    "train_y_polyp_name = cln_train_y_polyp_names[polyp_img_num]\n",
    "print(train_y_polyp_name)"
   ]
  },
  {
   "cell_type": "code",
   "execution_count": null,
   "id": "7c6868ab",
   "metadata": {},
   "outputs": [],
   "source": [
    "# yellow for polyp\n",
    "train_X_img_bgr = train_X_images[polyp_img_num]\n",
    "train_X_img_rgb = cv2.cvtColor(train_X_img_bgr, cv2.COLOR_BGR2RGB)\n",
    "segmenter = image_segmenter(train_X_img_rgb, \n",
    "                            mask_colors=\"yellow\", \n",
    "                            mask_alpha=0.75,\n",
    "                            figsize=(4, 4))\n",
    "plt.axis(\"off\")\n",
    "display(segmenter)"
   ]
  },
  {
   "cell_type": "code",
   "execution_count": null,
   "id": "a42eaa5c",
   "metadata": {},
   "outputs": [],
   "source": [
    "plt.figure()\n",
    "plt.imshow(segmenter.mask)"
   ]
  },
  {
   "cell_type": "code",
   "execution_count": null,
   "id": "189c4c25",
   "metadata": {},
   "outputs": [],
   "source": [
    "# I will get a saved img 192x192 since earlier I resized img to 192x192. Factor of 32 for obj detect\n",
    "plt.imsave(\"PolypsSet/train2019/RGBSegLabel/\" + train_X_img_filename, \n",
    "           segmenter.mask)"
   ]
  },
  {
   "cell_type": "code",
   "execution_count": null,
   "id": "678ab50c",
   "metadata": {},
   "outputs": [],
   "source": [
    "plt.figure()\n",
    "plt.imshow(segmenter.mask, cmap = \"gray\")"
   ]
  },
  {
   "cell_type": "code",
   "execution_count": null,
   "id": "ef41e3d7",
   "metadata": {},
   "outputs": [],
   "source": [
    "plt.imsave(\"PolypsSet/train2019/GraySegLabel/\" + train_X_img_filename, \n",
    "           segmenter.mask, cmap = \"gray\")"
   ]
  },
  {
   "cell_type": "markdown",
   "id": "d4e84073",
   "metadata": {},
   "source": [
    "## Loading Masked Labels from Feature Engineering"
   ]
  },
  {
   "cell_type": "code",
   "execution_count": null,
   "id": "8a8d13a9",
   "metadata": {},
   "outputs": [],
   "source": [
    "train_masks_basepath = \"PolypsSet/train2019/GraySegLabel\"\n",
    "file_type = \".jpg\"\n",
    "train_masks_filepaths, train_masks_filenames = get_filepaths(train_masks_basepath, file_type)"
   ]
  },
  {
   "cell_type": "code",
   "execution_count": null,
   "id": "8f15f280",
   "metadata": {},
   "outputs": [],
   "source": [
    "train_mask_images = get_images(train_masks_filepaths, 192, flag = cv2.IMREAD_GRAYSCALE)\n",
    "y_train_masks = np.array(train_mask_images)\n",
    "y_train_masks = y_train_masks/255"
   ]
  },
  {
   "cell_type": "markdown",
   "id": "7ac44d68",
   "metadata": {},
   "source": [
    "## Data Augment Images"
   ]
  },
  {
   "cell_type": "code",
   "execution_count": 1234,
   "id": "aebb3a7d",
   "metadata": {},
   "outputs": [],
   "source": [
    "import albumentations as A"
   ]
  },
  {
   "cell_type": "code",
   "execution_count": 1235,
   "id": "e691e8c6",
   "metadata": {},
   "outputs": [],
   "source": [
    "images_to_generate = 2000"
   ]
  },
  {
   "cell_type": "code",
   "execution_count": 1239,
   "id": "fa50951d",
   "metadata": {},
   "outputs": [],
   "source": [
    "img_augmented_path=\"PolypsSet/train2019/aug_img_192/\"\n",
    "msk_augmented_path=\"PolypsSet/train2019/aug_gray_mask_192/\" # path to gray seg masks"
   ]
  },
  {
   "cell_type": "code",
   "execution_count": 1237,
   "id": "c386b429",
   "metadata": {},
   "outputs": [],
   "source": [
    "aug = A.Compose([\n",
    "    A.VerticalFlip(p=0.5),\n",
    "    A.RandomRotate90(p=0.5),\n",
    "    A.HorizontalFlip(p=1),\n",
    "    A.Transpose(p=1),\n",
    "    A.GridDistortion(p=1)\n",
    "])"
   ]
  },
  {
   "cell_type": "code",
   "execution_count": 1251,
   "id": "25e70c1f",
   "metadata": {},
   "outputs": [],
   "source": [
    "i=1"
   ]
  },
  {
   "cell_type": "code",
   "execution_count": 1252,
   "id": "29cbb31a",
   "metadata": {},
   "outputs": [],
   "source": [
    "# augmenting on top of 100 images and 100 masked images gen 2000\n",
    "# then save them in a folder\n",
    "while i <= images_to_generate:\n",
    "    number = random.randint(0, len(train_X_images[:100])-1)\n",
    "    orig_image = train_X_images[number]\n",
    "    orig_mask = train_mask_images[number]\n",
    "    \n",
    "    augmented = aug(image = orig_image, mask = orig_mask)\n",
    "    transformed_image = augmented[\"image\"]\n",
    "    transformed_mask = augmented[\"mask\"]\n",
    "    \n",
    "    # due to opencv being bgr, so go rgb\n",
    "    transformed_image = cv2.cvtColor(transformed_image, cv2.COLOR_BGR2RGB)\n",
    "    \n",
    "    new_image_path = \"%s/aug_image_%s.jpg\" %(img_augmented_path, i)\n",
    "    new_mask_path = \"%s/aug_mask_%s.jpg\" %(msk_augmented_path, i)\n",
    "    \n",
    "    plt.imsave(new_image_path, transformed_image)\n",
    "    plt.imsave(new_mask_path, transformed_mask, cmap=\"gray\")\n",
    "    i = i+1"
   ]
  },
  {
   "cell_type": "markdown",
   "id": "624fea33",
   "metadata": {},
   "source": [
    "## Loading Validation Set"
   ]
  },
  {
   "cell_type": "code",
   "execution_count": null,
   "id": "9a54bd7c",
   "metadata": {},
   "outputs": [],
   "source": [
    "valid_X_basepath = \"PolypsSet/val2019/Image\"\n",
    "valid_y_basepath = \"PolypsSet/val2019/Annotation\"\n",
    "\n",
    "# Problem is that the valid set has more labels than there are images, so need to make them equal\n",
    "valid_X_filepaths, valid_X_filenames, valid_y_filepaths, valid_y_filenames= get_filepaths_videonum_dirs_xy(valid_X_basepath, valid_y_basepath)"
   ]
  },
  {
   "cell_type": "code",
   "execution_count": null,
   "id": "d3dbd23d",
   "metadata": {},
   "outputs": [],
   "source": [
    "valid_y_polyp_names = get_xml_label_names(valid_y_filepaths)"
   ]
  },
  {
   "cell_type": "code",
   "execution_count": null,
   "id": "4651f5a5",
   "metadata": {},
   "outputs": [],
   "source": [
    "sns.countplot(valid_y_polyp_names)"
   ]
  },
  {
   "cell_type": "code",
   "execution_count": null,
   "id": "8c6c8431",
   "metadata": {},
   "outputs": [],
   "source": [
    "cln_valid_X_filepaths, cln_valid_y_polyp_names = remove_non_labeled_polyps(\n",
    "    valid_X_filepaths, valid_y_polyp_names)"
   ]
  },
  {
   "cell_type": "code",
   "execution_count": null,
   "id": "3226dab0",
   "metadata": {},
   "outputs": [],
   "source": [
    "sns.countplot(cln_valid_y_polyp_names)"
   ]
  },
  {
   "cell_type": "code",
   "execution_count": null,
   "id": "a9fcd75e",
   "metadata": {},
   "outputs": [],
   "source": [
    "valid_X_images = get_images(cln_valid_X_filepaths, 192)"
   ]
  },
  {
   "cell_type": "code",
   "execution_count": null,
   "id": "c0b26e9f",
   "metadata": {},
   "outputs": [],
   "source": [
    "X_valid = np.array(valid_X_images)"
   ]
  },
  {
   "cell_type": "code",
   "execution_count": null,
   "id": "7671795a",
   "metadata": {},
   "outputs": [],
   "source": [
    "X_valid = X_valid / 255"
   ]
  },
  {
   "cell_type": "code",
   "execution_count": null,
   "id": "fda646a0",
   "metadata": {},
   "outputs": [],
   "source": [
    "valid_y = label_enc.fit_transform(cln_valid_y_polyp_names)"
   ]
  },
  {
   "cell_type": "code",
   "execution_count": null,
   "id": "44d09752",
   "metadata": {},
   "outputs": [],
   "source": [
    "np.save(\"polyp_x_valid_4214.npy\", X_valid)"
   ]
  },
  {
   "cell_type": "code",
   "execution_count": null,
   "id": "765202b8",
   "metadata": {},
   "outputs": [],
   "source": [
    "np.save(\"polyp_y_valid_4214.npy\", valid_y)"
   ]
  },
  {
   "cell_type": "code",
   "execution_count": null,
   "id": "c3dfc0c8",
   "metadata": {},
   "outputs": [],
   "source": []
  },
  {
   "cell_type": "markdown",
   "id": "3eae421c",
   "metadata": {},
   "source": [
    "## Loading Testing Set"
   ]
  },
  {
   "cell_type": "code",
   "execution_count": 1275,
   "id": "7029fdc9",
   "metadata": {},
   "outputs": [],
   "source": [
    "test_X_basepath = \"PolypsSet/test2019/Image\"\n",
    "test_y_basepath = \"PolypsSet/test2019/Annotation\"\n",
    "\n",
    "# Potential Problem is that the test set has more labels than there are images, so need to make them equal\n",
    "test_X_filepaths, test_X_filenames, test_y_filepaths, test_y_filenames= get_filepaths_videonum_dirs_xy(test_X_basepath, test_y_basepath)"
   ]
  },
  {
   "cell_type": "code",
   "execution_count": 1276,
   "id": "915192a2",
   "metadata": {},
   "outputs": [
    {
     "name": "stderr",
     "output_type": "stream",
     "text": [
      "100%|█████████████████████████████████████████████████████████████████████████████| 4872/4872 [00:25<00:00, 189.81it/s]\n"
     ]
    }
   ],
   "source": [
    "test_y_polyp_names = get_xml_label_names(test_y_filepaths)"
   ]
  },
  {
   "cell_type": "code",
   "execution_count": 1277,
   "id": "b71b9249",
   "metadata": {},
   "outputs": [
    {
     "name": "stderr",
     "output_type": "stream",
     "text": [
      "C:\\Users\\james\\miniconda3\\envs\\yolov4-gpu\\lib\\site-packages\\seaborn\\_decorators.py:43: FutureWarning: Pass the following variable as a keyword arg: x. From version 0.12, the only valid positional argument will be `data`, and passing other arguments without an explicit keyword will result in an error or misinterpretation.\n",
      "  FutureWarning\n"
     ]
    },
    {
     "data": {
      "text/plain": [
       "<AxesSubplot:title={'center':'Test Polyp Img After UNet Segmentation'}, xlabel='adenomatous', ylabel='count'>"
      ]
     },
     "execution_count": 1277,
     "metadata": {},
     "output_type": "execute_result"
    }
   ],
   "source": [
    "sns.countplot(test_y_polyp_names)"
   ]
  },
  {
   "cell_type": "code",
   "execution_count": 1278,
   "id": "44c43b89",
   "metadata": {},
   "outputs": [],
   "source": [
    "cln_test_X_filepaths, cln_test_X_filenames, cln_test_y_polyp_names = remove_non_labeled_polyps(\n",
    "    test_X_filepaths, test_X_filenames, test_y_polyp_names)"
   ]
  },
  {
   "cell_type": "code",
   "execution_count": 1279,
   "id": "f9f180c6",
   "metadata": {},
   "outputs": [],
   "source": [
    "# cln_test_X_filepaths[0]"
   ]
  },
  {
   "cell_type": "code",
   "execution_count": 1280,
   "id": "694e0d93",
   "metadata": {},
   "outputs": [
    {
     "name": "stderr",
     "output_type": "stream",
     "text": [
      "100%|█████████████████████████████████████████████████████████████████████████████| 4719/4719 [00:44<00:00, 105.43it/s]\n"
     ]
    }
   ],
   "source": [
    "test_X_images = get_images(cln_test_X_filepaths, 192)"
   ]
  },
  {
   "cell_type": "code",
   "execution_count": 1281,
   "id": "fbfa04e1",
   "metadata": {},
   "outputs": [],
   "source": [
    "X_test = np.array(test_X_images)"
   ]
  },
  {
   "cell_type": "code",
   "execution_count": 1282,
   "id": "e8152e8d",
   "metadata": {},
   "outputs": [],
   "source": [
    "X_test = X_test / 255"
   ]
  },
  {
   "cell_type": "code",
   "execution_count": 1283,
   "id": "01aa62a9",
   "metadata": {},
   "outputs": [
    {
     "name": "stderr",
     "output_type": "stream",
     "text": [
      "C:\\Users\\james\\miniconda3\\envs\\yolov4-gpu\\lib\\site-packages\\seaborn\\_decorators.py:43: FutureWarning: Pass the following variable as a keyword arg: x. From version 0.12, the only valid positional argument will be `data`, and passing other arguments without an explicit keyword will result in an error or misinterpretation.\n",
      "  FutureWarning\n"
     ]
    },
    {
     "data": {
      "text/plain": [
       "<AxesSubplot:title={'center':'Test Polyp Img After UNet Segmentation'}, xlabel='adenomatous', ylabel='count'>"
      ]
     },
     "execution_count": 1283,
     "metadata": {},
     "output_type": "execute_result"
    }
   ],
   "source": [
    "sns.countplot(cln_test_y_polyp_names)"
   ]
  },
  {
   "cell_type": "code",
   "execution_count": 1284,
   "id": "e249a051",
   "metadata": {},
   "outputs": [],
   "source": [
    "test_y = label_enc.fit_transform(cln_test_y_polyp_names)"
   ]
  },
  {
   "cell_type": "code",
   "execution_count": null,
   "id": "a861f566",
   "metadata": {},
   "outputs": [],
   "source": [
    "np.save(\"polyp_y_test_4719.npy\", test_y)"
   ]
  },
  {
   "cell_type": "code",
   "execution_count": null,
   "id": "731573e6",
   "metadata": {},
   "outputs": [],
   "source": [
    "np.save(\"polyp_x_test_4719.npy\", X_test)"
   ]
  },
  {
   "cell_type": "code",
   "execution_count": null,
   "id": "2578c425",
   "metadata": {},
   "outputs": [],
   "source": []
  },
  {
   "cell_type": "markdown",
   "id": "015c5422",
   "metadata": {},
   "source": [
    "## Build UNet"
   ]
  },
  {
   "cell_type": "code",
   "execution_count": null,
   "id": "7ad6de73",
   "metadata": {},
   "outputs": [],
   "source": [
    "# N = X_train.shape[-1]"
   ]
  },
  {
   "cell_type": "code",
   "execution_count": null,
   "id": "9bf4ef5d",
   "metadata": {},
   "outputs": [],
   "source": [
    "# y_train = np.asarray(train_y).astype('float32').reshape((-1,1))"
   ]
  },
  {
   "cell_type": "code",
   "execution_count": null,
   "id": "4dc62595",
   "metadata": {
    "scrolled": true
   },
   "outputs": [],
   "source": [
    "# train_masks_filepaths"
   ]
  },
  {
   "cell_type": "code",
   "execution_count": null,
   "id": "c88776f2",
   "metadata": {
    "scrolled": true
   },
   "outputs": [],
   "source": [
    "# fig = plt.figure(figsize=(4,4))\n",
    "# plt.imshow(train_mask_images[0], cmap = \"gray\")"
   ]
  },
  {
   "cell_type": "code",
   "execution_count": null,
   "id": "582a52e9",
   "metadata": {},
   "outputs": [],
   "source": [
    "# y_train_masks[0]"
   ]
  },
  {
   "cell_type": "code",
   "execution_count": null,
   "id": "2fd2c797",
   "metadata": {},
   "outputs": [],
   "source": [
    "# y_train_masks[0]"
   ]
  },
  {
   "cell_type": "code",
   "execution_count": 1253,
   "id": "1d456273",
   "metadata": {},
   "outputs": [],
   "source": [
    "aug_train_X_basepath = \"PolypsSet/train2019/aug_img_192\"\n",
    "file_type = \".jpg\"\n",
    "aug_train_X_filepaths, aug_train_X_filenames = get_filepaths(aug_train_X_basepath, file_type)"
   ]
  },
  {
   "cell_type": "code",
   "execution_count": 1254,
   "id": "772d625e",
   "metadata": {},
   "outputs": [
    {
     "name": "stderr",
     "output_type": "stream",
     "text": [
      "100%|█████████████████████████████████████████████████████████████████████████████| 2000/2000 [00:13<00:00, 152.04it/s]\n"
     ]
    }
   ],
   "source": [
    "aug_train_X_images = get_images(aug_train_X_filepaths, 192)"
   ]
  },
  {
   "cell_type": "code",
   "execution_count": 1255,
   "id": "98345608",
   "metadata": {},
   "outputs": [],
   "source": [
    "aug_X_train = np.array(aug_train_X_images)"
   ]
  },
  {
   "cell_type": "code",
   "execution_count": 1256,
   "id": "641f0ba0",
   "metadata": {},
   "outputs": [],
   "source": [
    "aug_X_train = aug_X_train / 255"
   ]
  },
  {
   "cell_type": "code",
   "execution_count": 1257,
   "id": "3d2efa7c",
   "metadata": {},
   "outputs": [],
   "source": [
    "aug_train_masks_basepath = \"PolypsSet/train2019/aug_gray_mask_192\"\n",
    "file_type = \".jpg\"\n",
    "aug_train_masks_filepaths, aug_train_masks_filenames = get_filepaths(aug_train_masks_basepath, file_type)"
   ]
  },
  {
   "cell_type": "code",
   "execution_count": 1258,
   "id": "85ac5eec",
   "metadata": {},
   "outputs": [
    {
     "name": "stderr",
     "output_type": "stream",
     "text": [
      "100%|█████████████████████████████████████████████████████████████████████████████| 2000/2000 [00:12<00:00, 166.03it/s]\n"
     ]
    }
   ],
   "source": [
    "aug_train_mask_images = get_images(aug_train_masks_filepaths, 192, flag = cv2.IMREAD_GRAYSCALE)\n",
    "aug_y_train_masks = np.array(aug_train_mask_images)\n",
    "aug_y_train_masks = aug_y_train_masks/255"
   ]
  },
  {
   "cell_type": "code",
   "execution_count": 1259,
   "id": "03d97d89",
   "metadata": {},
   "outputs": [],
   "source": [
    "#expand y by 1 dimension adding a 1 to the last position\n",
    "aug_y_train_masks = np.expand_dims(aug_y_train_masks, axis=3)"
   ]
  },
  {
   "cell_type": "code",
   "execution_count": 1260,
   "id": "a60dd580",
   "metadata": {},
   "outputs": [
    {
     "data": {
      "text/plain": [
       "(2000, 192, 192, 1)"
      ]
     },
     "execution_count": 1260,
     "metadata": {},
     "output_type": "execute_result"
    }
   ],
   "source": [
    "aug_y_train_masks.shape"
   ]
  },
  {
   "cell_type": "code",
   "execution_count": 1261,
   "id": "117af16e",
   "metadata": {},
   "outputs": [
    {
     "data": {
      "text/plain": [
       "(2000, 192, 192, 3)"
      ]
     },
     "execution_count": 1261,
     "metadata": {},
     "output_type": "execute_result"
    }
   ],
   "source": [
    "aug_X_train.shape"
   ]
  },
  {
   "cell_type": "code",
   "execution_count": 1262,
   "id": "e9c52ad3",
   "metadata": {},
   "outputs": [],
   "source": [
    "X_train_polyp, X_test_polyp, y_train_polyp, y_test_polyp = model_selection.train_test_split(\n",
    "    aug_X_train, aug_y_train_masks, test_size=0.2, random_state=42\n",
    ")"
   ]
  },
  {
   "cell_type": "code",
   "execution_count": 1263,
   "id": "dee22607",
   "metadata": {},
   "outputs": [
    {
     "data": {
      "text/plain": [
       "1600"
      ]
     },
     "execution_count": 1263,
     "metadata": {},
     "output_type": "execute_result"
    }
   ],
   "source": [
    "len(y_train_polyp)"
   ]
  },
  {
   "cell_type": "code",
   "execution_count": 1264,
   "id": "a3464084",
   "metadata": {},
   "outputs": [
    {
     "data": {
      "text/plain": [
       "400"
      ]
     },
     "execution_count": 1264,
     "metadata": {},
     "output_type": "execute_result"
    }
   ],
   "source": [
    "len(y_test_polyp)"
   ]
  },
  {
   "cell_type": "code",
   "execution_count": 1265,
   "id": "d7c536c9",
   "metadata": {},
   "outputs": [],
   "source": [
    "# https://segmentation-models.readthedocs.io/en/latest/api.html\n",
    "# Can take any img size, but must be divisible by factor of 32\n",
    "model = Unet(backbone_name='resnet34', input_shape=(None,None,3), \n",
    "             classes=1, activation=\"sigmoid\", encoder_weights='imagenet')"
   ]
  },
  {
   "cell_type": "code",
   "execution_count": 1271,
   "id": "2f54fd3b",
   "metadata": {},
   "outputs": [],
   "source": [
    "# mean squared error since this is a pixel classification\n",
    "# MSE is used to measure the difference between the source image and the segmented image,\n",
    "# the smaller the value of RMSE, the better the segmentation performance\n",
    "model.compile('Adam', loss=bce_jaccard_loss, metrics=[\"accuracy\", iou_score])"
   ]
  },
  {
   "cell_type": "code",
   "execution_count": 1269,
   "id": "d8d7acbd",
   "metadata": {},
   "outputs": [
    {
     "name": "stdout",
     "output_type": "stream",
     "text": [
      "Model: \"model_11\"\n",
      "__________________________________________________________________________________________________\n",
      " Layer (type)                   Output Shape         Param #     Connected to                     \n",
      "==================================================================================================\n",
      " data (InputLayer)              [(None, None, None,  0           []                               \n",
      "                                 3)]                                                              \n",
      "                                                                                                  \n",
      " bn_data (BatchNormalization)   (None, None, None,   9           ['data[0][0]']                   \n",
      "                                3)                                                                \n",
      "                                                                                                  \n",
      " zero_padding2d_170 (ZeroPaddin  (None, None, None,   0          ['bn_data[0][0]']                \n",
      " g2D)                           3)                                                                \n",
      "                                                                                                  \n",
      " conv0 (Conv2D)                 (None, None, None,   9408        ['zero_padding2d_170[0][0]']     \n",
      "                                64)                                                               \n",
      "                                                                                                  \n",
      " bn0 (BatchNormalization)       (None, None, None,   256         ['conv0[0][0]']                  \n",
      "                                64)                                                               \n",
      "                                                                                                  \n",
      " relu0 (Activation)             (None, None, None,   0           ['bn0[0][0]']                    \n",
      "                                64)                                                               \n",
      "                                                                                                  \n",
      " zero_padding2d_171 (ZeroPaddin  (None, None, None,   0          ['relu0[0][0]']                  \n",
      " g2D)                           64)                                                               \n",
      "                                                                                                  \n",
      " pooling0 (MaxPooling2D)        (None, None, None,   0           ['zero_padding2d_171[0][0]']     \n",
      "                                64)                                                               \n",
      "                                                                                                  \n",
      " stage1_unit1_bn1 (BatchNormali  (None, None, None,   256        ['pooling0[0][0]']               \n",
      " zation)                        64)                                                               \n",
      "                                                                                                  \n",
      " stage1_unit1_relu1 (Activation  (None, None, None,   0          ['stage1_unit1_bn1[0][0]']       \n",
      " )                              64)                                                               \n",
      "                                                                                                  \n",
      " zero_padding2d_172 (ZeroPaddin  (None, None, None,   0          ['stage1_unit1_relu1[0][0]']     \n",
      " g2D)                           64)                                                               \n",
      "                                                                                                  \n",
      " stage1_unit1_conv1 (Conv2D)    (None, None, None,   36864       ['zero_padding2d_172[0][0]']     \n",
      "                                64)                                                               \n",
      "                                                                                                  \n",
      " stage1_unit1_bn2 (BatchNormali  (None, None, None,   256        ['stage1_unit1_conv1[0][0]']     \n",
      " zation)                        64)                                                               \n",
      "                                                                                                  \n",
      " stage1_unit1_relu2 (Activation  (None, None, None,   0          ['stage1_unit1_bn2[0][0]']       \n",
      " )                              64)                                                               \n",
      "                                                                                                  \n",
      " zero_padding2d_173 (ZeroPaddin  (None, None, None,   0          ['stage1_unit1_relu2[0][0]']     \n",
      " g2D)                           64)                                                               \n",
      "                                                                                                  \n",
      " stage1_unit1_conv2 (Conv2D)    (None, None, None,   36864       ['zero_padding2d_173[0][0]']     \n",
      "                                64)                                                               \n",
      "                                                                                                  \n",
      " stage1_unit1_sc (Conv2D)       (None, None, None,   4096        ['stage1_unit1_relu1[0][0]']     \n",
      "                                64)                                                               \n",
      "                                                                                                  \n",
      " add_80 (Add)                   (None, None, None,   0           ['stage1_unit1_conv2[0][0]',     \n",
      "                                64)                               'stage1_unit1_sc[0][0]']        \n",
      "                                                                                                  \n",
      " stage1_unit2_bn1 (BatchNormali  (None, None, None,   256        ['add_80[0][0]']                 \n",
      " zation)                        64)                                                               \n",
      "                                                                                                  \n",
      " stage1_unit2_relu1 (Activation  (None, None, None,   0          ['stage1_unit2_bn1[0][0]']       \n",
      " )                              64)                                                               \n",
      "                                                                                                  \n",
      " zero_padding2d_174 (ZeroPaddin  (None, None, None,   0          ['stage1_unit2_relu1[0][0]']     \n",
      " g2D)                           64)                                                               \n",
      "                                                                                                  \n",
      " stage1_unit2_conv1 (Conv2D)    (None, None, None,   36864       ['zero_padding2d_174[0][0]']     \n",
      "                                64)                                                               \n",
      "                                                                                                  \n",
      " stage1_unit2_bn2 (BatchNormali  (None, None, None,   256        ['stage1_unit2_conv1[0][0]']     \n",
      " zation)                        64)                                                               \n",
      "                                                                                                  \n",
      " stage1_unit2_relu2 (Activation  (None, None, None,   0          ['stage1_unit2_bn2[0][0]']       \n",
      " )                              64)                                                               \n",
      "                                                                                                  \n",
      " zero_padding2d_175 (ZeroPaddin  (None, None, None,   0          ['stage1_unit2_relu2[0][0]']     \n",
      " g2D)                           64)                                                               \n",
      "                                                                                                  \n",
      " stage1_unit2_conv2 (Conv2D)    (None, None, None,   36864       ['zero_padding2d_175[0][0]']     \n",
      "                                64)                                                               \n",
      "                                                                                                  \n",
      " add_81 (Add)                   (None, None, None,   0           ['stage1_unit2_conv2[0][0]',     \n",
      "                                64)                               'add_80[0][0]']                 \n",
      "                                                                                                  \n",
      " stage1_unit3_bn1 (BatchNormali  (None, None, None,   256        ['add_81[0][0]']                 \n",
      " zation)                        64)                                                               \n",
      "                                                                                                  \n",
      " stage1_unit3_relu1 (Activation  (None, None, None,   0          ['stage1_unit3_bn1[0][0]']       \n",
      " )                              64)                                                               \n",
      "                                                                                                  \n",
      " zero_padding2d_176 (ZeroPaddin  (None, None, None,   0          ['stage1_unit3_relu1[0][0]']     \n",
      " g2D)                           64)                                                               \n",
      "                                                                                                  \n",
      " stage1_unit3_conv1 (Conv2D)    (None, None, None,   36864       ['zero_padding2d_176[0][0]']     \n",
      "                                64)                                                               \n",
      "                                                                                                  \n",
      " stage1_unit3_bn2 (BatchNormali  (None, None, None,   256        ['stage1_unit3_conv1[0][0]']     \n",
      " zation)                        64)                                                               \n",
      "                                                                                                  \n",
      " stage1_unit3_relu2 (Activation  (None, None, None,   0          ['stage1_unit3_bn2[0][0]']       \n",
      " )                              64)                                                               \n",
      "                                                                                                  \n",
      " zero_padding2d_177 (ZeroPaddin  (None, None, None,   0          ['stage1_unit3_relu2[0][0]']     \n",
      " g2D)                           64)                                                               \n",
      "                                                                                                  \n",
      " stage1_unit3_conv2 (Conv2D)    (None, None, None,   36864       ['zero_padding2d_177[0][0]']     \n",
      "                                64)                                                               \n",
      "                                                                                                  \n",
      " add_82 (Add)                   (None, None, None,   0           ['stage1_unit3_conv2[0][0]',     \n",
      "                                64)                               'add_81[0][0]']                 \n",
      "                                                                                                  \n",
      " stage2_unit1_bn1 (BatchNormali  (None, None, None,   256        ['add_82[0][0]']                 \n",
      " zation)                        64)                                                               \n",
      "                                                                                                  \n",
      " stage2_unit1_relu1 (Activation  (None, None, None,   0          ['stage2_unit1_bn1[0][0]']       \n",
      " )                              64)                                                               \n",
      "                                                                                                  \n",
      " zero_padding2d_178 (ZeroPaddin  (None, None, None,   0          ['stage2_unit1_relu1[0][0]']     \n",
      " g2D)                           64)                                                               \n",
      "                                                                                                  \n",
      " stage2_unit1_conv1 (Conv2D)    (None, None, None,   73728       ['zero_padding2d_178[0][0]']     \n",
      "                                128)                                                              \n",
      "                                                                                                  \n",
      " stage2_unit1_bn2 (BatchNormali  (None, None, None,   512        ['stage2_unit1_conv1[0][0]']     \n",
      " zation)                        128)                                                              \n",
      "                                                                                                  \n",
      " stage2_unit1_relu2 (Activation  (None, None, None,   0          ['stage2_unit1_bn2[0][0]']       \n",
      " )                              128)                                                              \n",
      "                                                                                                  \n",
      " zero_padding2d_179 (ZeroPaddin  (None, None, None,   0          ['stage2_unit1_relu2[0][0]']     \n",
      " g2D)                           128)                                                              \n",
      "                                                                                                  \n",
      " stage2_unit1_conv2 (Conv2D)    (None, None, None,   147456      ['zero_padding2d_179[0][0]']     \n",
      "                                128)                                                              \n",
      "                                                                                                  \n",
      " stage2_unit1_sc (Conv2D)       (None, None, None,   8192        ['stage2_unit1_relu1[0][0]']     \n",
      "                                128)                                                              \n",
      "                                                                                                  \n",
      " add_83 (Add)                   (None, None, None,   0           ['stage2_unit1_conv2[0][0]',     \n",
      "                                128)                              'stage2_unit1_sc[0][0]']        \n",
      "                                                                                                  \n",
      " stage2_unit2_bn1 (BatchNormali  (None, None, None,   512        ['add_83[0][0]']                 \n",
      " zation)                        128)                                                              \n",
      "                                                                                                  \n",
      " stage2_unit2_relu1 (Activation  (None, None, None,   0          ['stage2_unit2_bn1[0][0]']       \n",
      " )                              128)                                                              \n",
      "                                                                                                  \n",
      " zero_padding2d_180 (ZeroPaddin  (None, None, None,   0          ['stage2_unit2_relu1[0][0]']     \n",
      " g2D)                           128)                                                              \n",
      "                                                                                                  \n",
      " stage2_unit2_conv1 (Conv2D)    (None, None, None,   147456      ['zero_padding2d_180[0][0]']     \n",
      "                                128)                                                              \n",
      "                                                                                                  \n",
      " stage2_unit2_bn2 (BatchNormali  (None, None, None,   512        ['stage2_unit2_conv1[0][0]']     \n",
      " zation)                        128)                                                              \n",
      "                                                                                                  \n",
      " stage2_unit2_relu2 (Activation  (None, None, None,   0          ['stage2_unit2_bn2[0][0]']       \n",
      " )                              128)                                                              \n",
      "                                                                                                  \n",
      " zero_padding2d_181 (ZeroPaddin  (None, None, None,   0          ['stage2_unit2_relu2[0][0]']     \n",
      " g2D)                           128)                                                              \n",
      "                                                                                                  \n",
      " stage2_unit2_conv2 (Conv2D)    (None, None, None,   147456      ['zero_padding2d_181[0][0]']     \n",
      "                                128)                                                              \n",
      "                                                                                                  \n",
      " add_84 (Add)                   (None, None, None,   0           ['stage2_unit2_conv2[0][0]',     \n",
      "                                128)                              'add_83[0][0]']                 \n",
      "                                                                                                  \n",
      " stage2_unit3_bn1 (BatchNormali  (None, None, None,   512        ['add_84[0][0]']                 \n",
      " zation)                        128)                                                              \n",
      "                                                                                                  \n",
      " stage2_unit3_relu1 (Activation  (None, None, None,   0          ['stage2_unit3_bn1[0][0]']       \n",
      " )                              128)                                                              \n",
      "                                                                                                  \n",
      " zero_padding2d_182 (ZeroPaddin  (None, None, None,   0          ['stage2_unit3_relu1[0][0]']     \n",
      " g2D)                           128)                                                              \n",
      "                                                                                                  \n",
      " stage2_unit3_conv1 (Conv2D)    (None, None, None,   147456      ['zero_padding2d_182[0][0]']     \n",
      "                                128)                                                              \n",
      "                                                                                                  \n",
      " stage2_unit3_bn2 (BatchNormali  (None, None, None,   512        ['stage2_unit3_conv1[0][0]']     \n",
      " zation)                        128)                                                              \n",
      "                                                                                                  \n",
      " stage2_unit3_relu2 (Activation  (None, None, None,   0          ['stage2_unit3_bn2[0][0]']       \n",
      " )                              128)                                                              \n",
      "                                                                                                  \n",
      " zero_padding2d_183 (ZeroPaddin  (None, None, None,   0          ['stage2_unit3_relu2[0][0]']     \n",
      " g2D)                           128)                                                              \n",
      "                                                                                                  \n",
      " stage2_unit3_conv2 (Conv2D)    (None, None, None,   147456      ['zero_padding2d_183[0][0]']     \n",
      "                                128)                                                              \n",
      "                                                                                                  \n",
      " add_85 (Add)                   (None, None, None,   0           ['stage2_unit3_conv2[0][0]',     \n",
      "                                128)                              'add_84[0][0]']                 \n",
      "                                                                                                  \n",
      " stage2_unit4_bn1 (BatchNormali  (None, None, None,   512        ['add_85[0][0]']                 \n",
      " zation)                        128)                                                              \n",
      "                                                                                                  \n",
      " stage2_unit4_relu1 (Activation  (None, None, None,   0          ['stage2_unit4_bn1[0][0]']       \n",
      " )                              128)                                                              \n",
      "                                                                                                  \n",
      " zero_padding2d_184 (ZeroPaddin  (None, None, None,   0          ['stage2_unit4_relu1[0][0]']     \n",
      " g2D)                           128)                                                              \n",
      "                                                                                                  \n",
      " stage2_unit4_conv1 (Conv2D)    (None, None, None,   147456      ['zero_padding2d_184[0][0]']     \n",
      "                                128)                                                              \n",
      "                                                                                                  \n",
      " stage2_unit4_bn2 (BatchNormali  (None, None, None,   512        ['stage2_unit4_conv1[0][0]']     \n",
      " zation)                        128)                                                              \n",
      "                                                                                                  \n",
      " stage2_unit4_relu2 (Activation  (None, None, None,   0          ['stage2_unit4_bn2[0][0]']       \n",
      " )                              128)                                                              \n",
      "                                                                                                  \n",
      " zero_padding2d_185 (ZeroPaddin  (None, None, None,   0          ['stage2_unit4_relu2[0][0]']     \n",
      " g2D)                           128)                                                              \n",
      "                                                                                                  \n",
      " stage2_unit4_conv2 (Conv2D)    (None, None, None,   147456      ['zero_padding2d_185[0][0]']     \n",
      "                                128)                                                              \n",
      "                                                                                                  \n",
      " add_86 (Add)                   (None, None, None,   0           ['stage2_unit4_conv2[0][0]',     \n",
      "                                128)                              'add_85[0][0]']                 \n",
      "                                                                                                  \n",
      " stage3_unit1_bn1 (BatchNormali  (None, None, None,   512        ['add_86[0][0]']                 \n",
      " zation)                        128)                                                              \n",
      "                                                                                                  \n",
      " stage3_unit1_relu1 (Activation  (None, None, None,   0          ['stage3_unit1_bn1[0][0]']       \n",
      " )                              128)                                                              \n",
      "                                                                                                  \n",
      " zero_padding2d_186 (ZeroPaddin  (None, None, None,   0          ['stage3_unit1_relu1[0][0]']     \n",
      " g2D)                           128)                                                              \n",
      "                                                                                                  \n",
      " stage3_unit1_conv1 (Conv2D)    (None, None, None,   294912      ['zero_padding2d_186[0][0]']     \n",
      "                                256)                                                              \n",
      "                                                                                                  \n",
      " stage3_unit1_bn2 (BatchNormali  (None, None, None,   1024       ['stage3_unit1_conv1[0][0]']     \n",
      " zation)                        256)                                                              \n",
      "                                                                                                  \n",
      " stage3_unit1_relu2 (Activation  (None, None, None,   0          ['stage3_unit1_bn2[0][0]']       \n",
      " )                              256)                                                              \n",
      "                                                                                                  \n",
      " zero_padding2d_187 (ZeroPaddin  (None, None, None,   0          ['stage3_unit1_relu2[0][0]']     \n",
      " g2D)                           256)                                                              \n",
      "                                                                                                  \n",
      " stage3_unit1_conv2 (Conv2D)    (None, None, None,   589824      ['zero_padding2d_187[0][0]']     \n",
      "                                256)                                                              \n",
      "                                                                                                  \n",
      " stage3_unit1_sc (Conv2D)       (None, None, None,   32768       ['stage3_unit1_relu1[0][0]']     \n",
      "                                256)                                                              \n",
      "                                                                                                  \n",
      " add_87 (Add)                   (None, None, None,   0           ['stage3_unit1_conv2[0][0]',     \n",
      "                                256)                              'stage3_unit1_sc[0][0]']        \n",
      "                                                                                                  \n",
      " stage3_unit2_bn1 (BatchNormali  (None, None, None,   1024       ['add_87[0][0]']                 \n",
      " zation)                        256)                                                              \n",
      "                                                                                                  \n",
      " stage3_unit2_relu1 (Activation  (None, None, None,   0          ['stage3_unit2_bn1[0][0]']       \n",
      " )                              256)                                                              \n",
      "                                                                                                  \n",
      " zero_padding2d_188 (ZeroPaddin  (None, None, None,   0          ['stage3_unit2_relu1[0][0]']     \n",
      " g2D)                           256)                                                              \n",
      "                                                                                                  \n",
      " stage3_unit2_conv1 (Conv2D)    (None, None, None,   589824      ['zero_padding2d_188[0][0]']     \n",
      "                                256)                                                              \n",
      "                                                                                                  \n",
      " stage3_unit2_bn2 (BatchNormali  (None, None, None,   1024       ['stage3_unit2_conv1[0][0]']     \n",
      " zation)                        256)                                                              \n",
      "                                                                                                  \n",
      " stage3_unit2_relu2 (Activation  (None, None, None,   0          ['stage3_unit2_bn2[0][0]']       \n",
      " )                              256)                                                              \n",
      "                                                                                                  \n",
      " zero_padding2d_189 (ZeroPaddin  (None, None, None,   0          ['stage3_unit2_relu2[0][0]']     \n",
      " g2D)                           256)                                                              \n",
      "                                                                                                  \n",
      " stage3_unit2_conv2 (Conv2D)    (None, None, None,   589824      ['zero_padding2d_189[0][0]']     \n",
      "                                256)                                                              \n",
      "                                                                                                  \n",
      " add_88 (Add)                   (None, None, None,   0           ['stage3_unit2_conv2[0][0]',     \n",
      "                                256)                              'add_87[0][0]']                 \n",
      "                                                                                                  \n",
      " stage3_unit3_bn1 (BatchNormali  (None, None, None,   1024       ['add_88[0][0]']                 \n",
      " zation)                        256)                                                              \n",
      "                                                                                                  \n",
      " stage3_unit3_relu1 (Activation  (None, None, None,   0          ['stage3_unit3_bn1[0][0]']       \n",
      " )                              256)                                                              \n",
      "                                                                                                  \n",
      " zero_padding2d_190 (ZeroPaddin  (None, None, None,   0          ['stage3_unit3_relu1[0][0]']     \n",
      " g2D)                           256)                                                              \n",
      "                                                                                                  \n",
      " stage3_unit3_conv1 (Conv2D)    (None, None, None,   589824      ['zero_padding2d_190[0][0]']     \n",
      "                                256)                                                              \n",
      "                                                                                                  \n",
      " stage3_unit3_bn2 (BatchNormali  (None, None, None,   1024       ['stage3_unit3_conv1[0][0]']     \n",
      " zation)                        256)                                                              \n",
      "                                                                                                  \n",
      " stage3_unit3_relu2 (Activation  (None, None, None,   0          ['stage3_unit3_bn2[0][0]']       \n",
      " )                              256)                                                              \n",
      "                                                                                                  \n",
      " zero_padding2d_191 (ZeroPaddin  (None, None, None,   0          ['stage3_unit3_relu2[0][0]']     \n",
      " g2D)                           256)                                                              \n",
      "                                                                                                  \n",
      " stage3_unit3_conv2 (Conv2D)    (None, None, None,   589824      ['zero_padding2d_191[0][0]']     \n",
      "                                256)                                                              \n",
      "                                                                                                  \n",
      " add_89 (Add)                   (None, None, None,   0           ['stage3_unit3_conv2[0][0]',     \n",
      "                                256)                              'add_88[0][0]']                 \n",
      "                                                                                                  \n",
      " stage3_unit4_bn1 (BatchNormali  (None, None, None,   1024       ['add_89[0][0]']                 \n",
      " zation)                        256)                                                              \n",
      "                                                                                                  \n",
      " stage3_unit4_relu1 (Activation  (None, None, None,   0          ['stage3_unit4_bn1[0][0]']       \n",
      " )                              256)                                                              \n",
      "                                                                                                  \n",
      " zero_padding2d_192 (ZeroPaddin  (None, None, None,   0          ['stage3_unit4_relu1[0][0]']     \n",
      " g2D)                           256)                                                              \n",
      "                                                                                                  \n",
      " stage3_unit4_conv1 (Conv2D)    (None, None, None,   589824      ['zero_padding2d_192[0][0]']     \n",
      "                                256)                                                              \n",
      "                                                                                                  \n",
      " stage3_unit4_bn2 (BatchNormali  (None, None, None,   1024       ['stage3_unit4_conv1[0][0]']     \n",
      " zation)                        256)                                                              \n",
      "                                                                                                  \n",
      " stage3_unit4_relu2 (Activation  (None, None, None,   0          ['stage3_unit4_bn2[0][0]']       \n",
      " )                              256)                                                              \n",
      "                                                                                                  \n",
      " zero_padding2d_193 (ZeroPaddin  (None, None, None,   0          ['stage3_unit4_relu2[0][0]']     \n",
      " g2D)                           256)                                                              \n",
      "                                                                                                  \n",
      " stage3_unit4_conv2 (Conv2D)    (None, None, None,   589824      ['zero_padding2d_193[0][0]']     \n",
      "                                256)                                                              \n",
      "                                                                                                  \n",
      " add_90 (Add)                   (None, None, None,   0           ['stage3_unit4_conv2[0][0]',     \n",
      "                                256)                              'add_89[0][0]']                 \n",
      "                                                                                                  \n",
      " stage3_unit5_bn1 (BatchNormali  (None, None, None,   1024       ['add_90[0][0]']                 \n",
      " zation)                        256)                                                              \n",
      "                                                                                                  \n",
      " stage3_unit5_relu1 (Activation  (None, None, None,   0          ['stage3_unit5_bn1[0][0]']       \n",
      " )                              256)                                                              \n",
      "                                                                                                  \n",
      " zero_padding2d_194 (ZeroPaddin  (None, None, None,   0          ['stage3_unit5_relu1[0][0]']     \n",
      " g2D)                           256)                                                              \n",
      "                                                                                                  \n",
      " stage3_unit5_conv1 (Conv2D)    (None, None, None,   589824      ['zero_padding2d_194[0][0]']     \n",
      "                                256)                                                              \n",
      "                                                                                                  \n",
      " stage3_unit5_bn2 (BatchNormali  (None, None, None,   1024       ['stage3_unit5_conv1[0][0]']     \n",
      " zation)                        256)                                                              \n",
      "                                                                                                  \n",
      " stage3_unit5_relu2 (Activation  (None, None, None,   0          ['stage3_unit5_bn2[0][0]']       \n",
      " )                              256)                                                              \n",
      "                                                                                                  \n",
      " zero_padding2d_195 (ZeroPaddin  (None, None, None,   0          ['stage3_unit5_relu2[0][0]']     \n",
      " g2D)                           256)                                                              \n",
      "                                                                                                  \n",
      " stage3_unit5_conv2 (Conv2D)    (None, None, None,   589824      ['zero_padding2d_195[0][0]']     \n",
      "                                256)                                                              \n",
      "                                                                                                  \n",
      " add_91 (Add)                   (None, None, None,   0           ['stage3_unit5_conv2[0][0]',     \n",
      "                                256)                              'add_90[0][0]']                 \n",
      "                                                                                                  \n",
      " stage3_unit6_bn1 (BatchNormali  (None, None, None,   1024       ['add_91[0][0]']                 \n",
      " zation)                        256)                                                              \n",
      "                                                                                                  \n",
      " stage3_unit6_relu1 (Activation  (None, None, None,   0          ['stage3_unit6_bn1[0][0]']       \n",
      " )                              256)                                                              \n",
      "                                                                                                  \n",
      " zero_padding2d_196 (ZeroPaddin  (None, None, None,   0          ['stage3_unit6_relu1[0][0]']     \n",
      " g2D)                           256)                                                              \n",
      "                                                                                                  \n",
      " stage3_unit6_conv1 (Conv2D)    (None, None, None,   589824      ['zero_padding2d_196[0][0]']     \n",
      "                                256)                                                              \n",
      "                                                                                                  \n",
      " stage3_unit6_bn2 (BatchNormali  (None, None, None,   1024       ['stage3_unit6_conv1[0][0]']     \n",
      " zation)                        256)                                                              \n",
      "                                                                                                  \n",
      " stage3_unit6_relu2 (Activation  (None, None, None,   0          ['stage3_unit6_bn2[0][0]']       \n",
      " )                              256)                                                              \n",
      "                                                                                                  \n",
      " zero_padding2d_197 (ZeroPaddin  (None, None, None,   0          ['stage3_unit6_relu2[0][0]']     \n",
      " g2D)                           256)                                                              \n",
      "                                                                                                  \n",
      " stage3_unit6_conv2 (Conv2D)    (None, None, None,   589824      ['zero_padding2d_197[0][0]']     \n",
      "                                256)                                                              \n",
      "                                                                                                  \n",
      " add_92 (Add)                   (None, None, None,   0           ['stage3_unit6_conv2[0][0]',     \n",
      "                                256)                              'add_91[0][0]']                 \n",
      "                                                                                                  \n",
      " stage4_unit1_bn1 (BatchNormali  (None, None, None,   1024       ['add_92[0][0]']                 \n",
      " zation)                        256)                                                              \n",
      "                                                                                                  \n",
      " stage4_unit1_relu1 (Activation  (None, None, None,   0          ['stage4_unit1_bn1[0][0]']       \n",
      " )                              256)                                                              \n",
      "                                                                                                  \n",
      " zero_padding2d_198 (ZeroPaddin  (None, None, None,   0          ['stage4_unit1_relu1[0][0]']     \n",
      " g2D)                           256)                                                              \n",
      "                                                                                                  \n",
      " stage4_unit1_conv1 (Conv2D)    (None, None, None,   1179648     ['zero_padding2d_198[0][0]']     \n",
      "                                512)                                                              \n",
      "                                                                                                  \n",
      " stage4_unit1_bn2 (BatchNormali  (None, None, None,   2048       ['stage4_unit1_conv1[0][0]']     \n",
      " zation)                        512)                                                              \n",
      "                                                                                                  \n",
      " stage4_unit1_relu2 (Activation  (None, None, None,   0          ['stage4_unit1_bn2[0][0]']       \n",
      " )                              512)                                                              \n",
      "                                                                                                  \n",
      " zero_padding2d_199 (ZeroPaddin  (None, None, None,   0          ['stage4_unit1_relu2[0][0]']     \n",
      " g2D)                           512)                                                              \n",
      "                                                                                                  \n",
      " stage4_unit1_conv2 (Conv2D)    (None, None, None,   2359296     ['zero_padding2d_199[0][0]']     \n",
      "                                512)                                                              \n",
      "                                                                                                  \n",
      " stage4_unit1_sc (Conv2D)       (None, None, None,   131072      ['stage4_unit1_relu1[0][0]']     \n",
      "                                512)                                                              \n",
      "                                                                                                  \n",
      " add_93 (Add)                   (None, None, None,   0           ['stage4_unit1_conv2[0][0]',     \n",
      "                                512)                              'stage4_unit1_sc[0][0]']        \n",
      "                                                                                                  \n",
      " stage4_unit2_bn1 (BatchNormali  (None, None, None,   2048       ['add_93[0][0]']                 \n",
      " zation)                        512)                                                              \n",
      "                                                                                                  \n",
      " stage4_unit2_relu1 (Activation  (None, None, None,   0          ['stage4_unit2_bn1[0][0]']       \n",
      " )                              512)                                                              \n",
      "                                                                                                  \n",
      " zero_padding2d_200 (ZeroPaddin  (None, None, None,   0          ['stage4_unit2_relu1[0][0]']     \n",
      " g2D)                           512)                                                              \n",
      "                                                                                                  \n",
      " stage4_unit2_conv1 (Conv2D)    (None, None, None,   2359296     ['zero_padding2d_200[0][0]']     \n",
      "                                512)                                                              \n",
      "                                                                                                  \n",
      " stage4_unit2_bn2 (BatchNormali  (None, None, None,   2048       ['stage4_unit2_conv1[0][0]']     \n",
      " zation)                        512)                                                              \n",
      "                                                                                                  \n",
      " stage4_unit2_relu2 (Activation  (None, None, None,   0          ['stage4_unit2_bn2[0][0]']       \n",
      " )                              512)                                                              \n",
      "                                                                                                  \n",
      " zero_padding2d_201 (ZeroPaddin  (None, None, None,   0          ['stage4_unit2_relu2[0][0]']     \n",
      " g2D)                           512)                                                              \n",
      "                                                                                                  \n",
      " stage4_unit2_conv2 (Conv2D)    (None, None, None,   2359296     ['zero_padding2d_201[0][0]']     \n",
      "                                512)                                                              \n",
      "                                                                                                  \n",
      " add_94 (Add)                   (None, None, None,   0           ['stage4_unit2_conv2[0][0]',     \n",
      "                                512)                              'add_93[0][0]']                 \n",
      "                                                                                                  \n",
      " stage4_unit3_bn1 (BatchNormali  (None, None, None,   2048       ['add_94[0][0]']                 \n",
      " zation)                        512)                                                              \n",
      "                                                                                                  \n",
      " stage4_unit3_relu1 (Activation  (None, None, None,   0          ['stage4_unit3_bn1[0][0]']       \n",
      " )                              512)                                                              \n",
      "                                                                                                  \n",
      " zero_padding2d_202 (ZeroPaddin  (None, None, None,   0          ['stage4_unit3_relu1[0][0]']     \n",
      " g2D)                           512)                                                              \n",
      "                                                                                                  \n",
      " stage4_unit3_conv1 (Conv2D)    (None, None, None,   2359296     ['zero_padding2d_202[0][0]']     \n",
      "                                512)                                                              \n",
      "                                                                                                  \n",
      " stage4_unit3_bn2 (BatchNormali  (None, None, None,   2048       ['stage4_unit3_conv1[0][0]']     \n",
      " zation)                        512)                                                              \n",
      "                                                                                                  \n",
      " stage4_unit3_relu2 (Activation  (None, None, None,   0          ['stage4_unit3_bn2[0][0]']       \n",
      " )                              512)                                                              \n",
      "                                                                                                  \n",
      " zero_padding2d_203 (ZeroPaddin  (None, None, None,   0          ['stage4_unit3_relu2[0][0]']     \n",
      " g2D)                           512)                                                              \n",
      "                                                                                                  \n",
      " stage4_unit3_conv2 (Conv2D)    (None, None, None,   2359296     ['zero_padding2d_203[0][0]']     \n",
      "                                512)                                                              \n",
      "                                                                                                  \n",
      " add_95 (Add)                   (None, None, None,   0           ['stage4_unit3_conv2[0][0]',     \n",
      "                                512)                              'add_94[0][0]']                 \n",
      "                                                                                                  \n",
      " bn1 (BatchNormalization)       (None, None, None,   2048        ['add_95[0][0]']                 \n",
      "                                512)                                                              \n",
      "                                                                                                  \n",
      " relu1 (Activation)             (None, None, None,   0           ['bn1[0][0]']                    \n",
      "                                512)                                                              \n",
      "                                                                                                  \n",
      " decoder_stage0_upsampling (UpS  (None, None, None,   0          ['relu1[0][0]']                  \n",
      " ampling2D)                     512)                                                              \n",
      "                                                                                                  \n",
      " decoder_stage0_concat (Concate  (None, None, None,   0          ['decoder_stage0_upsampling[0][0]\n",
      " nate)                          768)                             ',                               \n",
      "                                                                  'stage4_unit1_relu1[0][0]']     \n",
      "                                                                                                  \n",
      " decoder_stage0a_conv (Conv2D)  (None, None, None,   1769472     ['decoder_stage0_concat[0][0]']  \n",
      "                                256)                                                              \n",
      "                                                                                                  \n",
      " decoder_stage0a_bn (BatchNorma  (None, None, None,   1024       ['decoder_stage0a_conv[0][0]']   \n",
      " lization)                      256)                                                              \n",
      "                                                                                                  \n",
      " decoder_stage0a_relu (Activati  (None, None, None,   0          ['decoder_stage0a_bn[0][0]']     \n",
      " on)                            256)                                                              \n",
      "                                                                                                  \n",
      " decoder_stage0b_conv (Conv2D)  (None, None, None,   589824      ['decoder_stage0a_relu[0][0]']   \n",
      "                                256)                                                              \n",
      "                                                                                                  \n",
      " decoder_stage0b_bn (BatchNorma  (None, None, None,   1024       ['decoder_stage0b_conv[0][0]']   \n",
      " lization)                      256)                                                              \n",
      "                                                                                                  \n",
      " decoder_stage0b_relu (Activati  (None, None, None,   0          ['decoder_stage0b_bn[0][0]']     \n",
      " on)                            256)                                                              \n",
      "                                                                                                  \n",
      " decoder_stage1_upsampling (UpS  (None, None, None,   0          ['decoder_stage0b_relu[0][0]']   \n",
      " ampling2D)                     256)                                                              \n",
      "                                                                                                  \n",
      " decoder_stage1_concat (Concate  (None, None, None,   0          ['decoder_stage1_upsampling[0][0]\n",
      " nate)                          384)                             ',                               \n",
      "                                                                  'stage3_unit1_relu1[0][0]']     \n",
      "                                                                                                  \n",
      " decoder_stage1a_conv (Conv2D)  (None, None, None,   442368      ['decoder_stage1_concat[0][0]']  \n",
      "                                128)                                                              \n",
      "                                                                                                  \n",
      " decoder_stage1a_bn (BatchNorma  (None, None, None,   512        ['decoder_stage1a_conv[0][0]']   \n",
      " lization)                      128)                                                              \n",
      "                                                                                                  \n",
      " decoder_stage1a_relu (Activati  (None, None, None,   0          ['decoder_stage1a_bn[0][0]']     \n",
      " on)                            128)                                                              \n",
      "                                                                                                  \n",
      " decoder_stage1b_conv (Conv2D)  (None, None, None,   147456      ['decoder_stage1a_relu[0][0]']   \n",
      "                                128)                                                              \n",
      "                                                                                                  \n",
      " decoder_stage1b_bn (BatchNorma  (None, None, None,   512        ['decoder_stage1b_conv[0][0]']   \n",
      " lization)                      128)                                                              \n",
      "                                                                                                  \n",
      " decoder_stage1b_relu (Activati  (None, None, None,   0          ['decoder_stage1b_bn[0][0]']     \n",
      " on)                            128)                                                              \n",
      "                                                                                                  \n",
      " decoder_stage2_upsampling (UpS  (None, None, None,   0          ['decoder_stage1b_relu[0][0]']   \n",
      " ampling2D)                     128)                                                              \n",
      "                                                                                                  \n",
      " decoder_stage2_concat (Concate  (None, None, None,   0          ['decoder_stage2_upsampling[0][0]\n",
      " nate)                          192)                             ',                               \n",
      "                                                                  'stage2_unit1_relu1[0][0]']     \n",
      "                                                                                                  \n",
      " decoder_stage2a_conv (Conv2D)  (None, None, None,   110592      ['decoder_stage2_concat[0][0]']  \n",
      "                                64)                                                               \n",
      "                                                                                                  \n",
      " decoder_stage2a_bn (BatchNorma  (None, None, None,   256        ['decoder_stage2a_conv[0][0]']   \n",
      " lization)                      64)                                                               \n",
      "                                                                                                  \n",
      " decoder_stage2a_relu (Activati  (None, None, None,   0          ['decoder_stage2a_bn[0][0]']     \n",
      " on)                            64)                                                               \n",
      "                                                                                                  \n",
      " decoder_stage2b_conv (Conv2D)  (None, None, None,   36864       ['decoder_stage2a_relu[0][0]']   \n",
      "                                64)                                                               \n",
      "                                                                                                  \n",
      " decoder_stage2b_bn (BatchNorma  (None, None, None,   256        ['decoder_stage2b_conv[0][0]']   \n",
      " lization)                      64)                                                               \n",
      "                                                                                                  \n",
      " decoder_stage2b_relu (Activati  (None, None, None,   0          ['decoder_stage2b_bn[0][0]']     \n",
      " on)                            64)                                                               \n",
      "                                                                                                  \n",
      " decoder_stage3_upsampling (UpS  (None, None, None,   0          ['decoder_stage2b_relu[0][0]']   \n",
      " ampling2D)                     64)                                                               \n",
      "                                                                                                  \n",
      " decoder_stage3_concat (Concate  (None, None, None,   0          ['decoder_stage3_upsampling[0][0]\n",
      " nate)                          128)                             ',                               \n",
      "                                                                  'relu0[0][0]']                  \n",
      "                                                                                                  \n",
      " decoder_stage3a_conv (Conv2D)  (None, None, None,   36864       ['decoder_stage3_concat[0][0]']  \n",
      "                                32)                                                               \n",
      "                                                                                                  \n",
      " decoder_stage3a_bn (BatchNorma  (None, None, None,   128        ['decoder_stage3a_conv[0][0]']   \n",
      " lization)                      32)                                                               \n",
      "                                                                                                  \n",
      " decoder_stage3a_relu (Activati  (None, None, None,   0          ['decoder_stage3a_bn[0][0]']     \n",
      " on)                            32)                                                               \n",
      "                                                                                                  \n",
      " decoder_stage3b_conv (Conv2D)  (None, None, None,   9216        ['decoder_stage3a_relu[0][0]']   \n",
      "                                32)                                                               \n",
      "                                                                                                  \n",
      " decoder_stage3b_bn (BatchNorma  (None, None, None,   128        ['decoder_stage3b_conv[0][0]']   \n",
      " lization)                      32)                                                               \n",
      "                                                                                                  \n",
      " decoder_stage3b_relu (Activati  (None, None, None,   0          ['decoder_stage3b_bn[0][0]']     \n",
      " on)                            32)                                                               \n",
      "                                                                                                  \n",
      " decoder_stage4_upsampling (UpS  (None, None, None,   0          ['decoder_stage3b_relu[0][0]']   \n",
      " ampling2D)                     32)                                                               \n",
      "                                                                                                  \n",
      " decoder_stage4a_conv (Conv2D)  (None, None, None,   4608        ['decoder_stage4_upsampling[0][0]\n",
      "                                16)                              ']                               \n",
      "                                                                                                  \n",
      " decoder_stage4a_bn (BatchNorma  (None, None, None,   64         ['decoder_stage4a_conv[0][0]']   \n",
      " lization)                      16)                                                               \n",
      "                                                                                                  \n",
      " decoder_stage4a_relu (Activati  (None, None, None,   0          ['decoder_stage4a_bn[0][0]']     \n",
      " on)                            16)                                                               \n",
      "                                                                                                  \n",
      " decoder_stage4b_conv (Conv2D)  (None, None, None,   2304        ['decoder_stage4a_relu[0][0]']   \n",
      "                                16)                                                               \n",
      "                                                                                                  \n",
      " decoder_stage4b_bn (BatchNorma  (None, None, None,   64         ['decoder_stage4b_conv[0][0]']   \n",
      " lization)                      16)                                                               \n",
      "                                                                                                  \n",
      " decoder_stage4b_relu (Activati  (None, None, None,   0          ['decoder_stage4b_bn[0][0]']     \n",
      " on)                            16)                                                               \n",
      "                                                                                                  \n",
      " final_conv (Conv2D)            (None, None, None,   145         ['decoder_stage4b_relu[0][0]']   \n",
      "                                1)                                                                \n",
      "                                                                                                  \n",
      " sigmoid (Activation)           (None, None, None,   0           ['final_conv[0][0]']             \n",
      "                                1)                                                                \n",
      "                                                                                                  \n",
      "==================================================================================================\n",
      "Total params: 24,456,154\n",
      "Trainable params: 24,438,804\n",
      "Non-trainable params: 17,350\n",
      "__________________________________________________________________________________________________\n",
      "None\n"
     ]
    }
   ],
   "source": [
    "print(model.summary())"
   ]
  },
  {
   "cell_type": "code",
   "execution_count": 1273,
   "id": "ec3cdbaa",
   "metadata": {},
   "outputs": [
    {
     "name": "stdout",
     "output_type": "stream",
     "text": [
      "Epoch 1/6\n",
      "200/200 [==============================] - 50s 222ms/step - loss: 0.4726 - accuracy: 0.9429 - iou_score: 0.6273 - val_loss: 0.5216 - val_accuracy: 0.9361 - val_iou_score: 0.6065\n",
      "Epoch 2/6\n",
      "200/200 [==============================] - 21s 103ms/step - loss: 0.4223 - accuracy: 0.9456 - iou_score: 0.6701 - val_loss: 0.5806 - val_accuracy: 0.9383 - val_iou_score: 0.5581\n",
      "Epoch 3/6\n",
      "200/200 [==============================] - 22s 112ms/step - loss: 0.4028 - accuracy: 0.9464 - iou_score: 0.6836 - val_loss: 0.6708 - val_accuracy: 0.9357 - val_iou_score: 0.5138\n",
      "Epoch 4/6\n",
      "200/200 [==============================] - 24s 121ms/step - loss: 0.3741 - accuracy: 0.9477 - iou_score: 0.7068 - val_loss: 0.5007 - val_accuracy: 0.9379 - val_iou_score: 0.6171\n",
      "Epoch 5/6\n",
      "200/200 [==============================] - 25s 126ms/step - loss: 0.3319 - accuracy: 0.9497 - iou_score: 0.7404 - val_loss: 0.5025 - val_accuracy: 0.9407 - val_iou_score: 0.6253\n",
      "Epoch 6/6\n",
      "200/200 [==============================] - 26s 129ms/step - loss: 0.3412 - accuracy: 0.9492 - iou_score: 0.7322 - val_loss: 0.4197 - val_accuracy: 0.9434 - val_iou_score: 0.6941\n"
     ]
    }
   ],
   "source": [
    "history = model.fit(\n",
    "    x=X_train_polyp,\n",
    "    y=y_train_polyp,\n",
    "    batch_size=8,\n",
    "    epochs=6,\n",
    "    validation_data=(X_test_polyp, y_test_polyp),\n",
    "    verbose=1\n",
    ")"
   ]
  },
  {
   "cell_type": "code",
   "execution_count": 1286,
   "id": "ec88840a",
   "metadata": {},
   "outputs": [
    {
     "ename": "ValueError",
     "evalue": "Data cardinality is ambiguous:\n  x sizes: 100\n  y sizes: 4\nMake sure all arrays contain the same number of samples.",
     "output_type": "error",
     "traceback": [
      "\u001b[1;31m---------------------------------------------------------------------------\u001b[0m",
      "\u001b[1;31mValueError\u001b[0m                                Traceback (most recent call last)",
      "\u001b[1;32m~\\AppData\\Local\\Temp\\ipykernel_19824\\4258251573.py\u001b[0m in \u001b[0;36m<module>\u001b[1;34m\u001b[0m\n\u001b[1;32m----> 1\u001b[1;33m \u001b[0maccuracy\u001b[0m \u001b[1;33m=\u001b[0m \u001b[0mmodel\u001b[0m\u001b[1;33m.\u001b[0m\u001b[0mevaluate\u001b[0m\u001b[1;33m(\u001b[0m\u001b[0mX_test\u001b[0m\u001b[1;33m[\u001b[0m\u001b[1;33m:\u001b[0m\u001b[1;36m100\u001b[0m\u001b[1;33m]\u001b[0m\u001b[1;33m,\u001b[0m \u001b[0my_test\u001b[0m\u001b[1;33m[\u001b[0m\u001b[1;33m:\u001b[0m\u001b[1;36m100\u001b[0m\u001b[1;33m]\u001b[0m\u001b[1;33m)\u001b[0m\u001b[1;33m\u001b[0m\u001b[0m\n\u001b[0m",
      "\u001b[1;32m~\\miniconda3\\envs\\yolov4-gpu\\lib\\site-packages\\keras\\utils\\traceback_utils.py\u001b[0m in \u001b[0;36merror_handler\u001b[1;34m(*args, **kwargs)\u001b[0m\n\u001b[0;32m     65\u001b[0m     \u001b[1;32mexcept\u001b[0m \u001b[0mException\u001b[0m \u001b[1;32mas\u001b[0m \u001b[0me\u001b[0m\u001b[1;33m:\u001b[0m  \u001b[1;31m# pylint: disable=broad-except\u001b[0m\u001b[1;33m\u001b[0m\u001b[0m\n\u001b[0;32m     66\u001b[0m       \u001b[0mfiltered_tb\u001b[0m \u001b[1;33m=\u001b[0m \u001b[0m_process_traceback_frames\u001b[0m\u001b[1;33m(\u001b[0m\u001b[0me\u001b[0m\u001b[1;33m.\u001b[0m\u001b[0m__traceback__\u001b[0m\u001b[1;33m)\u001b[0m\u001b[1;33m\u001b[0m\u001b[0m\n\u001b[1;32m---> 67\u001b[1;33m       \u001b[1;32mraise\u001b[0m \u001b[0me\u001b[0m\u001b[1;33m.\u001b[0m\u001b[0mwith_traceback\u001b[0m\u001b[1;33m(\u001b[0m\u001b[0mfiltered_tb\u001b[0m\u001b[1;33m)\u001b[0m \u001b[1;32mfrom\u001b[0m \u001b[1;32mNone\u001b[0m\u001b[1;33m\u001b[0m\u001b[0m\n\u001b[0m\u001b[0;32m     68\u001b[0m     \u001b[1;32mfinally\u001b[0m\u001b[1;33m:\u001b[0m\u001b[1;33m\u001b[0m\u001b[0m\n\u001b[0;32m     69\u001b[0m       \u001b[1;32mdel\u001b[0m \u001b[0mfiltered_tb\u001b[0m\u001b[1;33m\u001b[0m\u001b[0m\n",
      "\u001b[1;32m~\\miniconda3\\envs\\yolov4-gpu\\lib\\site-packages\\keras\\engine\\data_adapter.py\u001b[0m in \u001b[0;36m_check_data_cardinality\u001b[1;34m(data)\u001b[0m\n\u001b[0;32m   1655\u001b[0m                            for i in tf.nest.flatten(single_data)))\n\u001b[0;32m   1656\u001b[0m     \u001b[0mmsg\u001b[0m \u001b[1;33m+=\u001b[0m \u001b[1;34m\"Make sure all arrays contain the same number of samples.\"\u001b[0m\u001b[1;33m\u001b[0m\u001b[0m\n\u001b[1;32m-> 1657\u001b[1;33m     \u001b[1;32mraise\u001b[0m \u001b[0mValueError\u001b[0m\u001b[1;33m(\u001b[0m\u001b[0mmsg\u001b[0m\u001b[1;33m)\u001b[0m\u001b[1;33m\u001b[0m\u001b[0m\n\u001b[0m\u001b[0;32m   1658\u001b[0m \u001b[1;33m\u001b[0m\u001b[0m\n\u001b[0;32m   1659\u001b[0m \u001b[1;33m\u001b[0m\u001b[0m\n",
      "\u001b[1;31mValueError\u001b[0m: Data cardinality is ambiguous:\n  x sizes: 100\n  y sizes: 4\nMake sure all arrays contain the same number of samples."
     ]
    }
   ],
   "source": [
    "accuracy = model.evaluate(X_test[:100], y_test[:100])"
   ]
  },
  {
   "cell_type": "code",
   "execution_count": null,
   "id": "07369cde",
   "metadata": {},
   "outputs": [],
   "source": [
    "# only trained on 20 polyp masked images so far\n",
    "model.save(\"polyp_unet_bin_seg.h5\")"
   ]
  },
  {
   "cell_type": "markdown",
   "id": "27473398",
   "metadata": {},
   "source": [
    "## Plot Train vs Valid Loss Curves After Training UNet"
   ]
  },
  {
   "cell_type": "code",
   "execution_count": null,
   "id": "3eda4a94",
   "metadata": {},
   "outputs": [],
   "source": [
    "plt.figure()\n",
    "plt.plot(history.history[\"loss\"])\n",
    "plt.plot(history.history[\"val_loss\"])\n",
    "plt.title(\"UNet CNN Train and Valid Loss\")\n",
    "plt.xlabel(\"Epochs\")\n",
    "plt.ylabel(\"Loss\")\n",
    "plt.legend([\"Train\", \"Valid\"], loc=\"upper right\")\n",
    "plt.show()"
   ]
  },
  {
   "cell_type": "markdown",
   "id": "51aade91",
   "metadata": {},
   "source": [
    "## UNet Predict Polyp Segmentation on Test Image"
   ]
  },
  {
   "cell_type": "code",
   "execution_count": null,
   "id": "2fcef0c6",
   "metadata": {},
   "outputs": [],
   "source": []
  },
  {
   "cell_type": "code",
   "execution_count": null,
   "id": "e0bd74c7",
   "metadata": {},
   "outputs": [],
   "source": [
    "# load model if already have unet trained model saved\n",
    "# model = load_model(\"polyp_unet_bin_seg.h5\")"
   ]
  },
  {
   "cell_type": "code",
   "execution_count": null,
   "id": "b9d51b42",
   "metadata": {},
   "outputs": [],
   "source": [
    "# use one of the test images\n",
    "test_img_1_rgb = cv2.cvtColor(test_X_images[0], cv2.COLOR_BGR2RGB)\n",
    "plt.figure()\n",
    "plt.imshow(test_img_1_rgb)\n",
    "plt.xlabel(classes[0])\n",
    "plt.title(\"Test Polyp Img Before UNet Segmentation\")\n",
    "# plt.show()"
   ]
  },
  {
   "cell_type": "code",
   "execution_count": null,
   "id": "124b2b5c",
   "metadata": {},
   "outputs": [],
   "source": [
    "test_img_1_rgb.shape"
   ]
  },
  {
   "cell_type": "code",
   "execution_count": null,
   "id": "3252662d",
   "metadata": {},
   "outputs": [],
   "source": [
    "# expand test img1 dimension adding 1 at front\n",
    "test_img_1_rgb = np.expand_dims(test_img_1_rgb, axis=0)"
   ]
  },
  {
   "cell_type": "code",
   "execution_count": null,
   "id": "03e46557",
   "metadata": {},
   "outputs": [],
   "source": [
    "test_img_1_rgb.shape"
   ]
  },
  {
   "cell_type": "code",
   "execution_count": null,
   "id": "a1235587",
   "metadata": {},
   "outputs": [],
   "source": [
    "polyp_seg_pred = model.predict(test_img_1_rgb)"
   ]
  },
  {
   "cell_type": "code",
   "execution_count": null,
   "id": "35373215",
   "metadata": {
    "scrolled": true
   },
   "outputs": [],
   "source": [
    "polyp_seg_pred.shape"
   ]
  },
  {
   "cell_type": "code",
   "execution_count": null,
   "id": "15815c27",
   "metadata": {},
   "outputs": [],
   "source": [
    "polyp_seg_pred_img = polyp_seg_pred.reshape(y_train_masks[0].shape)"
   ]
  },
  {
   "cell_type": "code",
   "execution_count": null,
   "id": "0cddb25a",
   "metadata": {},
   "outputs": [],
   "source": [
    "polyp_seg_pred_img.shape"
   ]
  },
  {
   "cell_type": "code",
   "execution_count": null,
   "id": "fddd5f20",
   "metadata": {},
   "outputs": [],
   "source": [
    "# we can see unet segmentation doesnt capture the polyp. We need more training masked labels\n",
    "plt.figure()\n",
    "plt.imshow(polyp_seg_pred_img, cmap=\"gray\")\n",
    "plt.xlabel(classes[0])\n",
    "plt.title(\"Test Polyp Img After UNet Segmentation\")\n",
    "# plt.imsave(\"unet/seg_pred_images/test0_segmented_v3.jpg\", polyp_seg_pred_img, cmap = \"gray\")\n",
    "plt.savefig(\"unet/trained_100/seg_pred_images/test0_segmented.jpg\")"
   ]
  },
  {
   "cell_type": "markdown",
   "id": "0b8b91c4",
   "metadata": {},
   "source": [
    "## References\n",
    "\n",
    "- [Image Segmentation: Kumaravel Subramaniam Tamilselvan and Govindasamy Murugesan](https://cdn.intechopen.com/pdfs/60741.pdf)"
   ]
  },
  {
   "cell_type": "code",
   "execution_count": null,
   "id": "ee4b9c51",
   "metadata": {},
   "outputs": [],
   "source": []
  }
 ],
 "metadata": {
  "kernelspec": {
   "display_name": "Python 3 (ipykernel)",
   "language": "python",
   "name": "python3"
  },
  "language_info": {
   "codemirror_mode": {
    "name": "ipython",
    "version": 3
   },
   "file_extension": ".py",
   "mimetype": "text/x-python",
   "name": "python",
   "nbconvert_exporter": "python",
   "pygments_lexer": "ipython3",
   "version": "3.7.0"
  }
 },
 "nbformat": 4,
 "nbformat_minor": 5
}
