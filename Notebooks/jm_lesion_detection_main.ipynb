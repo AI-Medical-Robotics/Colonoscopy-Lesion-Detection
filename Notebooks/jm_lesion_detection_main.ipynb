{
 "cells": [
  {
   "cell_type": "code",
   "execution_count": 1,
   "metadata": {},
   "outputs": [],
   "source": [
    "import os\n",
    "import csv\n",
    "import cv2\n",
    "import sys\n",
    "import collections\n",
    "import pandas as pd\n",
    "import itertools\n",
    "import numpy as np\n",
    "import seaborn as sns\n",
    "from tqdm import tqdm\n",
    "\n",
    "from pathlib import Path\n",
    "import matplotlib.pyplot as plt\n",
    "import matplotlib.image as mpimg\n",
    "\n",
    "from sklearn.preprocessing import LabelEncoder, LabelBinarizer\n",
    "\n",
    "import xml.etree.ElementTree as ET"
   ]
  },
  {
   "cell_type": "code",
   "execution_count": 33,
   "metadata": {},
   "outputs": [
    {
     "name": "stderr",
     "output_type": "stream",
     "text": [
      "c:\\users\\james\\anaconda3\\envs\\nlp-asr\\lib\\site-packages\\h5py\\__init__.py:34: FutureWarning: Conversion of the second argument of issubdtype from `float` to `np.floating` is deprecated. In future, it will be treated as `np.float64 == np.dtype(float).type`.\n",
      "  from ._conv import register_converters as _register_converters\n",
      "Using TensorFlow backend.\n"
     ]
    }
   ],
   "source": [
    "import tensorflow as tf\n",
    "import keras\n",
    "from keras import datasets, layers, models\n",
    "from keras.models import Sequential\n",
    "from keras.layers import Input, Flatten, Dense, Activation, Lambda, Cropping2D, Dropout, BatchNormalization\n",
    "from keras.layers.convolutional import Conv2D\n",
    "from keras.layers.pooling import GlobalMaxPooling2D"
   ]
  },
  {
   "cell_type": "code",
   "execution_count": 2,
   "metadata": {},
   "outputs": [],
   "source": [
    "%matplotlib inline"
   ]
  },
  {
   "cell_type": "markdown",
   "metadata": {},
   "source": [
    "## Helper Functions"
   ]
  },
  {
   "cell_type": "code",
   "execution_count": 61,
   "metadata": {},
   "outputs": [],
   "source": [
    "def get_filepaths(basepath, file_type=\".xml\"):\n",
    "    files = []\n",
    "    filenames = []\n",
    "    for filename in os.listdir(basepath):\n",
    "        if filename.endswith(file_type):\n",
    "            filepath = os.path.join(basepath, filename)\n",
    "            files.append(filepath)\n",
    "        filenames.append(filename)\n",
    "    return files, filenames\n",
    "    \n",
    "# TODO: Move above code into this function\n",
    "def get_filepaths_videonum_dirs(basepath, file_type=\".xml\"):\n",
    "    videonum_frame_filepaths = []\n",
    "    videonum_frame_filenames = []\n",
    "    # loop each video number dir getting each frame filepath per video\n",
    "    for videonum_dir in os.listdir(basepath):\n",
    "        videonum_dirpath = os.path.join(basepath, videonum_dir)\n",
    "        videonum_dirfilepaths, videonum_dirfilenames = get_filepaths(videonum_dirpath, file_type)\n",
    "        videonum_frame_filepaths.extend(videonum_dirfilepaths)\n",
    "        videonum_frame_filenames.extend(videonum_dirfilenames)\n",
    "    return videonum_frame_filepaths, videonum_frame_filenames\n",
    "    \n",
    "def read_img(img_path):\n",
    "    # (height, width, 3)\n",
    "    image = cv2.imread(img_path)\n",
    "    return image\n",
    "\n",
    "def get_xml_label_names(xml_files):\n",
    "    label_names = []\n",
    "    for xml_file in tqdm(xml_files):\n",
    "        train_y_tree = ET.parse(xml_file)\n",
    "        train_y_root = train_y_tree.getroot()\n",
    "        if train_y_root.find(\"object\") != None:\n",
    "            train_y_object = train_y_root.find(\"object\")\n",
    "            train_y_polyp_name = train_y_object.find(\"name\").text\n",
    "        else:\n",
    "            train_y_polyp_name = \"Not Specified\"\n",
    "        label_names.append(train_y_polyp_name)\n",
    "    return label_names\n",
    "\n",
    "def get_xml_boundboxes(xml_files):\n",
    "    bound_boxes = []\n",
    "    for xml_file in tqdm(xml_files):\n",
    "        train_y_tree = ET.parse(xml_file)\n",
    "        train_y_root = train_y_tree.getroot()\n",
    "        if train_y_root.find(\"object\") != None:\n",
    "            train_y_object = train_y_root.find(\"object\")\n",
    "            train_y_bndbox = train_y_object.find(\"bndbox\")\n",
    "            train_y_bndbox_xmin = train_y_bndbox.find(\"xmin\").text\n",
    "            train_y_bndbox_ymin = train_y_bndbox.find(\"ymin\").text\n",
    "            train_y_bndbox_xmax = train_y_bndbox.find(\"xmax\").text\n",
    "            train_y_bndbox_ymax = train_y_bndbox.find(\"ymax\").text\n",
    "            bound_box_tuple = (train_y_bndbox_xmin, train_y_bndbox_ymin, train_y_bndbox_xmax, train_y_bndbox_ymax)\n",
    "        else:\n",
    "            bound_box_tuple = False\n",
    "        bound_boxes.append(\n",
    "            bound_box_tuple\n",
    "        )\n",
    "    return bound_boxes\n",
    "\n",
    "# normalizes image pixel values betwen -0.5 and 0.5\n",
    "def normalize_images(images):\n",
    "    norm_images = []\n",
    "    for image in tqdm(images):\n",
    "        norm_img = (image/255.0) - 0.5\n",
    "        norm_images.append(norm_img)\n",
    "    return norm_images\n",
    "\n",
    "def normalize_image(image):\n",
    "    norm_img = (image/255.0) - 0.5\n",
    "    return norm_img\n",
    "\n",
    "def resize_image(image, size):\n",
    "    resized_image = cv2.resize(image, (size, size))\n",
    "    return resize_image\n",
    "    \n",
    "def grayscale(img):\n",
    "    return cv2.cvtColor(img, cv2.COLOR_RGB2GRAY)\n",
    "\n",
    "def gaussian_blur(img, kernel_size):\n",
    "    return cv2.GaussianBlur(img, (kernel_size, kernel_size), 0)\n",
    "\n",
    "def get_images(image_group, size):\n",
    "    images = []\n",
    "    for image_path in tqdm(image_group):\n",
    "        image = read_img(image_path)\n",
    "        resized_img = cv2.resize(image, (size, size))\n",
    "        images.append(resized_img)\n",
    "    return images\n",
    "\n",
    "def create_image_label_groups(image_paths, image_labels, batch_size=32):\n",
    "    # Divide image paths and image labels into groups of BATCH_SIZE\n",
    "    image_groups = list()\n",
    "    label_groups = list()\n",
    "    \n",
    "    for idx in range(0, len(image_paths), batch_size):\n",
    "        image_batch = list()\n",
    "        for index in range(idx, idx + batch_size):\n",
    "            image_batch.append(image_paths[index % len(image_paths)])\n",
    "        image_groups.append(image_batch)\n",
    "            \n",
    "    for idx in range(0, len(image_labels), batch_size):\n",
    "        for index in range(idx, idx + batch_size):\n",
    "            label_groups.append(image_labels[index % len(image_labels)])\n",
    "    \n",
    "    return image_groups, label_groups\n",
    "    \n",
    "def create_image_batch(image_group):\n",
    "    # get the max image shape from the batch of images\n",
    "    max_shape = tuple()\n",
    "    image_shapes = list()\n",
    "    \n",
    "    for channel in range(3):\n",
    "        for image in image_group:\n",
    "            image_shapes.append(image.shape[channel])\n",
    "        \n",
    "def change_extension(img_file, file_type):\n",
    "    p = Path(img_file)\n",
    "    return p.rename(p.with_suffix(file_type))\n",
    "    \n",
    "# loads image from filepath using opencv\n",
    "def get_image(basepath, filepath):\n",
    "    # read images\n",
    "    source_path = filepath\n",
    "    # extract filename from filepath using split and check platform\n",
    "    if sys.platform == 'win32':\n",
    "        filename = source_path.split(\"\\\\\")[-1]\n",
    "    elif sys.platform == 'linux' or sys.platform == 'darwin':\n",
    "        filename = source_path.split(\"/\")[-1]\n",
    "    # add filename to end of path to PolypSet dir, so platform isn't an issue\n",
    "    img_path_on_fs = basepath + filename\n",
    "    # load image using opencv\n",
    "    image = cv2.imread(img_path_on_fs)\n",
    "    return image\n",
    "\n",
    "\n",
    "def plot_sample(X, y, index):\n",
    "    plt.figure(figsize = (30,4))\n",
    "    plt.imshow(X[index])\n",
    "    plt.xlabel(classes[y[index]])"
   ]
  },
  {
   "cell_type": "markdown",
   "metadata": {},
   "source": [
    "## Load Training Images & Labels"
   ]
  },
  {
   "cell_type": "code",
   "execution_count": null,
   "metadata": {},
   "outputs": [],
   "source": []
  },
  {
   "cell_type": "markdown",
   "metadata": {},
   "source": [
    "## Get Polyp Names for Training Y Set"
   ]
  },
  {
   "cell_type": "code",
   "execution_count": 4,
   "metadata": {},
   "outputs": [],
   "source": [
    "train_y_basepath = \"PolypsSet/train2019/Annotation\"\n",
    "file_type = \".xml\"\n",
    "train_y_filepaths, train_y_filenames = get_filepaths(train_y_basepath, file_type)"
   ]
  },
  {
   "cell_type": "code",
   "execution_count": 5,
   "metadata": {},
   "outputs": [
    {
     "name": "stderr",
     "output_type": "stream",
     "text": [
      "100%|███████████████████████████████████████████████████████████████████████████| 28773/28773 [01:59<00:00, 240.27it/s]\n"
     ]
    }
   ],
   "source": [
    "train_y_polyp_names = get_xml_label_names(train_y_filepaths)"
   ]
  },
  {
   "cell_type": "code",
   "execution_count": 6,
   "metadata": {},
   "outputs": [
    {
     "name": "stdout",
     "output_type": "stream",
     "text": [
      "28773\n",
      "adenomatous\n",
      "hyperplastic\n"
     ]
    }
   ],
   "source": [
    "print(len(train_y_polyp_names))\n",
    "print(train_y_polyp_names[0])\n",
    "print(train_y_polyp_names[1])"
   ]
  },
  {
   "cell_type": "code",
   "execution_count": 14,
   "metadata": {},
   "outputs": [
    {
     "data": {
      "text/plain": [
       "['adenomatous', 'hyperplastic', 'adenomatous', 'hyperplastic', 'adenomatous']"
      ]
     },
     "execution_count": 14,
     "metadata": {},
     "output_type": "execute_result"
    }
   ],
   "source": [
    "train_y_polyp_names[:5]"
   ]
  },
  {
   "cell_type": "code",
   "execution_count": 18,
   "metadata": {},
   "outputs": [
    {
     "name": "stderr",
     "output_type": "stream",
     "text": [
      "c:\\users\\james\\anaconda3\\envs\\nlp-asr\\lib\\site-packages\\seaborn\\categorical.py:1428: FutureWarning: remove_na is deprecated and is a private function. Do not use.\n",
      "  stat_data = remove_na(group_data)\n"
     ]
    },
    {
     "data": {
      "text/plain": [
       "<matplotlib.axes._subplots.AxesSubplot at 0x1d7c9b8d3c8>"
      ]
     },
     "execution_count": 18,
     "metadata": {},
     "output_type": "execute_result"
    },
    {
     "data": {
      "image/png": "[encoded data removed]",
      "text/plain": [
       "<Figure size 432x288 with 1 Axes>"
      ]
     },
     "metadata": {
      "needs_background": "light"
     },
     "output_type": "display_data"
    }
   ],
   "source": [
    "sns.countplot(train_y_polyp_names)"
   ]
  },
  {
   "cell_type": "code",
   "execution_count": 19,
   "metadata": {},
   "outputs": [],
   "source": [
    "polyp_counter = collections.Counter(train_y_polyp_names)"
   ]
  },
  {
   "cell_type": "code",
   "execution_count": 20,
   "metadata": {},
   "outputs": [
    {
     "data": {
      "text/plain": [
       "Counter({'Not Specified': 1725, 'adenomatous': 14269, 'hyperplastic': 12779})"
      ]
     },
     "execution_count": 20,
     "metadata": {},
     "output_type": "execute_result"
    }
   ],
   "source": [
    "polyp_counter"
   ]
  },
  {
   "cell_type": "code",
   "execution_count": 15,
   "metadata": {},
   "outputs": [],
   "source": [
    "label_enc = LabelEncoder()"
   ]
  },
  {
   "cell_type": "code",
   "execution_count": 25,
   "metadata": {},
   "outputs": [],
   "source": [
    "# Label Encode y_train polyp names\n",
    "train_y = label_enc.fit_transform(train_y_polyp_names)"
   ]
  },
  {
   "cell_type": "code",
   "execution_count": 26,
   "metadata": {},
   "outputs": [
    {
     "data": {
      "text/plain": [
       "array([1, 2, 1, ..., 1, 2, 1], dtype=int64)"
      ]
     },
     "execution_count": 26,
     "metadata": {},
     "output_type": "execute_result"
    }
   ],
   "source": [
    "train_y"
   ]
  },
  {
   "cell_type": "code",
   "execution_count": 21,
   "metadata": {},
   "outputs": [],
   "source": [
    "classes = ['Not Specified', 'adenomatous', 'hyperplastic']"
   ]
  },
  {
   "cell_type": "markdown",
   "metadata": {},
   "source": [
    "## Get Polyp Names for Validation Y Set"
   ]
  },
  {
   "cell_type": "code",
   "execution_count": 70,
   "metadata": {},
   "outputs": [],
   "source": [
    "valid_y_basepath = \"PolypsSet/val2019/Annotation\"\n",
    "file_type = \".xml\"\n",
    "    \n",
    "valid_y_filepaths, valid_y_filenames = get_filepaths_videonum_dirs(valid_y_basepath, file_type=\".xml\")"
   ]
  },
  {
   "cell_type": "code",
   "execution_count": 41,
   "metadata": {},
   "outputs": [
    {
     "data": {
      "text/plain": [
       "['1',\n",
       " '10',\n",
       " '11',\n",
       " '12',\n",
       " '13',\n",
       " '14',\n",
       " '15',\n",
       " '16',\n",
       " '17',\n",
       " '2',\n",
       " '3',\n",
       " '4',\n",
       " '5',\n",
       " '6',\n",
       " '7',\n",
       " '8',\n",
       " '9']"
      ]
     },
     "execution_count": 41,
     "metadata": {},
     "output_type": "execute_result"
    }
   ],
   "source": [
    "os.listdir(valid_y_basepath)"
   ]
  },
  {
   "cell_type": "code",
   "execution_count": 71,
   "metadata": {},
   "outputs": [
    {
     "data": {
      "text/plain": [
       "['PolypsSet/val2019/Annotation\\\\1\\\\1.xml',\n",
       " 'PolypsSet/val2019/Annotation\\\\1\\\\10.xml',\n",
       " 'PolypsSet/val2019/Annotation\\\\1\\\\100.xml',\n",
       " 'PolypsSet/val2019/Annotation\\\\1\\\\101.xml',\n",
       " 'PolypsSet/val2019/Annotation\\\\1\\\\102.xml',\n",
       " 'PolypsSet/val2019/Annotation\\\\1\\\\103.xml',\n",
       " 'PolypsSet/val2019/Annotation\\\\1\\\\104.xml',\n",
       " 'PolypsSet/val2019/Annotation\\\\1\\\\105.xml',\n",
       " 'PolypsSet/val2019/Annotation\\\\1\\\\106.xml',\n",
       " 'PolypsSet/val2019/Annotation\\\\1\\\\107.xml',\n",
       " 'PolypsSet/val2019/Annotation\\\\1\\\\108.xml',\n",
       " 'PolypsSet/val2019/Annotation\\\\1\\\\109.xml',\n",
       " 'PolypsSet/val2019/Annotation\\\\1\\\\11.xml',\n",
       " 'PolypsSet/val2019/Annotation\\\\1\\\\110.xml',\n",
       " 'PolypsSet/val2019/Annotation\\\\1\\\\111.xml',\n",
       " 'PolypsSet/val2019/Annotation\\\\1\\\\112.xml',\n",
       " 'PolypsSet/val2019/Annotation\\\\1\\\\113.xml',\n",
       " 'PolypsSet/val2019/Annotation\\\\1\\\\114.xml',\n",
       " 'PolypsSet/val2019/Annotation\\\\1\\\\115.xml',\n",
       " 'PolypsSet/val2019/Annotation\\\\1\\\\116.xml',\n",
       " 'PolypsSet/val2019/Annotation\\\\1\\\\117.xml',\n",
       " 'PolypsSet/val2019/Annotation\\\\1\\\\118.xml',\n",
       " 'PolypsSet/val2019/Annotation\\\\1\\\\119.xml',\n",
       " 'PolypsSet/val2019/Annotation\\\\1\\\\12.xml',\n",
       " 'PolypsSet/val2019/Annotation\\\\1\\\\120.xml',\n",
       " 'PolypsSet/val2019/Annotation\\\\1\\\\121.xml',\n",
       " 'PolypsSet/val2019/Annotation\\\\1\\\\122.xml',\n",
       " 'PolypsSet/val2019/Annotation\\\\1\\\\123.xml',\n",
       " 'PolypsSet/val2019/Annotation\\\\1\\\\124.xml',\n",
       " 'PolypsSet/val2019/Annotation\\\\1\\\\125.xml',\n",
       " 'PolypsSet/val2019/Annotation\\\\1\\\\126.xml',\n",
       " 'PolypsSet/val2019/Annotation\\\\1\\\\127.xml',\n",
       " 'PolypsSet/val2019/Annotation\\\\1\\\\128.xml',\n",
       " 'PolypsSet/val2019/Annotation\\\\1\\\\129.xml',\n",
       " 'PolypsSet/val2019/Annotation\\\\1\\\\13.xml',\n",
       " 'PolypsSet/val2019/Annotation\\\\1\\\\130.xml',\n",
       " 'PolypsSet/val2019/Annotation\\\\1\\\\131.xml',\n",
       " 'PolypsSet/val2019/Annotation\\\\1\\\\132.xml',\n",
       " 'PolypsSet/val2019/Annotation\\\\1\\\\133.xml',\n",
       " 'PolypsSet/val2019/Annotation\\\\1\\\\134.xml',\n",
       " 'PolypsSet/val2019/Annotation\\\\1\\\\135.xml',\n",
       " 'PolypsSet/val2019/Annotation\\\\1\\\\136.xml',\n",
       " 'PolypsSet/val2019/Annotation\\\\1\\\\137.xml',\n",
       " 'PolypsSet/val2019/Annotation\\\\1\\\\138.xml',\n",
       " 'PolypsSet/val2019/Annotation\\\\1\\\\139.xml',\n",
       " 'PolypsSet/val2019/Annotation\\\\1\\\\14.xml',\n",
       " 'PolypsSet/val2019/Annotation\\\\1\\\\140.xml',\n",
       " 'PolypsSet/val2019/Annotation\\\\1\\\\141.xml',\n",
       " 'PolypsSet/val2019/Annotation\\\\1\\\\142.xml',\n",
       " 'PolypsSet/val2019/Annotation\\\\1\\\\143.xml',\n",
       " 'PolypsSet/val2019/Annotation\\\\1\\\\144.xml',\n",
       " 'PolypsSet/val2019/Annotation\\\\1\\\\145.xml',\n",
       " 'PolypsSet/val2019/Annotation\\\\1\\\\146.xml',\n",
       " 'PolypsSet/val2019/Annotation\\\\1\\\\147.xml',\n",
       " 'PolypsSet/val2019/Annotation\\\\1\\\\148.xml',\n",
       " 'PolypsSet/val2019/Annotation\\\\1\\\\149.xml',\n",
       " 'PolypsSet/val2019/Annotation\\\\1\\\\15.xml',\n",
       " 'PolypsSet/val2019/Annotation\\\\1\\\\150.xml',\n",
       " 'PolypsSet/val2019/Annotation\\\\1\\\\151.xml',\n",
       " 'PolypsSet/val2019/Annotation\\\\1\\\\152.xml',\n",
       " 'PolypsSet/val2019/Annotation\\\\1\\\\153.xml',\n",
       " 'PolypsSet/val2019/Annotation\\\\1\\\\154.xml',\n",
       " 'PolypsSet/val2019/Annotation\\\\1\\\\155.xml',\n",
       " 'PolypsSet/val2019/Annotation\\\\1\\\\156.xml',\n",
       " 'PolypsSet/val2019/Annotation\\\\1\\\\157.xml',\n",
       " 'PolypsSet/val2019/Annotation\\\\1\\\\158.xml',\n",
       " 'PolypsSet/val2019/Annotation\\\\1\\\\159.xml',\n",
       " 'PolypsSet/val2019/Annotation\\\\1\\\\16.xml',\n",
       " 'PolypsSet/val2019/Annotation\\\\1\\\\160.xml',\n",
       " 'PolypsSet/val2019/Annotation\\\\1\\\\161.xml',\n",
       " 'PolypsSet/val2019/Annotation\\\\1\\\\162.xml',\n",
       " 'PolypsSet/val2019/Annotation\\\\1\\\\163.xml',\n",
       " 'PolypsSet/val2019/Annotation\\\\1\\\\164.xml',\n",
       " 'PolypsSet/val2019/Annotation\\\\1\\\\165.xml',\n",
       " 'PolypsSet/val2019/Annotation\\\\1\\\\166.xml',\n",
       " 'PolypsSet/val2019/Annotation\\\\1\\\\167.xml',\n",
       " 'PolypsSet/val2019/Annotation\\\\1\\\\168.xml',\n",
       " 'PolypsSet/val2019/Annotation\\\\1\\\\169.xml',\n",
       " 'PolypsSet/val2019/Annotation\\\\1\\\\17.xml',\n",
       " 'PolypsSet/val2019/Annotation\\\\1\\\\170.xml',\n",
       " 'PolypsSet/val2019/Annotation\\\\1\\\\171.xml',\n",
       " 'PolypsSet/val2019/Annotation\\\\1\\\\172.xml',\n",
       " 'PolypsSet/val2019/Annotation\\\\1\\\\173.xml',\n",
       " 'PolypsSet/val2019/Annotation\\\\1\\\\174.xml',\n",
       " 'PolypsSet/val2019/Annotation\\\\1\\\\175.xml',\n",
       " 'PolypsSet/val2019/Annotation\\\\1\\\\176.xml',\n",
       " 'PolypsSet/val2019/Annotation\\\\1\\\\177.xml',\n",
       " 'PolypsSet/val2019/Annotation\\\\1\\\\178.xml',\n",
       " 'PolypsSet/val2019/Annotation\\\\1\\\\179.xml',\n",
       " 'PolypsSet/val2019/Annotation\\\\1\\\\18.xml',\n",
       " 'PolypsSet/val2019/Annotation\\\\1\\\\180.xml',\n",
       " 'PolypsSet/val2019/Annotation\\\\1\\\\181.xml',\n",
       " 'PolypsSet/val2019/Annotation\\\\1\\\\182.xml',\n",
       " 'PolypsSet/val2019/Annotation\\\\1\\\\183.xml',\n",
       " 'PolypsSet/val2019/Annotation\\\\1\\\\184.xml',\n",
       " 'PolypsSet/val2019/Annotation\\\\1\\\\185.xml',\n",
       " 'PolypsSet/val2019/Annotation\\\\1\\\\186.xml',\n",
       " 'PolypsSet/val2019/Annotation\\\\1\\\\187.xml',\n",
       " 'PolypsSet/val2019/Annotation\\\\1\\\\188.xml',\n",
       " 'PolypsSet/val2019/Annotation\\\\1\\\\189.xml',\n",
       " 'PolypsSet/val2019/Annotation\\\\1\\\\19.xml',\n",
       " 'PolypsSet/val2019/Annotation\\\\1\\\\190.xml',\n",
       " 'PolypsSet/val2019/Annotation\\\\1\\\\191.xml',\n",
       " 'PolypsSet/val2019/Annotation\\\\1\\\\192.xml',\n",
       " 'PolypsSet/val2019/Annotation\\\\1\\\\193.xml',\n",
       " 'PolypsSet/val2019/Annotation\\\\1\\\\194.xml',\n",
       " 'PolypsSet/val2019/Annotation\\\\1\\\\195.xml',\n",
       " 'PolypsSet/val2019/Annotation\\\\1\\\\196.xml',\n",
       " 'PolypsSet/val2019/Annotation\\\\1\\\\197.xml',\n",
       " 'PolypsSet/val2019/Annotation\\\\1\\\\198.xml',\n",
       " 'PolypsSet/val2019/Annotation\\\\1\\\\199.xml',\n",
       " 'PolypsSet/val2019/Annotation\\\\1\\\\2.xml',\n",
       " 'PolypsSet/val2019/Annotation\\\\1\\\\20.xml',\n",
       " 'PolypsSet/val2019/Annotation\\\\1\\\\200.xml',\n",
       " 'PolypsSet/val2019/Annotation\\\\1\\\\201.xml',\n",
       " 'PolypsSet/val2019/Annotation\\\\1\\\\202.xml',\n",
       " 'PolypsSet/val2019/Annotation\\\\1\\\\203.xml',\n",
       " 'PolypsSet/val2019/Annotation\\\\1\\\\204.xml',\n",
       " 'PolypsSet/val2019/Annotation\\\\1\\\\205.xml',\n",
       " 'PolypsSet/val2019/Annotation\\\\1\\\\206.xml',\n",
       " 'PolypsSet/val2019/Annotation\\\\1\\\\207.xml',\n",
       " 'PolypsSet/val2019/Annotation\\\\1\\\\208.xml',\n",
       " 'PolypsSet/val2019/Annotation\\\\1\\\\209.xml',\n",
       " 'PolypsSet/val2019/Annotation\\\\1\\\\21.xml',\n",
       " 'PolypsSet/val2019/Annotation\\\\1\\\\210.xml',\n",
       " 'PolypsSet/val2019/Annotation\\\\1\\\\211.xml',\n",
       " 'PolypsSet/val2019/Annotation\\\\1\\\\212.xml',\n",
       " 'PolypsSet/val2019/Annotation\\\\1\\\\213.xml',\n",
       " 'PolypsSet/val2019/Annotation\\\\1\\\\214.xml',\n",
       " 'PolypsSet/val2019/Annotation\\\\1\\\\215.xml',\n",
       " 'PolypsSet/val2019/Annotation\\\\1\\\\216.xml',\n",
       " 'PolypsSet/val2019/Annotation\\\\1\\\\217.xml',\n",
       " 'PolypsSet/val2019/Annotation\\\\1\\\\218.xml',\n",
       " 'PolypsSet/val2019/Annotation\\\\1\\\\219.xml',\n",
       " 'PolypsSet/val2019/Annotation\\\\1\\\\22.xml',\n",
       " 'PolypsSet/val2019/Annotation\\\\1\\\\220.xml',\n",
       " 'PolypsSet/val2019/Annotation\\\\1\\\\221.xml',\n",
       " 'PolypsSet/val2019/Annotation\\\\1\\\\222.xml',\n",
       " 'PolypsSet/val2019/Annotation\\\\1\\\\223.xml',\n",
       " 'PolypsSet/val2019/Annotation\\\\1\\\\224.xml',\n",
       " 'PolypsSet/val2019/Annotation\\\\1\\\\225.xml',\n",
       " 'PolypsSet/val2019/Annotation\\\\1\\\\226.xml',\n",
       " 'PolypsSet/val2019/Annotation\\\\1\\\\227.xml',\n",
       " 'PolypsSet/val2019/Annotation\\\\1\\\\228.xml',\n",
       " 'PolypsSet/val2019/Annotation\\\\1\\\\229.xml',\n",
       " 'PolypsSet/val2019/Annotation\\\\1\\\\23.xml',\n",
       " 'PolypsSet/val2019/Annotation\\\\1\\\\230.xml',\n",
       " 'PolypsSet/val2019/Annotation\\\\1\\\\231.xml',\n",
       " 'PolypsSet/val2019/Annotation\\\\1\\\\232.xml',\n",
       " 'PolypsSet/val2019/Annotation\\\\1\\\\233.xml',\n",
       " 'PolypsSet/val2019/Annotation\\\\1\\\\234.xml',\n",
       " 'PolypsSet/val2019/Annotation\\\\1\\\\235.xml',\n",
       " 'PolypsSet/val2019/Annotation\\\\1\\\\236.xml',\n",
       " 'PolypsSet/val2019/Annotation\\\\1\\\\237.xml',\n",
       " 'PolypsSet/val2019/Annotation\\\\1\\\\238.xml',\n",
       " 'PolypsSet/val2019/Annotation\\\\1\\\\239.xml',\n",
       " 'PolypsSet/val2019/Annotation\\\\1\\\\24.xml',\n",
       " 'PolypsSet/val2019/Annotation\\\\1\\\\240.xml',\n",
       " 'PolypsSet/val2019/Annotation\\\\1\\\\241.xml',\n",
       " 'PolypsSet/val2019/Annotation\\\\1\\\\242.xml',\n",
       " 'PolypsSet/val2019/Annotation\\\\1\\\\243.xml',\n",
       " 'PolypsSet/val2019/Annotation\\\\1\\\\244.xml',\n",
       " 'PolypsSet/val2019/Annotation\\\\1\\\\245.xml',\n",
       " 'PolypsSet/val2019/Annotation\\\\1\\\\246.xml',\n",
       " 'PolypsSet/val2019/Annotation\\\\1\\\\247.xml',\n",
       " 'PolypsSet/val2019/Annotation\\\\1\\\\248.xml',\n",
       " 'PolypsSet/val2019/Annotation\\\\1\\\\249.xml',\n",
       " 'PolypsSet/val2019/Annotation\\\\1\\\\25.xml',\n",
       " 'PolypsSet/val2019/Annotation\\\\1\\\\250.xml',\n",
       " 'PolypsSet/val2019/Annotation\\\\1\\\\251.xml',\n",
       " 'PolypsSet/val2019/Annotation\\\\1\\\\26.xml',\n",
       " 'PolypsSet/val2019/Annotation\\\\1\\\\27.xml',\n",
       " 'PolypsSet/val2019/Annotation\\\\1\\\\28.xml',\n",
       " 'PolypsSet/val2019/Annotation\\\\1\\\\29.xml',\n",
       " 'PolypsSet/val2019/Annotation\\\\1\\\\3.xml',\n",
       " 'PolypsSet/val2019/Annotation\\\\1\\\\30.xml',\n",
       " 'PolypsSet/val2019/Annotation\\\\1\\\\31.xml',\n",
       " 'PolypsSet/val2019/Annotation\\\\1\\\\32.xml',\n",
       " 'PolypsSet/val2019/Annotation\\\\1\\\\33.xml',\n",
       " 'PolypsSet/val2019/Annotation\\\\1\\\\34.xml',\n",
       " 'PolypsSet/val2019/Annotation\\\\1\\\\35.xml',\n",
       " 'PolypsSet/val2019/Annotation\\\\1\\\\36.xml',\n",
       " 'PolypsSet/val2019/Annotation\\\\1\\\\37.xml',\n",
       " 'PolypsSet/val2019/Annotation\\\\1\\\\38.xml',\n",
       " 'PolypsSet/val2019/Annotation\\\\1\\\\39.xml',\n",
       " 'PolypsSet/val2019/Annotation\\\\1\\\\4.xml',\n",
       " 'PolypsSet/val2019/Annotation\\\\1\\\\40.xml',\n",
       " 'PolypsSet/val2019/Annotation\\\\1\\\\41.xml',\n",
       " 'PolypsSet/val2019/Annotation\\\\1\\\\42.xml',\n",
       " 'PolypsSet/val2019/Annotation\\\\1\\\\43.xml',\n",
       " 'PolypsSet/val2019/Annotation\\\\1\\\\44.xml',\n",
       " 'PolypsSet/val2019/Annotation\\\\1\\\\45.xml',\n",
       " 'PolypsSet/val2019/Annotation\\\\1\\\\46.xml',\n",
       " 'PolypsSet/val2019/Annotation\\\\1\\\\47.xml',\n",
       " 'PolypsSet/val2019/Annotation\\\\1\\\\48.xml',\n",
       " 'PolypsSet/val2019/Annotation\\\\1\\\\49.xml',\n",
       " 'PolypsSet/val2019/Annotation\\\\1\\\\5.xml',\n",
       " 'PolypsSet/val2019/Annotation\\\\1\\\\50.xml',\n",
       " 'PolypsSet/val2019/Annotation\\\\1\\\\51.xml',\n",
       " 'PolypsSet/val2019/Annotation\\\\1\\\\52.xml',\n",
       " 'PolypsSet/val2019/Annotation\\\\1\\\\53.xml',\n",
       " 'PolypsSet/val2019/Annotation\\\\1\\\\54.xml',\n",
       " 'PolypsSet/val2019/Annotation\\\\1\\\\55.xml',\n",
       " 'PolypsSet/val2019/Annotation\\\\1\\\\56.xml',\n",
       " 'PolypsSet/val2019/Annotation\\\\1\\\\57.xml',\n",
       " 'PolypsSet/val2019/Annotation\\\\1\\\\58.xml',\n",
       " 'PolypsSet/val2019/Annotation\\\\1\\\\59.xml',\n",
       " 'PolypsSet/val2019/Annotation\\\\1\\\\6.xml',\n",
       " 'PolypsSet/val2019/Annotation\\\\1\\\\60.xml',\n",
       " 'PolypsSet/val2019/Annotation\\\\1\\\\61.xml',\n",
       " 'PolypsSet/val2019/Annotation\\\\1\\\\62.xml',\n",
       " 'PolypsSet/val2019/Annotation\\\\1\\\\63.xml',\n",
       " 'PolypsSet/val2019/Annotation\\\\1\\\\64.xml',\n",
       " 'PolypsSet/val2019/Annotation\\\\1\\\\65.xml',\n",
       " 'PolypsSet/val2019/Annotation\\\\1\\\\66.xml',\n",
       " 'PolypsSet/val2019/Annotation\\\\1\\\\67.xml',\n",
       " 'PolypsSet/val2019/Annotation\\\\1\\\\68.xml',\n",
       " 'PolypsSet/val2019/Annotation\\\\1\\\\69.xml',\n",
       " 'PolypsSet/val2019/Annotation\\\\1\\\\7.xml',\n",
       " 'PolypsSet/val2019/Annotation\\\\1\\\\70.xml',\n",
       " 'PolypsSet/val2019/Annotation\\\\1\\\\71.xml',\n",
       " 'PolypsSet/val2019/Annotation\\\\1\\\\72.xml',\n",
       " 'PolypsSet/val2019/Annotation\\\\1\\\\73.xml',\n",
       " 'PolypsSet/val2019/Annotation\\\\1\\\\74.xml',\n",
       " 'PolypsSet/val2019/Annotation\\\\1\\\\75.xml',\n",
       " 'PolypsSet/val2019/Annotation\\\\1\\\\76.xml',\n",
       " 'PolypsSet/val2019/Annotation\\\\1\\\\77.xml',\n",
       " 'PolypsSet/val2019/Annotation\\\\1\\\\78.xml',\n",
       " 'PolypsSet/val2019/Annotation\\\\1\\\\79.xml',\n",
       " 'PolypsSet/val2019/Annotation\\\\1\\\\8.xml',\n",
       " 'PolypsSet/val2019/Annotation\\\\1\\\\80.xml',\n",
       " 'PolypsSet/val2019/Annotation\\\\1\\\\81.xml',\n",
       " 'PolypsSet/val2019/Annotation\\\\1\\\\82.xml',\n",
       " 'PolypsSet/val2019/Annotation\\\\1\\\\83.xml',\n",
       " 'PolypsSet/val2019/Annotation\\\\1\\\\84.xml',\n",
       " 'PolypsSet/val2019/Annotation\\\\1\\\\85.xml',\n",
       " 'PolypsSet/val2019/Annotation\\\\1\\\\86.xml',\n",
       " 'PolypsSet/val2019/Annotation\\\\1\\\\87.xml',\n",
       " 'PolypsSet/val2019/Annotation\\\\1\\\\88.xml',\n",
       " 'PolypsSet/val2019/Annotation\\\\1\\\\89.xml',\n",
       " 'PolypsSet/val2019/Annotation\\\\1\\\\9.xml',\n",
       " 'PolypsSet/val2019/Annotation\\\\1\\\\90.xml',\n",
       " 'PolypsSet/val2019/Annotation\\\\1\\\\91.xml',\n",
       " 'PolypsSet/val2019/Annotation\\\\1\\\\92.xml',\n",
       " 'PolypsSet/val2019/Annotation\\\\1\\\\93.xml',\n",
       " 'PolypsSet/val2019/Annotation\\\\1\\\\94.xml',\n",
       " 'PolypsSet/val2019/Annotation\\\\1\\\\95.xml',\n",
       " 'PolypsSet/val2019/Annotation\\\\1\\\\96.xml',\n",
       " 'PolypsSet/val2019/Annotation\\\\1\\\\97.xml',\n",
       " 'PolypsSet/val2019/Annotation\\\\1\\\\98.xml',\n",
       " 'PolypsSet/val2019/Annotation\\\\1\\\\99.xml',\n",
       " 'PolypsSet/val2019/Annotation\\\\10\\\\1.xml',\n",
       " 'PolypsSet/val2019/Annotation\\\\10\\\\10.xml',\n",
       " 'PolypsSet/val2019/Annotation\\\\10\\\\100.xml',\n",
       " 'PolypsSet/val2019/Annotation\\\\10\\\\101.xml',\n",
       " 'PolypsSet/val2019/Annotation\\\\10\\\\102.xml',\n",
       " 'PolypsSet/val2019/Annotation\\\\10\\\\103.xml',\n",
       " 'PolypsSet/val2019/Annotation\\\\10\\\\104.xml',\n",
       " 'PolypsSet/val2019/Annotation\\\\10\\\\105.xml',\n",
       " 'PolypsSet/val2019/Annotation\\\\10\\\\106.xml',\n",
       " 'PolypsSet/val2019/Annotation\\\\10\\\\107.xml',\n",
       " 'PolypsSet/val2019/Annotation\\\\10\\\\108.xml',\n",
       " 'PolypsSet/val2019/Annotation\\\\10\\\\109.xml',\n",
       " 'PolypsSet/val2019/Annotation\\\\10\\\\11.xml',\n",
       " 'PolypsSet/val2019/Annotation\\\\10\\\\110.xml',\n",
       " 'PolypsSet/val2019/Annotation\\\\10\\\\111.xml',\n",
       " 'PolypsSet/val2019/Annotation\\\\10\\\\112.xml',\n",
       " 'PolypsSet/val2019/Annotation\\\\10\\\\113.xml',\n",
       " 'PolypsSet/val2019/Annotation\\\\10\\\\114.xml',\n",
       " 'PolypsSet/val2019/Annotation\\\\10\\\\115.xml',\n",
       " 'PolypsSet/val2019/Annotation\\\\10\\\\116.xml',\n",
       " 'PolypsSet/val2019/Annotation\\\\10\\\\117.xml',\n",
       " 'PolypsSet/val2019/Annotation\\\\10\\\\118.xml',\n",
       " 'PolypsSet/val2019/Annotation\\\\10\\\\119.xml',\n",
       " 'PolypsSet/val2019/Annotation\\\\10\\\\12.xml',\n",
       " 'PolypsSet/val2019/Annotation\\\\10\\\\120.xml',\n",
       " 'PolypsSet/val2019/Annotation\\\\10\\\\121.xml',\n",
       " 'PolypsSet/val2019/Annotation\\\\10\\\\122.xml',\n",
       " 'PolypsSet/val2019/Annotation\\\\10\\\\123.xml',\n",
       " 'PolypsSet/val2019/Annotation\\\\10\\\\124.xml',\n",
       " 'PolypsSet/val2019/Annotation\\\\10\\\\125.xml',\n",
       " 'PolypsSet/val2019/Annotation\\\\10\\\\126.xml',\n",
       " 'PolypsSet/val2019/Annotation\\\\10\\\\127.xml',\n",
       " 'PolypsSet/val2019/Annotation\\\\10\\\\128.xml',\n",
       " 'PolypsSet/val2019/Annotation\\\\10\\\\129.xml',\n",
       " 'PolypsSet/val2019/Annotation\\\\10\\\\13.xml',\n",
       " 'PolypsSet/val2019/Annotation\\\\10\\\\130.xml',\n",
       " 'PolypsSet/val2019/Annotation\\\\10\\\\131.xml',\n",
       " 'PolypsSet/val2019/Annotation\\\\10\\\\132.xml',\n",
       " 'PolypsSet/val2019/Annotation\\\\10\\\\133.xml',\n",
       " 'PolypsSet/val2019/Annotation\\\\10\\\\134.xml',\n",
       " 'PolypsSet/val2019/Annotation\\\\10\\\\135.xml',\n",
       " 'PolypsSet/val2019/Annotation\\\\10\\\\136.xml',\n",
       " 'PolypsSet/val2019/Annotation\\\\10\\\\137.xml',\n",
       " 'PolypsSet/val2019/Annotation\\\\10\\\\138.xml',\n",
       " 'PolypsSet/val2019/Annotation\\\\10\\\\139.xml',\n",
       " 'PolypsSet/val2019/Annotation\\\\10\\\\14.xml',\n",
       " 'PolypsSet/val2019/Annotation\\\\10\\\\140.xml',\n",
       " 'PolypsSet/val2019/Annotation\\\\10\\\\141.xml',\n",
       " 'PolypsSet/val2019/Annotation\\\\10\\\\142.xml',\n",
       " 'PolypsSet/val2019/Annotation\\\\10\\\\143.xml',\n",
       " 'PolypsSet/val2019/Annotation\\\\10\\\\144.xml',\n",
       " 'PolypsSet/val2019/Annotation\\\\10\\\\145.xml',\n",
       " 'PolypsSet/val2019/Annotation\\\\10\\\\146.xml',\n",
       " 'PolypsSet/val2019/Annotation\\\\10\\\\147.xml',\n",
       " 'PolypsSet/val2019/Annotation\\\\10\\\\148.xml',\n",
       " 'PolypsSet/val2019/Annotation\\\\10\\\\149.xml',\n",
       " 'PolypsSet/val2019/Annotation\\\\10\\\\15.xml',\n",
       " 'PolypsSet/val2019/Annotation\\\\10\\\\150.xml',\n",
       " 'PolypsSet/val2019/Annotation\\\\10\\\\151.xml',\n",
       " 'PolypsSet/val2019/Annotation\\\\10\\\\152.xml',\n",
       " 'PolypsSet/val2019/Annotation\\\\10\\\\153.xml',\n",
       " 'PolypsSet/val2019/Annotation\\\\10\\\\154.xml',\n",
       " 'PolypsSet/val2019/Annotation\\\\10\\\\155.xml',\n",
       " 'PolypsSet/val2019/Annotation\\\\10\\\\156.xml',\n",
       " 'PolypsSet/val2019/Annotation\\\\10\\\\157.xml',\n",
       " 'PolypsSet/val2019/Annotation\\\\10\\\\158.xml',\n",
       " 'PolypsSet/val2019/Annotation\\\\10\\\\159.xml',\n",
       " 'PolypsSet/val2019/Annotation\\\\10\\\\16.xml',\n",
       " 'PolypsSet/val2019/Annotation\\\\10\\\\160.xml',\n",
       " 'PolypsSet/val2019/Annotation\\\\10\\\\161.xml',\n",
       " 'PolypsSet/val2019/Annotation\\\\10\\\\162.xml',\n",
       " 'PolypsSet/val2019/Annotation\\\\10\\\\163.xml',\n",
       " 'PolypsSet/val2019/Annotation\\\\10\\\\164.xml',\n",
       " 'PolypsSet/val2019/Annotation\\\\10\\\\165.xml',\n",
       " 'PolypsSet/val2019/Annotation\\\\10\\\\166.xml',\n",
       " 'PolypsSet/val2019/Annotation\\\\10\\\\167.xml',\n",
       " 'PolypsSet/val2019/Annotation\\\\10\\\\168.xml',\n",
       " 'PolypsSet/val2019/Annotation\\\\10\\\\169.xml',\n",
       " 'PolypsSet/val2019/Annotation\\\\10\\\\17.xml',\n",
       " 'PolypsSet/val2019/Annotation\\\\10\\\\170.xml',\n",
       " 'PolypsSet/val2019/Annotation\\\\10\\\\171.xml',\n",
       " 'PolypsSet/val2019/Annotation\\\\10\\\\172.xml',\n",
       " 'PolypsSet/val2019/Annotation\\\\10\\\\173.xml',\n",
       " 'PolypsSet/val2019/Annotation\\\\10\\\\174.xml',\n",
       " 'PolypsSet/val2019/Annotation\\\\10\\\\175.xml',\n",
       " 'PolypsSet/val2019/Annotation\\\\10\\\\176.xml',\n",
       " 'PolypsSet/val2019/Annotation\\\\10\\\\177.xml',\n",
       " 'PolypsSet/val2019/Annotation\\\\10\\\\178.xml',\n",
       " 'PolypsSet/val2019/Annotation\\\\10\\\\179.xml',\n",
       " 'PolypsSet/val2019/Annotation\\\\10\\\\18.xml',\n",
       " 'PolypsSet/val2019/Annotation\\\\10\\\\180.xml',\n",
       " 'PolypsSet/val2019/Annotation\\\\10\\\\181.xml',\n",
       " 'PolypsSet/val2019/Annotation\\\\10\\\\182.xml',\n",
       " 'PolypsSet/val2019/Annotation\\\\10\\\\183.xml',\n",
       " 'PolypsSet/val2019/Annotation\\\\10\\\\184.xml',\n",
       " 'PolypsSet/val2019/Annotation\\\\10\\\\185.xml',\n",
       " 'PolypsSet/val2019/Annotation\\\\10\\\\186.xml',\n",
       " 'PolypsSet/val2019/Annotation\\\\10\\\\187.xml',\n",
       " 'PolypsSet/val2019/Annotation\\\\10\\\\188.xml',\n",
       " 'PolypsSet/val2019/Annotation\\\\10\\\\189.xml',\n",
       " 'PolypsSet/val2019/Annotation\\\\10\\\\19.xml',\n",
       " 'PolypsSet/val2019/Annotation\\\\10\\\\190.xml',\n",
       " 'PolypsSet/val2019/Annotation\\\\10\\\\191.xml',\n",
       " 'PolypsSet/val2019/Annotation\\\\10\\\\192.xml',\n",
       " 'PolypsSet/val2019/Annotation\\\\10\\\\193.xml',\n",
       " 'PolypsSet/val2019/Annotation\\\\10\\\\194.xml',\n",
       " 'PolypsSet/val2019/Annotation\\\\10\\\\195.xml',\n",
       " 'PolypsSet/val2019/Annotation\\\\10\\\\196.xml',\n",
       " 'PolypsSet/val2019/Annotation\\\\10\\\\197.xml',\n",
       " 'PolypsSet/val2019/Annotation\\\\10\\\\198.xml',\n",
       " 'PolypsSet/val2019/Annotation\\\\10\\\\199.xml',\n",
       " 'PolypsSet/val2019/Annotation\\\\10\\\\2.xml',\n",
       " 'PolypsSet/val2019/Annotation\\\\10\\\\20.xml',\n",
       " 'PolypsSet/val2019/Annotation\\\\10\\\\200.xml',\n",
       " 'PolypsSet/val2019/Annotation\\\\10\\\\201.xml',\n",
       " 'PolypsSet/val2019/Annotation\\\\10\\\\202.xml',\n",
       " 'PolypsSet/val2019/Annotation\\\\10\\\\203.xml',\n",
       " 'PolypsSet/val2019/Annotation\\\\10\\\\204.xml',\n",
       " 'PolypsSet/val2019/Annotation\\\\10\\\\205.xml',\n",
       " 'PolypsSet/val2019/Annotation\\\\10\\\\206.xml',\n",
       " 'PolypsSet/val2019/Annotation\\\\10\\\\207.xml',\n",
       " 'PolypsSet/val2019/Annotation\\\\10\\\\208.xml',\n",
       " 'PolypsSet/val2019/Annotation\\\\10\\\\209.xml',\n",
       " 'PolypsSet/val2019/Annotation\\\\10\\\\21.xml',\n",
       " 'PolypsSet/val2019/Annotation\\\\10\\\\210.xml',\n",
       " 'PolypsSet/val2019/Annotation\\\\10\\\\211.xml',\n",
       " 'PolypsSet/val2019/Annotation\\\\10\\\\212.xml',\n",
       " 'PolypsSet/val2019/Annotation\\\\10\\\\213.xml',\n",
       " 'PolypsSet/val2019/Annotation\\\\10\\\\214.xml',\n",
       " 'PolypsSet/val2019/Annotation\\\\10\\\\215.xml',\n",
       " 'PolypsSet/val2019/Annotation\\\\10\\\\216.xml',\n",
       " 'PolypsSet/val2019/Annotation\\\\10\\\\217.xml',\n",
       " 'PolypsSet/val2019/Annotation\\\\10\\\\218.xml',\n",
       " 'PolypsSet/val2019/Annotation\\\\10\\\\219.xml',\n",
       " 'PolypsSet/val2019/Annotation\\\\10\\\\22.xml',\n",
       " 'PolypsSet/val2019/Annotation\\\\10\\\\220.xml',\n",
       " 'PolypsSet/val2019/Annotation\\\\10\\\\221.xml',\n",
       " 'PolypsSet/val2019/Annotation\\\\10\\\\222.xml',\n",
       " 'PolypsSet/val2019/Annotation\\\\10\\\\223.xml',\n",
       " 'PolypsSet/val2019/Annotation\\\\10\\\\224.xml',\n",
       " 'PolypsSet/val2019/Annotation\\\\10\\\\225.xml',\n",
       " 'PolypsSet/val2019/Annotation\\\\10\\\\226.xml',\n",
       " 'PolypsSet/val2019/Annotation\\\\10\\\\227.xml',\n",
       " 'PolypsSet/val2019/Annotation\\\\10\\\\228.xml',\n",
       " 'PolypsSet/val2019/Annotation\\\\10\\\\229.xml',\n",
       " 'PolypsSet/val2019/Annotation\\\\10\\\\23.xml',\n",
       " 'PolypsSet/val2019/Annotation\\\\10\\\\230.xml',\n",
       " 'PolypsSet/val2019/Annotation\\\\10\\\\231.xml',\n",
       " 'PolypsSet/val2019/Annotation\\\\10\\\\232.xml',\n",
       " 'PolypsSet/val2019/Annotation\\\\10\\\\233.xml',\n",
       " 'PolypsSet/val2019/Annotation\\\\10\\\\234.xml',\n",
       " 'PolypsSet/val2019/Annotation\\\\10\\\\235.xml',\n",
       " 'PolypsSet/val2019/Annotation\\\\10\\\\236.xml',\n",
       " 'PolypsSet/val2019/Annotation\\\\10\\\\237.xml',\n",
       " 'PolypsSet/val2019/Annotation\\\\10\\\\238.xml',\n",
       " 'PolypsSet/val2019/Annotation\\\\10\\\\239.xml',\n",
       " 'PolypsSet/val2019/Annotation\\\\10\\\\24.xml',\n",
       " 'PolypsSet/val2019/Annotation\\\\10\\\\240.xml',\n",
       " 'PolypsSet/val2019/Annotation\\\\10\\\\241.xml',\n",
       " 'PolypsSet/val2019/Annotation\\\\10\\\\242.xml',\n",
       " 'PolypsSet/val2019/Annotation\\\\10\\\\243.xml',\n",
       " 'PolypsSet/val2019/Annotation\\\\10\\\\244.xml',\n",
       " 'PolypsSet/val2019/Annotation\\\\10\\\\245.xml',\n",
       " 'PolypsSet/val2019/Annotation\\\\10\\\\246.xml',\n",
       " 'PolypsSet/val2019/Annotation\\\\10\\\\247.xml',\n",
       " 'PolypsSet/val2019/Annotation\\\\10\\\\248.xml',\n",
       " 'PolypsSet/val2019/Annotation\\\\10\\\\249.xml',\n",
       " 'PolypsSet/val2019/Annotation\\\\10\\\\25.xml',\n",
       " 'PolypsSet/val2019/Annotation\\\\10\\\\250.xml',\n",
       " 'PolypsSet/val2019/Annotation\\\\10\\\\251.xml',\n",
       " 'PolypsSet/val2019/Annotation\\\\10\\\\252.xml',\n",
       " 'PolypsSet/val2019/Annotation\\\\10\\\\253.xml',\n",
       " 'PolypsSet/val2019/Annotation\\\\10\\\\254.xml',\n",
       " 'PolypsSet/val2019/Annotation\\\\10\\\\255.xml',\n",
       " 'PolypsSet/val2019/Annotation\\\\10\\\\256.xml',\n",
       " 'PolypsSet/val2019/Annotation\\\\10\\\\257.xml',\n",
       " 'PolypsSet/val2019/Annotation\\\\10\\\\258.xml',\n",
       " 'PolypsSet/val2019/Annotation\\\\10\\\\259.xml',\n",
       " 'PolypsSet/val2019/Annotation\\\\10\\\\26.xml',\n",
       " 'PolypsSet/val2019/Annotation\\\\10\\\\260.xml',\n",
       " 'PolypsSet/val2019/Annotation\\\\10\\\\261.xml',\n",
       " 'PolypsSet/val2019/Annotation\\\\10\\\\262.xml',\n",
       " 'PolypsSet/val2019/Annotation\\\\10\\\\263.xml',\n",
       " 'PolypsSet/val2019/Annotation\\\\10\\\\264.xml',\n",
       " 'PolypsSet/val2019/Annotation\\\\10\\\\265.xml',\n",
       " 'PolypsSet/val2019/Annotation\\\\10\\\\266.xml',\n",
       " 'PolypsSet/val2019/Annotation\\\\10\\\\267.xml',\n",
       " 'PolypsSet/val2019/Annotation\\\\10\\\\268.xml',\n",
       " 'PolypsSet/val2019/Annotation\\\\10\\\\269.xml',\n",
       " 'PolypsSet/val2019/Annotation\\\\10\\\\27.xml',\n",
       " 'PolypsSet/val2019/Annotation\\\\10\\\\270.xml',\n",
       " 'PolypsSet/val2019/Annotation\\\\10\\\\271.xml',\n",
       " 'PolypsSet/val2019/Annotation\\\\10\\\\272.xml',\n",
       " 'PolypsSet/val2019/Annotation\\\\10\\\\273.xml',\n",
       " 'PolypsSet/val2019/Annotation\\\\10\\\\274.xml',\n",
       " 'PolypsSet/val2019/Annotation\\\\10\\\\275.xml',\n",
       " 'PolypsSet/val2019/Annotation\\\\10\\\\276.xml',\n",
       " 'PolypsSet/val2019/Annotation\\\\10\\\\277.xml',\n",
       " 'PolypsSet/val2019/Annotation\\\\10\\\\278.xml',\n",
       " 'PolypsSet/val2019/Annotation\\\\10\\\\28.xml',\n",
       " 'PolypsSet/val2019/Annotation\\\\10\\\\29.xml',\n",
       " 'PolypsSet/val2019/Annotation\\\\10\\\\3.xml',\n",
       " 'PolypsSet/val2019/Annotation\\\\10\\\\30.xml',\n",
       " 'PolypsSet/val2019/Annotation\\\\10\\\\31.xml',\n",
       " 'PolypsSet/val2019/Annotation\\\\10\\\\32.xml',\n",
       " 'PolypsSet/val2019/Annotation\\\\10\\\\33.xml',\n",
       " 'PolypsSet/val2019/Annotation\\\\10\\\\34.xml',\n",
       " 'PolypsSet/val2019/Annotation\\\\10\\\\35.xml',\n",
       " 'PolypsSet/val2019/Annotation\\\\10\\\\36.xml',\n",
       " 'PolypsSet/val2019/Annotation\\\\10\\\\37.xml',\n",
       " 'PolypsSet/val2019/Annotation\\\\10\\\\38.xml',\n",
       " 'PolypsSet/val2019/Annotation\\\\10\\\\39.xml',\n",
       " 'PolypsSet/val2019/Annotation\\\\10\\\\4.xml',\n",
       " 'PolypsSet/val2019/Annotation\\\\10\\\\40.xml',\n",
       " 'PolypsSet/val2019/Annotation\\\\10\\\\41.xml',\n",
       " 'PolypsSet/val2019/Annotation\\\\10\\\\42.xml',\n",
       " 'PolypsSet/val2019/Annotation\\\\10\\\\43.xml',\n",
       " 'PolypsSet/val2019/Annotation\\\\10\\\\44.xml',\n",
       " 'PolypsSet/val2019/Annotation\\\\10\\\\45.xml',\n",
       " 'PolypsSet/val2019/Annotation\\\\10\\\\46.xml',\n",
       " 'PolypsSet/val2019/Annotation\\\\10\\\\47.xml',\n",
       " 'PolypsSet/val2019/Annotation\\\\10\\\\48.xml',\n",
       " 'PolypsSet/val2019/Annotation\\\\10\\\\49.xml',\n",
       " 'PolypsSet/val2019/Annotation\\\\10\\\\5.xml',\n",
       " 'PolypsSet/val2019/Annotation\\\\10\\\\50.xml',\n",
       " 'PolypsSet/val2019/Annotation\\\\10\\\\51.xml',\n",
       " 'PolypsSet/val2019/Annotation\\\\10\\\\52.xml',\n",
       " 'PolypsSet/val2019/Annotation\\\\10\\\\53.xml',\n",
       " 'PolypsSet/val2019/Annotation\\\\10\\\\54.xml',\n",
       " 'PolypsSet/val2019/Annotation\\\\10\\\\55.xml',\n",
       " 'PolypsSet/val2019/Annotation\\\\10\\\\56.xml',\n",
       " 'PolypsSet/val2019/Annotation\\\\10\\\\57.xml',\n",
       " 'PolypsSet/val2019/Annotation\\\\10\\\\58.xml',\n",
       " 'PolypsSet/val2019/Annotation\\\\10\\\\59.xml',\n",
       " 'PolypsSet/val2019/Annotation\\\\10\\\\6.xml',\n",
       " 'PolypsSet/val2019/Annotation\\\\10\\\\60.xml',\n",
       " 'PolypsSet/val2019/Annotation\\\\10\\\\61.xml',\n",
       " 'PolypsSet/val2019/Annotation\\\\10\\\\62.xml',\n",
       " 'PolypsSet/val2019/Annotation\\\\10\\\\63.xml',\n",
       " 'PolypsSet/val2019/Annotation\\\\10\\\\64.xml',\n",
       " 'PolypsSet/val2019/Annotation\\\\10\\\\65.xml',\n",
       " 'PolypsSet/val2019/Annotation\\\\10\\\\66.xml',\n",
       " 'PolypsSet/val2019/Annotation\\\\10\\\\67.xml',\n",
       " 'PolypsSet/val2019/Annotation\\\\10\\\\68.xml',\n",
       " 'PolypsSet/val2019/Annotation\\\\10\\\\69.xml',\n",
       " 'PolypsSet/val2019/Annotation\\\\10\\\\7.xml',\n",
       " 'PolypsSet/val2019/Annotation\\\\10\\\\70.xml',\n",
       " 'PolypsSet/val2019/Annotation\\\\10\\\\71.xml',\n",
       " 'PolypsSet/val2019/Annotation\\\\10\\\\72.xml',\n",
       " 'PolypsSet/val2019/Annotation\\\\10\\\\73.xml',\n",
       " 'PolypsSet/val2019/Annotation\\\\10\\\\74.xml',\n",
       " 'PolypsSet/val2019/Annotation\\\\10\\\\75.xml',\n",
       " 'PolypsSet/val2019/Annotation\\\\10\\\\76.xml',\n",
       " 'PolypsSet/val2019/Annotation\\\\10\\\\77.xml',\n",
       " 'PolypsSet/val2019/Annotation\\\\10\\\\78.xml',\n",
       " 'PolypsSet/val2019/Annotation\\\\10\\\\79.xml',\n",
       " 'PolypsSet/val2019/Annotation\\\\10\\\\8.xml',\n",
       " 'PolypsSet/val2019/Annotation\\\\10\\\\80.xml',\n",
       " 'PolypsSet/val2019/Annotation\\\\10\\\\81.xml',\n",
       " 'PolypsSet/val2019/Annotation\\\\10\\\\82.xml',\n",
       " 'PolypsSet/val2019/Annotation\\\\10\\\\83.xml',\n",
       " 'PolypsSet/val2019/Annotation\\\\10\\\\84.xml',\n",
       " 'PolypsSet/val2019/Annotation\\\\10\\\\85.xml',\n",
       " 'PolypsSet/val2019/Annotation\\\\10\\\\86.xml',\n",
       " 'PolypsSet/val2019/Annotation\\\\10\\\\87.xml',\n",
       " 'PolypsSet/val2019/Annotation\\\\10\\\\88.xml',\n",
       " 'PolypsSet/val2019/Annotation\\\\10\\\\89.xml',\n",
       " 'PolypsSet/val2019/Annotation\\\\10\\\\9.xml',\n",
       " 'PolypsSet/val2019/Annotation\\\\10\\\\90.xml',\n",
       " 'PolypsSet/val2019/Annotation\\\\10\\\\91.xml',\n",
       " 'PolypsSet/val2019/Annotation\\\\10\\\\92.xml',\n",
       " 'PolypsSet/val2019/Annotation\\\\10\\\\93.xml',\n",
       " 'PolypsSet/val2019/Annotation\\\\10\\\\94.xml',\n",
       " 'PolypsSet/val2019/Annotation\\\\10\\\\95.xml',\n",
       " 'PolypsSet/val2019/Annotation\\\\10\\\\96.xml',\n",
       " 'PolypsSet/val2019/Annotation\\\\10\\\\97.xml',\n",
       " 'PolypsSet/val2019/Annotation\\\\10\\\\98.xml',\n",
       " 'PolypsSet/val2019/Annotation\\\\10\\\\99.xml',\n",
       " 'PolypsSet/val2019/Annotation\\\\11\\\\1.xml',\n",
       " 'PolypsSet/val2019/Annotation\\\\11\\\\10.xml',\n",
       " 'PolypsSet/val2019/Annotation\\\\11\\\\100.xml',\n",
       " 'PolypsSet/val2019/Annotation\\\\11\\\\101.xml',\n",
       " 'PolypsSet/val2019/Annotation\\\\11\\\\102.xml',\n",
       " 'PolypsSet/val2019/Annotation\\\\11\\\\103.xml',\n",
       " 'PolypsSet/val2019/Annotation\\\\11\\\\104.xml',\n",
       " 'PolypsSet/val2019/Annotation\\\\11\\\\105.xml',\n",
       " 'PolypsSet/val2019/Annotation\\\\11\\\\106.xml',\n",
       " 'PolypsSet/val2019/Annotation\\\\11\\\\107.xml',\n",
       " 'PolypsSet/val2019/Annotation\\\\11\\\\108.xml',\n",
       " 'PolypsSet/val2019/Annotation\\\\11\\\\109.xml',\n",
       " 'PolypsSet/val2019/Annotation\\\\11\\\\11.xml',\n",
       " 'PolypsSet/val2019/Annotation\\\\11\\\\110.xml',\n",
       " 'PolypsSet/val2019/Annotation\\\\11\\\\111.xml',\n",
       " 'PolypsSet/val2019/Annotation\\\\11\\\\112.xml',\n",
       " 'PolypsSet/val2019/Annotation\\\\11\\\\113.xml',\n",
       " 'PolypsSet/val2019/Annotation\\\\11\\\\114.xml',\n",
       " 'PolypsSet/val2019/Annotation\\\\11\\\\115.xml',\n",
       " 'PolypsSet/val2019/Annotation\\\\11\\\\116.xml',\n",
       " 'PolypsSet/val2019/Annotation\\\\11\\\\117.xml',\n",
       " 'PolypsSet/val2019/Annotation\\\\11\\\\118.xml',\n",
       " 'PolypsSet/val2019/Annotation\\\\11\\\\119.xml',\n",
       " 'PolypsSet/val2019/Annotation\\\\11\\\\12.xml',\n",
       " 'PolypsSet/val2019/Annotation\\\\11\\\\120.xml',\n",
       " 'PolypsSet/val2019/Annotation\\\\11\\\\121.xml',\n",
       " 'PolypsSet/val2019/Annotation\\\\11\\\\122.xml',\n",
       " 'PolypsSet/val2019/Annotation\\\\11\\\\123.xml',\n",
       " 'PolypsSet/val2019/Annotation\\\\11\\\\124.xml',\n",
       " 'PolypsSet/val2019/Annotation\\\\11\\\\125.xml',\n",
       " 'PolypsSet/val2019/Annotation\\\\11\\\\126.xml',\n",
       " 'PolypsSet/val2019/Annotation\\\\11\\\\127.xml',\n",
       " 'PolypsSet/val2019/Annotation\\\\11\\\\128.xml',\n",
       " 'PolypsSet/val2019/Annotation\\\\11\\\\129.xml',\n",
       " 'PolypsSet/val2019/Annotation\\\\11\\\\13.xml',\n",
       " 'PolypsSet/val2019/Annotation\\\\11\\\\130.xml',\n",
       " 'PolypsSet/val2019/Annotation\\\\11\\\\131.xml',\n",
       " 'PolypsSet/val2019/Annotation\\\\11\\\\132.xml',\n",
       " 'PolypsSet/val2019/Annotation\\\\11\\\\133.xml',\n",
       " 'PolypsSet/val2019/Annotation\\\\11\\\\134.xml',\n",
       " 'PolypsSet/val2019/Annotation\\\\11\\\\135.xml',\n",
       " 'PolypsSet/val2019/Annotation\\\\11\\\\136.xml',\n",
       " 'PolypsSet/val2019/Annotation\\\\11\\\\137.xml',\n",
       " 'PolypsSet/val2019/Annotation\\\\11\\\\138.xml',\n",
       " 'PolypsSet/val2019/Annotation\\\\11\\\\139.xml',\n",
       " 'PolypsSet/val2019/Annotation\\\\11\\\\14.xml',\n",
       " 'PolypsSet/val2019/Annotation\\\\11\\\\140.xml',\n",
       " 'PolypsSet/val2019/Annotation\\\\11\\\\141.xml',\n",
       " 'PolypsSet/val2019/Annotation\\\\11\\\\142.xml',\n",
       " 'PolypsSet/val2019/Annotation\\\\11\\\\143.xml',\n",
       " 'PolypsSet/val2019/Annotation\\\\11\\\\144.xml',\n",
       " 'PolypsSet/val2019/Annotation\\\\11\\\\145.xml',\n",
       " 'PolypsSet/val2019/Annotation\\\\11\\\\146.xml',\n",
       " 'PolypsSet/val2019/Annotation\\\\11\\\\147.xml',\n",
       " 'PolypsSet/val2019/Annotation\\\\11\\\\148.xml',\n",
       " 'PolypsSet/val2019/Annotation\\\\11\\\\149.xml',\n",
       " 'PolypsSet/val2019/Annotation\\\\11\\\\15.xml',\n",
       " 'PolypsSet/val2019/Annotation\\\\11\\\\150.xml',\n",
       " 'PolypsSet/val2019/Annotation\\\\11\\\\151.xml',\n",
       " 'PolypsSet/val2019/Annotation\\\\11\\\\152.xml',\n",
       " 'PolypsSet/val2019/Annotation\\\\11\\\\153.xml',\n",
       " 'PolypsSet/val2019/Annotation\\\\11\\\\154.xml',\n",
       " 'PolypsSet/val2019/Annotation\\\\11\\\\155.xml',\n",
       " 'PolypsSet/val2019/Annotation\\\\11\\\\156.xml',\n",
       " 'PolypsSet/val2019/Annotation\\\\11\\\\157.xml',\n",
       " 'PolypsSet/val2019/Annotation\\\\11\\\\158.xml',\n",
       " 'PolypsSet/val2019/Annotation\\\\11\\\\159.xml',\n",
       " 'PolypsSet/val2019/Annotation\\\\11\\\\16.xml',\n",
       " 'PolypsSet/val2019/Annotation\\\\11\\\\160.xml',\n",
       " 'PolypsSet/val2019/Annotation\\\\11\\\\161.xml',\n",
       " 'PolypsSet/val2019/Annotation\\\\11\\\\162.xml',\n",
       " 'PolypsSet/val2019/Annotation\\\\11\\\\163.xml',\n",
       " 'PolypsSet/val2019/Annotation\\\\11\\\\164.xml',\n",
       " 'PolypsSet/val2019/Annotation\\\\11\\\\165.xml',\n",
       " 'PolypsSet/val2019/Annotation\\\\11\\\\166.xml',\n",
       " 'PolypsSet/val2019/Annotation\\\\11\\\\167.xml',\n",
       " 'PolypsSet/val2019/Annotation\\\\11\\\\168.xml',\n",
       " 'PolypsSet/val2019/Annotation\\\\11\\\\169.xml',\n",
       " 'PolypsSet/val2019/Annotation\\\\11\\\\17.xml',\n",
       " 'PolypsSet/val2019/Annotation\\\\11\\\\170.xml',\n",
       " 'PolypsSet/val2019/Annotation\\\\11\\\\171.xml',\n",
       " 'PolypsSet/val2019/Annotation\\\\11\\\\172.xml',\n",
       " 'PolypsSet/val2019/Annotation\\\\11\\\\173.xml',\n",
       " 'PolypsSet/val2019/Annotation\\\\11\\\\174.xml',\n",
       " 'PolypsSet/val2019/Annotation\\\\11\\\\175.xml',\n",
       " 'PolypsSet/val2019/Annotation\\\\11\\\\176.xml',\n",
       " 'PolypsSet/val2019/Annotation\\\\11\\\\177.xml',\n",
       " 'PolypsSet/val2019/Annotation\\\\11\\\\178.xml',\n",
       " 'PolypsSet/val2019/Annotation\\\\11\\\\179.xml',\n",
       " 'PolypsSet/val2019/Annotation\\\\11\\\\18.xml',\n",
       " 'PolypsSet/val2019/Annotation\\\\11\\\\180.xml',\n",
       " 'PolypsSet/val2019/Annotation\\\\11\\\\181.xml',\n",
       " 'PolypsSet/val2019/Annotation\\\\11\\\\182.xml',\n",
       " 'PolypsSet/val2019/Annotation\\\\11\\\\183.xml',\n",
       " 'PolypsSet/val2019/Annotation\\\\11\\\\184.xml',\n",
       " 'PolypsSet/val2019/Annotation\\\\11\\\\185.xml',\n",
       " 'PolypsSet/val2019/Annotation\\\\11\\\\186.xml',\n",
       " 'PolypsSet/val2019/Annotation\\\\11\\\\187.xml',\n",
       " 'PolypsSet/val2019/Annotation\\\\11\\\\188.xml',\n",
       " 'PolypsSet/val2019/Annotation\\\\11\\\\189.xml',\n",
       " 'PolypsSet/val2019/Annotation\\\\11\\\\19.xml',\n",
       " 'PolypsSet/val2019/Annotation\\\\11\\\\190.xml',\n",
       " 'PolypsSet/val2019/Annotation\\\\11\\\\191.xml',\n",
       " 'PolypsSet/val2019/Annotation\\\\11\\\\192.xml',\n",
       " 'PolypsSet/val2019/Annotation\\\\11\\\\193.xml',\n",
       " 'PolypsSet/val2019/Annotation\\\\11\\\\194.xml',\n",
       " 'PolypsSet/val2019/Annotation\\\\11\\\\195.xml',\n",
       " 'PolypsSet/val2019/Annotation\\\\11\\\\196.xml',\n",
       " 'PolypsSet/val2019/Annotation\\\\11\\\\197.xml',\n",
       " 'PolypsSet/val2019/Annotation\\\\11\\\\198.xml',\n",
       " 'PolypsSet/val2019/Annotation\\\\11\\\\199.xml',\n",
       " 'PolypsSet/val2019/Annotation\\\\11\\\\2.xml',\n",
       " 'PolypsSet/val2019/Annotation\\\\11\\\\20.xml',\n",
       " 'PolypsSet/val2019/Annotation\\\\11\\\\200.xml',\n",
       " 'PolypsSet/val2019/Annotation\\\\11\\\\201.xml',\n",
       " 'PolypsSet/val2019/Annotation\\\\11\\\\202.xml',\n",
       " 'PolypsSet/val2019/Annotation\\\\11\\\\203.xml',\n",
       " 'PolypsSet/val2019/Annotation\\\\11\\\\204.xml',\n",
       " 'PolypsSet/val2019/Annotation\\\\11\\\\205.xml',\n",
       " 'PolypsSet/val2019/Annotation\\\\11\\\\206.xml',\n",
       " 'PolypsSet/val2019/Annotation\\\\11\\\\207.xml',\n",
       " 'PolypsSet/val2019/Annotation\\\\11\\\\208.xml',\n",
       " 'PolypsSet/val2019/Annotation\\\\11\\\\209.xml',\n",
       " 'PolypsSet/val2019/Annotation\\\\11\\\\21.xml',\n",
       " 'PolypsSet/val2019/Annotation\\\\11\\\\210.xml',\n",
       " 'PolypsSet/val2019/Annotation\\\\11\\\\211.xml',\n",
       " 'PolypsSet/val2019/Annotation\\\\11\\\\212.xml',\n",
       " 'PolypsSet/val2019/Annotation\\\\11\\\\213.xml',\n",
       " 'PolypsSet/val2019/Annotation\\\\11\\\\214.xml',\n",
       " 'PolypsSet/val2019/Annotation\\\\11\\\\215.xml',\n",
       " 'PolypsSet/val2019/Annotation\\\\11\\\\216.xml',\n",
       " 'PolypsSet/val2019/Annotation\\\\11\\\\217.xml',\n",
       " 'PolypsSet/val2019/Annotation\\\\11\\\\218.xml',\n",
       " 'PolypsSet/val2019/Annotation\\\\11\\\\219.xml',\n",
       " 'PolypsSet/val2019/Annotation\\\\11\\\\22.xml',\n",
       " 'PolypsSet/val2019/Annotation\\\\11\\\\220.xml',\n",
       " 'PolypsSet/val2019/Annotation\\\\11\\\\221.xml',\n",
       " 'PolypsSet/val2019/Annotation\\\\11\\\\222.xml',\n",
       " 'PolypsSet/val2019/Annotation\\\\11\\\\223.xml',\n",
       " 'PolypsSet/val2019/Annotation\\\\11\\\\224.xml',\n",
       " 'PolypsSet/val2019/Annotation\\\\11\\\\225.xml',\n",
       " 'PolypsSet/val2019/Annotation\\\\11\\\\226.xml',\n",
       " 'PolypsSet/val2019/Annotation\\\\11\\\\227.xml',\n",
       " 'PolypsSet/val2019/Annotation\\\\11\\\\228.xml',\n",
       " 'PolypsSet/val2019/Annotation\\\\11\\\\229.xml',\n",
       " 'PolypsSet/val2019/Annotation\\\\11\\\\23.xml',\n",
       " 'PolypsSet/val2019/Annotation\\\\11\\\\230.xml',\n",
       " 'PolypsSet/val2019/Annotation\\\\11\\\\231.xml',\n",
       " 'PolypsSet/val2019/Annotation\\\\11\\\\232.xml',\n",
       " 'PolypsSet/val2019/Annotation\\\\11\\\\233.xml',\n",
       " 'PolypsSet/val2019/Annotation\\\\11\\\\234.xml',\n",
       " 'PolypsSet/val2019/Annotation\\\\11\\\\235.xml',\n",
       " 'PolypsSet/val2019/Annotation\\\\11\\\\236.xml',\n",
       " 'PolypsSet/val2019/Annotation\\\\11\\\\237.xml',\n",
       " 'PolypsSet/val2019/Annotation\\\\11\\\\238.xml',\n",
       " 'PolypsSet/val2019/Annotation\\\\11\\\\239.xml',\n",
       " 'PolypsSet/val2019/Annotation\\\\11\\\\24.xml',\n",
       " 'PolypsSet/val2019/Annotation\\\\11\\\\240.xml',\n",
       " 'PolypsSet/val2019/Annotation\\\\11\\\\241.xml',\n",
       " 'PolypsSet/val2019/Annotation\\\\11\\\\242.xml',\n",
       " 'PolypsSet/val2019/Annotation\\\\11\\\\243.xml',\n",
       " 'PolypsSet/val2019/Annotation\\\\11\\\\244.xml',\n",
       " 'PolypsSet/val2019/Annotation\\\\11\\\\245.xml',\n",
       " 'PolypsSet/val2019/Annotation\\\\11\\\\246.xml',\n",
       " 'PolypsSet/val2019/Annotation\\\\11\\\\247.xml',\n",
       " 'PolypsSet/val2019/Annotation\\\\11\\\\248.xml',\n",
       " 'PolypsSet/val2019/Annotation\\\\11\\\\249.xml',\n",
       " 'PolypsSet/val2019/Annotation\\\\11\\\\25.xml',\n",
       " 'PolypsSet/val2019/Annotation\\\\11\\\\250.xml',\n",
       " 'PolypsSet/val2019/Annotation\\\\11\\\\251.xml',\n",
       " 'PolypsSet/val2019/Annotation\\\\11\\\\252.xml',\n",
       " 'PolypsSet/val2019/Annotation\\\\11\\\\253.xml',\n",
       " 'PolypsSet/val2019/Annotation\\\\11\\\\254.xml',\n",
       " 'PolypsSet/val2019/Annotation\\\\11\\\\255.xml',\n",
       " 'PolypsSet/val2019/Annotation\\\\11\\\\256.xml',\n",
       " 'PolypsSet/val2019/Annotation\\\\11\\\\257.xml',\n",
       " 'PolypsSet/val2019/Annotation\\\\11\\\\258.xml',\n",
       " 'PolypsSet/val2019/Annotation\\\\11\\\\259.xml',\n",
       " 'PolypsSet/val2019/Annotation\\\\11\\\\26.xml',\n",
       " 'PolypsSet/val2019/Annotation\\\\11\\\\260.xml',\n",
       " 'PolypsSet/val2019/Annotation\\\\11\\\\261.xml',\n",
       " 'PolypsSet/val2019/Annotation\\\\11\\\\262.xml',\n",
       " 'PolypsSet/val2019/Annotation\\\\11\\\\263.xml',\n",
       " 'PolypsSet/val2019/Annotation\\\\11\\\\264.xml',\n",
       " 'PolypsSet/val2019/Annotation\\\\11\\\\265.xml',\n",
       " 'PolypsSet/val2019/Annotation\\\\11\\\\266.xml',\n",
       " 'PolypsSet/val2019/Annotation\\\\11\\\\267.xml',\n",
       " 'PolypsSet/val2019/Annotation\\\\11\\\\268.xml',\n",
       " 'PolypsSet/val2019/Annotation\\\\11\\\\269.xml',\n",
       " 'PolypsSet/val2019/Annotation\\\\11\\\\27.xml',\n",
       " 'PolypsSet/val2019/Annotation\\\\11\\\\270.xml',\n",
       " 'PolypsSet/val2019/Annotation\\\\11\\\\271.xml',\n",
       " 'PolypsSet/val2019/Annotation\\\\11\\\\272.xml',\n",
       " 'PolypsSet/val2019/Annotation\\\\11\\\\273.xml',\n",
       " 'PolypsSet/val2019/Annotation\\\\11\\\\274.xml',\n",
       " 'PolypsSet/val2019/Annotation\\\\11\\\\275.xml',\n",
       " 'PolypsSet/val2019/Annotation\\\\11\\\\276.xml',\n",
       " 'PolypsSet/val2019/Annotation\\\\11\\\\277.xml',\n",
       " 'PolypsSet/val2019/Annotation\\\\11\\\\278.xml',\n",
       " 'PolypsSet/val2019/Annotation\\\\11\\\\279.xml',\n",
       " 'PolypsSet/val2019/Annotation\\\\11\\\\28.xml',\n",
       " 'PolypsSet/val2019/Annotation\\\\11\\\\280.xml',\n",
       " 'PolypsSet/val2019/Annotation\\\\11\\\\281.xml',\n",
       " 'PolypsSet/val2019/Annotation\\\\11\\\\282.xml',\n",
       " 'PolypsSet/val2019/Annotation\\\\11\\\\283.xml',\n",
       " 'PolypsSet/val2019/Annotation\\\\11\\\\284.xml',\n",
       " 'PolypsSet/val2019/Annotation\\\\11\\\\285.xml',\n",
       " 'PolypsSet/val2019/Annotation\\\\11\\\\286.xml',\n",
       " 'PolypsSet/val2019/Annotation\\\\11\\\\287.xml',\n",
       " 'PolypsSet/val2019/Annotation\\\\11\\\\288.xml',\n",
       " 'PolypsSet/val2019/Annotation\\\\11\\\\289.xml',\n",
       " 'PolypsSet/val2019/Annotation\\\\11\\\\29.xml',\n",
       " 'PolypsSet/val2019/Annotation\\\\11\\\\290.xml',\n",
       " 'PolypsSet/val2019/Annotation\\\\11\\\\291.xml',\n",
       " 'PolypsSet/val2019/Annotation\\\\11\\\\292.xml',\n",
       " 'PolypsSet/val2019/Annotation\\\\11\\\\293.xml',\n",
       " 'PolypsSet/val2019/Annotation\\\\11\\\\294.xml',\n",
       " 'PolypsSet/val2019/Annotation\\\\11\\\\295.xml',\n",
       " 'PolypsSet/val2019/Annotation\\\\11\\\\296.xml',\n",
       " 'PolypsSet/val2019/Annotation\\\\11\\\\297.xml',\n",
       " 'PolypsSet/val2019/Annotation\\\\11\\\\298.xml',\n",
       " 'PolypsSet/val2019/Annotation\\\\11\\\\299.xml',\n",
       " 'PolypsSet/val2019/Annotation\\\\11\\\\3.xml',\n",
       " 'PolypsSet/val2019/Annotation\\\\11\\\\30.xml',\n",
       " 'PolypsSet/val2019/Annotation\\\\11\\\\300.xml',\n",
       " 'PolypsSet/val2019/Annotation\\\\11\\\\301.xml',\n",
       " 'PolypsSet/val2019/Annotation\\\\11\\\\302.xml',\n",
       " 'PolypsSet/val2019/Annotation\\\\11\\\\31.xml',\n",
       " 'PolypsSet/val2019/Annotation\\\\11\\\\32.xml',\n",
       " 'PolypsSet/val2019/Annotation\\\\11\\\\33.xml',\n",
       " 'PolypsSet/val2019/Annotation\\\\11\\\\34.xml',\n",
       " 'PolypsSet/val2019/Annotation\\\\11\\\\35.xml',\n",
       " 'PolypsSet/val2019/Annotation\\\\11\\\\36.xml',\n",
       " 'PolypsSet/val2019/Annotation\\\\11\\\\37.xml',\n",
       " 'PolypsSet/val2019/Annotation\\\\11\\\\38.xml',\n",
       " 'PolypsSet/val2019/Annotation\\\\11\\\\39.xml',\n",
       " 'PolypsSet/val2019/Annotation\\\\11\\\\4.xml',\n",
       " 'PolypsSet/val2019/Annotation\\\\11\\\\40.xml',\n",
       " 'PolypsSet/val2019/Annotation\\\\11\\\\41.xml',\n",
       " 'PolypsSet/val2019/Annotation\\\\11\\\\42.xml',\n",
       " 'PolypsSet/val2019/Annotation\\\\11\\\\43.xml',\n",
       " 'PolypsSet/val2019/Annotation\\\\11\\\\44.xml',\n",
       " 'PolypsSet/val2019/Annotation\\\\11\\\\45.xml',\n",
       " 'PolypsSet/val2019/Annotation\\\\11\\\\46.xml',\n",
       " 'PolypsSet/val2019/Annotation\\\\11\\\\47.xml',\n",
       " 'PolypsSet/val2019/Annotation\\\\11\\\\48.xml',\n",
       " 'PolypsSet/val2019/Annotation\\\\11\\\\49.xml',\n",
       " 'PolypsSet/val2019/Annotation\\\\11\\\\5.xml',\n",
       " 'PolypsSet/val2019/Annotation\\\\11\\\\50.xml',\n",
       " 'PolypsSet/val2019/Annotation\\\\11\\\\51.xml',\n",
       " 'PolypsSet/val2019/Annotation\\\\11\\\\52.xml',\n",
       " 'PolypsSet/val2019/Annotation\\\\11\\\\53.xml',\n",
       " 'PolypsSet/val2019/Annotation\\\\11\\\\54.xml',\n",
       " 'PolypsSet/val2019/Annotation\\\\11\\\\55.xml',\n",
       " 'PolypsSet/val2019/Annotation\\\\11\\\\56.xml',\n",
       " 'PolypsSet/val2019/Annotation\\\\11\\\\57.xml',\n",
       " 'PolypsSet/val2019/Annotation\\\\11\\\\58.xml',\n",
       " 'PolypsSet/val2019/Annotation\\\\11\\\\59.xml',\n",
       " 'PolypsSet/val2019/Annotation\\\\11\\\\6.xml',\n",
       " 'PolypsSet/val2019/Annotation\\\\11\\\\60.xml',\n",
       " 'PolypsSet/val2019/Annotation\\\\11\\\\61.xml',\n",
       " 'PolypsSet/val2019/Annotation\\\\11\\\\62.xml',\n",
       " 'PolypsSet/val2019/Annotation\\\\11\\\\63.xml',\n",
       " 'PolypsSet/val2019/Annotation\\\\11\\\\64.xml',\n",
       " 'PolypsSet/val2019/Annotation\\\\11\\\\65.xml',\n",
       " 'PolypsSet/val2019/Annotation\\\\11\\\\66.xml',\n",
       " 'PolypsSet/val2019/Annotation\\\\11\\\\67.xml',\n",
       " 'PolypsSet/val2019/Annotation\\\\11\\\\68.xml',\n",
       " 'PolypsSet/val2019/Annotation\\\\11\\\\69.xml',\n",
       " 'PolypsSet/val2019/Annotation\\\\11\\\\7.xml',\n",
       " 'PolypsSet/val2019/Annotation\\\\11\\\\70.xml',\n",
       " 'PolypsSet/val2019/Annotation\\\\11\\\\71.xml',\n",
       " 'PolypsSet/val2019/Annotation\\\\11\\\\72.xml',\n",
       " 'PolypsSet/val2019/Annotation\\\\11\\\\73.xml',\n",
       " 'PolypsSet/val2019/Annotation\\\\11\\\\74.xml',\n",
       " 'PolypsSet/val2019/Annotation\\\\11\\\\75.xml',\n",
       " 'PolypsSet/val2019/Annotation\\\\11\\\\76.xml',\n",
       " 'PolypsSet/val2019/Annotation\\\\11\\\\77.xml',\n",
       " 'PolypsSet/val2019/Annotation\\\\11\\\\78.xml',\n",
       " 'PolypsSet/val2019/Annotation\\\\11\\\\79.xml',\n",
       " 'PolypsSet/val2019/Annotation\\\\11\\\\8.xml',\n",
       " 'PolypsSet/val2019/Annotation\\\\11\\\\80.xml',\n",
       " 'PolypsSet/val2019/Annotation\\\\11\\\\81.xml',\n",
       " 'PolypsSet/val2019/Annotation\\\\11\\\\82.xml',\n",
       " 'PolypsSet/val2019/Annotation\\\\11\\\\83.xml',\n",
       " 'PolypsSet/val2019/Annotation\\\\11\\\\84.xml',\n",
       " 'PolypsSet/val2019/Annotation\\\\11\\\\85.xml',\n",
       " 'PolypsSet/val2019/Annotation\\\\11\\\\86.xml',\n",
       " 'PolypsSet/val2019/Annotation\\\\11\\\\87.xml',\n",
       " 'PolypsSet/val2019/Annotation\\\\11\\\\88.xml',\n",
       " 'PolypsSet/val2019/Annotation\\\\11\\\\89.xml',\n",
       " 'PolypsSet/val2019/Annotation\\\\11\\\\9.xml',\n",
       " 'PolypsSet/val2019/Annotation\\\\11\\\\90.xml',\n",
       " 'PolypsSet/val2019/Annotation\\\\11\\\\91.xml',\n",
       " 'PolypsSet/val2019/Annotation\\\\11\\\\92.xml',\n",
       " 'PolypsSet/val2019/Annotation\\\\11\\\\93.xml',\n",
       " 'PolypsSet/val2019/Annotation\\\\11\\\\94.xml',\n",
       " 'PolypsSet/val2019/Annotation\\\\11\\\\95.xml',\n",
       " 'PolypsSet/val2019/Annotation\\\\11\\\\96.xml',\n",
       " 'PolypsSet/val2019/Annotation\\\\11\\\\97.xml',\n",
       " 'PolypsSet/val2019/Annotation\\\\11\\\\98.xml',\n",
       " 'PolypsSet/val2019/Annotation\\\\11\\\\99.xml',\n",
       " 'PolypsSet/val2019/Annotation\\\\12\\\\1.xml',\n",
       " 'PolypsSet/val2019/Annotation\\\\12\\\\10.xml',\n",
       " 'PolypsSet/val2019/Annotation\\\\12\\\\100.xml',\n",
       " 'PolypsSet/val2019/Annotation\\\\12\\\\101.xml',\n",
       " 'PolypsSet/val2019/Annotation\\\\12\\\\102.xml',\n",
       " 'PolypsSet/val2019/Annotation\\\\12\\\\103.xml',\n",
       " 'PolypsSet/val2019/Annotation\\\\12\\\\104.xml',\n",
       " 'PolypsSet/val2019/Annotation\\\\12\\\\105.xml',\n",
       " 'PolypsSet/val2019/Annotation\\\\12\\\\106.xml',\n",
       " 'PolypsSet/val2019/Annotation\\\\12\\\\107.xml',\n",
       " 'PolypsSet/val2019/Annotation\\\\12\\\\108.xml',\n",
       " 'PolypsSet/val2019/Annotation\\\\12\\\\109.xml',\n",
       " 'PolypsSet/val2019/Annotation\\\\12\\\\11.xml',\n",
       " 'PolypsSet/val2019/Annotation\\\\12\\\\110.xml',\n",
       " 'PolypsSet/val2019/Annotation\\\\12\\\\111.xml',\n",
       " 'PolypsSet/val2019/Annotation\\\\12\\\\112.xml',\n",
       " 'PolypsSet/val2019/Annotation\\\\12\\\\113.xml',\n",
       " 'PolypsSet/val2019/Annotation\\\\12\\\\114.xml',\n",
       " 'PolypsSet/val2019/Annotation\\\\12\\\\115.xml',\n",
       " 'PolypsSet/val2019/Annotation\\\\12\\\\116.xml',\n",
       " 'PolypsSet/val2019/Annotation\\\\12\\\\117.xml',\n",
       " 'PolypsSet/val2019/Annotation\\\\12\\\\118.xml',\n",
       " 'PolypsSet/val2019/Annotation\\\\12\\\\119.xml',\n",
       " 'PolypsSet/val2019/Annotation\\\\12\\\\12.xml',\n",
       " 'PolypsSet/val2019/Annotation\\\\12\\\\120.xml',\n",
       " 'PolypsSet/val2019/Annotation\\\\12\\\\121.xml',\n",
       " 'PolypsSet/val2019/Annotation\\\\12\\\\122.xml',\n",
       " 'PolypsSet/val2019/Annotation\\\\12\\\\123.xml',\n",
       " 'PolypsSet/val2019/Annotation\\\\12\\\\124.xml',\n",
       " 'PolypsSet/val2019/Annotation\\\\12\\\\125.xml',\n",
       " 'PolypsSet/val2019/Annotation\\\\12\\\\126.xml',\n",
       " 'PolypsSet/val2019/Annotation\\\\12\\\\127.xml',\n",
       " 'PolypsSet/val2019/Annotation\\\\12\\\\128.xml',\n",
       " 'PolypsSet/val2019/Annotation\\\\12\\\\129.xml',\n",
       " 'PolypsSet/val2019/Annotation\\\\12\\\\13.xml',\n",
       " 'PolypsSet/val2019/Annotation\\\\12\\\\130.xml',\n",
       " 'PolypsSet/val2019/Annotation\\\\12\\\\131.xml',\n",
       " 'PolypsSet/val2019/Annotation\\\\12\\\\132.xml',\n",
       " 'PolypsSet/val2019/Annotation\\\\12\\\\133.xml',\n",
       " 'PolypsSet/val2019/Annotation\\\\12\\\\134.xml',\n",
       " 'PolypsSet/val2019/Annotation\\\\12\\\\135.xml',\n",
       " 'PolypsSet/val2019/Annotation\\\\12\\\\136.xml',\n",
       " 'PolypsSet/val2019/Annotation\\\\12\\\\137.xml',\n",
       " 'PolypsSet/val2019/Annotation\\\\12\\\\138.xml',\n",
       " 'PolypsSet/val2019/Annotation\\\\12\\\\139.xml',\n",
       " 'PolypsSet/val2019/Annotation\\\\12\\\\14.xml',\n",
       " 'PolypsSet/val2019/Annotation\\\\12\\\\140.xml',\n",
       " 'PolypsSet/val2019/Annotation\\\\12\\\\141.xml',\n",
       " 'PolypsSet/val2019/Annotation\\\\12\\\\142.xml',\n",
       " 'PolypsSet/val2019/Annotation\\\\12\\\\143.xml',\n",
       " 'PolypsSet/val2019/Annotation\\\\12\\\\144.xml',\n",
       " 'PolypsSet/val2019/Annotation\\\\12\\\\145.xml',\n",
       " 'PolypsSet/val2019/Annotation\\\\12\\\\146.xml',\n",
       " 'PolypsSet/val2019/Annotation\\\\12\\\\147.xml',\n",
       " 'PolypsSet/val2019/Annotation\\\\12\\\\148.xml',\n",
       " 'PolypsSet/val2019/Annotation\\\\12\\\\149.xml',\n",
       " 'PolypsSet/val2019/Annotation\\\\12\\\\15.xml',\n",
       " 'PolypsSet/val2019/Annotation\\\\12\\\\150.xml',\n",
       " 'PolypsSet/val2019/Annotation\\\\12\\\\151.xml',\n",
       " 'PolypsSet/val2019/Annotation\\\\12\\\\152.xml',\n",
       " 'PolypsSet/val2019/Annotation\\\\12\\\\153.xml',\n",
       " 'PolypsSet/val2019/Annotation\\\\12\\\\154.xml',\n",
       " 'PolypsSet/val2019/Annotation\\\\12\\\\155.xml',\n",
       " 'PolypsSet/val2019/Annotation\\\\12\\\\156.xml',\n",
       " 'PolypsSet/val2019/Annotation\\\\12\\\\157.xml',\n",
       " 'PolypsSet/val2019/Annotation\\\\12\\\\158.xml',\n",
       " 'PolypsSet/val2019/Annotation\\\\12\\\\159.xml',\n",
       " 'PolypsSet/val2019/Annotation\\\\12\\\\16.xml',\n",
       " 'PolypsSet/val2019/Annotation\\\\12\\\\160.xml',\n",
       " 'PolypsSet/val2019/Annotation\\\\12\\\\161.xml',\n",
       " 'PolypsSet/val2019/Annotation\\\\12\\\\162.xml',\n",
       " 'PolypsSet/val2019/Annotation\\\\12\\\\163.xml',\n",
       " 'PolypsSet/val2019/Annotation\\\\12\\\\164.xml',\n",
       " 'PolypsSet/val2019/Annotation\\\\12\\\\165.xml',\n",
       " 'PolypsSet/val2019/Annotation\\\\12\\\\166.xml',\n",
       " 'PolypsSet/val2019/Annotation\\\\12\\\\167.xml',\n",
       " 'PolypsSet/val2019/Annotation\\\\12\\\\168.xml',\n",
       " 'PolypsSet/val2019/Annotation\\\\12\\\\169.xml',\n",
       " 'PolypsSet/val2019/Annotation\\\\12\\\\17.xml',\n",
       " 'PolypsSet/val2019/Annotation\\\\12\\\\170.xml',\n",
       " 'PolypsSet/val2019/Annotation\\\\12\\\\171.xml',\n",
       " 'PolypsSet/val2019/Annotation\\\\12\\\\172.xml',\n",
       " 'PolypsSet/val2019/Annotation\\\\12\\\\173.xml',\n",
       " 'PolypsSet/val2019/Annotation\\\\12\\\\174.xml',\n",
       " 'PolypsSet/val2019/Annotation\\\\12\\\\175.xml',\n",
       " 'PolypsSet/val2019/Annotation\\\\12\\\\176.xml',\n",
       " 'PolypsSet/val2019/Annotation\\\\12\\\\177.xml',\n",
       " 'PolypsSet/val2019/Annotation\\\\12\\\\178.xml',\n",
       " 'PolypsSet/val2019/Annotation\\\\12\\\\179.xml',\n",
       " 'PolypsSet/val2019/Annotation\\\\12\\\\18.xml',\n",
       " 'PolypsSet/val2019/Annotation\\\\12\\\\180.xml',\n",
       " 'PolypsSet/val2019/Annotation\\\\12\\\\181.xml',\n",
       " 'PolypsSet/val2019/Annotation\\\\12\\\\182.xml',\n",
       " 'PolypsSet/val2019/Annotation\\\\12\\\\183.xml',\n",
       " 'PolypsSet/val2019/Annotation\\\\12\\\\184.xml',\n",
       " 'PolypsSet/val2019/Annotation\\\\12\\\\185.xml',\n",
       " 'PolypsSet/val2019/Annotation\\\\12\\\\186.xml',\n",
       " 'PolypsSet/val2019/Annotation\\\\12\\\\187.xml',\n",
       " 'PolypsSet/val2019/Annotation\\\\12\\\\188.xml',\n",
       " 'PolypsSet/val2019/Annotation\\\\12\\\\189.xml',\n",
       " 'PolypsSet/val2019/Annotation\\\\12\\\\19.xml',\n",
       " 'PolypsSet/val2019/Annotation\\\\12\\\\190.xml',\n",
       " 'PolypsSet/val2019/Annotation\\\\12\\\\191.xml',\n",
       " 'PolypsSet/val2019/Annotation\\\\12\\\\192.xml',\n",
       " 'PolypsSet/val2019/Annotation\\\\12\\\\193.xml',\n",
       " 'PolypsSet/val2019/Annotation\\\\12\\\\194.xml',\n",
       " 'PolypsSet/val2019/Annotation\\\\12\\\\195.xml',\n",
       " 'PolypsSet/val2019/Annotation\\\\12\\\\196.xml',\n",
       " 'PolypsSet/val2019/Annotation\\\\12\\\\197.xml',\n",
       " 'PolypsSet/val2019/Annotation\\\\12\\\\198.xml',\n",
       " 'PolypsSet/val2019/Annotation\\\\12\\\\199.xml',\n",
       " 'PolypsSet/val2019/Annotation\\\\12\\\\2.xml',\n",
       " 'PolypsSet/val2019/Annotation\\\\12\\\\20.xml',\n",
       " 'PolypsSet/val2019/Annotation\\\\12\\\\200.xml',\n",
       " 'PolypsSet/val2019/Annotation\\\\12\\\\201.xml',\n",
       " 'PolypsSet/val2019/Annotation\\\\12\\\\202.xml',\n",
       " 'PolypsSet/val2019/Annotation\\\\12\\\\203.xml',\n",
       " 'PolypsSet/val2019/Annotation\\\\12\\\\204.xml',\n",
       " 'PolypsSet/val2019/Annotation\\\\12\\\\205.xml',\n",
       " 'PolypsSet/val2019/Annotation\\\\12\\\\21.xml',\n",
       " 'PolypsSet/val2019/Annotation\\\\12\\\\22.xml',\n",
       " 'PolypsSet/val2019/Annotation\\\\12\\\\23.xml',\n",
       " 'PolypsSet/val2019/Annotation\\\\12\\\\24.xml',\n",
       " 'PolypsSet/val2019/Annotation\\\\12\\\\25.xml',\n",
       " 'PolypsSet/val2019/Annotation\\\\12\\\\26.xml',\n",
       " 'PolypsSet/val2019/Annotation\\\\12\\\\27.xml',\n",
       " 'PolypsSet/val2019/Annotation\\\\12\\\\28.xml',\n",
       " 'PolypsSet/val2019/Annotation\\\\12\\\\29.xml',\n",
       " 'PolypsSet/val2019/Annotation\\\\12\\\\3.xml',\n",
       " 'PolypsSet/val2019/Annotation\\\\12\\\\30.xml',\n",
       " 'PolypsSet/val2019/Annotation\\\\12\\\\31.xml',\n",
       " 'PolypsSet/val2019/Annotation\\\\12\\\\32.xml',\n",
       " 'PolypsSet/val2019/Annotation\\\\12\\\\33.xml',\n",
       " 'PolypsSet/val2019/Annotation\\\\12\\\\34.xml',\n",
       " 'PolypsSet/val2019/Annotation\\\\12\\\\35.xml',\n",
       " 'PolypsSet/val2019/Annotation\\\\12\\\\36.xml',\n",
       " 'PolypsSet/val2019/Annotation\\\\12\\\\37.xml',\n",
       " 'PolypsSet/val2019/Annotation\\\\12\\\\38.xml',\n",
       " 'PolypsSet/val2019/Annotation\\\\12\\\\39.xml',\n",
       " 'PolypsSet/val2019/Annotation\\\\12\\\\4.xml',\n",
       " 'PolypsSet/val2019/Annotation\\\\12\\\\40.xml',\n",
       " 'PolypsSet/val2019/Annotation\\\\12\\\\41.xml',\n",
       " 'PolypsSet/val2019/Annotation\\\\12\\\\42.xml',\n",
       " 'PolypsSet/val2019/Annotation\\\\12\\\\43.xml',\n",
       " 'PolypsSet/val2019/Annotation\\\\12\\\\44.xml',\n",
       " 'PolypsSet/val2019/Annotation\\\\12\\\\45.xml',\n",
       " 'PolypsSet/val2019/Annotation\\\\12\\\\46.xml',\n",
       " 'PolypsSet/val2019/Annotation\\\\12\\\\47.xml',\n",
       " 'PolypsSet/val2019/Annotation\\\\12\\\\48.xml',\n",
       " 'PolypsSet/val2019/Annotation\\\\12\\\\49.xml',\n",
       " 'PolypsSet/val2019/Annotation\\\\12\\\\5.xml',\n",
       " 'PolypsSet/val2019/Annotation\\\\12\\\\50.xml',\n",
       " 'PolypsSet/val2019/Annotation\\\\12\\\\51.xml',\n",
       " 'PolypsSet/val2019/Annotation\\\\12\\\\52.xml',\n",
       " 'PolypsSet/val2019/Annotation\\\\12\\\\53.xml',\n",
       " 'PolypsSet/val2019/Annotation\\\\12\\\\54.xml',\n",
       " 'PolypsSet/val2019/Annotation\\\\12\\\\55.xml',\n",
       " 'PolypsSet/val2019/Annotation\\\\12\\\\56.xml',\n",
       " 'PolypsSet/val2019/Annotation\\\\12\\\\57.xml',\n",
       " 'PolypsSet/val2019/Annotation\\\\12\\\\58.xml',\n",
       " 'PolypsSet/val2019/Annotation\\\\12\\\\59.xml',\n",
       " 'PolypsSet/val2019/Annotation\\\\12\\\\6.xml',\n",
       " 'PolypsSet/val2019/Annotation\\\\12\\\\60.xml',\n",
       " 'PolypsSet/val2019/Annotation\\\\12\\\\61.xml',\n",
       " 'PolypsSet/val2019/Annotation\\\\12\\\\62.xml',\n",
       " 'PolypsSet/val2019/Annotation\\\\12\\\\63.xml',\n",
       " 'PolypsSet/val2019/Annotation\\\\12\\\\64.xml',\n",
       " 'PolypsSet/val2019/Annotation\\\\12\\\\65.xml',\n",
       " 'PolypsSet/val2019/Annotation\\\\12\\\\66.xml',\n",
       " ...]"
      ]
     },
     "execution_count": 71,
     "metadata": {},
     "output_type": "execute_result"
    }
   ],
   "source": [
    "valid_y_filepaths"
   ]
  },
  {
   "cell_type": "code",
   "execution_count": 72,
   "metadata": {},
   "outputs": [
    {
     "name": "stderr",
     "output_type": "stream",
     "text": [
      "100%|█████████████████████████████████████████████████████████████████████████████| 4630/4630 [00:07<00:00, 613.03it/s]\n"
     ]
    }
   ],
   "source": [
    "valid_y_polyp_names = get_xml_label_names(valid_y_filepaths)"
   ]
  },
  {
   "cell_type": "code",
   "execution_count": 73,
   "metadata": {},
   "outputs": [
    {
     "name": "stdout",
     "output_type": "stream",
     "text": [
      "4630\n"
     ]
    }
   ],
   "source": [
    "# previous: 4630\n",
    "print(len(valid_y_polyp_names))"
   ]
  },
  {
   "cell_type": "code",
   "execution_count": 74,
   "metadata": {},
   "outputs": [
    {
     "data": {
      "text/plain": [
       "['hyperplastic',\n",
       " 'hyperplastic',\n",
       " 'hyperplastic',\n",
       " 'hyperplastic',\n",
       " 'hyperplastic']"
      ]
     },
     "execution_count": 74,
     "metadata": {},
     "output_type": "execute_result"
    }
   ],
   "source": [
    "valid_y_polyp_names[:5]"
   ]
  },
  {
   "cell_type": "code",
   "execution_count": 75,
   "metadata": {},
   "outputs": [
    {
     "data": {
      "text/plain": [
       "<matplotlib.axes._subplots.AxesSubplot at 0x1dbd52f4dd8>"
      ]
     },
     "execution_count": 75,
     "metadata": {},
     "output_type": "execute_result"
    },
    {
     "data": {
      "image/png": "[encoded data removed]",
      "text/plain": [
       "<Figure size 432x288 with 1 Axes>"
      ]
     },
     "metadata": {
      "needs_background": "light"
     },
     "output_type": "display_data"
    }
   ],
   "source": [
    "sns.countplot(valid_y_polyp_names)"
   ]
  },
  {
   "cell_type": "code",
   "execution_count": 76,
   "metadata": {},
   "outputs": [],
   "source": [
    "valid_y = label_enc.fit_transform(valid_y_polyp_names)"
   ]
  },
  {
   "cell_type": "code",
   "execution_count": 77,
   "metadata": {},
   "outputs": [
    {
     "data": {
      "text/plain": [
       "array([2, 2, 2, ..., 2, 2, 2], dtype=int64)"
      ]
     },
     "execution_count": 77,
     "metadata": {},
     "output_type": "execute_result"
    }
   ],
   "source": [
    "valid_y"
   ]
  },
  {
   "cell_type": "code",
   "execution_count": null,
   "metadata": {},
   "outputs": [],
   "source": []
  },
  {
   "cell_type": "code",
   "execution_count": 23,
   "metadata": {},
   "outputs": [],
   "source": []
  },
  {
   "cell_type": "markdown",
   "metadata": {},
   "source": [
    "## Get Images for Training X Set"
   ]
  },
  {
   "cell_type": "code",
   "execution_count": 7,
   "metadata": {},
   "outputs": [],
   "source": [
    "train_X_basepath = \"PolypsSet/train2019/Image\"\n",
    "file_type = \".jpg\"\n",
    "train_X_filepaths, train_X_filenames = get_filepaths(train_X_basepath, file_type)"
   ]
  },
  {
   "cell_type": "code",
   "execution_count": 8,
   "metadata": {},
   "outputs": [
    {
     "name": "stderr",
     "output_type": "stream",
     "text": [
      "100%|███████████████████████████████████████████████████████████████████████████| 28773/28773 [03:35<00:00, 133.43it/s]\n"
     ]
    }
   ],
   "source": [
    "train_X_images = get_images(train_X_filepaths, 120)"
   ]
  },
  {
   "cell_type": "code",
   "execution_count": 10,
   "metadata": {},
   "outputs": [],
   "source": [
    "X_train = np.array(train_X_images)"
   ]
  },
  {
   "cell_type": "code",
   "execution_count": 11,
   "metadata": {},
   "outputs": [
    {
     "data": {
      "text/plain": [
       "(28773, 120, 120, 3)"
      ]
     },
     "execution_count": 11,
     "metadata": {},
     "output_type": "execute_result"
    }
   ],
   "source": [
    "X_train.shape"
   ]
  },
  {
   "cell_type": "code",
   "execution_count": 12,
   "metadata": {
    "scrolled": true
   },
   "outputs": [
    {
     "data": {
      "text/plain": [
       "array([[[0, 0, 0],\n",
       "        [0, 0, 0],\n",
       "        [0, 0, 0],\n",
       "        ...,\n",
       "        [0, 0, 0],\n",
       "        [0, 0, 0],\n",
       "        [0, 0, 0]],\n",
       "\n",
       "       [[0, 0, 0],\n",
       "        [0, 0, 0],\n",
       "        [0, 0, 0],\n",
       "        ...,\n",
       "        [0, 0, 0],\n",
       "        [0, 0, 0],\n",
       "        [0, 0, 0]],\n",
       "\n",
       "       [[0, 0, 0],\n",
       "        [0, 0, 0],\n",
       "        [0, 0, 0],\n",
       "        ...,\n",
       "        [0, 0, 0],\n",
       "        [0, 0, 0],\n",
       "        [0, 0, 0]],\n",
       "\n",
       "       ...,\n",
       "\n",
       "       [[0, 0, 0],\n",
       "        [0, 0, 0],\n",
       "        [0, 0, 0],\n",
       "        ...,\n",
       "        [0, 0, 0],\n",
       "        [0, 0, 0],\n",
       "        [0, 0, 0]],\n",
       "\n",
       "       [[0, 0, 0],\n",
       "        [0, 0, 0],\n",
       "        [0, 0, 0],\n",
       "        ...,\n",
       "        [0, 0, 0],\n",
       "        [0, 0, 0],\n",
       "        [0, 0, 0]],\n",
       "\n",
       "       [[0, 0, 0],\n",
       "        [0, 0, 0],\n",
       "        [0, 0, 0],\n",
       "        ...,\n",
       "        [0, 0, 0],\n",
       "        [0, 0, 0],\n",
       "        [0, 0, 0]]], dtype=uint8)"
      ]
     },
     "execution_count": 12,
     "metadata": {},
     "output_type": "execute_result"
    }
   ],
   "source": [
    "X_train[0]"
   ]
  },
  {
   "cell_type": "code",
   "execution_count": 13,
   "metadata": {},
   "outputs": [
    {
     "data": {
      "text/plain": [
       "<matplotlib.image.AxesImage at 0x1d7c9b51278>"
      ]
     },
     "execution_count": 13,
     "metadata": {},
     "output_type": "execute_result"
    },
    {
     "data": {
      "image/png": "[encoded data removed]",
      "text/plain": [
       "<Figure size 432x288 with 1 Axes>"
      ]
     },
     "metadata": {
      "needs_background": "light"
     },
     "output_type": "display_data"
    }
   ],
   "source": [
    "plt.suptitle(train_X_filepaths[0])\n",
    "plt.imshow(X_train[0])"
   ]
  },
  {
   "cell_type": "code",
   "execution_count": 29,
   "metadata": {},
   "outputs": [
    {
     "data": {
      "image/png": "[encoded data removed]",
      "text/plain": [
       "<Figure size 2160x288 with 1 Axes>"
      ]
     },
     "metadata": {
      "needs_background": "light"
     },
     "output_type": "display_data"
    }
   ],
   "source": [
    "plot_sample(X_train, y_train, 0)"
   ]
  },
  {
   "cell_type": "code",
   "execution_count": 30,
   "metadata": {
    "scrolled": true
   },
   "outputs": [
    {
     "data": {
      "text/plain": [
       "array([[[0., 0., 0.],\n",
       "        [0., 0., 0.],\n",
       "        [0., 0., 0.],\n",
       "        ...,\n",
       "        [0., 0., 0.],\n",
       "        [0., 0., 0.],\n",
       "        [0., 0., 0.]],\n",
       "\n",
       "       [[0., 0., 0.],\n",
       "        [0., 0., 0.],\n",
       "        [0., 0., 0.],\n",
       "        ...,\n",
       "        [0., 0., 0.],\n",
       "        [0., 0., 0.],\n",
       "        [0., 0., 0.]],\n",
       "\n",
       "       [[0., 0., 0.],\n",
       "        [0., 0., 0.],\n",
       "        [0., 0., 0.],\n",
       "        ...,\n",
       "        [0., 0., 0.],\n",
       "        [0., 0., 0.],\n",
       "        [0., 0., 0.]],\n",
       "\n",
       "       ...,\n",
       "\n",
       "       [[0., 0., 0.],\n",
       "        [0., 0., 0.],\n",
       "        [0., 0., 0.],\n",
       "        ...,\n",
       "        [0., 0., 0.],\n",
       "        [0., 0., 0.],\n",
       "        [0., 0., 0.]],\n",
       "\n",
       "       [[0., 0., 0.],\n",
       "        [0., 0., 0.],\n",
       "        [0., 0., 0.],\n",
       "        ...,\n",
       "        [0., 0., 0.],\n",
       "        [0., 0., 0.],\n",
       "        [0., 0., 0.]],\n",
       "\n",
       "       [[0., 0., 0.],\n",
       "        [0., 0., 0.],\n",
       "        [0., 0., 0.],\n",
       "        ...,\n",
       "        [0., 0., 0.],\n",
       "        [0., 0., 0.],\n",
       "        [0., 0., 0.]]])"
      ]
     },
     "execution_count": 30,
     "metadata": {},
     "output_type": "execute_result"
    }
   ],
   "source": [
    "# divide by 255, normalize img between 0 and 1 range\n",
    "X_train[0]/255"
   ]
  },
  {
   "cell_type": "code",
   "execution_count": 31,
   "metadata": {},
   "outputs": [],
   "source": [
    "# So now we can apply normalize to each img in X_train & X_test\n",
    "X_train = X_train / 255"
   ]
  },
  {
   "cell_type": "markdown",
   "metadata": {},
   "source": [
    "## Get Images for Validation X Set"
   ]
  },
  {
   "cell_type": "code",
   "execution_count": 80,
   "metadata": {},
   "outputs": [],
   "source": [
    "valid_X_basepath = \"PolypsSet/val2019/Image\"\n",
    "file_type = \".jpg\"\n",
    "valid_X_filepaths, valid_X_filenames = get_filepaths_videonum_dirs(valid_X_basepath, file_type)\n",
    "\n",
    "# train_X_basepath = \"PolypsSet/train2019/Image\"\n",
    "# file_type = \".jpg\"\n",
    "# train_X_filepaths, train_X_filenames = get_filepaths(train_X_basepath, file_type)"
   ]
  },
  {
   "cell_type": "code",
   "execution_count": 81,
   "metadata": {},
   "outputs": [
    {
     "data": {
      "text/plain": [
       "['1',\n",
       " '10',\n",
       " '11',\n",
       " '12',\n",
       " '13',\n",
       " '14',\n",
       " '15',\n",
       " '16',\n",
       " '17',\n",
       " '2',\n",
       " '3',\n",
       " '4',\n",
       " '5',\n",
       " '6',\n",
       " '7',\n",
       " '8',\n",
       " '9']"
      ]
     },
     "execution_count": 81,
     "metadata": {},
     "output_type": "execute_result"
    }
   ],
   "source": [
    "os.listdir(valid_X_basepath)"
   ]
  },
  {
   "cell_type": "code",
   "execution_count": null,
   "metadata": {},
   "outputs": [],
   "source": [
    "valid_X_images = get_images(valid_X_filepaths, 120)"
   ]
  },
  {
   "cell_type": "code",
   "execution_count": null,
   "metadata": {},
   "outputs": [],
   "source": [
    "X_valid = np.array(valid_X_images)"
   ]
  },
  {
   "cell_type": "code",
   "execution_count": null,
   "metadata": {},
   "outputs": [],
   "source": [
    "X_valid.shape"
   ]
  },
  {
   "cell_type": "code",
   "execution_count": null,
   "metadata": {},
   "outputs": [],
   "source": [
    "plot_sample(X_valid, y_valid, 0)"
   ]
  },
  {
   "cell_type": "code",
   "execution_count": null,
   "metadata": {},
   "outputs": [],
   "source": [
    "# So now we can apply normalize to each img in X_train & X_test\n",
    "X_valid = X_valid / 255"
   ]
  },
  {
   "cell_type": "markdown",
   "metadata": {},
   "source": [
    "## Build Artificial Neural Network"
   ]
  },
  {
   "cell_type": "code",
   "execution_count": 34,
   "metadata": {},
   "outputs": [],
   "source": [
    "ann = models.Sequential([\n",
    "    # flatten layer 2D 32x32 RGB img to array vector\n",
    "    layers.Flatten(input_shape=(120,120,3)),\n",
    "    # Deep dense layer with 3000 neurons and relu activation\n",
    "    layers.Dense(3000, activation=\"relu\"),\n",
    "    # Deep dense layer with 1000 neurons and relu activation\n",
    "    layers.Dense(1000, activation=\"relu\"),\n",
    "    # Last dense layers has 3 neurons since we have 10 categories\n",
    "    layers.Dense(3, activation=\"sigmoid\")\n",
    "])"
   ]
  },
  {
   "cell_type": "code",
   "execution_count": 35,
   "metadata": {},
   "outputs": [],
   "source": [
    "# we are using sparse_categorical_crossentropy since our y_train is \n",
    "# label encoded\n",
    "ann.compile(optimizer=\"SGD\",\n",
    "            loss=\"sparse_categorical_crossentropy\",\n",
    "            metrics=[\"accuracy\"])"
   ]
  },
  {
   "cell_type": "code",
   "execution_count": 36,
   "metadata": {},
   "outputs": [
    {
     "name": "stdout",
     "output_type": "stream",
     "text": [
      "Epoch 1/5\n",
      "28773/28773 [==============================] - 132s 5ms/step - loss: 0.6457 - acc: 0.7010\n",
      "Epoch 2/5\n",
      "28773/28773 [==============================] - 81s 3ms/step - loss: 0.3655 - acc: 0.8649: 1s - loss: 0.3625 - acc: 0.86 - ETA: 1s - loss: \n",
      "Epoch 3/5\n",
      "28773/28773 [==============================] - 81s 3ms/step - loss: 0.2443 - acc: 0.9131\n",
      "Epoch 4/5\n",
      "28773/28773 [==============================] - 55s 2ms/step - loss: 0.1897 - acc: 0.9336\n",
      "Epoch 5/5\n",
      "28773/28773 [==============================] - 48s 2ms/step - loss: 0.1461 - acc: 0.9483\n"
     ]
    },
    {
     "data": {
      "text/plain": [
       "<keras.callbacks.History at 0x1d7c9d695c0>"
      ]
     },
     "execution_count": 36,
     "metadata": {},
     "output_type": "execute_result"
    }
   ],
   "source": [
    "ann.fit(X_train, y_train, epochs=5)"
   ]
  },
  {
   "cell_type": "code",
   "execution_count": null,
   "metadata": {},
   "outputs": [],
   "source": []
  }
 ],
 "metadata": {
  "kernelspec": {
   "display_name": "Python 3",
   "language": "python",
   "name": "python3"
  },
  "language_info": {
   "codemirror_mode": {
    "name": "ipython",
    "version": 3
   },
   "file_extension": ".py",
   "mimetype": "text/x-python",
   "name": "python",
   "nbconvert_exporter": "python",
   "pygments_lexer": "ipython3",
   "version": "3.5.6"
  }
 },
 "nbformat": 4,
 "nbformat_minor": 4
}
