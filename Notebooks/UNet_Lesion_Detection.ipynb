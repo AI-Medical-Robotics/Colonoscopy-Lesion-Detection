{
 "cells": [
  {
   "cell_type": "code",
   "execution_count": 8,
   "id": "b8868dd3",
   "metadata": {},
   "outputs": [],
   "source": [
    "import segmentation_models as sm\n",
    "from segmentation_models import Unet\n",
    "from segmentation_models import get_preprocessing\n",
    "from segmentation_models.losses import bce_jaccard_loss\n",
    "from segmentation_models.metrics import iou_score\n"
   ]
  },
  {
   "cell_type": "code",
   "execution_count": 39,
   "id": "e1cfa13d",
   "metadata": {},
   "outputs": [],
   "source": [
    "import tensorflow as tf\n",
    "from tensorflow import keras \n",
    "from tensorflow.keras.models import load_model\n",
    "import h5py\n",
    "from tensorflow.keras import __version__ as keras_version\n",
    "from tensorflow.keras import datasets, layers, models\n",
    "from tensorflow.keras.models import Sequential, Model\n",
    "from tensorflow.keras.layers import Input, Flatten, Dense, Activation, Lambda, Cropping2D, Dropout, BatchNormalization\n",
    "from tensorflow.keras.layers import Conv2D\n",
    "from tensorflow.keras.layers import GlobalMaxPooling2D"
   ]
  },
  {
   "cell_type": "code",
   "execution_count": 11,
   "id": "ae7b7cb8",
   "metadata": {},
   "outputs": [],
   "source": [
    "import os\n",
    "import csv\n",
    "import cv2\n",
    "import sys\n",
    "import collections\n",
    "import pandas as pd\n",
    "import itertools\n",
    "import numpy as np\n",
    "import seaborn as sns\n",
    "from tqdm import tqdm\n",
    "\n",
    "from pathlib import Path\n",
    "import matplotlib.pyplot as plt\n",
    "import matplotlib.image as mpimg\n",
    "\n",
    "from sklearn.preprocessing import LabelEncoder, LabelBinarizer\n",
    "\n",
    "import xml.etree.ElementTree as ET"
   ]
  },
  {
   "cell_type": "code",
   "execution_count": 12,
   "id": "f916c185",
   "metadata": {},
   "outputs": [],
   "source": [
    "def get_filepaths(basepath, remove_ext=False):\n",
    "    files = []\n",
    "    filenames = []\n",
    "    for filename in os.listdir(basepath):\n",
    "#         print(\"filename =\", filename)\n",
    "        if remove_ext is True:\n",
    "            file_name, file_ext = filename.split(\".\")\n",
    "#             print(\"file_name =\", file_name)\n",
    "#             print(\"file_ext =\", file_ext)\n",
    "            filepath = os.path.join(basepath, file_name)\n",
    "            files.append(filepath)\n",
    "            filenames.append(file_name)\n",
    "        else:\n",
    "            filepath = os.path.join(basepath, filename)\n",
    "            files.append(filepath)\n",
    "            filenames.append(filename)\n",
    "    return files, filenames\n",
    "    \n",
    "# TODO: Move above code into this function\n",
    "def get_filepaths_videonum_dirs(basepath):\n",
    "    videonum_frame_filepaths = []\n",
    "    videonum_frame_filenames = []\n",
    "    # loop each video number dir getting each frame filepath per video\n",
    "    for videonum_dir in os.listdir(basepath):\n",
    "        videonum_dirpath = os.path.join(basepath, videonum_dir)\n",
    "        videonum_dirfilepaths, videonum_dirfilenames = get_filepaths(videonum_dirpath, remove_ext=True)\n",
    "        videonum_frame_filepaths.extend(videonum_dirfilepaths)\n",
    "        videonum_frame_filenames.extend(videonum_dirfilenames)\n",
    "    return videonum_frame_filepaths, videonum_frame_filenames\n",
    "    \n",
    "def get_filepaths_videonum_dirs_xy(X_basepath, y_basepath):\n",
    "    videonum_X_filepaths = []\n",
    "    videonum_X_filenames = []\n",
    "    videonum_y_filepaths = []\n",
    "    videonum_y_filenames = []\n",
    "    for videonum_X_dir, videonum_y_dir in zip(os.listdir(X_basepath), os.listdir(y_basepath)):\n",
    "        videonum_X_dirpath = os.path.join(X_basepath, videonum_X_dir)\n",
    "        videonum_y_dirpath = os.path.join(y_basepath, videonum_y_dir)\n",
    "        videonum_y_dirfilepaths_tmp = []\n",
    "        videonum_y_dirfilenames_tmp = []\n",
    "        videonum_X_dirfilepaths, videonum_X_dirfilenames = get_filepaths(videonum_X_dirpath, remove_ext=True)\n",
    "        videonum_y_dirfilepaths, videonum_y_dirfilenames = get_filepaths(videonum_y_dirpath, remove_ext=True)\n",
    "#         print(\"len(videonum_X_dirfilenames) =\", len(videonum_X_dirfilenames))\n",
    "#         print(\"len(videonum_y_dirfilenames) =\", len(videonum_y_dirfilenames))\n",
    "        if len(videonum_X_dirfilenames) != len(videonum_y_dirfilenames):\n",
    "            for y_i in range(len(videonum_y_dirfilenames)):\n",
    "                if videonum_y_dirfilenames[y_i] in videonum_X_dirfilenames:\n",
    "#                     print(\"videonum_y_dirfilenames[y_i] =\", videonum_y_dirfilenames[y_i])\n",
    "#                     print(\"is in videonum_X_dirfilenames = \", videonum_X_dirfilenames)\n",
    "                    videonum_y_dirfilenames_tmp.append(videonum_y_dirfilenames[y_i] + \".xml\")\n",
    "                    videonum_y_dirfilepaths_tmp.append(videonum_y_dirfilepaths[y_i] + \".xml\")\n",
    "            videonum_y_filepaths.extend(videonum_y_dirfilepaths_tmp)\n",
    "            videonum_y_filenames.extend(videonum_y_dirfilenames_tmp)\n",
    "#             print(\"len(videonum_X_dirfilenames) =\", len(videonum_X_dirfilenames))\n",
    "#             print(\"len(videonum_y_dirfilenames_tmp) =\", len(videonum_y_dirfilenames_tmp))\n",
    "        else:\n",
    "            videonum_y_dirfilepaths = [filepath + \".xml\" for filepath in videonum_y_dirfilepaths]\n",
    "            videonum_y_dirfilenames = [filename + \".xml\" for filename in videonum_y_dirfilenames]\n",
    "            videonum_y_filepaths.extend(videonum_y_dirfilepaths)\n",
    "            videonum_y_filenames.extend(videonum_y_dirfilenames)\n",
    "#             print(\"len(videonum_X_dirfilenames) =\", len(videonum_X_dirfilenames))\n",
    "#             print(\"len(videonum_y_dirfilenames) =\", len(videonum_y_dirfilenames))\n",
    "        videonum_X_dirfilepaths = [filepath + \".jpg\" for filepath in videonum_X_dirfilepaths]\n",
    "        videonum_X_dirfilenames = [filename + \".jpg\" for filename in videonum_X_dirfilenames]\n",
    "        videonum_X_filepaths.extend(videonum_X_dirfilepaths)\n",
    "        videonum_X_filenames.extend(videonum_X_dirfilenames)\n",
    "    return videonum_X_filepaths, videonum_X_filenames, videonum_y_filepaths, videonum_y_filenames\n",
    "    \n",
    "def read_img(img_path):\n",
    "    # (height, width, 3)\n",
    "    image = cv2.imread(img_path)\n",
    "    return image\n",
    "\n",
    "def get_xml_label_names(xml_files):\n",
    "    label_names = []\n",
    "    for xml_file in tqdm(xml_files):\n",
    "        train_y_tree = ET.parse(xml_file)\n",
    "        train_y_root = train_y_tree.getroot()\n",
    "        if train_y_root.find(\"object\") != None:\n",
    "            train_y_object = train_y_root.find(\"object\")\n",
    "            train_y_polyp_name = train_y_object.find(\"name\").text\n",
    "        else:\n",
    "            train_y_polyp_name = \"Not Specified\"\n",
    "        label_names.append(train_y_polyp_name)\n",
    "    return label_names\n",
    "\n",
    "def get_xml_boundboxes(xml_files):\n",
    "    bound_boxes = []\n",
    "    for xml_file in tqdm(xml_files):\n",
    "        train_y_tree = ET.parse(xml_file)\n",
    "        train_y_root = train_y_tree.getroot()\n",
    "        if train_y_root.find(\"object\") != None:\n",
    "            train_y_object = train_y_root.find(\"object\")\n",
    "            train_y_bndbox = train_y_object.find(\"bndbox\")\n",
    "            train_y_bndbox_xmin = train_y_bndbox.find(\"xmin\").text\n",
    "            train_y_bndbox_ymin = train_y_bndbox.find(\"ymin\").text\n",
    "            train_y_bndbox_xmax = train_y_bndbox.find(\"xmax\").text\n",
    "            train_y_bndbox_ymax = train_y_bndbox.find(\"ymax\").text\n",
    "            bound_box_tuple = (train_y_bndbox_xmin, train_y_bndbox_ymin, train_y_bndbox_xmax, train_y_bndbox_ymax)\n",
    "        else:\n",
    "            bound_box_tuple = False\n",
    "        bound_boxes.append(\n",
    "            bound_box_tuple\n",
    "        )\n",
    "    return bound_boxes\n",
    "\n",
    "# normalizes image pixel values betwen -0.5 and 0.5\n",
    "def normalize_images(images):\n",
    "    norm_images = []\n",
    "    for image in tqdm(images):\n",
    "        norm_img = (image/255.0) - 0.5\n",
    "        norm_images.append(norm_img)\n",
    "    return norm_images\n",
    "\n",
    "def normalize_image(image):\n",
    "    norm_img = (image/255.0) - 0.5\n",
    "    return norm_img\n",
    "\n",
    "def resize_image(image, size):\n",
    "    resized_image = cv2.resize(image, (size, size))\n",
    "    return resize_image\n",
    "    \n",
    "def grayscale(img):\n",
    "    return cv2.cvtColor(img, cv2.COLOR_RGB2GRAY)\n",
    "\n",
    "def gaussian_blur(img, kernel_size):\n",
    "    return cv2.GaussianBlur(img, (kernel_size, kernel_size), 0)\n",
    "\n",
    "def get_images(image_group, size):\n",
    "    images = []\n",
    "    for image_path in tqdm(image_group):\n",
    "        image = read_img(image_path)\n",
    "        resized_img = cv2.resize(image, (size, size))\n",
    "        images.append(resized_img)\n",
    "    return images\n",
    "\n",
    "def remove_non_labeled_polyps(images, polyp_names):\n",
    "    cln_X_img = []\n",
    "    cln_y_polyp_names = []\n",
    "    for image, label in zip(images, polyp_names):\n",
    "        if label != \"Not Specified\":\n",
    "            cln_X_img.append(image)\n",
    "            cln_y_polyp_names.append(label)\n",
    "            \n",
    "    return cln_X_img, cln_y_polyp_names\n",
    "\n",
    "def create_image_label_groups(image_paths, image_labels, batch_size=32):\n",
    "    # Divide image paths and image labels into groups of BATCH_SIZE\n",
    "    image_groups = list()\n",
    "    label_groups = list()\n",
    "    \n",
    "    for idx in range(0, len(image_paths), batch_size):\n",
    "        image_batch = list()\n",
    "        for index in range(idx, idx + batch_size):\n",
    "            image_batch.append(image_paths[index % len(image_paths)])\n",
    "        image_groups.append(image_batch)\n",
    "            \n",
    "    for idx in range(0, len(image_labels), batch_size):\n",
    "        for index in range(idx, idx + batch_size):\n",
    "            label_groups.append(image_labels[index % len(image_labels)])\n",
    "    \n",
    "    return image_groups, label_groups\n",
    "    \n",
    "def create_image_batch(image_group):\n",
    "    # get the max image shape from the batch of images\n",
    "    max_shape = tuple()\n",
    "    image_shapes = list()\n",
    "    \n",
    "    for channel in range(3):\n",
    "        for image in image_group:\n",
    "            image_shapes.append(image.shape[channel])\n",
    "        \n",
    "def change_extension(img_file, file_type):\n",
    "    p = Path(img_file)\n",
    "    return p.rename(p.with_suffix(file_type))\n",
    "    \n",
    "# loads image from filepath using opencv\n",
    "def get_image(basepath, filepath):\n",
    "    # read images\n",
    "    source_path = filepath\n",
    "    # extract filename from filepath using split and check platform\n",
    "    if sys.platform == 'win32':\n",
    "        filename = source_path.split(\"\\\\\")[-1]\n",
    "    elif sys.platform == 'linux' or sys.platform == 'darwin':\n",
    "        filename = source_path.split(\"/\")[-1]\n",
    "    # add filename to end of path to PolypSet dir, so platform isn't an issue\n",
    "    img_path_on_fs = basepath + filename\n",
    "    # load image using opencv\n",
    "    image = cv2.imread(img_path_on_fs)\n",
    "    return image\n",
    "\n",
    "\n",
    "def plot_sample(X, y, index):\n",
    "    plt.figure(figsize = (30,4))\n",
    "    plt.imshow(X[index])\n",
    "    plt.xlabel(classes[y[index]])"
   ]
  },
  {
   "cell_type": "code",
   "execution_count": 9,
   "id": "a06a07ce",
   "metadata": {},
   "outputs": [],
   "source": [
    "sm.set_framework('tf.keras')"
   ]
  },
  {
   "cell_type": "code",
   "execution_count": null,
   "id": "8dcba942",
   "metadata": {},
   "outputs": [],
   "source": []
  },
  {
   "cell_type": "markdown",
   "id": "aac5db50",
   "metadata": {},
   "source": [
    "## Load Training Set"
   ]
  },
  {
   "cell_type": "code",
   "execution_count": 13,
   "id": "f6c7d6e0",
   "metadata": {},
   "outputs": [],
   "source": [
    "train_y_basepath = \"PolypsSet/train2019/Annotation\"\n",
    "file_type = \".xml\"\n",
    "train_y_filepaths, train_y_filenames = get_filepaths(train_y_basepath, file_type)"
   ]
  },
  {
   "cell_type": "code",
   "execution_count": 14,
   "id": "51c5aef4",
   "metadata": {},
   "outputs": [],
   "source": [
    "train_X_basepath = \"PolypsSet/train2019/Image\"\n",
    "file_type = \".jpg\"\n",
    "train_X_filepaths, train_X_filenames = get_filepaths(train_X_basepath, file_type)"
   ]
  },
  {
   "cell_type": "code",
   "execution_count": 15,
   "id": "63b231a7",
   "metadata": {},
   "outputs": [
    {
     "name": "stderr",
     "output_type": "stream",
     "text": [
      "100%|███████████████████████████████████████████████████████████████████████████| 28773/28773 [03:21<00:00, 142.65it/s]\n"
     ]
    }
   ],
   "source": [
    "train_y_polyp_names = get_xml_label_names(train_y_filepaths)"
   ]
  },
  {
   "cell_type": "code",
   "execution_count": 16,
   "id": "e5271562",
   "metadata": {},
   "outputs": [
    {
     "name": "stderr",
     "output_type": "stream",
     "text": [
      "C:\\Users\\james\\miniconda3\\envs\\yolov4-gpu\\lib\\site-packages\\seaborn\\_decorators.py:43: FutureWarning: Pass the following variable as a keyword arg: x. From version 0.12, the only valid positional argument will be `data`, and passing other arguments without an explicit keyword will result in an error or misinterpretation.\n",
      "  FutureWarning\n"
     ]
    },
    {
     "data": {
      "text/plain": [
       "<AxesSubplot:ylabel='count'>"
      ]
     },
     "execution_count": 16,
     "metadata": {},
     "output_type": "execute_result"
    },
    {
     "data": {
      "image/png": "[encoded data removed]",
      "text/plain": [
       "<Figure size 432x288 with 1 Axes>"
      ]
     },
     "metadata": {
      "needs_background": "light"
     },
     "output_type": "display_data"
    }
   ],
   "source": [
    "sns.countplot(train_y_polyp_names)"
   ]
  },
  {
   "cell_type": "code",
   "execution_count": 17,
   "id": "b7d702a1",
   "metadata": {},
   "outputs": [],
   "source": [
    "cln_train_X_filepaths, cln_train_y_polyp_names = remove_non_labeled_polyps(\n",
    "    train_X_filepaths, train_y_polyp_names)"
   ]
  },
  {
   "cell_type": "code",
   "execution_count": 18,
   "id": "fa1e8afe",
   "metadata": {},
   "outputs": [
    {
     "name": "stderr",
     "output_type": "stream",
     "text": [
      "C:\\Users\\james\\miniconda3\\envs\\yolov4-gpu\\lib\\site-packages\\seaborn\\_decorators.py:43: FutureWarning: Pass the following variable as a keyword arg: x. From version 0.12, the only valid positional argument will be `data`, and passing other arguments without an explicit keyword will result in an error or misinterpretation.\n",
      "  FutureWarning\n"
     ]
    },
    {
     "data": {
      "text/plain": [
       "<AxesSubplot:ylabel='count'>"
      ]
     },
     "execution_count": 18,
     "metadata": {},
     "output_type": "execute_result"
    },
    {
     "data": {
      "image/png": "[encoded data removed]",
      "text/plain": [
       "<Figure size 432x288 with 1 Axes>"
      ]
     },
     "metadata": {
      "needs_background": "light"
     },
     "output_type": "display_data"
    }
   ],
   "source": [
    "sns.countplot(cln_train_y_polyp_names)"
   ]
  },
  {
   "cell_type": "code",
   "execution_count": 19,
   "id": "e90cfcc0",
   "metadata": {},
   "outputs": [
    {
     "data": {
      "text/plain": [
       "27048"
      ]
     },
     "execution_count": 19,
     "metadata": {},
     "output_type": "execute_result"
    }
   ],
   "source": [
    "len(cln_train_X_filepaths)"
   ]
  },
  {
   "cell_type": "code",
   "execution_count": 20,
   "id": "276629a9",
   "metadata": {},
   "outputs": [
    {
     "data": {
      "text/plain": [
       "27048"
      ]
     },
     "execution_count": 20,
     "metadata": {},
     "output_type": "execute_result"
    }
   ],
   "source": [
    "len(cln_train_y_polyp_names)"
   ]
  },
  {
   "cell_type": "code",
   "execution_count": 21,
   "id": "44bf9876",
   "metadata": {},
   "outputs": [
    {
     "name": "stderr",
     "output_type": "stream",
     "text": [
      "100%|████████████████████████████████████████████████████████████████████████████| 27048/27048 [06:34<00:00, 68.60it/s]\n"
     ]
    }
   ],
   "source": [
    "train_X_images = get_images(cln_train_X_filepaths, 120)"
   ]
  },
  {
   "cell_type": "code",
   "execution_count": 22,
   "id": "42f4df3c",
   "metadata": {},
   "outputs": [],
   "source": [
    "X_train = np.array(train_X_images)"
   ]
  },
  {
   "cell_type": "code",
   "execution_count": 23,
   "id": "d09a64d5",
   "metadata": {},
   "outputs": [],
   "source": [
    "X_train = X_train / 255"
   ]
  },
  {
   "cell_type": "code",
   "execution_count": 24,
   "id": "f5b5e57e",
   "metadata": {},
   "outputs": [],
   "source": [
    "label_enc = LabelEncoder()\n",
    "train_y = label_enc.fit_transform(cln_train_y_polyp_names)\n",
    "classes = ['adenomatous', 'hyperplastic']"
   ]
  },
  {
   "cell_type": "code",
   "execution_count": 25,
   "id": "797c6887",
   "metadata": {},
   "outputs": [],
   "source": [
    "np.save(\"polyp_y_train_27048.npy\", train_y)"
   ]
  },
  {
   "cell_type": "code",
   "execution_count": 26,
   "id": "c2db11a8",
   "metadata": {},
   "outputs": [],
   "source": [
    "np.save(\"polyp_x_train_27048.npy\", X_train)"
   ]
  },
  {
   "cell_type": "markdown",
   "id": "8af532d8",
   "metadata": {},
   "source": [
    "## Loading Validation Set"
   ]
  },
  {
   "cell_type": "code",
   "execution_count": null,
   "id": "910cfbe2",
   "metadata": {},
   "outputs": [],
   "source": [
    "valid_X_basepath = \"PolypsSet/val2019/Image\"\n",
    "valid_y_basepath = \"PolypsSet/val2019/Annotation\"\n",
    "\n",
    "# Problem is that the valid set has more labels than there are images, so need to make them equal\n",
    "valid_X_filepaths, valid_X_filenames, valid_y_filepaths, valid_y_filenames= get_filepaths_videonum_dirs_xy(valid_X_basepath, valid_y_basepath)"
   ]
  },
  {
   "cell_type": "code",
   "execution_count": null,
   "id": "1c91de1b",
   "metadata": {},
   "outputs": [],
   "source": [
    "valid_y_polyp_names = get_xml_label_names(valid_y_filepaths)"
   ]
  },
  {
   "cell_type": "code",
   "execution_count": null,
   "id": "e8b1f17d",
   "metadata": {},
   "outputs": [],
   "source": [
    "sns.countplot(valid_y_polyp_names)"
   ]
  },
  {
   "cell_type": "code",
   "execution_count": null,
   "id": "f367b6c3",
   "metadata": {},
   "outputs": [],
   "source": [
    "cln_valid_X_filepaths, cln_valid_y_polyp_names = remove_non_labeled_polyps(\n",
    "    valid_X_filepaths, valid_y_polyp_names)"
   ]
  },
  {
   "cell_type": "code",
   "execution_count": null,
   "id": "9a02d536",
   "metadata": {},
   "outputs": [],
   "source": [
    "sns.countplot(cln_valid_y_polyp_names)"
   ]
  },
  {
   "cell_type": "code",
   "execution_count": null,
   "id": "eff70674",
   "metadata": {},
   "outputs": [],
   "source": [
    "valid_X_images = get_images(cln_valid_X_filepaths, 120)"
   ]
  },
  {
   "cell_type": "code",
   "execution_count": null,
   "id": "56aead47",
   "metadata": {},
   "outputs": [],
   "source": [
    "X_valid = np.array(valid_X_images)"
   ]
  },
  {
   "cell_type": "code",
   "execution_count": null,
   "id": "b9745d75",
   "metadata": {},
   "outputs": [],
   "source": [
    "X_valid = X_valid / 255"
   ]
  },
  {
   "cell_type": "code",
   "execution_count": null,
   "id": "1f63ad58",
   "metadata": {},
   "outputs": [],
   "source": [
    "valid_y = label_enc.fit_transform(cln_valid_y_polyp_names)"
   ]
  },
  {
   "cell_type": "code",
   "execution_count": null,
   "id": "34e3821a",
   "metadata": {},
   "outputs": [],
   "source": [
    "np.save(\"polyp_x_valid_4254.npy\", X_valid)"
   ]
  },
  {
   "cell_type": "code",
   "execution_count": null,
   "id": "bca7cfe9",
   "metadata": {},
   "outputs": [],
   "source": [
    "np.save(\"polyp_y_valid_4254.npy\", valid_y)"
   ]
  },
  {
   "cell_type": "code",
   "execution_count": null,
   "id": "132436b4",
   "metadata": {},
   "outputs": [],
   "source": []
  },
  {
   "cell_type": "markdown",
   "id": "8e06ec27",
   "metadata": {},
   "source": [
    "## Loading Testing Set"
   ]
  },
  {
   "cell_type": "code",
   "execution_count": null,
   "id": "8f08aeb6",
   "metadata": {},
   "outputs": [],
   "source": [
    "test_X_basepath = \"PolypsSet/test2019/Image\"\n",
    "test_y_basepath = \"PolypsSet/test2019/Annotation\"\n",
    "\n",
    "# Potential Problem is that the test set has more labels than there are images, so need to make them equal\n",
    "test_X_filepaths, test_X_filenames, test_y_filepaths, test_y_filenames= get_filepaths_videonum_dirs_xy(test_X_basepath, test_y_basepath)"
   ]
  },
  {
   "cell_type": "code",
   "execution_count": null,
   "id": "35a430c9",
   "metadata": {},
   "outputs": [],
   "source": [
    "test_y_polyp_names = get_xml_label_names(test_y_filepaths)"
   ]
  },
  {
   "cell_type": "code",
   "execution_count": null,
   "id": "9cd59f24",
   "metadata": {},
   "outputs": [],
   "source": [
    "sns.countplot(test_y_polyp_names)"
   ]
  },
  {
   "cell_type": "code",
   "execution_count": null,
   "id": "a685c5e7",
   "metadata": {},
   "outputs": [],
   "source": [
    "cln_test_X_filepaths, cln_test_y_polyp_names = remove_non_labeled_polyps(\n",
    "    test_X_filepaths, test_y_polyp_names)"
   ]
  },
  {
   "cell_type": "code",
   "execution_count": null,
   "id": "e3cd4808",
   "metadata": {},
   "outputs": [],
   "source": [
    "test_X_images = get_images(cln_test_X_filepaths, 120)"
   ]
  },
  {
   "cell_type": "code",
   "execution_count": null,
   "id": "a8d87536",
   "metadata": {},
   "outputs": [],
   "source": [
    "X_test = np.array(test_X_images)"
   ]
  },
  {
   "cell_type": "code",
   "execution_count": null,
   "id": "f945c14c",
   "metadata": {},
   "outputs": [],
   "source": [
    "X_test = X_test / 255"
   ]
  },
  {
   "cell_type": "code",
   "execution_count": null,
   "id": "c79c412d",
   "metadata": {},
   "outputs": [],
   "source": [
    "sns.countplot(cln_test_y_polyp_names)"
   ]
  },
  {
   "cell_type": "code",
   "execution_count": null,
   "id": "f1e24e0e",
   "metadata": {},
   "outputs": [],
   "source": [
    "test_y = label_enc.fit_transform(cln_test_y_polyp_names)"
   ]
  },
  {
   "cell_type": "code",
   "execution_count": null,
   "id": "51eee8f9",
   "metadata": {},
   "outputs": [],
   "source": [
    "np.save(\"polyp_y_test_4872.npy\", test_y)"
   ]
  },
  {
   "cell_type": "code",
   "execution_count": null,
   "id": "560216e8",
   "metadata": {},
   "outputs": [],
   "source": [
    "np.save(\"polyp_x_test_4872.npy\", X_test)"
   ]
  },
  {
   "cell_type": "code",
   "execution_count": null,
   "id": "a9c7ea04",
   "metadata": {},
   "outputs": [],
   "source": []
  },
  {
   "cell_type": "markdown",
   "id": "dc0774cb",
   "metadata": {},
   "source": [
    "## Build UNet"
   ]
  },
  {
   "cell_type": "code",
   "execution_count": 32,
   "id": "feefd2ce",
   "metadata": {},
   "outputs": [],
   "source": [
    "N = X_train.shape[-1]"
   ]
  },
  {
   "cell_type": "code",
   "execution_count": 36,
   "id": "cc96bae4",
   "metadata": {},
   "outputs": [
    {
     "name": "stdout",
     "output_type": "stream",
     "text": [
      "Downloading data from https://github.com/qubvel/classification_models/releases/download/0.0.1/resnet34_imagenet_1000_no_top.h5\n",
      "85524480/85521592 [==============================] - 5s 0us/step\n",
      "85532672/85521592 [==============================] - 5s 0us/step\n"
     ]
    }
   ],
   "source": [
    "base_model = Unet(backbone_name='resnet34', encoder_weights='imagenet')"
   ]
  },
  {
   "cell_type": "code",
   "execution_count": 37,
   "id": "b8f9ec5a",
   "metadata": {},
   "outputs": [],
   "source": [
    "inp = Input(shape=(None, None, N))\n",
    "l1 = Conv2D(3, (1, 1))(inp) # map N channels data to 3 channels\n",
    "out = base_model(l1)"
   ]
  },
  {
   "cell_type": "code",
   "execution_count": 40,
   "id": "779d4471",
   "metadata": {},
   "outputs": [],
   "source": [
    "model = Model(inp, out, name=base_model.name)"
   ]
  },
  {
   "cell_type": "code",
   "execution_count": 41,
   "id": "feeb74a9",
   "metadata": {},
   "outputs": [],
   "source": [
    "model.compile('Adam', loss=bce_jaccard_loss, metrics=[iou_score])"
   ]
  },
  {
   "cell_type": "code",
   "execution_count": 44,
   "id": "efe39fd4",
   "metadata": {},
   "outputs": [
    {
     "name": "stdout",
     "output_type": "stream",
     "text": [
      "Epoch 1/3\n"
     ]
    },
    {
     "ename": "ValueError",
     "evalue": "in user code:\n\n    File \"C:\\Users\\james\\miniconda3\\envs\\yolov4-gpu\\lib\\site-packages\\keras\\engine\\training.py\", line 878, in train_function  *\n        return step_function(self, iterator)\n    File \"C:\\Users\\james\\miniconda3\\envs\\yolov4-gpu\\lib\\site-packages\\keras\\engine\\training.py\", line 867, in step_function  **\n        outputs = model.distribute_strategy.run(run_step, args=(data,))\n    File \"C:\\Users\\james\\miniconda3\\envs\\yolov4-gpu\\lib\\site-packages\\keras\\engine\\training.py\", line 860, in run_step  **\n        outputs = model.train_step(data)\n    File \"C:\\Users\\james\\miniconda3\\envs\\yolov4-gpu\\lib\\site-packages\\keras\\engine\\training.py\", line 808, in train_step\n        y_pred = self(x, training=True)\n    File \"C:\\Users\\james\\miniconda3\\envs\\yolov4-gpu\\lib\\site-packages\\keras\\utils\\traceback_utils.py\", line 67, in error_handler\n        raise e.with_traceback(filtered_tb) from None\n    File \"C:\\Users\\james\\miniconda3\\envs\\yolov4-gpu\\lib\\site-packages\\keras\\backend.py\", line 3224, in concatenate\n        return tf.concat([to_dense(x) for x in tensors], axis)\n\n    ValueError: Exception encountered when calling layer \"decoder_stage1_concat\" (type Concatenate).\n    \n    Dimension 1 in both shapes must be equal, but are 16 and 15. Shapes are [?,16,16] and [?,15,15]. for '{{node model_4/model_4/decoder_stage1_concat/concat}} = ConcatV2[N=2, T=DT_FLOAT, Tidx=DT_INT32](model_4/model_4/decoder_stage1_upsampling/resize/ResizeNearestNeighbor, model_4/model_4/stage3_unit1_relu1/Relu, model_4/model_4/decoder_stage1_concat/concat/axis)' with input shapes: [?,16,16,256], [?,15,15,128], [] and with computed input tensors: input[2] = <3>.\n    \n    Call arguments received:\n      • inputs=['tf.Tensor(shape=(None, 16, 16, 256), dtype=float32)', 'tf.Tensor(shape=(None, 15, 15, 128), dtype=float32)']\n",
     "output_type": "error",
     "traceback": [
      "\u001b[1;31m---------------------------------------------------------------------------\u001b[0m",
      "\u001b[1;31mValueError\u001b[0m                                Traceback (most recent call last)",
      "\u001b[1;32m~\\AppData\\Local\\Temp\\ipykernel_9760\\2865743297.py\u001b[0m in \u001b[0;36m<module>\u001b[1;34m\u001b[0m\n\u001b[0;32m      5\u001b[0m     \u001b[0mepochs\u001b[0m\u001b[1;33m=\u001b[0m\u001b[1;36m3\u001b[0m\u001b[1;33m,\u001b[0m\u001b[1;33m\u001b[0m\u001b[0m\n\u001b[0;32m      6\u001b[0m     \u001b[0mvalidation_split\u001b[0m\u001b[1;33m=\u001b[0m\u001b[1;36m0.3\u001b[0m\u001b[1;33m,\u001b[0m\u001b[1;33m\u001b[0m\u001b[0m\n\u001b[1;32m----> 7\u001b[1;33m     \u001b[0mverbose\u001b[0m\u001b[1;33m=\u001b[0m\u001b[1;32mTrue\u001b[0m\u001b[1;33m\u001b[0m\u001b[0m\n\u001b[0m\u001b[0;32m      8\u001b[0m )\n",
      "\u001b[1;32m~\\miniconda3\\envs\\yolov4-gpu\\lib\\site-packages\\keras\\utils\\traceback_utils.py\u001b[0m in \u001b[0;36merror_handler\u001b[1;34m(*args, **kwargs)\u001b[0m\n\u001b[0;32m     65\u001b[0m     \u001b[1;32mexcept\u001b[0m \u001b[0mException\u001b[0m \u001b[1;32mas\u001b[0m \u001b[0me\u001b[0m\u001b[1;33m:\u001b[0m  \u001b[1;31m# pylint: disable=broad-except\u001b[0m\u001b[1;33m\u001b[0m\u001b[0m\n\u001b[0;32m     66\u001b[0m       \u001b[0mfiltered_tb\u001b[0m \u001b[1;33m=\u001b[0m \u001b[0m_process_traceback_frames\u001b[0m\u001b[1;33m(\u001b[0m\u001b[0me\u001b[0m\u001b[1;33m.\u001b[0m\u001b[0m__traceback__\u001b[0m\u001b[1;33m)\u001b[0m\u001b[1;33m\u001b[0m\u001b[0m\n\u001b[1;32m---> 67\u001b[1;33m       \u001b[1;32mraise\u001b[0m \u001b[0me\u001b[0m\u001b[1;33m.\u001b[0m\u001b[0mwith_traceback\u001b[0m\u001b[1;33m(\u001b[0m\u001b[0mfiltered_tb\u001b[0m\u001b[1;33m)\u001b[0m \u001b[1;32mfrom\u001b[0m \u001b[1;32mNone\u001b[0m\u001b[1;33m\u001b[0m\u001b[0m\n\u001b[0m\u001b[0;32m     68\u001b[0m     \u001b[1;32mfinally\u001b[0m\u001b[1;33m:\u001b[0m\u001b[1;33m\u001b[0m\u001b[0m\n\u001b[0;32m     69\u001b[0m       \u001b[1;32mdel\u001b[0m \u001b[0mfiltered_tb\u001b[0m\u001b[1;33m\u001b[0m\u001b[0m\n",
      "\u001b[1;32m~\\miniconda3\\envs\\yolov4-gpu\\lib\\site-packages\\tensorflow\\python\\framework\\func_graph.py\u001b[0m in \u001b[0;36mautograph_handler\u001b[1;34m(*args, **kwargs)\u001b[0m\n\u001b[0;32m   1127\u001b[0m           \u001b[1;32mexcept\u001b[0m \u001b[0mException\u001b[0m \u001b[1;32mas\u001b[0m \u001b[0me\u001b[0m\u001b[1;33m:\u001b[0m  \u001b[1;31m# pylint:disable=broad-except\u001b[0m\u001b[1;33m\u001b[0m\u001b[0m\n\u001b[0;32m   1128\u001b[0m             \u001b[1;32mif\u001b[0m \u001b[0mhasattr\u001b[0m\u001b[1;33m(\u001b[0m\u001b[0me\u001b[0m\u001b[1;33m,\u001b[0m \u001b[1;34m\"ag_error_metadata\"\u001b[0m\u001b[1;33m)\u001b[0m\u001b[1;33m:\u001b[0m\u001b[1;33m\u001b[0m\u001b[0m\n\u001b[1;32m-> 1129\u001b[1;33m               \u001b[1;32mraise\u001b[0m \u001b[0me\u001b[0m\u001b[1;33m.\u001b[0m\u001b[0mag_error_metadata\u001b[0m\u001b[1;33m.\u001b[0m\u001b[0mto_exception\u001b[0m\u001b[1;33m(\u001b[0m\u001b[0me\u001b[0m\u001b[1;33m)\u001b[0m\u001b[1;33m\u001b[0m\u001b[0m\n\u001b[0m\u001b[0;32m   1130\u001b[0m             \u001b[1;32melse\u001b[0m\u001b[1;33m:\u001b[0m\u001b[1;33m\u001b[0m\u001b[0m\n\u001b[0;32m   1131\u001b[0m               \u001b[1;32mraise\u001b[0m\u001b[1;33m\u001b[0m\u001b[0m\n",
      "\u001b[1;31mValueError\u001b[0m: in user code:\n\n    File \"C:\\Users\\james\\miniconda3\\envs\\yolov4-gpu\\lib\\site-packages\\keras\\engine\\training.py\", line 878, in train_function  *\n        return step_function(self, iterator)\n    File \"C:\\Users\\james\\miniconda3\\envs\\yolov4-gpu\\lib\\site-packages\\keras\\engine\\training.py\", line 867, in step_function  **\n        outputs = model.distribute_strategy.run(run_step, args=(data,))\n    File \"C:\\Users\\james\\miniconda3\\envs\\yolov4-gpu\\lib\\site-packages\\keras\\engine\\training.py\", line 860, in run_step  **\n        outputs = model.train_step(data)\n    File \"C:\\Users\\james\\miniconda3\\envs\\yolov4-gpu\\lib\\site-packages\\keras\\engine\\training.py\", line 808, in train_step\n        y_pred = self(x, training=True)\n    File \"C:\\Users\\james\\miniconda3\\envs\\yolov4-gpu\\lib\\site-packages\\keras\\utils\\traceback_utils.py\", line 67, in error_handler\n        raise e.with_traceback(filtered_tb) from None\n    File \"C:\\Users\\james\\miniconda3\\envs\\yolov4-gpu\\lib\\site-packages\\keras\\backend.py\", line 3224, in concatenate\n        return tf.concat([to_dense(x) for x in tensors], axis)\n\n    ValueError: Exception encountered when calling layer \"decoder_stage1_concat\" (type Concatenate).\n    \n    Dimension 1 in both shapes must be equal, but are 16 and 15. Shapes are [?,16,16] and [?,15,15]. for '{{node model_4/model_4/decoder_stage1_concat/concat}} = ConcatV2[N=2, T=DT_FLOAT, Tidx=DT_INT32](model_4/model_4/decoder_stage1_upsampling/resize/ResizeNearestNeighbor, model_4/model_4/stage3_unit1_relu1/Relu, model_4/model_4/decoder_stage1_concat/concat/axis)' with input shapes: [?,16,16,256], [?,15,15,128], [] and with computed input tensors: input[2] = <3>.\n    \n    Call arguments received:\n      • inputs=['tf.Tensor(shape=(None, 16, 16, 256), dtype=float32)', 'tf.Tensor(shape=(None, 15, 15, 128), dtype=float32)']\n"
     ]
    }
   ],
   "source": [
    "model.fit(\n",
    "    x=X_train[0:3000],\n",
    "    y=train_y[0:3000],\n",
    "    batch_size=16,\n",
    "    epochs=3,\n",
    "    validation_split=0.3,\n",
    "    verbose=True\n",
    ")"
   ]
  },
  {
   "cell_type": "code",
   "execution_count": null,
   "id": "0b08d0a9",
   "metadata": {},
   "outputs": [],
   "source": []
  }
 ],
 "metadata": {
  "kernelspec": {
   "display_name": "Python 3 (ipykernel)",
   "language": "python",
   "name": "python3"
  },
  "language_info": {
   "codemirror_mode": {
    "name": "ipython",
    "version": 3
   },
   "file_extension": ".py",
   "mimetype": "text/x-python",
   "name": "python",
   "nbconvert_exporter": "python",
   "pygments_lexer": "ipython3",
   "version": "3.7.0"
  }
 },
 "nbformat": 4,
 "nbformat_minor": 5
}
