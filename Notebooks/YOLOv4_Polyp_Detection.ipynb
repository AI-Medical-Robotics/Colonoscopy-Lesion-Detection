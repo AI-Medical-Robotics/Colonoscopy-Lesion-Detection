{
 "cells": [
  {
   "cell_type": "markdown",
   "metadata": {},
   "source": [
    "# YoloV4 Polyp Detection\n",
    "\n",
    "Team 13: James Medel, Jay Bharadva, Sparsha Ramakrishna, Shreya Hunur, Priyank Jagad\n",
    "\n",
    "May 12, 2022\n",
    "\n",
    "We'll be training **Darknet YOLOv4** on our custom **Polyp dataset** (of polyp images and bounding box/classification labels) to perform **Polyp detection and classfication**."
   ]
  },
  {
   "cell_type": "markdown",
   "metadata": {},
   "source": [
    "## Train Polyp Detector using YOLOv4 in 12 Steps\n",
    "\n",
    "If you get disconnected or lose your session, run steps 2, 5 and 6 again to edit makefile and build darknet every single time, otherwise darknet wont work."
   ]
  },
  {
   "cell_type": "markdown",
   "metadata": {},
   "source": [
    "## Step 1: Create `yolov4` and `training` folders in your project\n",
    "\n",
    "Create ***yolov4*** folder in your project.\n",
    "\n",
    "Inside ***yolov4*** folder, create ***training*** folder. We will save our trained weights."
   ]
  },
  {
   "cell_type": "markdown",
   "metadata": {},
   "source": [
    "## Step 2: Navigate to `yolov4` folder"
   ]
  },
  {
   "cell_type": "code",
   "execution_count": 4,
   "metadata": {},
   "outputs": [],
   "source": [
    "# yolov4 folder will be in current directory\n",
    "yolov4_basedir = \"yolov4/\""
   ]
  },
  {
   "cell_type": "markdown",
   "metadata": {},
   "source": [
    "## Step 3: Clone `darknet` git repo\n",
    "\n",
    "`pip install gitpython`\n",
    "\n",
    "Note: make sure **git** is installed."
   ]
  },
  {
   "cell_type": "code",
   "execution_count": 1,
   "metadata": {},
   "outputs": [],
   "source": [
    "from git import Repo"
   ]
  },
  {
   "cell_type": "code",
   "execution_count": 5,
   "metadata": {},
   "outputs": [
    {
     "data": {
      "text/plain": [
       "<git.repo.base.Repo 'C:\\\\Users\\\\james\\\\Documents\\\\GitHub\\\\Lesion-Detection\\\\Notebooks\\\\yolov4\\\\darknet\\\\.git'>"
      ]
     },
     "execution_count": 5,
     "metadata": {},
     "output_type": "execute_result"
    }
   ],
   "source": [
    "darknet_repo_dir = yolov4_basedir + \"darknet\"\n",
    "Repo.clone_from(\"https://github.com/AlexeyAB/darknet\", darknet_repo_dir)"
   ]
  },
  {
   "cell_type": "markdown",
   "metadata": {},
   "source": [
    "## Step A: Convert PascalVOC to YOLO "
   ]
  },
  {
   "cell_type": "code",
   "execution_count": 1,
   "metadata": {},
   "outputs": [],
   "source": [
    "import sys\n",
    "sys.path.append(\"../lib/prep/yolov4\")"
   ]
  },
  {
   "cell_type": "code",
   "execution_count": 2,
   "metadata": {},
   "outputs": [],
   "source": [
    "from convert_voc_to_yolo import ConvertPascalVocToYolo"
   ]
  },
  {
   "cell_type": "code",
   "execution_count": 3,
   "metadata": {},
   "outputs": [
    {
     "name": "stderr",
     "output_type": "stream",
     "text": [
      "100%|███████████████████████████████████████████████████████████████████████████| 28773/28773 [02:30<00:00, 191.42it/s]\n"
     ]
    },
    {
     "name": "stdout",
     "output_type": "stream",
     "text": [
      "Finished processing: PolypsSet/train2019\n"
     ]
    },
    {
     "data": {
      "text/plain": [
       "<convert_voc_to_yolo.ConvertPascalVocToYolo at 0x2462af727b8>"
      ]
     },
     "execution_count": 3,
     "metadata": {},
     "output_type": "execute_result"
    }
   ],
   "source": [
    "polypset_dirs = [\"PolypsSet/train2019\"]\n",
    "polypset_classes = [\"adenomatous\", \"hyperplastic\"]\n",
    "ConvertPascalVocToYolo(polypset_dirs, polypset_classes)"
   ]
  },
  {
   "cell_type": "markdown",
   "metadata": {},
   "source": [
    "## Step 4: Create Following Files Needed for Training a Polyp Detector\n",
    "\n",
    "We'll walk through each of the following steps using Python:\n",
    "\n",
    "- a). Labeling Polyp Dataset\n",
    "- b). Customizing YOLOv4 cfg file (hyperparameters)\n",
    "- c). obj.data and obj.names files\n",
    "- d). process.py file (to create train.txt"
   ]
  },
  {
   "cell_type": "markdown",
   "metadata": {},
   "source": [
    "### 4a: Create Labeled Polyp Dataset in `obj` folder"
   ]
  }
 ],
 "metadata": {
  "kernelspec": {
   "display_name": "Python 3 (ipykernel)",
   "language": "python",
   "name": "python3"
  },
  "language_info": {
   "codemirror_mode": {
    "name": "ipython",
    "version": 3
   },
   "file_extension": ".py",
   "mimetype": "text/x-python",
   "name": "python",
   "nbconvert_exporter": "python",
   "pygments_lexer": "ipython3",
   "version": "3.7.0"
  }
 },
 "nbformat": 4,
 "nbformat_minor": 4
}
