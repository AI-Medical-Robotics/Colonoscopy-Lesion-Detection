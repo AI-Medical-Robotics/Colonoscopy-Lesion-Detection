{
 "cells": [
  {
   "cell_type": "markdown",
   "metadata": {},
   "source": [
    "# YoloV4 Polyp Detection\n",
    "\n",
    "Team 13: James Medel, Jay Bharadva, Sparsha Ramakrishna, Shreya Hunur, Priyank Jagad\n",
    "\n",
    "May 12, 2022\n",
    "\n",
    "We'll be training **Darknet YOLOv4** on our custom **Polyp dataset** (of polyp images and bounding box/classification labels) to perform **Polyp detection and classfication**."
   ]
  },
  {
   "cell_type": "markdown",
   "metadata": {},
   "source": [
    "## Train Polyp Detector using YOLOv4 in 12 Steps\n",
    "\n",
    "If you get disconnected or lose your session, run steps 2, 5 and 6 again to edit makefile and build darknet every single time, otherwise darknet wont work."
   ]
  },
  {
   "cell_type": "markdown",
   "metadata": {},
   "source": [
    "## Step 1: Create `yolov4` and `trained_weights` folders in your project\n",
    "\n",
    "Create ***yolov4*** folder in your project.\n",
    "\n",
    "Inside ***yolov4*** folder, create ***trained_weights*** folder. We will save our trained weights."
   ]
  },
  {
   "cell_type": "markdown",
   "metadata": {},
   "source": [
    "## Step 2: Navigate to `yolov4` folder"
   ]
  },
  {
   "cell_type": "code",
   "execution_count": 11,
   "metadata": {},
   "outputs": [],
   "source": [
    "# yolov4 folder will be in current directory\n",
    "yolo_dir = \"yolov4/\""
   ]
  },
  {
   "cell_type": "markdown",
   "metadata": {},
   "source": [
    "## Step 3: Clone `darknet` git repo\n",
    "\n",
    "`pip install gitpython`\n",
    "\n",
    "Note: make sure **git** is installed."
   ]
  },
  {
   "cell_type": "code",
   "execution_count": 13,
   "metadata": {},
   "outputs": [],
   "source": [
    "from git import Repo"
   ]
  },
  {
   "cell_type": "code",
   "execution_count": 5,
   "metadata": {},
   "outputs": [
    {
     "data": {
      "text/plain": [
       "<git.repo.base.Repo 'C:\\\\Users\\\\james\\\\Documents\\\\GitHub\\\\Lesion-Detection\\\\Notebooks\\\\yolov4\\\\darknet\\\\.git'>"
      ]
     },
     "execution_count": 5,
     "metadata": {},
     "output_type": "execute_result"
    }
   ],
   "source": [
    "darknet_repo_dir = yolo_dir + \"darknet\"\n",
    "Repo.clone_from(\"https://github.com/AlexeyAB/darknet\", darknet_repo_dir)"
   ]
  },
  {
   "cell_type": "markdown",
   "metadata": {},
   "source": [
    "## Step 4: Create Following Files Needed for Training a Polyp Detector\n",
    "\n",
    "We'll walk through each of the following steps using Python:\n",
    "\n",
    "- a). Convert PascalVOC to YOLO Labels for Polyp Dataset\n",
    "- b). Customizing YOLOv4 cfg file (hyperparameters)\n",
    "- c). Create `obj.data` and `obj.names` files\n",
    "- d). Create `train.txt` and `valid.txt` Files for Training"
   ]
  },
  {
   "cell_type": "markdown",
   "metadata": {},
   "source": [
    "### Step 4A: Convert PascalVOC to YOLO Labels for Polyp DataSet\n",
    "\n",
    "We will later use this **Polyp training data** to train **Darknet YOLOv4**."
   ]
  },
  {
   "cell_type": "code",
   "execution_count": 24,
   "metadata": {},
   "outputs": [],
   "source": [
    "import sys\n",
    "sys.path.append(\"../lib/prep/yolov4\")"
   ]
  },
  {
   "cell_type": "code",
   "execution_count": 2,
   "metadata": {},
   "outputs": [],
   "source": [
    "from convert_voc_to_yolo import ConvertPascalVocToYolo"
   ]
  },
  {
   "cell_type": "code",
   "execution_count": 1,
   "metadata": {},
   "outputs": [],
   "source": [
    "polypset_base = \"PolypsSet/\""
   ]
  },
  {
   "cell_type": "code",
   "execution_count": 3,
   "metadata": {},
   "outputs": [
    {
     "name": "stderr",
     "output_type": "stream",
     "text": [
      "100%|███████████████████████████████████████████████████████████████████████████| 28773/28773 [02:30<00:00, 191.42it/s]\n"
     ]
    },
    {
     "name": "stdout",
     "output_type": "stream",
     "text": [
      "Finished processing: PolypsSet/train2019\n"
     ]
    },
    {
     "data": {
      "text/plain": [
       "<convert_voc_to_yolo.ConvertPascalVocToYolo at 0x2462af727b8>"
      ]
     },
     "execution_count": 3,
     "metadata": {},
     "output_type": "execute_result"
    }
   ],
   "source": [
    "polypset_dirs = [polypset_base + \"train2019\"]\n",
    "polypset_classes = [\"adenomatous\", \"hyperplastic\"]\n",
    "ConvertPascalVocToYolo(polypset_dirs, polypset_classes)"
   ]
  },
  {
   "cell_type": "markdown",
   "metadata": {},
   "source": [
    "***NOTE***: \n",
    "\n",
    "The Python Code **convert_voc_to_yolo** is based on this gist:\n",
    "\n",
    "- https://gist.github.com/Amir22010/a99f18ca19112bc7db0872a36a03a1ec\n",
    "\n",
    "That Python Code from that gist is originally based on Joseph Redmon's Darknet: voc_label.py:\n",
    "\n",
    "- https://github.com/pjreddie/darknet/blob/master/scripts/voc_label.py\n",
    "\n",
    "That Python Code has been modified for our **PolypsSet** folder structure and I also incorporated **ConvertPascalVocToYolo** class, so its easier to use in a Jupyter Notebook."
   ]
  },
  {
   "cell_type": "markdown",
   "metadata": {},
   "source": [
    "### Step 4B: Update YOLOv4 `config` file's Hyperparameters\n",
    "\n",
    "We'll copy **yolov4-custom.cfg** from ***darknet/cfg*** directory, make changes to it and move it to ***yolov4*** folder in our project.\n",
    "\n",
    "With Python, we'll make the following updates using **[pysed](https://pypi.org/project/pysed/)**:\n",
    "\n",
    "`pip install pysed`\n",
    "\n",
    "- change line batch to `batch=64`\n",
    "- change line subdivision to `subdivisions=16`\n",
    "- change line max_batches to (classes*2000 but not less than number of training images and not less than 6000), f.e. `max_batches=6000` if you tain for 3 classes. So since we have 2 Polyp classes, we'll set it to 6000.\n",
    "- change line steps to **80%** and **90%** of **max_batches**, f.e. `steps=4800,5400`\n",
    "- set network size `width=416` and `height=416` or any value **multiple of 32**\n",
    "- change line **classes=80** to your `number of classes` in each of 3 **[yolo]-layers**. In our case `classes=2` in these 3 [yolo] layers.\n",
    "- change **[filters=255]** to `filters=(classes + 5)x3` in the **3 [ convolutional] before each [yolo] layer**, keep inn minnd that it only has to be the **last [convolutional] before each of the [yolo] layers**. So if classes=1, then it should be filters=18. If **classes=2**, then **filters=21**.\n",
    "\n",
    "You should only have to run the Python code in this step 4B one time since the **yolov4-custom.cfg** will be updated as needed."
   ]
  },
  {
   "cell_type": "code",
   "execution_count": 5,
   "metadata": {},
   "outputs": [],
   "source": [
    "import shutil, os"
   ]
  },
  {
   "cell_type": "code",
   "execution_count": 31,
   "metadata": {},
   "outputs": [],
   "source": [
    "# set input and output files for updating YOLOv4 config file\n",
    "darknet_path = yolo_dir + \"darknet/\"\n",
    "\n",
    "yolo_cfg_file = \"yolov4-custom.cfg\"\n",
    "darknet_yolo_cfg_f = darknet_path + \"cfg/\" + yolo_cfg_file\n",
    "out_yolo_cfg_f = yolo_dir + yolo_cfg_file"
   ]
  },
  {
   "cell_type": "code",
   "execution_count": 5,
   "metadata": {},
   "outputs": [],
   "source": [
    "# Copy yolov4-custom.cfg to output dir\n",
    "in_files = [darknet_yolo_cfg_f]\n",
    "for f in in_files:\n",
    "    shutil.copy(f, out_dir)"
   ]
  },
  {
   "cell_type": "code",
   "execution_count": 19,
   "metadata": {},
   "outputs": [],
   "source": [
    "import shlex\n",
    "from pysed import main as pysedmain"
   ]
  },
  {
   "cell_type": "code",
   "execution_count": 24,
   "metadata": {},
   "outputs": [],
   "source": [
    "# Create sed replace text function\n",
    "def sed_rep_txt(pattern, replacement, filename):\n",
    "    cmd_line_args = '-r \"{pattern}\" \"{replacement}\" {filename}'.format(\n",
    "        pattern=pattern, replacement=replacement, filename=filename)\n",
    "    args = shlex.split(cmd_line_args)\n",
    "    isWrite = True\n",
    "    \n",
    "    with open(filename, 'rU') as f:\n",
    "        data = f.read()\n",
    "        pysedmain.executeArguments(args, data, filename, isWrite)"
   ]
  },
  {
   "cell_type": "code",
   "execution_count": 25,
   "metadata": {},
   "outputs": [
    {
     "name": "stderr",
     "output_type": "stream",
     "text": [
      "C:\\Users\\james\\miniconda3\\envs\\yolov4-gpu\\lib\\site-packages\\ipykernel_launcher.py:7: DeprecationWarning: 'U' mode is deprecated\n",
      "  import sys\n"
     ]
    }
   ],
   "source": [
    "# update batch to 64 in case its something different\n",
    "sed_rep_txt(\"batch=64\", \"batch=64\", out_yolo_cfg_f)"
   ]
  },
  {
   "cell_type": "code",
   "execution_count": 27,
   "metadata": {},
   "outputs": [
    {
     "name": "stderr",
     "output_type": "stream",
     "text": [
      "C:\\Users\\james\\miniconda3\\envs\\yolov4-gpu\\lib\\site-packages\\ipykernel_launcher.py:7: DeprecationWarning: 'U' mode is deprecated\n",
      "  import sys\n"
     ]
    }
   ],
   "source": [
    "# update subdivisions to 16 in case its something different\n",
    "sed_rep_txt(\"subdivisions=16\", \"subdivisions=16\", out_yolo_cfg_f)"
   ]
  },
  {
   "cell_type": "code",
   "execution_count": 32,
   "metadata": {},
   "outputs": [
    {
     "name": "stderr",
     "output_type": "stream",
     "text": [
      "C:\\Users\\james\\miniconda3\\envs\\yolov4-gpu\\lib\\site-packages\\ipykernel_launcher.py:7: DeprecationWarning: 'U' mode is deprecated\n",
      "  import sys\n"
     ]
    }
   ],
   "source": [
    "# update max_batches to 6000 since our num classes*2000 less than 6000\n",
    "classes = len(polypset_classes)\n",
    "if (classes*2000) < 6000:\n",
    "    max_batches=6000\n",
    "else:\n",
    "    max_batches = classes*2000\n",
    "    \n",
    "new_max_batches = \"max_batches={}\".format(max_batches)\n",
    "sed_rep_txt(\"max_batches = 500500\", new_max_batches, out_yolo_cfg_f)"
   ]
  },
  {
   "cell_type": "code",
   "execution_count": 34,
   "metadata": {},
   "outputs": [
    {
     "name": "stderr",
     "output_type": "stream",
     "text": [
      "C:\\Users\\james\\miniconda3\\envs\\yolov4-gpu\\lib\\site-packages\\ipykernel_launcher.py:7: DeprecationWarning: 'U' mode is deprecated\n",
      "  import sys\n"
     ]
    }
   ],
   "source": [
    "# update steps to be 80% and 90% of max batches\n",
    "pct_max_batches = [int(max_batches*0.8), int(max_batches*0.9)]\n",
    "new_steps = \"steps={},{}\".format(pct_max_batches[0], pct_max_batches[1])\n",
    "sed_rep_txt(\"steps=400000,450000\", new_steps, out_yolo_cfg_f)"
   ]
  },
  {
   "cell_type": "code",
   "execution_count": 36,
   "metadata": {},
   "outputs": [
    {
     "name": "stderr",
     "output_type": "stream",
     "text": [
      "C:\\Users\\james\\miniconda3\\envs\\yolov4-gpu\\lib\\site-packages\\ipykernel_launcher.py:7: DeprecationWarning: 'U' mode is deprecated\n",
      "  import sys\n"
     ]
    }
   ],
   "source": [
    "# set network width and height to 416 or any multiple of 32\n",
    "width=32*13 # 416\n",
    "height=32*13\n",
    "\n",
    "new_width = \"width={}\".format(width)\n",
    "new_height = \"height={}\".format(height)\n",
    "\n",
    "sed_rep_txt(\"width=608\", new_width, out_yolo_cfg_f)\n",
    "sed_rep_txt(\"height=608\", new_height, out_yolo_cfg_f)"
   ]
  },
  {
   "cell_type": "code",
   "execution_count": 37,
   "metadata": {},
   "outputs": [
    {
     "name": "stderr",
     "output_type": "stream",
     "text": [
      "C:\\Users\\james\\miniconda3\\envs\\yolov4-gpu\\lib\\site-packages\\ipykernel_launcher.py:7: DeprecationWarning: 'U' mode is deprecated\n",
      "  import sys\n"
     ]
    }
   ],
   "source": [
    "# change line classes=80 to your `number of classes` in \n",
    "# each of 3 [yolo]-layers\n",
    "\n",
    "num_polyp_classes = \"classes={}\".format(classes)\n",
    "sed_rep_txt(\"classes=80\", num_polyp_classes, out_yolo_cfg_f)"
   ]
  },
  {
   "cell_type": "code",
   "execution_count": 39,
   "metadata": {},
   "outputs": [
    {
     "name": "stderr",
     "output_type": "stream",
     "text": [
      "C:\\Users\\james\\miniconda3\\envs\\yolov4-gpu\\lib\\site-packages\\ipykernel_launcher.py:7: DeprecationWarning: 'U' mode is deprecated\n",
      "  import sys\n"
     ]
    }
   ],
   "source": [
    "# change filters=255 to `filters=(classes + 5)x3` in the\n",
    "# 3 [ convolutional] layers before each [yolo] layer\n",
    "\n",
    "num_filters = (classes + 5)*3\n",
    "new_filters = \"filters={}\".format(num_filters)\n",
    "\n",
    "sed_rep_txt(\"filters=255\", new_filters, out_yolo_cfg_f)"
   ]
  },
  {
   "cell_type": "markdown",
   "metadata": {},
   "source": [
    "### Step 4C: Create `obj.data` and `obj.names` files\n",
    "\n",
    "We'll create **obj.data** and **obj.names** files and put them into our ***yolov4*** folder."
   ]
  },
  {
   "cell_type": "code",
   "execution_count": 43,
   "metadata": {},
   "outputs": [
    {
     "name": "stdout",
     "output_type": "stream",
     "text": [
      "adenomatous\n",
      "hyperplastic\n",
      "\n"
     ]
    }
   ],
   "source": [
    "obj_names_f = yolo_dir + \"obj.names\"\n",
    "\n",
    "# TODO: Check if file exists, then delete it and replace it\n",
    "with open(obj_names_f, 'a') as f:\n",
    "    for polyp_class in polypset_classes:\n",
    "        f.write(\"{}\\n\".format(polyp_class))\n",
    "\n",
    "# check file after appending\n",
    "with open(obj_names_f, \"r\") as f:\n",
    "    print(f.read())"
   ]
  },
  {
   "cell_type": "code",
   "execution_count": 45,
   "metadata": {},
   "outputs": [
    {
     "name": "stdout",
     "output_type": "stream",
     "text": [
      "classes=2\n",
      "train = PolypsSet/train.txt\n",
      "valid = PolypsSet/valid.txt\n",
      "names = PolypsSet/yolov4/obj.names\n",
      "backup = yolov4/trained_weights\n",
      "\n"
     ]
    }
   ],
   "source": [
    "# Create obj.data file in yolov4 folder\n",
    "obj_data_f = yolo_dir + \"obj.data\"\n",
    "\n",
    "# polypset_base has a \"/\" at end\n",
    "obj_data_lines = [\"classes={}\".format(classes),\n",
    "                  \"train = {}train.txt\".format(polypset_base),\n",
    "                  \"valid = {}valid.txt\".format(polypset_base),\n",
    "                  \"names = {}{}\".format(polypset_base, obj_names_f),\n",
    "                  \"backup = {}trained_weights\".format(yolo_dir)]\n",
    "\n",
    "# TODO: Check if file exists, then delete it and replace it\n",
    "with open(obj_data_f, 'a') as f:\n",
    "    for obj_data_line in obj_data_lines:\n",
    "        f.write(\"{}\\n\".format(obj_data_line))\n",
    "\n",
    "# check file after appending\n",
    "with open(obj_data_f, \"r\") as f:\n",
    "    print(f.read())"
   ]
  },
  {
   "cell_type": "markdown",
   "metadata": {},
   "source": [
    "### Step 4D: Create `train.txt` and `valid.txt` Files for Training\n",
    "\n",
    "***train.txt*** file has paths to about 85% of the Polyp images and\n",
    "***test.txt*** file has paths t about 10% of the Polyp images."
   ]
  },
  {
   "cell_type": "code",
   "execution_count": 2,
   "metadata": {},
   "outputs": [],
   "source": [
    "def get_filepaths(basepath, remove_ext=False):\n",
    "    files = []\n",
    "    filenames = []\n",
    "    for filename in os.listdir(basepath):\n",
    "#         print(\"filename =\", filename)\n",
    "        if remove_ext is True:\n",
    "            file_name, file_ext = filename.split(\".\")\n",
    "#             print(\"file_name =\", file_name)\n",
    "#             print(\"file_ext =\", file_ext)\n",
    "            filepath = basepath + \"/\" + file_name\n",
    "            files.append(filepath)\n",
    "            filenames.append(file_name)\n",
    "        else:\n",
    "            filepath = basepath + \"/\" + filename\n",
    "            files.append(filepath)\n",
    "            filenames.append(filename)\n",
    "    return files, filenames"
   ]
  },
  {
   "cell_type": "code",
   "execution_count": 51,
   "metadata": {},
   "outputs": [],
   "source": [
    "train_X_basepath = \"PolypsSet/train2019/Image\"\n",
    "file_type = \".jpg\"\n",
    "train_X_filepaths, train_X_filenames = get_filepaths(train_X_basepath, file_type)"
   ]
  },
  {
   "cell_type": "code",
   "execution_count": 52,
   "metadata": {},
   "outputs": [
    {
     "data": {
      "text/plain": [
       "['PolypsSet/train2019/Image/1.jpg',\n",
       " 'PolypsSet/train2019/Image/10.jpg',\n",
       " 'PolypsSet/train2019/Image/100.jpg',\n",
       " 'PolypsSet/train2019/Image/1000.jpg',\n",
       " 'PolypsSet/train2019/Image/10000.jpg']"
      ]
     },
     "execution_count": 52,
     "metadata": {},
     "output_type": "execute_result"
    }
   ],
   "source": [
    "train_X_filepaths[:5]"
   ]
  },
  {
   "cell_type": "code",
   "execution_count": 53,
   "metadata": {},
   "outputs": [],
   "source": [
    "# Create train.txt file holding paths to all training images for YOLOv4\n",
    "train_txt_f = \"{}train.txt\".format(polypset_base)\n",
    "\n",
    "# TODO: Check if file exists, then delete it and replace it\n",
    "with open(train_txt_f, 'a') as f:\n",
    "    for train_img_filepath in train_X_filepaths:\n",
    "        f.write(\"{}\\n\".format(train_img_filepath))"
   ]
  },
  {
   "cell_type": "code",
   "execution_count": 3,
   "metadata": {},
   "outputs": [],
   "source": [
    "def get_filepaths_videonum_dirs_xy(X_basepath, y_basepath):\n",
    "    videonum_X_filepaths = []\n",
    "    videonum_X_filenames = []\n",
    "    videonum_y_filepaths = []\n",
    "    videonum_y_filenames = []\n",
    "    for videonum_X_dir, videonum_y_dir in zip(os.listdir(X_basepath), os.listdir(y_basepath)):\n",
    "        videonum_X_dirpath = X_basepath + \"/\" + videonum_X_dir\n",
    "        videonum_y_dirpath = y_basepath + \"/\" + videonum_y_dir\n",
    "        videonum_y_dirfilepaths_tmp = []\n",
    "        videonum_y_dirfilenames_tmp = []\n",
    "        videonum_X_dirfilepaths, videonum_X_dirfilenames = get_filepaths(videonum_X_dirpath, remove_ext=True)\n",
    "        videonum_y_dirfilepaths, videonum_y_dirfilenames = get_filepaths(videonum_y_dirpath, remove_ext=True)\n",
    "        if len(videonum_X_dirfilenames) != len(videonum_y_dirfilenames):\n",
    "            for y_i in range(len(videonum_y_dirfilenames)):\n",
    "                if videonum_y_dirfilenames[y_i] in videonum_X_dirfilenames:\n",
    "                    videonum_y_dirfilenames_tmp.append(videonum_y_dirfilenames[y_i] + \".xml\")\n",
    "                    videonum_y_dirfilepaths_tmp.append(videonum_y_dirfilepaths[y_i] + \".xml\")\n",
    "            videonum_y_filepaths.extend(videonum_y_dirfilepaths_tmp)\n",
    "            videonum_y_filenames.extend(videonum_y_dirfilenames_tmp)\n",
    "        else:\n",
    "            videonum_y_dirfilepaths = [filepath + \".xml\" for filepath in videonum_y_dirfilepaths]\n",
    "            videonum_y_dirfilenames = [filename + \".xml\" for filename in videonum_y_dirfilenames]\n",
    "            videonum_y_filepaths.extend(videonum_y_dirfilepaths)\n",
    "            videonum_y_filenames.extend(videonum_y_dirfilenames)\n",
    "        videonum_X_dirfilepaths = [filepath + \".jpg\" for filepath in videonum_X_dirfilepaths]\n",
    "        videonum_X_dirfilenames = [filename + \".jpg\" for filename in videonum_X_dirfilenames]\n",
    "        videonum_X_filepaths.extend(videonum_X_dirfilepaths)\n",
    "        videonum_X_filenames.extend(videonum_X_dirfilenames)\n",
    "    return videonum_X_filepaths, videonum_X_filenames, videonum_y_filepaths, videonum_y_filenames"
   ]
  },
  {
   "cell_type": "code",
   "execution_count": 6,
   "metadata": {},
   "outputs": [],
   "source": [
    "valid_X_basepath = \"PolypsSet/val2019/Image\"\n",
    "valid_y_basepath = \"PolypsSet/val2019/Annotation\"\n",
    "\n",
    "# Problem is that the valid set has more labels than there are images, so need to make them equal\n",
    "valid_X_filepaths, valid_X_filenames, valid_y_filepaths, valid_y_filenames= get_filepaths_videonum_dirs_xy(valid_X_basepath, valid_y_basepath)"
   ]
  },
  {
   "cell_type": "code",
   "execution_count": 7,
   "metadata": {},
   "outputs": [
    {
     "data": {
      "text/plain": [
       "['PolypsSet/val2019/Image/1/1.jpg', 'PolypsSet/val2019/Image/1/10.jpg']"
      ]
     },
     "execution_count": 7,
     "metadata": {},
     "output_type": "execute_result"
    }
   ],
   "source": [
    "valid_X_filepaths[:2]"
   ]
  },
  {
   "cell_type": "code",
   "execution_count": 8,
   "metadata": {},
   "outputs": [
    {
     "data": {
      "text/plain": [
       "['PolypsSet/val2019/Image/13/103.jpg',\n",
       " 'PolypsSet/val2019/Image/13/104.jpg',\n",
       " 'PolypsSet/val2019/Image/13/105.jpg']"
      ]
     },
     "execution_count": 8,
     "metadata": {},
     "output_type": "execute_result"
    }
   ],
   "source": [
    "valid_X_filepaths[1000:1003]"
   ]
  },
  {
   "cell_type": "code",
   "execution_count": 9,
   "metadata": {},
   "outputs": [],
   "source": [
    "# Create valid.txt file holding paths to all validation images for YOLOv4\n",
    "valid_txt_f = \"{}valid.txt\".format(polypset_base)\n",
    "\n",
    "# TODO: Check if file exists, then delete it and replace it\n",
    "with open(valid_txt_f, 'a') as f:\n",
    "    for valid_img_filepath in valid_X_filepaths:\n",
    "        f.write(\"{}\\n\".format(valid_img_filepath))"
   ]
  },
  {
   "cell_type": "markdown",
   "metadata": {},
   "source": [
    "## Step 5: Build Darknet YOLOv4 using VCPKG\n",
    "\n",
    "Use Python to run a Powershell script that **builds Darknet**\n",
    "\n",
    "On your Windows, you will need the following:\n",
    "\n",
    "1\\. Install **Visual Studio 2017** or **2019**. You can download it here: **[Visual Studio Community](https://visualstudio.microsoft.com/downloads/)**\n",
    "\n",
    "2\\. Install **CUDA (at least v10.0** enabling VS Integration during installation. NOTE: I am using CUDA v11.6.\n",
    "\n",
    "3\\. We will run a **Python script** that executes a **Powershell script** to **build Darknet**.\n",
    "\n",
    "Reference: [Running powershell script within python script, how to make python print the powershell output while it is running](https://stackoverflow.com/questions/21944895/running-powershell-script-within-python-script-how-to-make-python-print-the-pow)"
   ]
  },
  {
   "cell_type": "code",
   "execution_count": 14,
   "metadata": {},
   "outputs": [
    {
     "data": {
      "text/plain": [
       "<git.repo.base.Repo 'C:\\\\Users\\\\james\\\\Documents\\\\GitHub\\\\Lesion-Detection\\\\Notebooks\\\\yolov4\\\\vcpkg\\\\.git'>"
      ]
     },
     "execution_count": 14,
     "metadata": {},
     "output_type": "execute_result"
    }
   ],
   "source": [
    "vcpkg_repo_dir = yolo_dir + \"vcpkg\"\n",
    "Repo.clone_from(\"https://github.com/microsoft/vcpkg\", vcpkg_repo_dir)"
   ]
  },
  {
   "cell_type": "code",
   "execution_count": 1,
   "metadata": {},
   "outputs": [],
   "source": [
    "import subprocess"
   ]
  },
  {
   "cell_type": "code",
   "execution_count": 16,
   "metadata": {},
   "outputs": [
    {
     "data": {
      "text/plain": [
       "1"
      ]
     },
     "execution_count": 16,
     "metadata": {},
     "output_type": "execute_result"
    }
   ],
   "source": [
    "# Enable Running Powershell Scripts (its disabled by default)\n",
    "# $Env:SystemRoot environment variable is C:\\Windows\n",
    "# subprocess.call(\"C:\\Windows\\system32\\WindowsPowerShell\\v1.0\\powershell.exe Set-ExecutionPolicy RemoteSigned\", shell=True)"
   ]
  },
  {
   "cell_type": "code",
   "execution_count": null,
   "metadata": {},
   "outputs": [],
   "source": [
    "# Opens Powershell and shows darknet being built\n",
    "# TODO: Solve this error to build darknet from power shell script\n",
    "# TODO: Figure out how to use powershell environment variables in python\n",
    "# so we can avoid absolute paths and make it a bit more portable on\n",
    "# different Windows systems\n",
    "\n",
    "# I think it runs power shell script, just need to verify the expected output\n",
    "p = subprocess.Popen('powershell.exe -ExecutionPolicy RemoteSigned -file \"C:\\\\Users\\\\james\\\\Documents\\\\GitHub\\\\Lesion-Detection\\\\scripts\\\\powershell\\\\build_darknet.ps1\"', stdin=subprocess.PIPE, stdout=subprocess.PIPE, shell=True)\n",
    "p_out, p_err = p.communicate()\n",
    "\n",
    "print(p_out)"
   ]
  },
  {
   "cell_type": "code",
   "execution_count": null,
   "metadata": {},
   "outputs": [],
   "source": []
  }
 ],
 "metadata": {
  "kernelspec": {
   "display_name": "Python 3 (ipykernel)",
   "language": "python",
   "name": "python3"
  },
  "language_info": {
   "codemirror_mode": {
    "name": "ipython",
    "version": 3
   },
   "file_extension": ".py",
   "mimetype": "text/x-python",
   "name": "python",
   "nbconvert_exporter": "python",
   "pygments_lexer": "ipython3",
   "version": "3.7.0"
  }
 },
 "nbformat": 4,
 "nbformat_minor": 4
}
